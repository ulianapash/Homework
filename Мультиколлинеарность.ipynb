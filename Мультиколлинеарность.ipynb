{
 "cells": [
  {
   "cell_type": "code",
   "execution_count": 1,
   "id": "dfbd6438",
   "metadata": {},
   "outputs": [],
   "source": [
    "import pandas as pd\n",
    "import numpy as np\n",
    "import statsmodels.api as sm \n",
    "import statsmodels.formula.api as smf\n",
    "from statsmodels.iolib.summary2 import summary_params # вывод результатов тестирования\n",
    "from statsmodels.iolib.summary2 import summary_col # вывод результатов тестирования\n",
    "from statsmodels.stats.outliers_influence import variance_inflation_factor # VIF\n",
    "import scipy\n",
    "import matplotlib.pyplot as plt\n",
    "import seaborn as sns\n",
    "import io\n",
    "import scipy.stats as stats"
   ]
  },
  {
   "cell_type": "markdown",
   "id": "faa758d5",
   "metadata": {},
   "source": [
    "# 1 sleep equation #1"
   ]
  },
  {
   "cell_type": "markdown",
   "id": "ccf54a7f",
   "metadata": {},
   "source": [
    "## 1.1 VIFs"
   ]
  },
  {
   "cell_type": "code",
   "execution_count": 24,
   "id": "1b427680",
   "metadata": {},
   "outputs": [],
   "source": [
    "df = pd.read_csv('https://raw.githubusercontent.com/ryupepa/Econometrica/master/python-notebooks/data-csv/sleep75.csv')\n",
    "df['totwrk2_10000'] = df['totwrk']**2/10000"
   ]
  },
  {
   "cell_type": "code",
   "execution_count": 25,
   "id": "6d12cdc4",
   "metadata": {},
   "outputs": [
    {
     "data": {
      "text/plain": [
       "Intercept        9.003\n",
       "totwrk2_10000    0.021\n",
       "age             -0.008\n",
       "smsa             0.357\n",
       "male             1.071\n",
       "south            0.989\n",
       "dtype: float64"
      ]
     },
     "execution_count": 25,
     "metadata": {},
     "output_type": "execute_result"
    }
   ],
   "source": [
    "model = smf.ols(data = df , formula = 'sleep~I(totwrk/100)+totwrk2_10000 +  age + smsa + male + south').fit()\n",
    "#основная\n",
    "model_1 = smf.ols(data = df , formula = 'I(totwrk/100)~totwrk2_10000 +  age + smsa + male + south').fit()\n",
    "model_2 = smf.ols(data = df , formula = 'totwrk2_10000~ I(totwrk/100)+  age + smsa + male + south').fit()\n",
    "model_3 = smf.ols(data = df , formula = 'male~I(totwrk/100)+ I(totwrk/100)+  age + smsa  + south').fit()\n",
    "model_1.params.round(3)"
   ]
  },
  {
   "cell_type": "code",
   "execution_count": 26,
   "id": "a96b2592",
   "metadata": {},
   "outputs": [
    {
     "data": {
      "text/plain": [
       "8.48"
      ]
     },
     "execution_count": 26,
     "metadata": {},
     "output_type": "execute_result"
    }
   ],
   "source": [
    "VIF_totwrk100 = 1/(1 - model_1.rsquared)\n",
    "VIF_totwrk100.round(2)"
   ]
  },
  {
   "cell_type": "code",
   "execution_count": 5,
   "id": "7507ae6a",
   "metadata": {},
   "outputs": [
    {
     "data": {
      "text/plain": [
       "8.28"
      ]
     },
     "execution_count": 5,
     "metadata": {},
     "output_type": "execute_result"
    }
   ],
   "source": [
    "VIF_totwrk2_10000 = 1/(1 - model_2.rsquared)\n",
    "VIF_totwrk2_10000.round(2)"
   ]
  },
  {
   "cell_type": "code",
   "execution_count": 6,
   "id": "8863e13d",
   "metadata": {},
   "outputs": [
    {
     "data": {
      "text/plain": [
       "1.17"
      ]
     },
     "execution_count": 6,
     "metadata": {},
     "output_type": "execute_result"
    }
   ],
   "source": [
    "VIF_male = 1/(1 - model_3.rsquared)\n",
    "VIF_male.round(2)"
   ]
  },
  {
   "cell_type": "markdown",
   "id": "9f187564",
   "metadata": {},
   "source": [
    "## 1.2 Последствия"
   ]
  },
  {
   "cell_type": "code",
   "execution_count": 27,
   "id": "75ce92b4",
   "metadata": {},
   "outputs": [
    {
     "data": {
      "text/html": [
       "<table class=\"simpletable\">\n",
       "<caption>OLS Regression Results</caption>\n",
       "<tr>\n",
       "  <th>Dep. Variable:</th>          <td>sleep</td>      <th>  R-squared:         </th> <td>   0.128</td> \n",
       "</tr>\n",
       "<tr>\n",
       "  <th>Model:</th>                   <td>OLS</td>       <th>  Adj. R-squared:    </th> <td>   0.122</td> \n",
       "</tr>\n",
       "<tr>\n",
       "  <th>Method:</th>             <td>Least Squares</td>  <th>  F-statistic:       </th> <td>   20.57</td> \n",
       "</tr>\n",
       "<tr>\n",
       "  <th>Date:</th>             <td>Fri, 14 Apr 2023</td> <th>  Prob (F-statistic):</th> <td>3.42e-19</td> \n",
       "</tr>\n",
       "<tr>\n",
       "  <th>Time:</th>                 <td>18:34:30</td>     <th>  Log-Likelihood:    </th> <td> -5257.2</td> \n",
       "</tr>\n",
       "<tr>\n",
       "  <th>No. Observations:</th>      <td>   706</td>      <th>  AIC:               </th> <td>1.053e+04</td>\n",
       "</tr>\n",
       "<tr>\n",
       "  <th>Df Residuals:</th>          <td>   700</td>      <th>  BIC:               </th> <td>1.055e+04</td>\n",
       "</tr>\n",
       "<tr>\n",
       "  <th>Df Model:</th>              <td>     5</td>      <th>                     </th>     <td> </td>    \n",
       "</tr>\n",
       "<tr>\n",
       "  <th>Covariance Type:</th>      <td>nonrobust</td>    <th>                     </th>     <td> </td>    \n",
       "</tr>\n",
       "</table>\n",
       "<table class=\"simpletable\">\n",
       "<tr>\n",
       "         <td></td>            <th>coef</th>     <th>std err</th>      <th>t</th>      <th>P>|t|</th>  <th>[0.025</th>    <th>0.975]</th>  \n",
       "</tr>\n",
       "<tr>\n",
       "  <th>Intercept</th>       <td> 3428.8048</td> <td>   76.655</td> <td>   44.730</td> <td> 0.000</td> <td> 3278.303</td> <td> 3579.306</td>\n",
       "</tr>\n",
       "<tr>\n",
       "  <th>I(totwrk / 100)</th> <td>   -8.1953</td> <td>    4.789</td> <td>   -1.711</td> <td> 0.088</td> <td>  -17.599</td> <td>    1.208</td>\n",
       "</tr>\n",
       "<tr>\n",
       "  <th>totwrk2_10000</th>   <td>   -0.2142</td> <td>    0.111</td> <td>   -1.930</td> <td> 0.054</td> <td>   -0.432</td> <td>    0.004</td>\n",
       "</tr>\n",
       "<tr>\n",
       "  <th>age</th>             <td>    2.8167</td> <td>    1.387</td> <td>    2.031</td> <td> 0.043</td> <td>    0.094</td> <td>    5.540</td>\n",
       "</tr>\n",
       "<tr>\n",
       "  <th>smsa</th>            <td>  -78.0495</td> <td>   32.072</td> <td>   -2.434</td> <td> 0.015</td> <td> -141.019</td> <td>  -15.080</td>\n",
       "</tr>\n",
       "<tr>\n",
       "  <th>male</th>            <td>   86.6388</td> <td>   34.200</td> <td>    2.533</td> <td> 0.012</td> <td>   19.492</td> <td>  153.786</td>\n",
       "</tr>\n",
       "</table>\n",
       "<table class=\"simpletable\">\n",
       "<tr>\n",
       "  <th>Omnibus:</th>       <td>63.342</td> <th>  Durbin-Watson:     </th> <td>   1.947</td>\n",
       "</tr>\n",
       "<tr>\n",
       "  <th>Prob(Omnibus):</th> <td> 0.000</td> <th>  Jarque-Bera (JB):  </th> <td> 177.146</td>\n",
       "</tr>\n",
       "<tr>\n",
       "  <th>Skew:</th>          <td>-0.442</td> <th>  Prob(JB):          </th> <td>3.41e-39</td>\n",
       "</tr>\n",
       "<tr>\n",
       "  <th>Kurtosis:</th>      <td> 5.289</td> <th>  Cond. No.          </th> <td>3.32e+03</td>\n",
       "</tr>\n",
       "</table><br/><br/>Notes:<br/>[1] Standard Errors assume that the covariance matrix of the errors is correctly specified.<br/>[2] The condition number is large, 3.32e+03. This might indicate that there are<br/>strong multicollinearity or other numerical problems."
      ],
      "text/plain": [
       "<class 'statsmodels.iolib.summary.Summary'>\n",
       "\"\"\"\n",
       "                            OLS Regression Results                            \n",
       "==============================================================================\n",
       "Dep. Variable:                  sleep   R-squared:                       0.128\n",
       "Model:                            OLS   Adj. R-squared:                  0.122\n",
       "Method:                 Least Squares   F-statistic:                     20.57\n",
       "Date:                Fri, 14 Apr 2023   Prob (F-statistic):           3.42e-19\n",
       "Time:                        18:34:30   Log-Likelihood:                -5257.2\n",
       "No. Observations:                 706   AIC:                         1.053e+04\n",
       "Df Residuals:                     700   BIC:                         1.055e+04\n",
       "Df Model:                           5                                         \n",
       "Covariance Type:            nonrobust                                         \n",
       "===================================================================================\n",
       "                      coef    std err          t      P>|t|      [0.025      0.975]\n",
       "-----------------------------------------------------------------------------------\n",
       "Intercept        3428.8048     76.655     44.730      0.000    3278.303    3579.306\n",
       "I(totwrk / 100)    -8.1953      4.789     -1.711      0.088     -17.599       1.208\n",
       "totwrk2_10000      -0.2142      0.111     -1.930      0.054      -0.432       0.004\n",
       "age                 2.8167      1.387      2.031      0.043       0.094       5.540\n",
       "smsa              -78.0495     32.072     -2.434      0.015    -141.019     -15.080\n",
       "male               86.6388     34.200      2.533      0.012      19.492     153.786\n",
       "==============================================================================\n",
       "Omnibus:                       63.342   Durbin-Watson:                   1.947\n",
       "Prob(Omnibus):                  0.000   Jarque-Bera (JB):              177.146\n",
       "Skew:                          -0.442   Prob(JB):                     3.41e-39\n",
       "Kurtosis:                       5.289   Cond. No.                     3.32e+03\n",
       "==============================================================================\n",
       "\n",
       "Notes:\n",
       "[1] Standard Errors assume that the covariance matrix of the errors is correctly specified.\n",
       "[2] The condition number is large, 3.32e+03. This might indicate that there are\n",
       "strong multicollinearity or other numerical problems.\n",
       "\"\"\""
      ]
     },
     "execution_count": 27,
     "metadata": {},
     "output_type": "execute_result"
    }
   ],
   "source": [
    "models = smf.ols(data = df, formula = 'sleep~I(totwrk/100)+totwrk2_10000 +  age + smsa + male').fit()\n",
    "models.summary() "
   ]
  },
  {
   "cell_type": "code",
   "execution_count": 8,
   "id": "7e7ed225",
   "metadata": {},
   "outputs": [
    {
     "data": {
      "text/html": [
       "<table class=\"simpletable\">\n",
       "<tr>\n",
       "         <td></td>            <th>coef</th>     <th>std err</th>      <th>t</th>      <th>P>|t|</th>  <th>[0.025</th>    <th>0.975]</th>  \n",
       "</tr>\n",
       "<tr>\n",
       "  <th>Intercept</th>       <td> 3428.8048</td> <td>   76.655</td> <td>   44.730</td> <td> 0.000</td> <td> 3278.303</td> <td> 3579.306</td>\n",
       "</tr>\n",
       "<tr>\n",
       "  <th>I(totwrk / 100)</th> <td>   -8.1953</td> <td>    4.789</td> <td>   -1.711</td> <td> 0.088</td> <td>  -17.599</td> <td>    1.208</td>\n",
       "</tr>\n",
       "<tr>\n",
       "  <th>totwrk2_10000</th>   <td>   -0.2142</td> <td>    0.111</td> <td>   -1.930</td> <td> 0.054</td> <td>   -0.432</td> <td>    0.004</td>\n",
       "</tr>\n",
       "<tr>\n",
       "  <th>age</th>             <td>    2.8167</td> <td>    1.387</td> <td>    2.031</td> <td> 0.043</td> <td>    0.094</td> <td>    5.540</td>\n",
       "</tr>\n",
       "<tr>\n",
       "  <th>smsa</th>            <td>  -78.0495</td> <td>   32.072</td> <td>   -2.434</td> <td> 0.015</td> <td> -141.019</td> <td>  -15.080</td>\n",
       "</tr>\n",
       "<tr>\n",
       "  <th>male</th>            <td>   86.6388</td> <td>   34.200</td> <td>    2.533</td> <td> 0.012</td> <td>   19.492</td> <td>  153.786</td>\n",
       "</tr>\n",
       "</table>"
      ],
      "text/plain": [
       "<class 'statsmodels.iolib.table.SimpleTable'>"
      ]
     },
     "execution_count": 8,
     "metadata": {},
     "output_type": "execute_result"
    }
   ],
   "source": [
    "models.summary(alpha=0.05).tables[1]"
   ]
  },
  {
   "cell_type": "code",
   "execution_count": 9,
   "id": "c0b20c99",
   "metadata": {},
   "outputs": [],
   "source": [
    "string = '''names coef std.err\n",
    "Intercept 3428.8048 76.655 \n",
    "I(totwrk/100) -8.1953 4.789\n",
    "totwrk2_10000 -0.2142 0.111\n",
    "age 2.8167 1.387\n",
    "smsa -78.0495 32.072\n",
    "male 86.6388 34.200'''"
   ]
  },
  {
   "cell_type": "code",
   "execution_count": 10,
   "id": "9937f8fe",
   "metadata": {},
   "outputs": [
    {
     "data": {
      "text/html": [
       "<div>\n",
       "<style scoped>\n",
       "    .dataframe tbody tr th:only-of-type {\n",
       "        vertical-align: middle;\n",
       "    }\n",
       "\n",
       "    .dataframe tbody tr th {\n",
       "        vertical-align: top;\n",
       "    }\n",
       "\n",
       "    .dataframe thead th {\n",
       "        text-align: right;\n",
       "    }\n",
       "</style>\n",
       "<table border=\"1\" class=\"dataframe\">\n",
       "  <thead>\n",
       "    <tr style=\"text-align: right;\">\n",
       "      <th></th>\n",
       "      <th>names</th>\n",
       "      <th>coef</th>\n",
       "      <th>std.err</th>\n",
       "    </tr>\n",
       "  </thead>\n",
       "  <tbody>\n",
       "    <tr>\n",
       "      <th>0</th>\n",
       "      <td>Intercept</td>\n",
       "      <td>3428.8048</td>\n",
       "      <td>76.655</td>\n",
       "    </tr>\n",
       "    <tr>\n",
       "      <th>1</th>\n",
       "      <td>I(totwrk/100)</td>\n",
       "      <td>-8.1953</td>\n",
       "      <td>4.789</td>\n",
       "    </tr>\n",
       "    <tr>\n",
       "      <th>2</th>\n",
       "      <td>totwrk2_10000</td>\n",
       "      <td>-0.2142</td>\n",
       "      <td>0.111</td>\n",
       "    </tr>\n",
       "    <tr>\n",
       "      <th>3</th>\n",
       "      <td>age</td>\n",
       "      <td>2.8167</td>\n",
       "      <td>1.387</td>\n",
       "    </tr>\n",
       "    <tr>\n",
       "      <th>4</th>\n",
       "      <td>smsa</td>\n",
       "      <td>-78.0495</td>\n",
       "      <td>32.072</td>\n",
       "    </tr>\n",
       "    <tr>\n",
       "      <th>5</th>\n",
       "      <td>male</td>\n",
       "      <td>86.6388</td>\n",
       "      <td>34.200</td>\n",
       "    </tr>\n",
       "  </tbody>\n",
       "</table>\n",
       "</div>"
      ],
      "text/plain": [
       "           names       coef  std.err\n",
       "0      Intercept  3428.8048   76.655\n",
       "1  I(totwrk/100)    -8.1953    4.789\n",
       "2  totwrk2_10000    -0.2142    0.111\n",
       "3            age     2.8167    1.387\n",
       "4           smsa   -78.0495   32.072\n",
       "5           male    86.6388   34.200"
      ]
     },
     "execution_count": 10,
     "metadata": {},
     "output_type": "execute_result"
    }
   ],
   "source": [
    "df = pd.read_csv(io.StringIO(string), sep='\\s+' )\n",
    "df"
   ]
  },
  {
   "cell_type": "code",
   "execution_count": 11,
   "id": "c823b12a",
   "metadata": {},
   "outputs": [
    {
     "data": {
      "text/html": [
       "<div>\n",
       "<style scoped>\n",
       "    .dataframe tbody tr th:only-of-type {\n",
       "        vertical-align: middle;\n",
       "    }\n",
       "\n",
       "    .dataframe tbody tr th {\n",
       "        vertical-align: top;\n",
       "    }\n",
       "\n",
       "    .dataframe thead th {\n",
       "        text-align: right;\n",
       "    }\n",
       "</style>\n",
       "<table border=\"1\" class=\"dataframe\">\n",
       "  <thead>\n",
       "    <tr style=\"text-align: right;\">\n",
       "      <th></th>\n",
       "      <th>names</th>\n",
       "      <th>coef</th>\n",
       "      <th>std.err</th>\n",
       "      <th>t_nabl</th>\n",
       "    </tr>\n",
       "  </thead>\n",
       "  <tbody>\n",
       "    <tr>\n",
       "      <th>0</th>\n",
       "      <td>Intercept</td>\n",
       "      <td>3428.805</td>\n",
       "      <td>76.655</td>\n",
       "      <td>44.730</td>\n",
       "    </tr>\n",
       "    <tr>\n",
       "      <th>1</th>\n",
       "      <td>I(totwrk/100)</td>\n",
       "      <td>-8.195</td>\n",
       "      <td>4.789</td>\n",
       "      <td>-1.711</td>\n",
       "    </tr>\n",
       "    <tr>\n",
       "      <th>2</th>\n",
       "      <td>totwrk2_10000</td>\n",
       "      <td>-0.214</td>\n",
       "      <td>0.111</td>\n",
       "      <td>-1.930</td>\n",
       "    </tr>\n",
       "    <tr>\n",
       "      <th>3</th>\n",
       "      <td>age</td>\n",
       "      <td>2.817</td>\n",
       "      <td>1.387</td>\n",
       "      <td>2.031</td>\n",
       "    </tr>\n",
       "    <tr>\n",
       "      <th>4</th>\n",
       "      <td>smsa</td>\n",
       "      <td>-78.050</td>\n",
       "      <td>32.072</td>\n",
       "      <td>-2.434</td>\n",
       "    </tr>\n",
       "    <tr>\n",
       "      <th>5</th>\n",
       "      <td>male</td>\n",
       "      <td>86.639</td>\n",
       "      <td>34.200</td>\n",
       "      <td>2.533</td>\n",
       "    </tr>\n",
       "  </tbody>\n",
       "</table>\n",
       "</div>"
      ],
      "text/plain": [
       "           names      coef  std.err  t_nabl\n",
       "0      Intercept  3428.805   76.655  44.730\n",
       "1  I(totwrk/100)    -8.195    4.789  -1.711\n",
       "2  totwrk2_10000    -0.214    0.111  -1.930\n",
       "3            age     2.817    1.387   2.031\n",
       "4           smsa   -78.050   32.072  -2.434\n",
       "5           male    86.639   34.200   2.533"
      ]
     },
     "execution_count": 11,
     "metadata": {},
     "output_type": "execute_result"
    }
   ],
   "source": [
    "df['t_nabl'] = df['coef']/df['std.err']\n",
    "df.round(3)"
   ]
  },
  {
   "cell_type": "code",
   "execution_count": 12,
   "id": "a9c85e17",
   "metadata": {},
   "outputs": [
    {
     "data": {
      "text/plain": [
       "1.963"
      ]
     },
     "execution_count": 12,
     "metadata": {},
     "output_type": "execute_result"
    }
   ],
   "source": [
    "alpha = 0.05\n",
    "t_crit = stats.t.ppf(1-alpha/2, 706-5-1)\n",
    "t_crit.round(3)"
   ]
  },
  {
   "cell_type": "code",
   "execution_count": 13,
   "id": "d8c6be50",
   "metadata": {},
   "outputs": [
    {
     "data": {
      "text/html": [
       "<div>\n",
       "<style scoped>\n",
       "    .dataframe tbody tr th:only-of-type {\n",
       "        vertical-align: middle;\n",
       "    }\n",
       "\n",
       "    .dataframe tbody tr th {\n",
       "        vertical-align: top;\n",
       "    }\n",
       "\n",
       "    .dataframe thead th {\n",
       "        text-align: right;\n",
       "    }\n",
       "</style>\n",
       "<table border=\"1\" class=\"dataframe\">\n",
       "  <thead>\n",
       "    <tr style=\"text-align: right;\">\n",
       "      <th></th>\n",
       "      <th>names</th>\n",
       "      <th>coef</th>\n",
       "      <th>std.err</th>\n",
       "      <th>t_nabl</th>\n",
       "      <th>znachimost</th>\n",
       "    </tr>\n",
       "  </thead>\n",
       "  <tbody>\n",
       "    <tr>\n",
       "      <th>0</th>\n",
       "      <td>Intercept</td>\n",
       "      <td>3428.8048</td>\n",
       "      <td>76.655</td>\n",
       "      <td>44.730348</td>\n",
       "      <td>znachim</td>\n",
       "    </tr>\n",
       "    <tr>\n",
       "      <th>1</th>\n",
       "      <td>I(totwrk/100)</td>\n",
       "      <td>-8.1953</td>\n",
       "      <td>4.789</td>\n",
       "      <td>-1.711276</td>\n",
       "      <td>ne znachim</td>\n",
       "    </tr>\n",
       "    <tr>\n",
       "      <th>2</th>\n",
       "      <td>totwrk2_10000</td>\n",
       "      <td>-0.2142</td>\n",
       "      <td>0.111</td>\n",
       "      <td>-1.929730</td>\n",
       "      <td>ne znachim</td>\n",
       "    </tr>\n",
       "    <tr>\n",
       "      <th>3</th>\n",
       "      <td>age</td>\n",
       "      <td>2.8167</td>\n",
       "      <td>1.387</td>\n",
       "      <td>2.030786</td>\n",
       "      <td>znachim</td>\n",
       "    </tr>\n",
       "    <tr>\n",
       "      <th>4</th>\n",
       "      <td>smsa</td>\n",
       "      <td>-78.0495</td>\n",
       "      <td>32.072</td>\n",
       "      <td>-2.433571</td>\n",
       "      <td>znachim</td>\n",
       "    </tr>\n",
       "    <tr>\n",
       "      <th>5</th>\n",
       "      <td>male</td>\n",
       "      <td>86.6388</td>\n",
       "      <td>34.200</td>\n",
       "      <td>2.533298</td>\n",
       "      <td>znachim</td>\n",
       "    </tr>\n",
       "  </tbody>\n",
       "</table>\n",
       "</div>"
      ],
      "text/plain": [
       "           names       coef  std.err     t_nabl  znachimost\n",
       "0      Intercept  3428.8048   76.655  44.730348     znachim\n",
       "1  I(totwrk/100)    -8.1953    4.789  -1.711276  ne znachim\n",
       "2  totwrk2_10000    -0.2142    0.111  -1.929730  ne znachim\n",
       "3            age     2.8167    1.387   2.030786     znachim\n",
       "4           smsa   -78.0495   32.072  -2.433571     znachim\n",
       "5           male    86.6388   34.200   2.533298     znachim"
      ]
     },
     "execution_count": 13,
     "metadata": {},
     "output_type": "execute_result"
    }
   ],
   "source": [
    "df['znachimost'] = df.apply(lambda x: 'znachim' if np.abs(x['t_nabl']) > t_crit else 'ne znachim', axis=1 )\n",
    "df"
   ]
  },
  {
   "cell_type": "markdown",
   "id": "a53c6d0f",
   "metadata": {},
   "source": [
    "$$ H_0 : \\beta_{totwrk/100} = \\beta_{totwrk^2/10000} = 0 $$"
   ]
  },
  {
   "cell_type": "code",
   "execution_count": 14,
   "id": "a2ffd5a8",
   "metadata": {},
   "outputs": [
    {
     "data": {
      "text/plain": [
       "<class 'statsmodels.stats.contrast.ContrastResults'>\n",
       "<F test: F=45.619217360046264, p=2.3808537043080745e-19, df_denom=700, df_num=2>"
      ]
     },
     "execution_count": 14,
     "metadata": {},
     "output_type": "execute_result"
    }
   ],
   "source": [
    "models.f_test('I(totwrk / 100) = totwrk2_10000=0')"
   ]
  },
  {
   "cell_type": "code",
   "execution_count": 15,
   "id": "3dac67b7",
   "metadata": {},
   "outputs": [
    {
     "data": {
      "text/plain": [
       "3.01"
      ]
     },
     "execution_count": 15,
     "metadata": {},
     "output_type": "execute_result"
    }
   ],
   "source": [
    "alpha=0.05\n",
    "df_denom=700\n",
    "df_num=2\n",
    "t_crit = stats.f.ppf(1-alpha, df_num, df_denom)\n",
    "t_crit.round(2)"
   ]
  },
  {
   "cell_type": "markdown",
   "id": "1d908c42",
   "metadata": {},
   "source": [
    "Вывод: т.к. $F_{nabl}>F_{crit}$ гипотезу отвергаем $=>$ коэффициенты совместно значимы"
   ]
  },
  {
   "cell_type": "markdown",
   "id": "914f1623",
   "metadata": {},
   "source": [
    "### Тестируем на мультиколлинеарность"
   ]
  },
  {
   "cell_type": "code",
   "execution_count": 18,
   "id": "28594733",
   "metadata": {},
   "outputs": [
    {
     "data": {
      "text/html": [
       "<div>\n",
       "<style scoped>\n",
       "    .dataframe tbody tr th:only-of-type {\n",
       "        vertical-align: middle;\n",
       "    }\n",
       "\n",
       "    .dataframe tbody tr th {\n",
       "        vertical-align: top;\n",
       "    }\n",
       "\n",
       "    .dataframe thead th {\n",
       "        text-align: right;\n",
       "    }\n",
       "</style>\n",
       "<table border=\"1\" class=\"dataframe\">\n",
       "  <thead>\n",
       "    <tr style=\"text-align: right;\">\n",
       "      <th></th>\n",
       "      <th>VIF</th>\n",
       "    </tr>\n",
       "  </thead>\n",
       "  <tbody>\n",
       "    <tr>\n",
       "      <th>I(totwrk / 100)</th>\n",
       "      <td>8.370495</td>\n",
       "    </tr>\n",
       "    <tr>\n",
       "      <th>totwrk2_10000</th>\n",
       "      <td>8.199290</td>\n",
       "    </tr>\n",
       "    <tr>\n",
       "      <th>age</th>\n",
       "      <td>1.005968</td>\n",
       "    </tr>\n",
       "    <tr>\n",
       "      <th>smsa</th>\n",
       "      <td>1.004459</td>\n",
       "    </tr>\n",
       "    <tr>\n",
       "      <th>male</th>\n",
       "      <td>1.169198</td>\n",
       "    </tr>\n",
       "  </tbody>\n",
       "</table>\n",
       "</div>"
      ],
      "text/plain": [
       "                      VIF\n",
       "I(totwrk / 100)  8.370495\n",
       "totwrk2_10000    8.199290\n",
       "age              1.005968\n",
       "smsa             1.004459\n",
       "male             1.169198"
      ]
     },
     "execution_count": 18,
     "metadata": {},
     "output_type": "execute_result"
    }
   ],
   "source": [
    "VIFS = pd.DataFrame({'VIF': [variance_inflation_factor(models.model.exog, i) for i in range(int(models.df_model+1))]}, index=models.model.exog_names)\n",
    "VIFS.drop(index='Intercept', inplace=True)\n",
    "VIFS"
   ]
  },
  {
   "cell_type": "code",
   "execution_count": 28,
   "id": "6b8f23ba",
   "metadata": {},
   "outputs": [
    {
     "data": {
      "text/html": [
       "<div>\n",
       "<style scoped>\n",
       "    .dataframe tbody tr th:only-of-type {\n",
       "        vertical-align: middle;\n",
       "    }\n",
       "\n",
       "    .dataframe tbody tr th {\n",
       "        vertical-align: top;\n",
       "    }\n",
       "\n",
       "    .dataframe thead th {\n",
       "        text-align: right;\n",
       "    }\n",
       "</style>\n",
       "<table border=\"1\" class=\"dataframe\">\n",
       "  <thead>\n",
       "    <tr style=\"text-align: right;\">\n",
       "      <th></th>\n",
       "      <th>male</th>\n",
       "      <th>age</th>\n",
       "      <th>smsa</th>\n",
       "      <th>totwrk2_10000</th>\n",
       "      <th>I(totwrk / 100)</th>\n",
       "    </tr>\n",
       "  </thead>\n",
       "  <tbody>\n",
       "    <tr>\n",
       "      <th>male</th>\n",
       "      <td>1.000</td>\n",
       "      <td>0.032</td>\n",
       "      <td>0.007</td>\n",
       "      <td>0.351</td>\n",
       "      <td>0.376</td>\n",
       "    </tr>\n",
       "    <tr>\n",
       "      <th>age</th>\n",
       "      <td>0.032</td>\n",
       "      <td>1.000</td>\n",
       "      <td>0.025</td>\n",
       "      <td>-0.046</td>\n",
       "      <td>-0.050</td>\n",
       "    </tr>\n",
       "    <tr>\n",
       "      <th>smsa</th>\n",
       "      <td>0.007</td>\n",
       "      <td>0.025</td>\n",
       "      <td>1.000</td>\n",
       "      <td>-0.051</td>\n",
       "      <td>-0.038</td>\n",
       "    </tr>\n",
       "    <tr>\n",
       "      <th>totwrk2_10000</th>\n",
       "      <td>0.351</td>\n",
       "      <td>-0.046</td>\n",
       "      <td>-0.051</td>\n",
       "      <td>1.000</td>\n",
       "      <td>0.937</td>\n",
       "    </tr>\n",
       "    <tr>\n",
       "      <th>I(totwrk / 100)</th>\n",
       "      <td>0.376</td>\n",
       "      <td>-0.050</td>\n",
       "      <td>-0.038</td>\n",
       "      <td>0.937</td>\n",
       "      <td>1.000</td>\n",
       "    </tr>\n",
       "  </tbody>\n",
       "</table>\n",
       "</div>"
      ],
      "text/plain": [
       "                  male    age   smsa  totwrk2_10000  I(totwrk / 100)\n",
       "male             1.000  0.032  0.007          0.351            0.376\n",
       "age              0.032  1.000  0.025         -0.046           -0.050\n",
       "smsa             0.007  0.025  1.000         -0.051           -0.038\n",
       "totwrk2_10000    0.351 -0.046 -0.051          1.000            0.937\n",
       "I(totwrk / 100)  0.376 -0.050 -0.038          0.937            1.000"
      ]
     },
     "execution_count": 28,
     "metadata": {},
     "output_type": "execute_result"
    }
   ],
   "source": [
    "data = df [['male', 'age', 'smsa', 'totwrk2_10000']].copy()\n",
    "data ['I(totwrk / 100)'] = df['totwrk']/100\n",
    "corr_matrix = data.corr().round(3)\n",
    "corr_matrix"
   ]
  },
  {
   "cell_type": "code",
   "execution_count": 29,
   "id": "3ff466ed",
   "metadata": {},
   "outputs": [
    {
     "data": {
      "image/png": "[encoded data removed]",
      "text/plain": [
       "<Figure size 640x480 with 2 Axes>"
      ]
     },
     "metadata": {},
     "output_type": "display_data"
    }
   ],
   "source": [
    "# Визуализация корреляций\n",
    "sm.graphics.plot_corr(corr_matrix, xnames=data.columns, normcolor=True, cmap='coolwarm')\n",
    "plt.show()"
   ]
  },
  {
   "cell_type": "markdown",
   "id": "fd552476",
   "metadata": {},
   "source": [
    "# 2 sleep equation #2"
   ]
  },
  {
   "cell_type": "markdown",
   "id": "6a7c959a",
   "metadata": {},
   "source": [
    "## 2.1 VIFs"
   ]
  },
  {
   "cell_type": "code",
   "execution_count": 73,
   "id": "b51cb5a8",
   "metadata": {},
   "outputs": [],
   "source": [
    "df = pd.read_csv('https://raw.githubusercontent.com/ryupepa/Econometrica/master/python-notebooks/data-csv/sleep75.csv')"
   ]
  },
  {
   "cell_type": "code",
   "execution_count": 74,
   "id": "47ee60c2",
   "metadata": {},
   "outputs": [
    {
     "data": {
      "text/plain": [
       "Intercept      19.015\n",
       "totwrk          0.000\n",
       "I(age ** 2)     0.012\n",
       "smsa            0.014\n",
       "male           -0.011\n",
       "south          -0.208\n",
       "dtype: float64"
      ]
     },
     "execution_count": 74,
     "metadata": {},
     "output_type": "execute_result"
    }
   ],
   "source": [
    "model = smf.ols(data = df , formula = 'sleep~totwrk+age+I(age**2)+smsa+male+south').fit()\n",
    "#основная\n",
    "model_1 = smf.ols(data = df , formula = 'age~totwrk+I(age**2)+smsa+male+south').fit()\n",
    "model_2 = smf.ols(data = df , formula = 'I(age**2)~ totwrk+age+smsa+male+south').fit()\n",
    "model_3 = smf.ols(data = df , formula = 'male~totwrk+age+I(age**2)+smsa+south').fit()\n",
    "model_1.params.round(3)"
   ]
  },
  {
   "cell_type": "code",
   "execution_count": 32,
   "id": "6bb1ded8",
   "metadata": {},
   "outputs": [
    {
     "data": {
      "text/plain": [
       "65.47"
      ]
     },
     "execution_count": 32,
     "metadata": {},
     "output_type": "execute_result"
    }
   ],
   "source": [
    "VIF_age = 1/(1 - model_1.rsquared)\n",
    "VIF_age.round(2)"
   ]
  },
  {
   "cell_type": "code",
   "execution_count": 33,
   "id": "a0df3d2c",
   "metadata": {},
   "outputs": [
    {
     "data": {
      "text/plain": [
       "65.6"
      ]
     },
     "execution_count": 33,
     "metadata": {},
     "output_type": "execute_result"
    }
   ],
   "source": [
    "VIF_age2 = 1/(1 - model_2.rsquared)\n",
    "VIF_age2.round(2)"
   ]
  },
  {
   "cell_type": "code",
   "execution_count": 34,
   "id": "b23ea3b2",
   "metadata": {},
   "outputs": [
    {
     "data": {
      "text/plain": [
       "1.17"
      ]
     },
     "execution_count": 34,
     "metadata": {},
     "output_type": "execute_result"
    }
   ],
   "source": [
    "VIF_male = 1/(1 - model_3.rsquared)\n",
    "VIF_male.round(2)"
   ]
  },
  {
   "cell_type": "markdown",
   "id": "7cf9d9de",
   "metadata": {},
   "source": [
    "## 2.2 Последствия"
   ]
  },
  {
   "cell_type": "code",
   "execution_count": 75,
   "id": "dd986862",
   "metadata": {},
   "outputs": [
    {
     "data": {
      "text/html": [
       "<table class=\"simpletable\">\n",
       "<caption>OLS Regression Results</caption>\n",
       "<tr>\n",
       "  <th>Dep. Variable:</th>          <td>sleep</td>      <th>  R-squared:         </th> <td>   0.125</td> \n",
       "</tr>\n",
       "<tr>\n",
       "  <th>Model:</th>                   <td>OLS</td>       <th>  Adj. R-squared:    </th> <td>   0.117</td> \n",
       "</tr>\n",
       "<tr>\n",
       "  <th>Method:</th>             <td>Least Squares</td>  <th>  F-statistic:       </th> <td>   16.58</td> \n",
       "</tr>\n",
       "<tr>\n",
       "  <th>Date:</th>             <td>Fri, 14 Apr 2023</td> <th>  Prob (F-statistic):</th> <td>6.27e-18</td> \n",
       "</tr>\n",
       "<tr>\n",
       "  <th>Time:</th>                 <td>18:55:12</td>     <th>  Log-Likelihood:    </th> <td> -5258.6</td> \n",
       "</tr>\n",
       "<tr>\n",
       "  <th>No. Observations:</th>      <td>   706</td>      <th>  AIC:               </th> <td>1.053e+04</td>\n",
       "</tr>\n",
       "<tr>\n",
       "  <th>Df Residuals:</th>          <td>   699</td>      <th>  BIC:               </th> <td>1.056e+04</td>\n",
       "</tr>\n",
       "<tr>\n",
       "  <th>Df Model:</th>              <td>     6</td>      <th>                     </th>     <td> </td>    \n",
       "</tr>\n",
       "<tr>\n",
       "  <th>Covariance Type:</th>      <td>nonrobust</td>    <th>                     </th>     <td> </td>    \n",
       "</tr>\n",
       "</table>\n",
       "<table class=\"simpletable\">\n",
       "<tr>\n",
       "       <td></td>          <th>coef</th>     <th>std err</th>      <th>t</th>      <th>P>|t|</th>  <th>[0.025</th>    <th>0.975]</th>  \n",
       "</tr>\n",
       "<tr>\n",
       "  <th>Intercept</th>   <td> 3688.5513</td> <td>  218.389</td> <td>   16.890</td> <td> 0.000</td> <td> 3259.774</td> <td> 4117.329</td>\n",
       "</tr>\n",
       "<tr>\n",
       "  <th>totwrk</th>      <td>   -0.1653</td> <td>    0.018</td> <td>   -9.105</td> <td> 0.000</td> <td>   -0.201</td> <td>   -0.130</td>\n",
       "</tr>\n",
       "<tr>\n",
       "  <th>age</th>         <td>   -7.7337</td> <td>   11.213</td> <td>   -0.690</td> <td> 0.491</td> <td>  -29.749</td> <td>   14.281</td>\n",
       "</tr>\n",
       "<tr>\n",
       "  <th>I(age ** 2)</th> <td>    0.1271</td> <td>    0.134</td> <td>    0.948</td> <td> 0.343</td> <td>   -0.136</td> <td>    0.390</td>\n",
       "</tr>\n",
       "<tr>\n",
       "  <th>smsa</th>        <td>  -74.5269</td> <td>   32.156</td> <td>   -2.318</td> <td> 0.021</td> <td> -137.661</td> <td>  -11.392</td>\n",
       "</tr>\n",
       "<tr>\n",
       "  <th>male</th>        <td>   86.3215</td> <td>   34.329</td> <td>    2.515</td> <td> 0.012</td> <td>   18.922</td> <td>  153.721</td>\n",
       "</tr>\n",
       "<tr>\n",
       "  <th>union</th>       <td>    8.5744</td> <td>   38.195</td> <td>    0.224</td> <td> 0.822</td> <td>  -66.416</td> <td>   83.564</td>\n",
       "</tr>\n",
       "</table>\n",
       "<table class=\"simpletable\">\n",
       "<tr>\n",
       "  <th>Omnibus:</th>       <td>65.812</td> <th>  Durbin-Watson:     </th> <td>   1.932</td>\n",
       "</tr>\n",
       "<tr>\n",
       "  <th>Prob(Omnibus):</th> <td> 0.000</td> <th>  Jarque-Bera (JB):  </th> <td> 181.793</td>\n",
       "</tr>\n",
       "<tr>\n",
       "  <th>Skew:</th>          <td>-0.465</td> <th>  Prob(JB):          </th> <td>3.34e-40</td>\n",
       "</tr>\n",
       "<tr>\n",
       "  <th>Kurtosis:</th>      <td> 5.305</td> <th>  Cond. No.          </th> <td>3.94e+04</td>\n",
       "</tr>\n",
       "</table><br/><br/>Notes:<br/>[1] Standard Errors assume that the covariance matrix of the errors is correctly specified.<br/>[2] The condition number is large, 3.94e+04. This might indicate that there are<br/>strong multicollinearity or other numerical problems."
      ],
      "text/plain": [
       "<class 'statsmodels.iolib.summary.Summary'>\n",
       "\"\"\"\n",
       "                            OLS Regression Results                            \n",
       "==============================================================================\n",
       "Dep. Variable:                  sleep   R-squared:                       0.125\n",
       "Model:                            OLS   Adj. R-squared:                  0.117\n",
       "Method:                 Least Squares   F-statistic:                     16.58\n",
       "Date:                Fri, 14 Apr 2023   Prob (F-statistic):           6.27e-18\n",
       "Time:                        18:55:12   Log-Likelihood:                -5258.6\n",
       "No. Observations:                 706   AIC:                         1.053e+04\n",
       "Df Residuals:                     699   BIC:                         1.056e+04\n",
       "Df Model:                           6                                         \n",
       "Covariance Type:            nonrobust                                         \n",
       "===============================================================================\n",
       "                  coef    std err          t      P>|t|      [0.025      0.975]\n",
       "-------------------------------------------------------------------------------\n",
       "Intercept    3688.5513    218.389     16.890      0.000    3259.774    4117.329\n",
       "totwrk         -0.1653      0.018     -9.105      0.000      -0.201      -0.130\n",
       "age            -7.7337     11.213     -0.690      0.491     -29.749      14.281\n",
       "I(age ** 2)     0.1271      0.134      0.948      0.343      -0.136       0.390\n",
       "smsa          -74.5269     32.156     -2.318      0.021    -137.661     -11.392\n",
       "male           86.3215     34.329      2.515      0.012      18.922     153.721\n",
       "union           8.5744     38.195      0.224      0.822     -66.416      83.564\n",
       "==============================================================================\n",
       "Omnibus:                       65.812   Durbin-Watson:                   1.932\n",
       "Prob(Omnibus):                  0.000   Jarque-Bera (JB):              181.793\n",
       "Skew:                          -0.465   Prob(JB):                     3.34e-40\n",
       "Kurtosis:                       5.305   Cond. No.                     3.94e+04\n",
       "==============================================================================\n",
       "\n",
       "Notes:\n",
       "[1] Standard Errors assume that the covariance matrix of the errors is correctly specified.\n",
       "[2] The condition number is large, 3.94e+04. This might indicate that there are\n",
       "strong multicollinearity or other numerical problems.\n",
       "\"\"\""
      ]
     },
     "execution_count": 75,
     "metadata": {},
     "output_type": "execute_result"
    }
   ],
   "source": [
    "models = smf.ols(data = df, formula = 'sleep~totwrk+age+I(age**2)+smsa+male+union').fit()\n",
    "models.summary()"
   ]
  },
  {
   "cell_type": "code",
   "execution_count": 47,
   "id": "07c1e028",
   "metadata": {},
   "outputs": [
    {
     "data": {
      "text/html": [
       "<table class=\"simpletable\">\n",
       "<tr>\n",
       "       <td></td>          <th>coef</th>     <th>std err</th>      <th>t</th>      <th>P>|t|</th>   <th>[0.05</th>     <th>0.95]</th>  \n",
       "</tr>\n",
       "<tr>\n",
       "  <th>Intercept</th>   <td> 3688.5513</td> <td>  218.389</td> <td>   16.890</td> <td> 0.000</td> <td> 3328.856</td> <td> 4048.247</td>\n",
       "</tr>\n",
       "<tr>\n",
       "  <th>totwrk</th>      <td>   -0.1653</td> <td>    0.018</td> <td>   -9.105</td> <td> 0.000</td> <td>   -0.195</td> <td>   -0.135</td>\n",
       "</tr>\n",
       "<tr>\n",
       "  <th>age</th>         <td>   -7.7337</td> <td>   11.213</td> <td>   -0.690</td> <td> 0.491</td> <td>  -26.202</td> <td>   10.734</td>\n",
       "</tr>\n",
       "<tr>\n",
       "  <th>I(age ** 2)</th> <td>    0.1271</td> <td>    0.134</td> <td>    0.948</td> <td> 0.343</td> <td>   -0.094</td> <td>    0.348</td>\n",
       "</tr>\n",
       "<tr>\n",
       "  <th>smsa</th>        <td>  -74.5269</td> <td>   32.156</td> <td>   -2.318</td> <td> 0.021</td> <td> -127.489</td> <td>  -21.564</td>\n",
       "</tr>\n",
       "<tr>\n",
       "  <th>male</th>        <td>   86.3215</td> <td>   34.329</td> <td>    2.515</td> <td> 0.012</td> <td>   29.781</td> <td>  142.862</td>\n",
       "</tr>\n",
       "<tr>\n",
       "  <th>union</th>       <td>    8.5744</td> <td>   38.195</td> <td>    0.224</td> <td> 0.822</td> <td>  -54.334</td> <td>   71.482</td>\n",
       "</tr>\n",
       "</table>"
      ],
      "text/plain": [
       "<class 'statsmodels.iolib.table.SimpleTable'>"
      ]
     },
     "execution_count": 47,
     "metadata": {},
     "output_type": "execute_result"
    }
   ],
   "source": [
    "models.summary(alpha=0.1).tables[1]"
   ]
  },
  {
   "cell_type": "code",
   "execution_count": 37,
   "id": "20ea9b2d",
   "metadata": {},
   "outputs": [],
   "source": [
    "string = '''names coef std.err\n",
    "Intercept 3688.5513 218.389\n",
    "totwrk -0.1653 0.018\n",
    "age -7.7337 11.213\n",
    "I(age**2) 0.1271 0.134\n",
    "smsa -74.5269 32.156 \n",
    "male 86.3215 34.329 \n",
    "union 8.5744 38.195'''"
   ]
  },
  {
   "cell_type": "code",
   "execution_count": 38,
   "id": "dc44eaa4",
   "metadata": {},
   "outputs": [
    {
     "data": {
      "text/html": [
       "<div>\n",
       "<style scoped>\n",
       "    .dataframe tbody tr th:only-of-type {\n",
       "        vertical-align: middle;\n",
       "    }\n",
       "\n",
       "    .dataframe tbody tr th {\n",
       "        vertical-align: top;\n",
       "    }\n",
       "\n",
       "    .dataframe thead th {\n",
       "        text-align: right;\n",
       "    }\n",
       "</style>\n",
       "<table border=\"1\" class=\"dataframe\">\n",
       "  <thead>\n",
       "    <tr style=\"text-align: right;\">\n",
       "      <th></th>\n",
       "      <th>names</th>\n",
       "      <th>coef</th>\n",
       "      <th>std.err</th>\n",
       "    </tr>\n",
       "  </thead>\n",
       "  <tbody>\n",
       "    <tr>\n",
       "      <th>0</th>\n",
       "      <td>Intercept</td>\n",
       "      <td>3688.5513</td>\n",
       "      <td>218.389</td>\n",
       "    </tr>\n",
       "    <tr>\n",
       "      <th>1</th>\n",
       "      <td>totwrk</td>\n",
       "      <td>-0.1653</td>\n",
       "      <td>0.018</td>\n",
       "    </tr>\n",
       "    <tr>\n",
       "      <th>2</th>\n",
       "      <td>age</td>\n",
       "      <td>-7.7337</td>\n",
       "      <td>11.213</td>\n",
       "    </tr>\n",
       "    <tr>\n",
       "      <th>3</th>\n",
       "      <td>I(age**2)</td>\n",
       "      <td>0.1271</td>\n",
       "      <td>0.134</td>\n",
       "    </tr>\n",
       "    <tr>\n",
       "      <th>4</th>\n",
       "      <td>smsa</td>\n",
       "      <td>-74.5269</td>\n",
       "      <td>32.156</td>\n",
       "    </tr>\n",
       "    <tr>\n",
       "      <th>5</th>\n",
       "      <td>male</td>\n",
       "      <td>86.3215</td>\n",
       "      <td>34.329</td>\n",
       "    </tr>\n",
       "    <tr>\n",
       "      <th>6</th>\n",
       "      <td>union</td>\n",
       "      <td>8.5744</td>\n",
       "      <td>38.195</td>\n",
       "    </tr>\n",
       "  </tbody>\n",
       "</table>\n",
       "</div>"
      ],
      "text/plain": [
       "       names       coef  std.err\n",
       "0  Intercept  3688.5513  218.389\n",
       "1     totwrk    -0.1653    0.018\n",
       "2        age    -7.7337   11.213\n",
       "3  I(age**2)     0.1271    0.134\n",
       "4       smsa   -74.5269   32.156\n",
       "5       male    86.3215   34.329\n",
       "6      union     8.5744   38.195"
      ]
     },
     "execution_count": 38,
     "metadata": {},
     "output_type": "execute_result"
    }
   ],
   "source": [
    "df = pd.read_csv(io.StringIO(string), sep='\\s+' )\n",
    "df"
   ]
  },
  {
   "cell_type": "code",
   "execution_count": 39,
   "id": "6dab5193",
   "metadata": {},
   "outputs": [
    {
     "data": {
      "text/html": [
       "<div>\n",
       "<style scoped>\n",
       "    .dataframe tbody tr th:only-of-type {\n",
       "        vertical-align: middle;\n",
       "    }\n",
       "\n",
       "    .dataframe tbody tr th {\n",
       "        vertical-align: top;\n",
       "    }\n",
       "\n",
       "    .dataframe thead th {\n",
       "        text-align: right;\n",
       "    }\n",
       "</style>\n",
       "<table border=\"1\" class=\"dataframe\">\n",
       "  <thead>\n",
       "    <tr style=\"text-align: right;\">\n",
       "      <th></th>\n",
       "      <th>names</th>\n",
       "      <th>coef</th>\n",
       "      <th>std.err</th>\n",
       "      <th>t_nabl</th>\n",
       "    </tr>\n",
       "  </thead>\n",
       "  <tbody>\n",
       "    <tr>\n",
       "      <th>0</th>\n",
       "      <td>Intercept</td>\n",
       "      <td>3688.551</td>\n",
       "      <td>218.389</td>\n",
       "      <td>16.890</td>\n",
       "    </tr>\n",
       "    <tr>\n",
       "      <th>1</th>\n",
       "      <td>totwrk</td>\n",
       "      <td>-0.165</td>\n",
       "      <td>0.018</td>\n",
       "      <td>-9.183</td>\n",
       "    </tr>\n",
       "    <tr>\n",
       "      <th>2</th>\n",
       "      <td>age</td>\n",
       "      <td>-7.734</td>\n",
       "      <td>11.213</td>\n",
       "      <td>-0.690</td>\n",
       "    </tr>\n",
       "    <tr>\n",
       "      <th>3</th>\n",
       "      <td>I(age**2)</td>\n",
       "      <td>0.127</td>\n",
       "      <td>0.134</td>\n",
       "      <td>0.949</td>\n",
       "    </tr>\n",
       "    <tr>\n",
       "      <th>4</th>\n",
       "      <td>smsa</td>\n",
       "      <td>-74.527</td>\n",
       "      <td>32.156</td>\n",
       "      <td>-2.318</td>\n",
       "    </tr>\n",
       "    <tr>\n",
       "      <th>5</th>\n",
       "      <td>male</td>\n",
       "      <td>86.322</td>\n",
       "      <td>34.329</td>\n",
       "      <td>2.515</td>\n",
       "    </tr>\n",
       "    <tr>\n",
       "      <th>6</th>\n",
       "      <td>union</td>\n",
       "      <td>8.574</td>\n",
       "      <td>38.195</td>\n",
       "      <td>0.224</td>\n",
       "    </tr>\n",
       "  </tbody>\n",
       "</table>\n",
       "</div>"
      ],
      "text/plain": [
       "       names      coef  std.err  t_nabl\n",
       "0  Intercept  3688.551  218.389  16.890\n",
       "1     totwrk    -0.165    0.018  -9.183\n",
       "2        age    -7.734   11.213  -0.690\n",
       "3  I(age**2)     0.127    0.134   0.949\n",
       "4       smsa   -74.527   32.156  -2.318\n",
       "5       male    86.322   34.329   2.515\n",
       "6      union     8.574   38.195   0.224"
      ]
     },
     "execution_count": 39,
     "metadata": {},
     "output_type": "execute_result"
    }
   ],
   "source": [
    "df['t_nabl'] = df['coef']/df['std.err']\n",
    "df.round(3)"
   ]
  },
  {
   "cell_type": "code",
   "execution_count": 40,
   "id": "1ce4241b",
   "metadata": {},
   "outputs": [
    {
     "data": {
      "text/plain": [
       "1.647"
      ]
     },
     "execution_count": 40,
     "metadata": {},
     "output_type": "execute_result"
    }
   ],
   "source": [
    "alpha = 0.1\n",
    "t_crit = stats.t.ppf(1-alpha/2, 706-6-1)\n",
    "t_crit.round(3)"
   ]
  },
  {
   "cell_type": "code",
   "execution_count": 41,
   "id": "adb31099",
   "metadata": {},
   "outputs": [
    {
     "data": {
      "text/html": [
       "<div>\n",
       "<style scoped>\n",
       "    .dataframe tbody tr th:only-of-type {\n",
       "        vertical-align: middle;\n",
       "    }\n",
       "\n",
       "    .dataframe tbody tr th {\n",
       "        vertical-align: top;\n",
       "    }\n",
       "\n",
       "    .dataframe thead th {\n",
       "        text-align: right;\n",
       "    }\n",
       "</style>\n",
       "<table border=\"1\" class=\"dataframe\">\n",
       "  <thead>\n",
       "    <tr style=\"text-align: right;\">\n",
       "      <th></th>\n",
       "      <th>names</th>\n",
       "      <th>coef</th>\n",
       "      <th>std.err</th>\n",
       "      <th>t_nabl</th>\n",
       "      <th>znachimost</th>\n",
       "    </tr>\n",
       "  </thead>\n",
       "  <tbody>\n",
       "    <tr>\n",
       "      <th>0</th>\n",
       "      <td>Intercept</td>\n",
       "      <td>3688.5513</td>\n",
       "      <td>218.389</td>\n",
       "      <td>16.889822</td>\n",
       "      <td>znachim</td>\n",
       "    </tr>\n",
       "    <tr>\n",
       "      <th>1</th>\n",
       "      <td>totwrk</td>\n",
       "      <td>-0.1653</td>\n",
       "      <td>0.018</td>\n",
       "      <td>-9.183333</td>\n",
       "      <td>znachim</td>\n",
       "    </tr>\n",
       "    <tr>\n",
       "      <th>2</th>\n",
       "      <td>age</td>\n",
       "      <td>-7.7337</td>\n",
       "      <td>11.213</td>\n",
       "      <td>-0.689708</td>\n",
       "      <td>ne znachim</td>\n",
       "    </tr>\n",
       "    <tr>\n",
       "      <th>3</th>\n",
       "      <td>I(age**2)</td>\n",
       "      <td>0.1271</td>\n",
       "      <td>0.134</td>\n",
       "      <td>0.948507</td>\n",
       "      <td>ne znachim</td>\n",
       "    </tr>\n",
       "    <tr>\n",
       "      <th>4</th>\n",
       "      <td>smsa</td>\n",
       "      <td>-74.5269</td>\n",
       "      <td>32.156</td>\n",
       "      <td>-2.317667</td>\n",
       "      <td>znachim</td>\n",
       "    </tr>\n",
       "    <tr>\n",
       "      <th>5</th>\n",
       "      <td>male</td>\n",
       "      <td>86.3215</td>\n",
       "      <td>34.329</td>\n",
       "      <td>2.514536</td>\n",
       "      <td>znachim</td>\n",
       "    </tr>\n",
       "    <tr>\n",
       "      <th>6</th>\n",
       "      <td>union</td>\n",
       "      <td>8.5744</td>\n",
       "      <td>38.195</td>\n",
       "      <td>0.224490</td>\n",
       "      <td>ne znachim</td>\n",
       "    </tr>\n",
       "  </tbody>\n",
       "</table>\n",
       "</div>"
      ],
      "text/plain": [
       "       names       coef  std.err     t_nabl  znachimost\n",
       "0  Intercept  3688.5513  218.389  16.889822     znachim\n",
       "1     totwrk    -0.1653    0.018  -9.183333     znachim\n",
       "2        age    -7.7337   11.213  -0.689708  ne znachim\n",
       "3  I(age**2)     0.1271    0.134   0.948507  ne znachim\n",
       "4       smsa   -74.5269   32.156  -2.317667     znachim\n",
       "5       male    86.3215   34.329   2.514536     znachim\n",
       "6      union     8.5744   38.195   0.224490  ne znachim"
      ]
     },
     "execution_count": 41,
     "metadata": {},
     "output_type": "execute_result"
    }
   ],
   "source": [
    "df['znachimost'] = df.apply(lambda x: 'znachim' if np.abs(x['t_nabl']) > t_crit else 'ne znachim', axis=1 )\n",
    "df"
   ]
  },
  {
   "cell_type": "markdown",
   "id": "e7e9949c",
   "metadata": {},
   "source": [
    "$$ H_0 : \\beta_{age} = \\beta_{age^2} = 0 $$"
   ]
  },
  {
   "cell_type": "code",
   "execution_count": 76,
   "id": "b14b0df6",
   "metadata": {},
   "outputs": [
    {
     "data": {
      "text/plain": [
       "<class 'statsmodels.stats.contrast.ContrastResults'>\n",
       "<F test: F=2.496529538584052, p=0.08310459895112667, df_denom=699, df_num=2>"
      ]
     },
     "execution_count": 76,
     "metadata": {},
     "output_type": "execute_result"
    }
   ],
   "source": [
    "models.f_test('age = I(age ** 2) = 0')"
   ]
  },
  {
   "cell_type": "code",
   "execution_count": 78,
   "id": "650587b6",
   "metadata": {},
   "outputs": [
    {
     "data": {
      "text/plain": [
       "2.31"
      ]
     },
     "execution_count": 78,
     "metadata": {},
     "output_type": "execute_result"
    }
   ],
   "source": [
    "alpha=0.1\n",
    "df_denom=699\n",
    "df_num=2\n",
    "t_crit = stats.f.ppf(1-alpha, df_num, df_denom)\n",
    "t_crit.round(2)"
   ]
  },
  {
   "cell_type": "markdown",
   "id": "0edd2809",
   "metadata": {},
   "source": [
    "Вывод: т.к. $F_{nabl}>F_{crit}$ гипотезу отвергаем $=>$ коэффициенты совместно значимы"
   ]
  },
  {
   "cell_type": "markdown",
   "id": "dbd5f3b2",
   "metadata": {},
   "source": [
    "### Тестируем на мультиколлинеарность"
   ]
  },
  {
   "cell_type": "code",
   "execution_count": 50,
   "id": "8bd5d251",
   "metadata": {},
   "outputs": [
    {
     "data": {
      "text/html": [
       "<div>\n",
       "<style scoped>\n",
       "    .dataframe tbody tr th:only-of-type {\n",
       "        vertical-align: middle;\n",
       "    }\n",
       "\n",
       "    .dataframe tbody tr th {\n",
       "        vertical-align: top;\n",
       "    }\n",
       "\n",
       "    .dataframe thead th {\n",
       "        text-align: right;\n",
       "    }\n",
       "</style>\n",
       "<table border=\"1\" class=\"dataframe\">\n",
       "  <thead>\n",
       "    <tr style=\"text-align: right;\">\n",
       "      <th></th>\n",
       "      <th>VIF</th>\n",
       "    </tr>\n",
       "  </thead>\n",
       "  <tbody>\n",
       "    <tr>\n",
       "      <th>totwrk</th>\n",
       "      <td>1.195469</td>\n",
       "    </tr>\n",
       "    <tr>\n",
       "      <th>age</th>\n",
       "      <td>65.397082</td>\n",
       "    </tr>\n",
       "    <tr>\n",
       "      <th>I(age ** 2)</th>\n",
       "      <td>65.561373</td>\n",
       "    </tr>\n",
       "    <tr>\n",
       "      <th>smsa</th>\n",
       "      <td>1.004278</td>\n",
       "    </tr>\n",
       "    <tr>\n",
       "      <th>male</th>\n",
       "      <td>1.171666</td>\n",
       "    </tr>\n",
       "    <tr>\n",
       "      <th>union</th>\n",
       "      <td>1.007332</td>\n",
       "    </tr>\n",
       "  </tbody>\n",
       "</table>\n",
       "</div>"
      ],
      "text/plain": [
       "                   VIF\n",
       "totwrk        1.195469\n",
       "age          65.397082\n",
       "I(age ** 2)  65.561373\n",
       "smsa          1.004278\n",
       "male          1.171666\n",
       "union         1.007332"
      ]
     },
     "execution_count": 50,
     "metadata": {},
     "output_type": "execute_result"
    }
   ],
   "source": [
    "VIFS = pd.DataFrame({'VIF': [variance_inflation_factor(models.model.exog, i) for i in range(int(models.df_model+1))]}, index=models.model.exog_names)\n",
    "VIFS.drop(index='Intercept', inplace=True)\n",
    "VIFS"
   ]
  },
  {
   "cell_type": "code",
   "execution_count": 51,
   "id": "d769bd92",
   "metadata": {},
   "outputs": [
    {
     "data": {
      "text/html": [
       "<div>\n",
       "<style scoped>\n",
       "    .dataframe tbody tr th:only-of-type {\n",
       "        vertical-align: middle;\n",
       "    }\n",
       "\n",
       "    .dataframe tbody tr th {\n",
       "        vertical-align: top;\n",
       "    }\n",
       "\n",
       "    .dataframe thead th {\n",
       "        text-align: right;\n",
       "    }\n",
       "</style>\n",
       "<table border=\"1\" class=\"dataframe\">\n",
       "  <thead>\n",
       "    <tr style=\"text-align: right;\">\n",
       "      <th></th>\n",
       "      <th>totwrk</th>\n",
       "      <th>age</th>\n",
       "      <th>smsa</th>\n",
       "      <th>male</th>\n",
       "      <th>union</th>\n",
       "      <th>I(age**2)</th>\n",
       "    </tr>\n",
       "  </thead>\n",
       "  <tbody>\n",
       "    <tr>\n",
       "      <th>totwrk</th>\n",
       "      <td>1.000</td>\n",
       "      <td>-0.050</td>\n",
       "      <td>-0.038</td>\n",
       "      <td>0.376</td>\n",
       "      <td>0.002</td>\n",
       "      <td>-0.067</td>\n",
       "    </tr>\n",
       "    <tr>\n",
       "      <th>age</th>\n",
       "      <td>-0.050</td>\n",
       "      <td>1.000</td>\n",
       "      <td>0.025</td>\n",
       "      <td>0.032</td>\n",
       "      <td>-0.037</td>\n",
       "      <td>0.992</td>\n",
       "    </tr>\n",
       "    <tr>\n",
       "      <th>smsa</th>\n",
       "      <td>-0.038</td>\n",
       "      <td>0.025</td>\n",
       "      <td>1.000</td>\n",
       "      <td>0.007</td>\n",
       "      <td>-0.039</td>\n",
       "      <td>0.024</td>\n",
       "    </tr>\n",
       "    <tr>\n",
       "      <th>male</th>\n",
       "      <td>0.376</td>\n",
       "      <td>0.032</td>\n",
       "      <td>0.007</td>\n",
       "      <td>1.000</td>\n",
       "      <td>0.040</td>\n",
       "      <td>0.026</td>\n",
       "    </tr>\n",
       "    <tr>\n",
       "      <th>union</th>\n",
       "      <td>0.002</td>\n",
       "      <td>-0.037</td>\n",
       "      <td>-0.039</td>\n",
       "      <td>0.040</td>\n",
       "      <td>1.000</td>\n",
       "      <td>-0.042</td>\n",
       "    </tr>\n",
       "    <tr>\n",
       "      <th>I(age**2)</th>\n",
       "      <td>-0.067</td>\n",
       "      <td>0.992</td>\n",
       "      <td>0.024</td>\n",
       "      <td>0.026</td>\n",
       "      <td>-0.042</td>\n",
       "      <td>1.000</td>\n",
       "    </tr>\n",
       "  </tbody>\n",
       "</table>\n",
       "</div>"
      ],
      "text/plain": [
       "           totwrk    age   smsa   male  union  I(age**2)\n",
       "totwrk      1.000 -0.050 -0.038  0.376  0.002     -0.067\n",
       "age        -0.050  1.000  0.025  0.032 -0.037      0.992\n",
       "smsa       -0.038  0.025  1.000  0.007 -0.039      0.024\n",
       "male        0.376  0.032  0.007  1.000  0.040      0.026\n",
       "union       0.002 -0.037 -0.039  0.040  1.000     -0.042\n",
       "I(age**2)  -0.067  0.992  0.024  0.026 -0.042      1.000"
      ]
     },
     "execution_count": 51,
     "metadata": {},
     "output_type": "execute_result"
    }
   ],
   "source": [
    "data = df [['totwrk', 'age', 'smsa', 'male', 'union']].copy()\n",
    "data ['I(age**2)'] = df['age']**2\n",
    "corr_matrix = data.corr().round(3)\n",
    "corr_matrix"
   ]
  },
  {
   "cell_type": "code",
   "execution_count": 52,
   "id": "4c83f68b",
   "metadata": {},
   "outputs": [
    {
     "data": {
      "image/png": "[encoded data removed]",
      "text/plain": [
       "<Figure size 640x480 with 2 Axes>"
      ]
     },
     "metadata": {},
     "output_type": "display_data"
    }
   ],
   "source": [
    "# Визуализация корреляций\n",
    "sm.graphics.plot_corr(corr_matrix, xnames=data.columns, normcolor=True, cmap='coolwarm')\n",
    "plt.show()"
   ]
  },
  {
   "cell_type": "markdown",
   "id": "99b542df",
   "metadata": {},
   "source": [
    "# 3 sleep equation #3"
   ]
  },
  {
   "cell_type": "markdown",
   "id": "86c2ccf2",
   "metadata": {},
   "source": [
    "## 3.1 VIFs"
   ]
  },
  {
   "cell_type": "code",
   "execution_count": 101,
   "id": "be3cfb47",
   "metadata": {},
   "outputs": [],
   "source": [
    "df = pd.read_csv('https://raw.githubusercontent.com/ryupepa/Econometrica/master/python-notebooks/data-csv/sleep75.csv')"
   ]
  },
  {
   "cell_type": "code",
   "execution_count": 102,
   "id": "daa3ac7c",
   "metadata": {},
   "outputs": [
    {
     "data": {
      "text/plain": [
       "Intercept            1883.936\n",
       "south               -1780.732\n",
       "I(totwrk * south)       0.862\n",
       "age                    -3.438\n",
       "male                  645.996\n",
       "smsa                  -46.641\n",
       "dtype: float64"
      ]
     },
     "execution_count": 102,
     "metadata": {},
     "output_type": "execute_result"
    }
   ],
   "source": [
    "model = smf.ols(data = df , formula = 'sleep~totwrk+south+I(totwrk*south)+age+male+smsa').fit()\n",
    "#основная\n",
    "model_1 = smf.ols(data = df , formula = 'totwrk~south+I(totwrk*south)+age+male+smsa').fit()\n",
    "model_2 = smf.ols(data = df , formula = 'south~totwrk+I(totwrk*south)+age+male+smsa').fit()\n",
    "model_3 = smf.ols(data = df , formula = 'I(totwrk*south)~totwrk+south+age+male+smsa').fit()\n",
    "model_1.params.round(3)"
   ]
  },
  {
   "cell_type": "code",
   "execution_count": 103,
   "id": "0f312e31",
   "metadata": {},
   "outputs": [
    {
     "data": {
      "text/plain": [
       "1.32"
      ]
     },
     "execution_count": 103,
     "metadata": {},
     "output_type": "execute_result"
    }
   ],
   "source": [
    "VIF_totwrk = 1/(1 - model_1.rsquared)\n",
    "VIF_totwrk.round(2)"
   ]
  },
  {
   "cell_type": "code",
   "execution_count": 104,
   "id": "d83b3be0",
   "metadata": {},
   "outputs": [
    {
     "data": {
      "text/plain": [
       "8.55"
      ]
     },
     "execution_count": 104,
     "metadata": {},
     "output_type": "execute_result"
    }
   ],
   "source": [
    "VIF_south = 1/(1 - model_2.rsquared)\n",
    "VIF_south.round(2)"
   ]
  },
  {
   "cell_type": "code",
   "execution_count": 105,
   "id": "37a0eeeb",
   "metadata": {},
   "outputs": [
    {
     "data": {
      "text/plain": [
       "8.73"
      ]
     },
     "execution_count": 105,
     "metadata": {},
     "output_type": "execute_result"
    }
   ],
   "source": [
    "VIF_totwrk_south = 1/(1 - model_3.rsquared)\n",
    "VIF_totwrk_south.round(2)"
   ]
  },
  {
   "cell_type": "markdown",
   "id": "a2658214",
   "metadata": {},
   "source": [
    "## 3.2 Последствия"
   ]
  },
  {
   "cell_type": "code",
   "execution_count": 81,
   "id": "541896f8",
   "metadata": {},
   "outputs": [
    {
     "data": {
      "text/html": [
       "<table class=\"simpletable\">\n",
       "<caption>OLS Regression Results</caption>\n",
       "<tr>\n",
       "  <th>Dep. Variable:</th>          <td>sleep</td>      <th>  R-squared:         </th> <td>   0.133</td> \n",
       "</tr>\n",
       "<tr>\n",
       "  <th>Model:</th>                   <td>OLS</td>       <th>  Adj. R-squared:    </th> <td>   0.124</td> \n",
       "</tr>\n",
       "<tr>\n",
       "  <th>Method:</th>             <td>Least Squares</td>  <th>  F-statistic:       </th> <td>   15.32</td> \n",
       "</tr>\n",
       "<tr>\n",
       "  <th>Date:</th>             <td>Fri, 14 Apr 2023</td> <th>  Prob (F-statistic):</th> <td>1.03e-18</td> \n",
       "</tr>\n",
       "<tr>\n",
       "  <th>Time:</th>                 <td>19:02:55</td>     <th>  Log-Likelihood:    </th> <td> -5255.1</td> \n",
       "</tr>\n",
       "<tr>\n",
       "  <th>No. Observations:</th>      <td>   706</td>      <th>  AIC:               </th> <td>1.053e+04</td>\n",
       "</tr>\n",
       "<tr>\n",
       "  <th>Df Residuals:</th>          <td>   698</td>      <th>  BIC:               </th> <td>1.056e+04</td>\n",
       "</tr>\n",
       "<tr>\n",
       "  <th>Df Model:</th>              <td>     7</td>      <th>                     </th>     <td> </td>    \n",
       "</tr>\n",
       "<tr>\n",
       "  <th>Covariance Type:</th>      <td>nonrobust</td>    <th>                     </th>     <td> </td>    \n",
       "</tr>\n",
       "</table>\n",
       "<table class=\"simpletable\">\n",
       "<tr>\n",
       "          <td></td>             <th>coef</th>     <th>std err</th>      <th>t</th>      <th>P>|t|</th>  <th>[0.025</th>    <th>0.975]</th>  \n",
       "</tr>\n",
       "<tr>\n",
       "  <th>Intercept</th>         <td> 3458.8111</td> <td>   78.683</td> <td>   43.959</td> <td> 0.000</td> <td> 3304.327</td> <td> 3613.295</td>\n",
       "</tr>\n",
       "<tr>\n",
       "  <th>totwrk</th>            <td>   -0.1769</td> <td>    0.019</td> <td>   -9.285</td> <td> 0.000</td> <td>   -0.214</td> <td>   -0.139</td>\n",
       "</tr>\n",
       "<tr>\n",
       "  <th>south</th>             <td>  -39.9825</td> <td>  118.087</td> <td>   -0.339</td> <td> 0.735</td> <td> -271.830</td> <td>  191.865</td>\n",
       "</tr>\n",
       "<tr>\n",
       "  <th>I(totwrk * south)</th> <td>    0.0638</td> <td>    0.050</td> <td>    1.275</td> <td> 0.203</td> <td>   -0.034</td> <td>    0.162</td>\n",
       "</tr>\n",
       "<tr>\n",
       "  <th>age</th>               <td>    2.9010</td> <td>    1.386</td> <td>    2.093</td> <td> 0.037</td> <td>    0.179</td> <td>    5.623</td>\n",
       "</tr>\n",
       "<tr>\n",
       "  <th>male</th>              <td>   86.2695</td> <td>   34.833</td> <td>    2.477</td> <td> 0.013</td> <td>   17.879</td> <td>  154.660</td>\n",
       "</tr>\n",
       "<tr>\n",
       "  <th>smsa</th>              <td>  -54.6473</td> <td>   33.074</td> <td>   -1.652</td> <td> 0.099</td> <td> -119.584</td> <td>   10.289</td>\n",
       "</tr>\n",
       "<tr>\n",
       "  <th>marr</th>              <td>   29.9850</td> <td>   41.857</td> <td>    0.716</td> <td> 0.474</td> <td>  -52.196</td> <td>  112.166</td>\n",
       "</tr>\n",
       "</table>\n",
       "<table class=\"simpletable\">\n",
       "<tr>\n",
       "  <th>Omnibus:</th>       <td>60.050</td> <th>  Durbin-Watson:     </th> <td>   1.939</td>\n",
       "</tr>\n",
       "<tr>\n",
       "  <th>Prob(Omnibus):</th> <td> 0.000</td> <th>  Jarque-Bera (JB):  </th> <td> 157.819</td>\n",
       "</tr>\n",
       "<tr>\n",
       "  <th>Skew:</th>          <td>-0.436</td> <th>  Prob(JB):          </th> <td>5.37e-35</td>\n",
       "</tr>\n",
       "<tr>\n",
       "  <th>Kurtosis:</th>      <td> 5.146</td> <th>  Cond. No.          </th> <td>1.81e+04</td>\n",
       "</tr>\n",
       "</table><br/><br/>Notes:<br/>[1] Standard Errors assume that the covariance matrix of the errors is correctly specified.<br/>[2] The condition number is large, 1.81e+04. This might indicate that there are<br/>strong multicollinearity or other numerical problems."
      ],
      "text/plain": [
       "<class 'statsmodels.iolib.summary.Summary'>\n",
       "\"\"\"\n",
       "                            OLS Regression Results                            \n",
       "==============================================================================\n",
       "Dep. Variable:                  sleep   R-squared:                       0.133\n",
       "Model:                            OLS   Adj. R-squared:                  0.124\n",
       "Method:                 Least Squares   F-statistic:                     15.32\n",
       "Date:                Fri, 14 Apr 2023   Prob (F-statistic):           1.03e-18\n",
       "Time:                        19:02:55   Log-Likelihood:                -5255.1\n",
       "No. Observations:                 706   AIC:                         1.053e+04\n",
       "Df Residuals:                     698   BIC:                         1.056e+04\n",
       "Df Model:                           7                                         \n",
       "Covariance Type:            nonrobust                                         \n",
       "=====================================================================================\n",
       "                        coef    std err          t      P>|t|      [0.025      0.975]\n",
       "-------------------------------------------------------------------------------------\n",
       "Intercept          3458.8111     78.683     43.959      0.000    3304.327    3613.295\n",
       "totwrk               -0.1769      0.019     -9.285      0.000      -0.214      -0.139\n",
       "south               -39.9825    118.087     -0.339      0.735    -271.830     191.865\n",
       "I(totwrk * south)     0.0638      0.050      1.275      0.203      -0.034       0.162\n",
       "age                   2.9010      1.386      2.093      0.037       0.179       5.623\n",
       "male                 86.2695     34.833      2.477      0.013      17.879     154.660\n",
       "smsa                -54.6473     33.074     -1.652      0.099    -119.584      10.289\n",
       "marr                 29.9850     41.857      0.716      0.474     -52.196     112.166\n",
       "==============================================================================\n",
       "Omnibus:                       60.050   Durbin-Watson:                   1.939\n",
       "Prob(Omnibus):                  0.000   Jarque-Bera (JB):              157.819\n",
       "Skew:                          -0.436   Prob(JB):                     5.37e-35\n",
       "Kurtosis:                       5.146   Cond. No.                     1.81e+04\n",
       "==============================================================================\n",
       "\n",
       "Notes:\n",
       "[1] Standard Errors assume that the covariance matrix of the errors is correctly specified.\n",
       "[2] The condition number is large, 1.81e+04. This might indicate that there are\n",
       "strong multicollinearity or other numerical problems.\n",
       "\"\"\""
      ]
     },
     "execution_count": 81,
     "metadata": {},
     "output_type": "execute_result"
    }
   ],
   "source": [
    "models = smf.ols(data = df, formula = 'sleep~totwrk+south+I(totwrk*south)+age+male+smsa+marr').fit()\n",
    "models.summary()"
   ]
  },
  {
   "cell_type": "code",
   "execution_count": 60,
   "id": "c9bca3a1",
   "metadata": {},
   "outputs": [
    {
     "data": {
      "text/html": [
       "<table class=\"simpletable\">\n",
       "<tr>\n",
       "          <td></td>             <th>coef</th>     <th>std err</th>      <th>t</th>      <th>P>|t|</th>  <th>[0.025</th>    <th>0.975]</th>  \n",
       "</tr>\n",
       "<tr>\n",
       "  <th>Intercept</th>         <td> 3458.8111</td> <td>   78.683</td> <td>   43.959</td> <td> 0.000</td> <td> 3304.327</td> <td> 3613.295</td>\n",
       "</tr>\n",
       "<tr>\n",
       "  <th>totwrk</th>            <td>   -0.1769</td> <td>    0.019</td> <td>   -9.285</td> <td> 0.000</td> <td>   -0.214</td> <td>   -0.139</td>\n",
       "</tr>\n",
       "<tr>\n",
       "  <th>south</th>             <td>  -39.9825</td> <td>  118.087</td> <td>   -0.339</td> <td> 0.735</td> <td> -271.830</td> <td>  191.865</td>\n",
       "</tr>\n",
       "<tr>\n",
       "  <th>I(totwrk * south)</th> <td>    0.0638</td> <td>    0.050</td> <td>    1.275</td> <td> 0.203</td> <td>   -0.034</td> <td>    0.162</td>\n",
       "</tr>\n",
       "<tr>\n",
       "  <th>age</th>               <td>    2.9010</td> <td>    1.386</td> <td>    2.093</td> <td> 0.037</td> <td>    0.179</td> <td>    5.623</td>\n",
       "</tr>\n",
       "<tr>\n",
       "  <th>male</th>              <td>   86.2695</td> <td>   34.833</td> <td>    2.477</td> <td> 0.013</td> <td>   17.879</td> <td>  154.660</td>\n",
       "</tr>\n",
       "<tr>\n",
       "  <th>smsa</th>              <td>  -54.6473</td> <td>   33.074</td> <td>   -1.652</td> <td> 0.099</td> <td> -119.584</td> <td>   10.289</td>\n",
       "</tr>\n",
       "<tr>\n",
       "  <th>marr</th>              <td>   29.9850</td> <td>   41.857</td> <td>    0.716</td> <td> 0.474</td> <td>  -52.196</td> <td>  112.166</td>\n",
       "</tr>\n",
       "</table>"
      ],
      "text/plain": [
       "<class 'statsmodels.iolib.table.SimpleTable'>"
      ]
     },
     "execution_count": 60,
     "metadata": {},
     "output_type": "execute_result"
    }
   ],
   "source": [
    "models.summary(alpha=0.05).tables[1]"
   ]
  },
  {
   "cell_type": "code",
   "execution_count": 61,
   "id": "8477a948",
   "metadata": {},
   "outputs": [],
   "source": [
    "string = '''names coef std.err \n",
    "Intercept 3458.8111 78.683\n",
    "totwrk -0.1769 0.019 \n",
    "south -39.9825 118.087\n",
    "I(totwrk*south) 0.0638 0.050\n",
    "age 2.9010 1.386\n",
    "male 86.2695 34.833\n",
    "smsa -54.6473 33.074\n",
    "marr 29.9850 41.857'''"
   ]
  },
  {
   "cell_type": "code",
   "execution_count": 62,
   "id": "c26cf69d",
   "metadata": {},
   "outputs": [
    {
     "data": {
      "text/html": [
       "<div>\n",
       "<style scoped>\n",
       "    .dataframe tbody tr th:only-of-type {\n",
       "        vertical-align: middle;\n",
       "    }\n",
       "\n",
       "    .dataframe tbody tr th {\n",
       "        vertical-align: top;\n",
       "    }\n",
       "\n",
       "    .dataframe thead th {\n",
       "        text-align: right;\n",
       "    }\n",
       "</style>\n",
       "<table border=\"1\" class=\"dataframe\">\n",
       "  <thead>\n",
       "    <tr style=\"text-align: right;\">\n",
       "      <th></th>\n",
       "      <th>names</th>\n",
       "      <th>coef</th>\n",
       "      <th>std.err</th>\n",
       "    </tr>\n",
       "  </thead>\n",
       "  <tbody>\n",
       "    <tr>\n",
       "      <th>0</th>\n",
       "      <td>Intercept</td>\n",
       "      <td>3458.8111</td>\n",
       "      <td>78.683</td>\n",
       "    </tr>\n",
       "    <tr>\n",
       "      <th>1</th>\n",
       "      <td>totwrk</td>\n",
       "      <td>-0.1769</td>\n",
       "      <td>0.019</td>\n",
       "    </tr>\n",
       "    <tr>\n",
       "      <th>2</th>\n",
       "      <td>south</td>\n",
       "      <td>-39.9825</td>\n",
       "      <td>118.087</td>\n",
       "    </tr>\n",
       "    <tr>\n",
       "      <th>3</th>\n",
       "      <td>I(totwrk*south)</td>\n",
       "      <td>0.0638</td>\n",
       "      <td>0.050</td>\n",
       "    </tr>\n",
       "    <tr>\n",
       "      <th>4</th>\n",
       "      <td>age</td>\n",
       "      <td>2.9010</td>\n",
       "      <td>1.386</td>\n",
       "    </tr>\n",
       "    <tr>\n",
       "      <th>5</th>\n",
       "      <td>male</td>\n",
       "      <td>86.2695</td>\n",
       "      <td>34.833</td>\n",
       "    </tr>\n",
       "    <tr>\n",
       "      <th>6</th>\n",
       "      <td>smsa</td>\n",
       "      <td>-54.6473</td>\n",
       "      <td>33.074</td>\n",
       "    </tr>\n",
       "    <tr>\n",
       "      <th>7</th>\n",
       "      <td>marr</td>\n",
       "      <td>29.9850</td>\n",
       "      <td>41.857</td>\n",
       "    </tr>\n",
       "  </tbody>\n",
       "</table>\n",
       "</div>"
      ],
      "text/plain": [
       "             names       coef  std.err\n",
       "0        Intercept  3458.8111   78.683\n",
       "1           totwrk    -0.1769    0.019\n",
       "2            south   -39.9825  118.087\n",
       "3  I(totwrk*south)     0.0638    0.050\n",
       "4              age     2.9010    1.386\n",
       "5             male    86.2695   34.833\n",
       "6             smsa   -54.6473   33.074\n",
       "7             marr    29.9850   41.857"
      ]
     },
     "execution_count": 62,
     "metadata": {},
     "output_type": "execute_result"
    }
   ],
   "source": [
    "df = pd.read_csv(io.StringIO(string), sep='\\s+' )\n",
    "df"
   ]
  },
  {
   "cell_type": "code",
   "execution_count": 63,
   "id": "d09f4d00",
   "metadata": {},
   "outputs": [
    {
     "data": {
      "text/html": [
       "<div>\n",
       "<style scoped>\n",
       "    .dataframe tbody tr th:only-of-type {\n",
       "        vertical-align: middle;\n",
       "    }\n",
       "\n",
       "    .dataframe tbody tr th {\n",
       "        vertical-align: top;\n",
       "    }\n",
       "\n",
       "    .dataframe thead th {\n",
       "        text-align: right;\n",
       "    }\n",
       "</style>\n",
       "<table border=\"1\" class=\"dataframe\">\n",
       "  <thead>\n",
       "    <tr style=\"text-align: right;\">\n",
       "      <th></th>\n",
       "      <th>names</th>\n",
       "      <th>coef</th>\n",
       "      <th>std.err</th>\n",
       "      <th>t_nabl</th>\n",
       "    </tr>\n",
       "  </thead>\n",
       "  <tbody>\n",
       "    <tr>\n",
       "      <th>0</th>\n",
       "      <td>Intercept</td>\n",
       "      <td>3458.811</td>\n",
       "      <td>78.683</td>\n",
       "      <td>43.959</td>\n",
       "    </tr>\n",
       "    <tr>\n",
       "      <th>1</th>\n",
       "      <td>totwrk</td>\n",
       "      <td>-0.177</td>\n",
       "      <td>0.019</td>\n",
       "      <td>-9.311</td>\n",
       "    </tr>\n",
       "    <tr>\n",
       "      <th>2</th>\n",
       "      <td>south</td>\n",
       "      <td>-39.982</td>\n",
       "      <td>118.087</td>\n",
       "      <td>-0.339</td>\n",
       "    </tr>\n",
       "    <tr>\n",
       "      <th>3</th>\n",
       "      <td>I(totwrk*south)</td>\n",
       "      <td>0.064</td>\n",
       "      <td>0.050</td>\n",
       "      <td>1.276</td>\n",
       "    </tr>\n",
       "    <tr>\n",
       "      <th>4</th>\n",
       "      <td>age</td>\n",
       "      <td>2.901</td>\n",
       "      <td>1.386</td>\n",
       "      <td>2.093</td>\n",
       "    </tr>\n",
       "    <tr>\n",
       "      <th>5</th>\n",
       "      <td>male</td>\n",
       "      <td>86.270</td>\n",
       "      <td>34.833</td>\n",
       "      <td>2.477</td>\n",
       "    </tr>\n",
       "    <tr>\n",
       "      <th>6</th>\n",
       "      <td>smsa</td>\n",
       "      <td>-54.647</td>\n",
       "      <td>33.074</td>\n",
       "      <td>-1.652</td>\n",
       "    </tr>\n",
       "    <tr>\n",
       "      <th>7</th>\n",
       "      <td>marr</td>\n",
       "      <td>29.985</td>\n",
       "      <td>41.857</td>\n",
       "      <td>0.716</td>\n",
       "    </tr>\n",
       "  </tbody>\n",
       "</table>\n",
       "</div>"
      ],
      "text/plain": [
       "             names      coef  std.err  t_nabl\n",
       "0        Intercept  3458.811   78.683  43.959\n",
       "1           totwrk    -0.177    0.019  -9.311\n",
       "2            south   -39.982  118.087  -0.339\n",
       "3  I(totwrk*south)     0.064    0.050   1.276\n",
       "4              age     2.901    1.386   2.093\n",
       "5             male    86.270   34.833   2.477\n",
       "6             smsa   -54.647   33.074  -1.652\n",
       "7             marr    29.985   41.857   0.716"
      ]
     },
     "execution_count": 63,
     "metadata": {},
     "output_type": "execute_result"
    }
   ],
   "source": [
    "df['t_nabl'] = df['coef']/df['std.err']\n",
    "df.round(3)"
   ]
  },
  {
   "cell_type": "code",
   "execution_count": 64,
   "id": "9fed9d0a",
   "metadata": {},
   "outputs": [
    {
     "data": {
      "text/plain": [
       "1.963"
      ]
     },
     "execution_count": 64,
     "metadata": {},
     "output_type": "execute_result"
    }
   ],
   "source": [
    "alpha = 0.05\n",
    "t_crit = stats.t.ppf(1-alpha/2, 706-7-1)\n",
    "t_crit.round(3)"
   ]
  },
  {
   "cell_type": "code",
   "execution_count": 65,
   "id": "5c3fd251",
   "metadata": {},
   "outputs": [
    {
     "data": {
      "text/html": [
       "<div>\n",
       "<style scoped>\n",
       "    .dataframe tbody tr th:only-of-type {\n",
       "        vertical-align: middle;\n",
       "    }\n",
       "\n",
       "    .dataframe tbody tr th {\n",
       "        vertical-align: top;\n",
       "    }\n",
       "\n",
       "    .dataframe thead th {\n",
       "        text-align: right;\n",
       "    }\n",
       "</style>\n",
       "<table border=\"1\" class=\"dataframe\">\n",
       "  <thead>\n",
       "    <tr style=\"text-align: right;\">\n",
       "      <th></th>\n",
       "      <th>names</th>\n",
       "      <th>coef</th>\n",
       "      <th>std.err</th>\n",
       "      <th>t_nabl</th>\n",
       "      <th>znachimost</th>\n",
       "    </tr>\n",
       "  </thead>\n",
       "  <tbody>\n",
       "    <tr>\n",
       "      <th>0</th>\n",
       "      <td>Intercept</td>\n",
       "      <td>3458.8111</td>\n",
       "      <td>78.683</td>\n",
       "      <td>43.958811</td>\n",
       "      <td>znachim</td>\n",
       "    </tr>\n",
       "    <tr>\n",
       "      <th>1</th>\n",
       "      <td>totwrk</td>\n",
       "      <td>-0.1769</td>\n",
       "      <td>0.019</td>\n",
       "      <td>-9.310526</td>\n",
       "      <td>znachim</td>\n",
       "    </tr>\n",
       "    <tr>\n",
       "      <th>2</th>\n",
       "      <td>south</td>\n",
       "      <td>-39.9825</td>\n",
       "      <td>118.087</td>\n",
       "      <td>-0.338585</td>\n",
       "      <td>ne znachim</td>\n",
       "    </tr>\n",
       "    <tr>\n",
       "      <th>3</th>\n",
       "      <td>I(totwrk*south)</td>\n",
       "      <td>0.0638</td>\n",
       "      <td>0.050</td>\n",
       "      <td>1.276000</td>\n",
       "      <td>ne znachim</td>\n",
       "    </tr>\n",
       "    <tr>\n",
       "      <th>4</th>\n",
       "      <td>age</td>\n",
       "      <td>2.9010</td>\n",
       "      <td>1.386</td>\n",
       "      <td>2.093074</td>\n",
       "      <td>znachim</td>\n",
       "    </tr>\n",
       "    <tr>\n",
       "      <th>5</th>\n",
       "      <td>male</td>\n",
       "      <td>86.2695</td>\n",
       "      <td>34.833</td>\n",
       "      <td>2.476660</td>\n",
       "      <td>znachim</td>\n",
       "    </tr>\n",
       "    <tr>\n",
       "      <th>6</th>\n",
       "      <td>smsa</td>\n",
       "      <td>-54.6473</td>\n",
       "      <td>33.074</td>\n",
       "      <td>-1.652274</td>\n",
       "      <td>ne znachim</td>\n",
       "    </tr>\n",
       "    <tr>\n",
       "      <th>7</th>\n",
       "      <td>marr</td>\n",
       "      <td>29.9850</td>\n",
       "      <td>41.857</td>\n",
       "      <td>0.716368</td>\n",
       "      <td>ne znachim</td>\n",
       "    </tr>\n",
       "  </tbody>\n",
       "</table>\n",
       "</div>"
      ],
      "text/plain": [
       "             names       coef  std.err     t_nabl  znachimost\n",
       "0        Intercept  3458.8111   78.683  43.958811     znachim\n",
       "1           totwrk    -0.1769    0.019  -9.310526     znachim\n",
       "2            south   -39.9825  118.087  -0.338585  ne znachim\n",
       "3  I(totwrk*south)     0.0638    0.050   1.276000  ne znachim\n",
       "4              age     2.9010    1.386   2.093074     znachim\n",
       "5             male    86.2695   34.833   2.476660     znachim\n",
       "6             smsa   -54.6473   33.074  -1.652274  ne znachim\n",
       "7             marr    29.9850   41.857   0.716368  ne znachim"
      ]
     },
     "execution_count": 65,
     "metadata": {},
     "output_type": "execute_result"
    }
   ],
   "source": [
    "df['znachimost'] = df.apply(lambda x: 'znachim' if np.abs(x['t_nabl']) > t_crit else 'ne znachim', axis=1 )\n",
    "df"
   ]
  },
  {
   "cell_type": "markdown",
   "id": "51d3347e",
   "metadata": {},
   "source": [
    "$$ H_0 : \\beta_{south} = \\beta_{totwrk*south} = 0 $$"
   ]
  },
  {
   "cell_type": "code",
   "execution_count": 82,
   "id": "1f33b4c2",
   "metadata": {},
   "outputs": [
    {
     "data": {
      "text/plain": [
       "<class 'statsmodels.stats.contrast.ContrastResults'>\n",
       "<F test: F=3.7372813139000094, p=0.02429675167584329, df_denom=698, df_num=2>"
      ]
     },
     "execution_count": 82,
     "metadata": {},
     "output_type": "execute_result"
    }
   ],
   "source": [
    "models.f_test('south=I(totwrk * south)=0')"
   ]
  },
  {
   "cell_type": "code",
   "execution_count": 83,
   "id": "dce8735d",
   "metadata": {},
   "outputs": [
    {
     "data": {
      "text/plain": [
       "3.01"
      ]
     },
     "execution_count": 83,
     "metadata": {},
     "output_type": "execute_result"
    }
   ],
   "source": [
    "alpha=0.05\n",
    "df_denom=698\n",
    "df_num=2\n",
    "t_crit = stats.f.ppf(1-alpha, df_num, df_denom)\n",
    "t_crit.round(2)"
   ]
  },
  {
   "cell_type": "markdown",
   "id": "1d5f4530",
   "metadata": {},
   "source": [
    "Вывод: т.к. $F_{nabl}>F_{crit}$ гипотезу отвергаем $=>$ коэффициенты совместно значимы"
   ]
  },
  {
   "cell_type": "markdown",
   "id": "42eff62b",
   "metadata": {},
   "source": [
    "### Тестируем на мультиколлинеарность"
   ]
  },
  {
   "cell_type": "code",
   "execution_count": 84,
   "id": "7149bda6",
   "metadata": {},
   "outputs": [
    {
     "data": {
      "text/html": [
       "<div>\n",
       "<style scoped>\n",
       "    .dataframe tbody tr th:only-of-type {\n",
       "        vertical-align: middle;\n",
       "    }\n",
       "\n",
       "    .dataframe tbody tr th {\n",
       "        vertical-align: top;\n",
       "    }\n",
       "\n",
       "    .dataframe thead th {\n",
       "        text-align: right;\n",
       "    }\n",
       "</style>\n",
       "<table border=\"1\" class=\"dataframe\">\n",
       "  <thead>\n",
       "    <tr style=\"text-align: right;\">\n",
       "      <th></th>\n",
       "      <th>VIF</th>\n",
       "    </tr>\n",
       "  </thead>\n",
       "  <tbody>\n",
       "    <tr>\n",
       "      <th>totwrk</th>\n",
       "      <td>1.328161</td>\n",
       "    </tr>\n",
       "    <tr>\n",
       "      <th>south</th>\n",
       "      <td>8.553057</td>\n",
       "    </tr>\n",
       "    <tr>\n",
       "      <th>I(totwrk * south)</th>\n",
       "      <td>8.734279</td>\n",
       "    </tr>\n",
       "    <tr>\n",
       "      <th>age</th>\n",
       "      <td>1.007988</td>\n",
       "    </tr>\n",
       "    <tr>\n",
       "      <th>male</th>\n",
       "      <td>1.216541</td>\n",
       "    </tr>\n",
       "    <tr>\n",
       "      <th>smsa</th>\n",
       "      <td>1.071376</td>\n",
       "    </tr>\n",
       "    <tr>\n",
       "      <th>marr</th>\n",
       "      <td>1.048792</td>\n",
       "    </tr>\n",
       "  </tbody>\n",
       "</table>\n",
       "</div>"
      ],
      "text/plain": [
       "                        VIF\n",
       "totwrk             1.328161\n",
       "south              8.553057\n",
       "I(totwrk * south)  8.734279\n",
       "age                1.007988\n",
       "male               1.216541\n",
       "smsa               1.071376\n",
       "marr               1.048792"
      ]
     },
     "execution_count": 84,
     "metadata": {},
     "output_type": "execute_result"
    }
   ],
   "source": [
    "VIFS = pd.DataFrame({'VIF': [variance_inflation_factor(models.model.exog, i) for i in range(int(models.df_model+1))]}, index=models.model.exog_names)\n",
    "VIFS.drop(index='Intercept', inplace=True)\n",
    "VIFS"
   ]
  },
  {
   "cell_type": "code",
   "execution_count": 87,
   "id": "9e204262",
   "metadata": {},
   "outputs": [
    {
     "data": {
      "text/html": [
       "<div>\n",
       "<style scoped>\n",
       "    .dataframe tbody tr th:only-of-type {\n",
       "        vertical-align: middle;\n",
       "    }\n",
       "\n",
       "    .dataframe tbody tr th {\n",
       "        vertical-align: top;\n",
       "    }\n",
       "\n",
       "    .dataframe thead th {\n",
       "        text-align: right;\n",
       "    }\n",
       "</style>\n",
       "<table border=\"1\" class=\"dataframe\">\n",
       "  <thead>\n",
       "    <tr style=\"text-align: right;\">\n",
       "      <th></th>\n",
       "      <th>totwrk</th>\n",
       "      <th>south</th>\n",
       "      <th>age</th>\n",
       "      <th>male</th>\n",
       "      <th>smsa</th>\n",
       "      <th>marr</th>\n",
       "      <th>I(totwrk*south)</th>\n",
       "    </tr>\n",
       "  </thead>\n",
       "  <tbody>\n",
       "    <tr>\n",
       "      <th>totwrk</th>\n",
       "      <td>1.000</td>\n",
       "      <td>0.051</td>\n",
       "      <td>-0.050</td>\n",
       "      <td>0.376</td>\n",
       "      <td>-0.038</td>\n",
       "      <td>-0.025</td>\n",
       "      <td>0.175</td>\n",
       "    </tr>\n",
       "    <tr>\n",
       "      <th>south</th>\n",
       "      <td>0.051</td>\n",
       "      <td>1.000</td>\n",
       "      <td>-0.018</td>\n",
       "      <td>-0.034</td>\n",
       "      <td>-0.238</td>\n",
       "      <td>-0.036</td>\n",
       "      <td>0.932</td>\n",
       "    </tr>\n",
       "    <tr>\n",
       "      <th>age</th>\n",
       "      <td>-0.050</td>\n",
       "      <td>-0.018</td>\n",
       "      <td>1.000</td>\n",
       "      <td>0.032</td>\n",
       "      <td>0.025</td>\n",
       "      <td>0.018</td>\n",
       "      <td>-0.038</td>\n",
       "    </tr>\n",
       "    <tr>\n",
       "      <th>male</th>\n",
       "      <td>0.376</td>\n",
       "      <td>-0.034</td>\n",
       "      <td>0.032</td>\n",
       "      <td>1.000</td>\n",
       "      <td>0.007</td>\n",
       "      <td>0.167</td>\n",
       "      <td>0.018</td>\n",
       "    </tr>\n",
       "    <tr>\n",
       "      <th>smsa</th>\n",
       "      <td>-0.038</td>\n",
       "      <td>-0.238</td>\n",
       "      <td>0.025</td>\n",
       "      <td>0.007</td>\n",
       "      <td>1.000</td>\n",
       "      <td>-0.081</td>\n",
       "      <td>-0.224</td>\n",
       "    </tr>\n",
       "    <tr>\n",
       "      <th>marr</th>\n",
       "      <td>-0.025</td>\n",
       "      <td>-0.036</td>\n",
       "      <td>0.018</td>\n",
       "      <td>0.167</td>\n",
       "      <td>-0.081</td>\n",
       "      <td>1.000</td>\n",
       "      <td>-0.038</td>\n",
       "    </tr>\n",
       "    <tr>\n",
       "      <th>I(totwrk*south)</th>\n",
       "      <td>0.175</td>\n",
       "      <td>0.932</td>\n",
       "      <td>-0.038</td>\n",
       "      <td>0.018</td>\n",
       "      <td>-0.224</td>\n",
       "      <td>-0.038</td>\n",
       "      <td>1.000</td>\n",
       "    </tr>\n",
       "  </tbody>\n",
       "</table>\n",
       "</div>"
      ],
      "text/plain": [
       "                 totwrk  south    age   male   smsa   marr  I(totwrk*south)\n",
       "totwrk            1.000  0.051 -0.050  0.376 -0.038 -0.025            0.175\n",
       "south             0.051  1.000 -0.018 -0.034 -0.238 -0.036            0.932\n",
       "age              -0.050 -0.018  1.000  0.032  0.025  0.018           -0.038\n",
       "male              0.376 -0.034  0.032  1.000  0.007  0.167            0.018\n",
       "smsa             -0.038 -0.238  0.025  0.007  1.000 -0.081           -0.224\n",
       "marr             -0.025 -0.036  0.018  0.167 -0.081  1.000           -0.038\n",
       "I(totwrk*south)   0.175  0.932 -0.038  0.018 -0.224 -0.038            1.000"
      ]
     },
     "execution_count": 87,
     "metadata": {},
     "output_type": "execute_result"
    }
   ],
   "source": [
    "data = df [['totwrk', 'south', 'age', 'male', 'smsa', 'marr']].copy()\n",
    "data ['I(totwrk*south)'] = df['totwrk']*df['south']\n",
    "corr_matrix = data.corr().round(3)\n",
    "corr_matrix"
   ]
  },
  {
   "cell_type": "code",
   "execution_count": 88,
   "id": "d89ba769",
   "metadata": {},
   "outputs": [
    {
     "data": {
      "image/png": "[encoded data removed]",
      "text/plain": [
       "<Figure size 640x480 with 2 Axes>"
      ]
     },
     "metadata": {},
     "output_type": "display_data"
    }
   ],
   "source": [
    "# Визуализация корреляций\n",
    "sm.graphics.plot_corr(corr_matrix, xnames=data.columns, normcolor=True, cmap='coolwarm')\n",
    "plt.show()"
   ]
  },
  {
   "cell_type": "markdown",
   "id": "d81a28c9",
   "metadata": {},
   "source": [
    "# 4 wage equation #1"
   ]
  },
  {
   "cell_type": "markdown",
   "id": "6c4872c5",
   "metadata": {},
   "source": [
    "## 4.1 VIFs"
   ]
  },
  {
   "cell_type": "code",
   "execution_count": 164,
   "id": "99b516cc",
   "metadata": {},
   "outputs": [],
   "source": [
    "df = pd.read_csv('https://raw.githubusercontent.com/artamonoff/Econometrica/master/python-notebooks/data-csv/wage2.csv')"
   ]
  },
  {
   "cell_type": "code",
   "execution_count": 165,
   "id": "09c731c4",
   "metadata": {},
   "outputs": [
    {
     "data": {
      "text/plain": [
       "Intercept      16.514\n",
       "I(age ** 2)     0.015\n",
       "IQ             -0.000\n",
       "married        -0.003\n",
       "south           0.010\n",
       "urban           0.014\n",
       "dtype: float64"
      ]
     },
     "execution_count": 165,
     "metadata": {},
     "output_type": "execute_result"
    }
   ],
   "source": [
    "model = smf.ols(data = df , formula = 'np.log(wage)~age+I(age**2)+IQ+married+south+urban').fit()\n",
    "#основная\n",
    "model_1 = smf.ols(data = df , formula = 'age~I(age**2)+IQ+married+south+urban').fit()\n",
    "model_2 = smf.ols(data = df , formula = 'I(age**2)~age+IQ+married+south+urban').fit()\n",
    "model_3 = smf.ols(data = df , formula = 'urban~age+I(age**2)+IQ+married+south').fit()\n",
    "model_1.params.round(3)"
   ]
  },
  {
   "cell_type": "code",
   "execution_count": 166,
   "id": "71864a35",
   "metadata": {},
   "outputs": [
    {
     "data": {
      "text/plain": [
       "632.87"
      ]
     },
     "execution_count": 166,
     "metadata": {},
     "output_type": "execute_result"
    }
   ],
   "source": [
    "VIF_age = 1/(1 - model_1.rsquared)\n",
    "VIF_age.round(2)"
   ]
  },
  {
   "cell_type": "code",
   "execution_count": 167,
   "id": "a57128d9",
   "metadata": {},
   "outputs": [
    {
     "data": {
      "text/plain": [
       "632.96"
      ]
     },
     "execution_count": 167,
     "metadata": {},
     "output_type": "execute_result"
    }
   ],
   "source": [
    "VIF_age2 = 1/(1 - model_2.rsquared)\n",
    "VIF_age2.round(2)"
   ]
  },
  {
   "cell_type": "code",
   "execution_count": 168,
   "id": "f400609c",
   "metadata": {},
   "outputs": [
    {
     "data": {
      "text/plain": [
       "1.02"
      ]
     },
     "execution_count": 168,
     "metadata": {},
     "output_type": "execute_result"
    }
   ],
   "source": [
    "VIF_urban = 1/(1 - model_3.rsquared)\n",
    "VIF_urban.round(2)"
   ]
  },
  {
   "cell_type": "markdown",
   "id": "ed0a4da7",
   "metadata": {},
   "source": [
    "## 4.2 Последствия"
   ]
  },
  {
   "cell_type": "code",
   "execution_count": 136,
   "id": "294f7950",
   "metadata": {},
   "outputs": [
    {
     "data": {
      "text/html": [
       "<table class=\"simpletable\">\n",
       "<caption>OLS Regression Results</caption>\n",
       "<tr>\n",
       "  <th>Dep. Variable:</th>      <td>np.log(wage)</td>   <th>  R-squared:         </th> <td>   0.201</td>\n",
       "</tr>\n",
       "<tr>\n",
       "  <th>Model:</th>                   <td>OLS</td>       <th>  Adj. R-squared:    </th> <td>   0.196</td>\n",
       "</tr>\n",
       "<tr>\n",
       "  <th>Method:</th>             <td>Least Squares</td>  <th>  F-statistic:       </th> <td>   38.90</td>\n",
       "</tr>\n",
       "<tr>\n",
       "  <th>Date:</th>             <td>Fri, 14 Apr 2023</td> <th>  Prob (F-statistic):</th> <td>2.76e-42</td>\n",
       "</tr>\n",
       "<tr>\n",
       "  <th>Time:</th>                 <td>20:02:25</td>     <th>  Log-Likelihood:    </th> <td> -412.76</td>\n",
       "</tr>\n",
       "<tr>\n",
       "  <th>No. Observations:</th>      <td>   935</td>      <th>  AIC:               </th> <td>   839.5</td>\n",
       "</tr>\n",
       "<tr>\n",
       "  <th>Df Residuals:</th>          <td>   928</td>      <th>  BIC:               </th> <td>   873.4</td>\n",
       "</tr>\n",
       "<tr>\n",
       "  <th>Df Model:</th>              <td>     6</td>      <th>                     </th>     <td> </td>   \n",
       "</tr>\n",
       "<tr>\n",
       "  <th>Covariance Type:</th>      <td>nonrobust</td>    <th>                     </th>     <td> </td>   \n",
       "</tr>\n",
       "</table>\n",
       "<table class=\"simpletable\">\n",
       "<tr>\n",
       "       <td></td>          <th>coef</th>     <th>std err</th>      <th>t</th>      <th>P>|t|</th>  <th>[0.025</th>    <th>0.975]</th>  \n",
       "</tr>\n",
       "<tr>\n",
       "  <th>Intercept</th>   <td>    2.9378</td> <td>    1.656</td> <td>    1.774</td> <td> 0.076</td> <td>   -0.313</td> <td>    6.188</td>\n",
       "</tr>\n",
       "<tr>\n",
       "  <th>age</th>         <td>    0.1448</td> <td>    0.100</td> <td>    1.447</td> <td> 0.148</td> <td>   -0.052</td> <td>    0.341</td>\n",
       "</tr>\n",
       "<tr>\n",
       "  <th>I(age ** 2)</th> <td>   -0.0019</td> <td>    0.002</td> <td>   -1.236</td> <td> 0.217</td> <td>   -0.005</td> <td>    0.001</td>\n",
       "</tr>\n",
       "<tr>\n",
       "  <th>IQ</th>          <td>    0.0082</td> <td>    0.001</td> <td>    9.770</td> <td> 0.000</td> <td>    0.007</td> <td>    0.010</td>\n",
       "</tr>\n",
       "<tr>\n",
       "  <th>married</th>     <td>    0.2015</td> <td>    0.040</td> <td>    5.008</td> <td> 0.000</td> <td>    0.123</td> <td>    0.281</td>\n",
       "</tr>\n",
       "<tr>\n",
       "  <th>south</th>       <td>   -0.1003</td> <td>    0.027</td> <td>   -3.736</td> <td> 0.000</td> <td>   -0.153</td> <td>   -0.048</td>\n",
       "</tr>\n",
       "<tr>\n",
       "  <th>urban</th>       <td>    0.1732</td> <td>    0.028</td> <td>    6.260</td> <td> 0.000</td> <td>    0.119</td> <td>    0.227</td>\n",
       "</tr>\n",
       "</table>\n",
       "<table class=\"simpletable\">\n",
       "<tr>\n",
       "  <th>Omnibus:</th>       <td>45.564</td> <th>  Durbin-Watson:     </th> <td>   1.836</td>\n",
       "</tr>\n",
       "<tr>\n",
       "  <th>Prob(Omnibus):</th> <td> 0.000</td> <th>  Jarque-Bera (JB):  </th> <td>  89.372</td>\n",
       "</tr>\n",
       "<tr>\n",
       "  <th>Skew:</th>          <td>-0.322</td> <th>  Prob(JB):          </th> <td>3.92e-20</td>\n",
       "</tr>\n",
       "<tr>\n",
       "  <th>Kurtosis:</th>      <td> 4.370</td> <th>  Cond. No.          </th> <td>1.52e+05</td>\n",
       "</tr>\n",
       "</table><br/><br/>Notes:<br/>[1] Standard Errors assume that the covariance matrix of the errors is correctly specified.<br/>[2] The condition number is large, 1.52e+05. This might indicate that there are<br/>strong multicollinearity or other numerical problems."
      ],
      "text/plain": [
       "<class 'statsmodels.iolib.summary.Summary'>\n",
       "\"\"\"\n",
       "                            OLS Regression Results                            \n",
       "==============================================================================\n",
       "Dep. Variable:           np.log(wage)   R-squared:                       0.201\n",
       "Model:                            OLS   Adj. R-squared:                  0.196\n",
       "Method:                 Least Squares   F-statistic:                     38.90\n",
       "Date:                Fri, 14 Apr 2023   Prob (F-statistic):           2.76e-42\n",
       "Time:                        20:02:25   Log-Likelihood:                -412.76\n",
       "No. Observations:                 935   AIC:                             839.5\n",
       "Df Residuals:                     928   BIC:                             873.4\n",
       "Df Model:                           6                                         \n",
       "Covariance Type:            nonrobust                                         \n",
       "===============================================================================\n",
       "                  coef    std err          t      P>|t|      [0.025      0.975]\n",
       "-------------------------------------------------------------------------------\n",
       "Intercept       2.9378      1.656      1.774      0.076      -0.313       6.188\n",
       "age             0.1448      0.100      1.447      0.148      -0.052       0.341\n",
       "I(age ** 2)    -0.0019      0.002     -1.236      0.217      -0.005       0.001\n",
       "IQ              0.0082      0.001      9.770      0.000       0.007       0.010\n",
       "married         0.2015      0.040      5.008      0.000       0.123       0.281\n",
       "south          -0.1003      0.027     -3.736      0.000      -0.153      -0.048\n",
       "urban           0.1732      0.028      6.260      0.000       0.119       0.227\n",
       "==============================================================================\n",
       "Omnibus:                       45.564   Durbin-Watson:                   1.836\n",
       "Prob(Omnibus):                  0.000   Jarque-Bera (JB):               89.372\n",
       "Skew:                          -0.322   Prob(JB):                     3.92e-20\n",
       "Kurtosis:                       4.370   Cond. No.                     1.52e+05\n",
       "==============================================================================\n",
       "\n",
       "Notes:\n",
       "[1] Standard Errors assume that the covariance matrix of the errors is correctly specified.\n",
       "[2] The condition number is large, 1.52e+05. This might indicate that there are\n",
       "strong multicollinearity or other numerical problems.\n",
       "\"\"\""
      ]
     },
     "execution_count": 136,
     "metadata": {},
     "output_type": "execute_result"
    }
   ],
   "source": [
    "models = smf.ols(data = df, formula = 'np.log(wage)~age+I(age**2)+IQ+married+south+urban').fit()\n",
    "models.summary()"
   ]
  },
  {
   "cell_type": "code",
   "execution_count": 120,
   "id": "c09ab280",
   "metadata": {},
   "outputs": [
    {
     "data": {
      "text/html": [
       "<table class=\"simpletable\">\n",
       "<tr>\n",
       "       <td></td>          <th>coef</th>     <th>std err</th>      <th>t</th>      <th>P>|t|</th>  <th>[0.025</th>    <th>0.975]</th>  \n",
       "</tr>\n",
       "<tr>\n",
       "  <th>Intercept</th>   <td>    2.9378</td> <td>    1.656</td> <td>    1.774</td> <td> 0.076</td> <td>   -0.313</td> <td>    6.188</td>\n",
       "</tr>\n",
       "<tr>\n",
       "  <th>age</th>         <td>    0.1448</td> <td>    0.100</td> <td>    1.447</td> <td> 0.148</td> <td>   -0.052</td> <td>    0.341</td>\n",
       "</tr>\n",
       "<tr>\n",
       "  <th>I(age ** 2)</th> <td>   -0.0019</td> <td>    0.002</td> <td>   -1.236</td> <td> 0.217</td> <td>   -0.005</td> <td>    0.001</td>\n",
       "</tr>\n",
       "<tr>\n",
       "  <th>IQ</th>          <td>    0.0082</td> <td>    0.001</td> <td>    9.770</td> <td> 0.000</td> <td>    0.007</td> <td>    0.010</td>\n",
       "</tr>\n",
       "<tr>\n",
       "  <th>married</th>     <td>    0.2015</td> <td>    0.040</td> <td>    5.008</td> <td> 0.000</td> <td>    0.123</td> <td>    0.281</td>\n",
       "</tr>\n",
       "<tr>\n",
       "  <th>south</th>       <td>   -0.1003</td> <td>    0.027</td> <td>   -3.736</td> <td> 0.000</td> <td>   -0.153</td> <td>   -0.048</td>\n",
       "</tr>\n",
       "<tr>\n",
       "  <th>urban</th>       <td>    0.1732</td> <td>    0.028</td> <td>    6.260</td> <td> 0.000</td> <td>    0.119</td> <td>    0.227</td>\n",
       "</tr>\n",
       "</table>"
      ],
      "text/plain": [
       "<class 'statsmodels.iolib.table.SimpleTable'>"
      ]
     },
     "execution_count": 120,
     "metadata": {},
     "output_type": "execute_result"
    }
   ],
   "source": [
    "models.summary(alpha=0.05).tables[1]"
   ]
  },
  {
   "cell_type": "code",
   "execution_count": 121,
   "id": "7ebb1ad8",
   "metadata": {},
   "outputs": [],
   "source": [
    "string = '''names coef std.err\n",
    "Intercept 2.9378 1.656\n",
    "age 0.1448 0.100\n",
    "I(age**2) -0.0019 0.002\n",
    "IQ 0.0082 0.001\n",
    "married 0.2015 0.040\n",
    "south -0.1003 0.027\n",
    "urban 0.1732 0.028'''"
   ]
  },
  {
   "cell_type": "code",
   "execution_count": 122,
   "id": "596b571b",
   "metadata": {},
   "outputs": [
    {
     "data": {
      "text/html": [
       "<div>\n",
       "<style scoped>\n",
       "    .dataframe tbody tr th:only-of-type {\n",
       "        vertical-align: middle;\n",
       "    }\n",
       "\n",
       "    .dataframe tbody tr th {\n",
       "        vertical-align: top;\n",
       "    }\n",
       "\n",
       "    .dataframe thead th {\n",
       "        text-align: right;\n",
       "    }\n",
       "</style>\n",
       "<table border=\"1\" class=\"dataframe\">\n",
       "  <thead>\n",
       "    <tr style=\"text-align: right;\">\n",
       "      <th></th>\n",
       "      <th>names</th>\n",
       "      <th>coef</th>\n",
       "      <th>std.err</th>\n",
       "    </tr>\n",
       "  </thead>\n",
       "  <tbody>\n",
       "    <tr>\n",
       "      <th>0</th>\n",
       "      <td>Intercept</td>\n",
       "      <td>2.9378</td>\n",
       "      <td>1.656</td>\n",
       "    </tr>\n",
       "    <tr>\n",
       "      <th>1</th>\n",
       "      <td>age</td>\n",
       "      <td>0.1448</td>\n",
       "      <td>0.100</td>\n",
       "    </tr>\n",
       "    <tr>\n",
       "      <th>2</th>\n",
       "      <td>I(age**2)</td>\n",
       "      <td>-0.0019</td>\n",
       "      <td>0.002</td>\n",
       "    </tr>\n",
       "    <tr>\n",
       "      <th>3</th>\n",
       "      <td>IQ</td>\n",
       "      <td>0.0082</td>\n",
       "      <td>0.001</td>\n",
       "    </tr>\n",
       "    <tr>\n",
       "      <th>4</th>\n",
       "      <td>married</td>\n",
       "      <td>0.2015</td>\n",
       "      <td>0.040</td>\n",
       "    </tr>\n",
       "    <tr>\n",
       "      <th>5</th>\n",
       "      <td>south</td>\n",
       "      <td>-0.1003</td>\n",
       "      <td>0.027</td>\n",
       "    </tr>\n",
       "    <tr>\n",
       "      <th>6</th>\n",
       "      <td>urban</td>\n",
       "      <td>0.1732</td>\n",
       "      <td>0.028</td>\n",
       "    </tr>\n",
       "  </tbody>\n",
       "</table>\n",
       "</div>"
      ],
      "text/plain": [
       "       names    coef  std.err\n",
       "0  Intercept  2.9378    1.656\n",
       "1        age  0.1448    0.100\n",
       "2  I(age**2) -0.0019    0.002\n",
       "3         IQ  0.0082    0.001\n",
       "4    married  0.2015    0.040\n",
       "5      south -0.1003    0.027\n",
       "6      urban  0.1732    0.028"
      ]
     },
     "execution_count": 122,
     "metadata": {},
     "output_type": "execute_result"
    }
   ],
   "source": [
    "df = pd.read_csv(io.StringIO(string), sep='\\s+' )\n",
    "df"
   ]
  },
  {
   "cell_type": "code",
   "execution_count": 123,
   "id": "0cd414a5",
   "metadata": {},
   "outputs": [
    {
     "data": {
      "text/html": [
       "<div>\n",
       "<style scoped>\n",
       "    .dataframe tbody tr th:only-of-type {\n",
       "        vertical-align: middle;\n",
       "    }\n",
       "\n",
       "    .dataframe tbody tr th {\n",
       "        vertical-align: top;\n",
       "    }\n",
       "\n",
       "    .dataframe thead th {\n",
       "        text-align: right;\n",
       "    }\n",
       "</style>\n",
       "<table border=\"1\" class=\"dataframe\">\n",
       "  <thead>\n",
       "    <tr style=\"text-align: right;\">\n",
       "      <th></th>\n",
       "      <th>names</th>\n",
       "      <th>coef</th>\n",
       "      <th>std.err</th>\n",
       "      <th>t_nabl</th>\n",
       "    </tr>\n",
       "  </thead>\n",
       "  <tbody>\n",
       "    <tr>\n",
       "      <th>0</th>\n",
       "      <td>Intercept</td>\n",
       "      <td>2.938</td>\n",
       "      <td>1.656</td>\n",
       "      <td>1.774</td>\n",
       "    </tr>\n",
       "    <tr>\n",
       "      <th>1</th>\n",
       "      <td>age</td>\n",
       "      <td>0.145</td>\n",
       "      <td>0.100</td>\n",
       "      <td>1.448</td>\n",
       "    </tr>\n",
       "    <tr>\n",
       "      <th>2</th>\n",
       "      <td>I(age**2)</td>\n",
       "      <td>-0.002</td>\n",
       "      <td>0.002</td>\n",
       "      <td>-0.950</td>\n",
       "    </tr>\n",
       "    <tr>\n",
       "      <th>3</th>\n",
       "      <td>IQ</td>\n",
       "      <td>0.008</td>\n",
       "      <td>0.001</td>\n",
       "      <td>8.200</td>\n",
       "    </tr>\n",
       "    <tr>\n",
       "      <th>4</th>\n",
       "      <td>married</td>\n",
       "      <td>0.202</td>\n",
       "      <td>0.040</td>\n",
       "      <td>5.038</td>\n",
       "    </tr>\n",
       "    <tr>\n",
       "      <th>5</th>\n",
       "      <td>south</td>\n",
       "      <td>-0.100</td>\n",
       "      <td>0.027</td>\n",
       "      <td>-3.715</td>\n",
       "    </tr>\n",
       "    <tr>\n",
       "      <th>6</th>\n",
       "      <td>urban</td>\n",
       "      <td>0.173</td>\n",
       "      <td>0.028</td>\n",
       "      <td>6.186</td>\n",
       "    </tr>\n",
       "  </tbody>\n",
       "</table>\n",
       "</div>"
      ],
      "text/plain": [
       "       names   coef  std.err  t_nabl\n",
       "0  Intercept  2.938    1.656   1.774\n",
       "1        age  0.145    0.100   1.448\n",
       "2  I(age**2) -0.002    0.002  -0.950\n",
       "3         IQ  0.008    0.001   8.200\n",
       "4    married  0.202    0.040   5.038\n",
       "5      south -0.100    0.027  -3.715\n",
       "6      urban  0.173    0.028   6.186"
      ]
     },
     "execution_count": 123,
     "metadata": {},
     "output_type": "execute_result"
    }
   ],
   "source": [
    "df['t_nabl'] = df['coef']/df['std.err']\n",
    "df.round(3)"
   ]
  },
  {
   "cell_type": "code",
   "execution_count": 124,
   "id": "dff19664",
   "metadata": {},
   "outputs": [
    {
     "data": {
      "text/plain": [
       "1.963"
      ]
     },
     "execution_count": 124,
     "metadata": {},
     "output_type": "execute_result"
    }
   ],
   "source": [
    "alpha = 0.05\n",
    "t_crit = stats.t.ppf(1-alpha/2, 935-6-1)\n",
    "t_crit.round(3)"
   ]
  },
  {
   "cell_type": "code",
   "execution_count": 125,
   "id": "f8997184",
   "metadata": {},
   "outputs": [
    {
     "data": {
      "text/html": [
       "<div>\n",
       "<style scoped>\n",
       "    .dataframe tbody tr th:only-of-type {\n",
       "        vertical-align: middle;\n",
       "    }\n",
       "\n",
       "    .dataframe tbody tr th {\n",
       "        vertical-align: top;\n",
       "    }\n",
       "\n",
       "    .dataframe thead th {\n",
       "        text-align: right;\n",
       "    }\n",
       "</style>\n",
       "<table border=\"1\" class=\"dataframe\">\n",
       "  <thead>\n",
       "    <tr style=\"text-align: right;\">\n",
       "      <th></th>\n",
       "      <th>names</th>\n",
       "      <th>coef</th>\n",
       "      <th>std.err</th>\n",
       "      <th>t_nabl</th>\n",
       "      <th>znachimost</th>\n",
       "    </tr>\n",
       "  </thead>\n",
       "  <tbody>\n",
       "    <tr>\n",
       "      <th>0</th>\n",
       "      <td>Intercept</td>\n",
       "      <td>2.9378</td>\n",
       "      <td>1.656</td>\n",
       "      <td>1.774034</td>\n",
       "      <td>ne znachim</td>\n",
       "    </tr>\n",
       "    <tr>\n",
       "      <th>1</th>\n",
       "      <td>age</td>\n",
       "      <td>0.1448</td>\n",
       "      <td>0.100</td>\n",
       "      <td>1.448000</td>\n",
       "      <td>ne znachim</td>\n",
       "    </tr>\n",
       "    <tr>\n",
       "      <th>2</th>\n",
       "      <td>I(age**2)</td>\n",
       "      <td>-0.0019</td>\n",
       "      <td>0.002</td>\n",
       "      <td>-0.950000</td>\n",
       "      <td>ne znachim</td>\n",
       "    </tr>\n",
       "    <tr>\n",
       "      <th>3</th>\n",
       "      <td>IQ</td>\n",
       "      <td>0.0082</td>\n",
       "      <td>0.001</td>\n",
       "      <td>8.200000</td>\n",
       "      <td>znachim</td>\n",
       "    </tr>\n",
       "    <tr>\n",
       "      <th>4</th>\n",
       "      <td>married</td>\n",
       "      <td>0.2015</td>\n",
       "      <td>0.040</td>\n",
       "      <td>5.037500</td>\n",
       "      <td>znachim</td>\n",
       "    </tr>\n",
       "    <tr>\n",
       "      <th>5</th>\n",
       "      <td>south</td>\n",
       "      <td>-0.1003</td>\n",
       "      <td>0.027</td>\n",
       "      <td>-3.714815</td>\n",
       "      <td>znachim</td>\n",
       "    </tr>\n",
       "    <tr>\n",
       "      <th>6</th>\n",
       "      <td>urban</td>\n",
       "      <td>0.1732</td>\n",
       "      <td>0.028</td>\n",
       "      <td>6.185714</td>\n",
       "      <td>znachim</td>\n",
       "    </tr>\n",
       "  </tbody>\n",
       "</table>\n",
       "</div>"
      ],
      "text/plain": [
       "       names    coef  std.err    t_nabl  znachimost\n",
       "0  Intercept  2.9378    1.656  1.774034  ne znachim\n",
       "1        age  0.1448    0.100  1.448000  ne znachim\n",
       "2  I(age**2) -0.0019    0.002 -0.950000  ne znachim\n",
       "3         IQ  0.0082    0.001  8.200000     znachim\n",
       "4    married  0.2015    0.040  5.037500     znachim\n",
       "5      south -0.1003    0.027 -3.714815     znachim\n",
       "6      urban  0.1732    0.028  6.185714     znachim"
      ]
     },
     "execution_count": 125,
     "metadata": {},
     "output_type": "execute_result"
    }
   ],
   "source": [
    "df['znachimost'] = df.apply(lambda x: 'znachim' if np.abs(x['t_nabl']) > t_crit else 'ne znachim', axis=1 )\n",
    "df"
   ]
  },
  {
   "cell_type": "markdown",
   "id": "b94d1c4c",
   "metadata": {},
   "source": [
    "$$ H_0 : \\beta_{age} = \\beta_{age^2} = 0 $$"
   ]
  },
  {
   "cell_type": "code",
   "execution_count": 126,
   "id": "2889fe1a",
   "metadata": {},
   "outputs": [
    {
     "data": {
      "text/plain": [
       "<class 'statsmodels.stats.contrast.ContrastResults'>\n",
       "<F test: F=14.832640139577867, p=4.561255706288112e-07, df_denom=928, df_num=2>"
      ]
     },
     "execution_count": 126,
     "metadata": {},
     "output_type": "execute_result"
    }
   ],
   "source": [
    "models.f_test('age = I(age ** 2) = 0')"
   ]
  },
  {
   "cell_type": "code",
   "execution_count": 127,
   "id": "6a0ea2d0",
   "metadata": {},
   "outputs": [
    {
     "data": {
      "text/plain": [
       "3.01"
      ]
     },
     "execution_count": 127,
     "metadata": {},
     "output_type": "execute_result"
    }
   ],
   "source": [
    "alpha=0.05\n",
    "df_denom=928\n",
    "df_num=2\n",
    "t_crit = stats.f.ppf(1-alpha, df_num, df_denom)\n",
    "t_crit.round(2)"
   ]
  },
  {
   "cell_type": "markdown",
   "id": "1e736bc6",
   "metadata": {},
   "source": [
    "Вывод: т.к. $F_{nabl}>F_{crit}$ гипотезу отвергаем $=>$ коэффициенты совместно значимы"
   ]
  },
  {
   "cell_type": "markdown",
   "id": "0950e111",
   "metadata": {},
   "source": [
    "### Тестируем на мультиколлинеарность"
   ]
  },
  {
   "cell_type": "code",
   "execution_count": 129,
   "id": "e0bb7ea8",
   "metadata": {},
   "outputs": [
    {
     "data": {
      "text/html": [
       "<div>\n",
       "<style scoped>\n",
       "    .dataframe tbody tr th:only-of-type {\n",
       "        vertical-align: middle;\n",
       "    }\n",
       "\n",
       "    .dataframe tbody tr th {\n",
       "        vertical-align: top;\n",
       "    }\n",
       "\n",
       "    .dataframe thead th {\n",
       "        text-align: right;\n",
       "    }\n",
       "</style>\n",
       "<table border=\"1\" class=\"dataframe\">\n",
       "  <thead>\n",
       "    <tr style=\"text-align: right;\">\n",
       "      <th></th>\n",
       "      <th>VIF</th>\n",
       "    </tr>\n",
       "  </thead>\n",
       "  <tbody>\n",
       "    <tr>\n",
       "      <th>age</th>\n",
       "      <td>632.868517</td>\n",
       "    </tr>\n",
       "    <tr>\n",
       "      <th>I(age ** 2)</th>\n",
       "      <td>632.964483</td>\n",
       "    </tr>\n",
       "    <tr>\n",
       "      <th>IQ</th>\n",
       "      <td>1.049260</td>\n",
       "    </tr>\n",
       "    <tr>\n",
       "      <th>married</th>\n",
       "      <td>1.013807</td>\n",
       "    </tr>\n",
       "    <tr>\n",
       "      <th>south</th>\n",
       "      <td>1.061287</td>\n",
       "    </tr>\n",
       "    <tr>\n",
       "      <th>urban</th>\n",
       "      <td>1.016749</td>\n",
       "    </tr>\n",
       "  </tbody>\n",
       "</table>\n",
       "</div>"
      ],
      "text/plain": [
       "                    VIF\n",
       "age          632.868517\n",
       "I(age ** 2)  632.964483\n",
       "IQ             1.049260\n",
       "married        1.013807\n",
       "south          1.061287\n",
       "urban          1.016749"
      ]
     },
     "execution_count": 129,
     "metadata": {},
     "output_type": "execute_result"
    }
   ],
   "source": [
    "VIFS = pd.DataFrame({'VIF': [variance_inflation_factor(models.model.exog, i) for i in range(int(models.df_model+1))]}, index=models.model.exog_names)\n",
    "VIFS.drop(index='Intercept', inplace=True)\n",
    "VIFS"
   ]
  },
  {
   "cell_type": "code",
   "execution_count": 137,
   "id": "c80c6a9d",
   "metadata": {},
   "outputs": [
    {
     "data": {
      "text/html": [
       "<div>\n",
       "<style scoped>\n",
       "    .dataframe tbody tr th:only-of-type {\n",
       "        vertical-align: middle;\n",
       "    }\n",
       "\n",
       "    .dataframe tbody tr th {\n",
       "        vertical-align: top;\n",
       "    }\n",
       "\n",
       "    .dataframe thead th {\n",
       "        text-align: right;\n",
       "    }\n",
       "</style>\n",
       "<table border=\"1\" class=\"dataframe\">\n",
       "  <thead>\n",
       "    <tr style=\"text-align: right;\">\n",
       "      <th></th>\n",
       "      <th>age</th>\n",
       "      <th>IQ</th>\n",
       "      <th>married</th>\n",
       "      <th>south</th>\n",
       "      <th>urban</th>\n",
       "      <th>I(age**2)</th>\n",
       "    </tr>\n",
       "  </thead>\n",
       "  <tbody>\n",
       "    <tr>\n",
       "      <th>age</th>\n",
       "      <td>1.000</td>\n",
       "      <td>-0.044</td>\n",
       "      <td>0.107</td>\n",
       "      <td>-0.029</td>\n",
       "      <td>-0.007</td>\n",
       "      <td>0.999</td>\n",
       "    </tr>\n",
       "    <tr>\n",
       "      <th>IQ</th>\n",
       "      <td>-0.044</td>\n",
       "      <td>1.000</td>\n",
       "      <td>-0.015</td>\n",
       "      <td>-0.210</td>\n",
       "      <td>0.039</td>\n",
       "      <td>-0.043</td>\n",
       "    </tr>\n",
       "    <tr>\n",
       "      <th>married</th>\n",
       "      <td>0.107</td>\n",
       "      <td>-0.015</td>\n",
       "      <td>1.000</td>\n",
       "      <td>0.023</td>\n",
       "      <td>-0.040</td>\n",
       "      <td>0.107</td>\n",
       "    </tr>\n",
       "    <tr>\n",
       "      <th>south</th>\n",
       "      <td>-0.029</td>\n",
       "      <td>-0.210</td>\n",
       "      <td>0.023</td>\n",
       "      <td>1.000</td>\n",
       "      <td>-0.110</td>\n",
       "      <td>-0.031</td>\n",
       "    </tr>\n",
       "    <tr>\n",
       "      <th>urban</th>\n",
       "      <td>-0.007</td>\n",
       "      <td>0.039</td>\n",
       "      <td>-0.040</td>\n",
       "      <td>-0.110</td>\n",
       "      <td>1.000</td>\n",
       "      <td>-0.009</td>\n",
       "    </tr>\n",
       "    <tr>\n",
       "      <th>I(age**2)</th>\n",
       "      <td>0.999</td>\n",
       "      <td>-0.043</td>\n",
       "      <td>0.107</td>\n",
       "      <td>-0.031</td>\n",
       "      <td>-0.009</td>\n",
       "      <td>1.000</td>\n",
       "    </tr>\n",
       "  </tbody>\n",
       "</table>\n",
       "</div>"
      ],
      "text/plain": [
       "             age     IQ  married  south  urban  I(age**2)\n",
       "age        1.000 -0.044    0.107 -0.029 -0.007      0.999\n",
       "IQ        -0.044  1.000   -0.015 -0.210  0.039     -0.043\n",
       "married    0.107 -0.015    1.000  0.023 -0.040      0.107\n",
       "south     -0.029 -0.210    0.023  1.000 -0.110     -0.031\n",
       "urban     -0.007  0.039   -0.040 -0.110  1.000     -0.009\n",
       "I(age**2)  0.999 -0.043    0.107 -0.031 -0.009      1.000"
      ]
     },
     "execution_count": 137,
     "metadata": {},
     "output_type": "execute_result"
    }
   ],
   "source": [
    "data = df [['age', 'IQ', 'married', 'south', 'urban']].copy()\n",
    "data ['I(age**2)'] = df['age']**2\n",
    "corr_matrix = data.corr().round(3)\n",
    "corr_matrix"
   ]
  },
  {
   "cell_type": "code",
   "execution_count": 138,
   "id": "facb33f3",
   "metadata": {},
   "outputs": [
    {
     "data": {
      "image/png": "[encoded data removed]",
      "text/plain": [
       "<Figure size 640x480 with 2 Axes>"
      ]
     },
     "metadata": {},
     "output_type": "display_data"
    }
   ],
   "source": [
    "# Визуализация корреляций\n",
    "sm.graphics.plot_corr(corr_matrix, xnames=data.columns, normcolor=True, cmap='coolwarm')\n",
    "plt.show()"
   ]
  },
  {
   "cell_type": "markdown",
   "id": "f43f0c83",
   "metadata": {},
   "source": [
    "# 5 wage equation #2"
   ]
  },
  {
   "cell_type": "markdown",
   "id": "3495f6cb",
   "metadata": {},
   "source": [
    "## 5.1 VIFs"
   ]
  },
  {
   "cell_type": "code",
   "execution_count": 156,
   "id": "401606d5",
   "metadata": {},
   "outputs": [],
   "source": [
    "df = pd.read_csv('https://raw.githubusercontent.com/artamonoff/Econometrica/master/python-notebooks/data-csv/wage2.csv')"
   ]
  },
  {
   "cell_type": "code",
   "execution_count": 157,
   "id": "08215151",
   "metadata": {},
   "outputs": [
    {
     "data": {
      "text/plain": [
       "Intercept         33.242\n",
       "urban            -33.242\n",
       "I(age * urban)     1.000\n",
       "IQ                -0.001\n",
       "I(IQ * urban)      0.001\n",
       "dtype: float64"
      ]
     },
     "execution_count": 157,
     "metadata": {},
     "output_type": "execute_result"
    }
   ],
   "source": [
    "model = smf.ols(data = df , formula = 'np.log(wage)~age+urban+I(age*urban)+IQ+I(IQ*urban)').fit()\n",
    "#основная\n",
    "model_1 = smf.ols(data = df , formula = 'age~urban+I(age*urban)+IQ+I(IQ*urban)').fit()\n",
    "model_2 = smf.ols(data = df , formula = 'urban~age+I(age*urban)+IQ+I(IQ*urban)').fit()\n",
    "model_3 = smf.ols(data = df , formula = 'I(age*urban)~age+urban+IQ+I(IQ*urban)').fit()\n",
    "model_1.params.round(3)"
   ]
  },
  {
   "cell_type": "code",
   "execution_count": 158,
   "id": "ba9f581f",
   "metadata": {},
   "outputs": [
    {
     "data": {
      "text/plain": [
       "3.32"
      ]
     },
     "execution_count": 158,
     "metadata": {},
     "output_type": "execute_result"
    }
   ],
   "source": [
    "VIF_age = 1/(1 - model_1.rsquared)\n",
    "VIF_age.round(2)"
   ]
  },
  {
   "cell_type": "code",
   "execution_count": 159,
   "id": "3c3eddbd",
   "metadata": {},
   "outputs": [
    {
     "data": {
      "text/plain": [
       "157.08"
      ]
     },
     "execution_count": 159,
     "metadata": {},
     "output_type": "execute_result"
    }
   ],
   "source": [
    "VIF_urban = 1/(1 - model_2.rsquared)\n",
    "VIF_urban.round(2)"
   ]
  },
  {
   "cell_type": "code",
   "execution_count": 160,
   "id": "915716b4",
   "metadata": {},
   "outputs": [
    {
     "data": {
      "text/plain": [
       "112.56"
      ]
     },
     "execution_count": 160,
     "metadata": {},
     "output_type": "execute_result"
    }
   ],
   "source": [
    "VIF_age_urban = 1/(1 - model_3.rsquared)\n",
    "VIF_age_urban.round(2)"
   ]
  },
  {
   "cell_type": "markdown",
   "id": "0a72058e",
   "metadata": {},
   "source": [
    "## 5.2 Последствия"
   ]
  },
  {
   "cell_type": "code",
   "execution_count": 161,
   "id": "b4c56c21",
   "metadata": {},
   "outputs": [
    {
     "data": {
      "text/html": [
       "<table class=\"simpletable\">\n",
       "<caption>OLS Regression Results</caption>\n",
       "<tr>\n",
       "  <th>Dep. Variable:</th>      <td>np.log(wage)</td>   <th>  R-squared:         </th> <td>   0.182</td>\n",
       "</tr>\n",
       "<tr>\n",
       "  <th>Model:</th>                   <td>OLS</td>       <th>  Adj. R-squared:    </th> <td>   0.176</td>\n",
       "</tr>\n",
       "<tr>\n",
       "  <th>Method:</th>             <td>Least Squares</td>  <th>  F-statistic:       </th> <td>   29.42</td>\n",
       "</tr>\n",
       "<tr>\n",
       "  <th>Date:</th>             <td>Fri, 14 Apr 2023</td> <th>  Prob (F-statistic):</th> <td>8.45e-37</td>\n",
       "</tr>\n",
       "<tr>\n",
       "  <th>Time:</th>                 <td>20:22:07</td>     <th>  Log-Likelihood:    </th> <td> -423.86</td>\n",
       "</tr>\n",
       "<tr>\n",
       "  <th>No. Observations:</th>      <td>   935</td>      <th>  AIC:               </th> <td>   863.7</td>\n",
       "</tr>\n",
       "<tr>\n",
       "  <th>Df Residuals:</th>          <td>   927</td>      <th>  BIC:               </th> <td>   902.4</td>\n",
       "</tr>\n",
       "<tr>\n",
       "  <th>Df Model:</th>              <td>     7</td>      <th>                     </th>     <td> </td>   \n",
       "</tr>\n",
       "<tr>\n",
       "  <th>Covariance Type:</th>      <td>nonrobust</td>    <th>                     </th>     <td> </td>   \n",
       "</tr>\n",
       "</table>\n",
       "<table class=\"simpletable\">\n",
       "<tr>\n",
       "          <td></td>            <th>coef</th>     <th>std err</th>      <th>t</th>      <th>P>|t|</th>  <th>[0.025</th>    <th>0.975]</th>  \n",
       "</tr>\n",
       "<tr>\n",
       "  <th>Intercept</th>        <td>    4.9986</td> <td>    0.312</td> <td>   16.016</td> <td> 0.000</td> <td>    4.386</td> <td>    5.611</td>\n",
       "</tr>\n",
       "<tr>\n",
       "  <th>age</th>              <td>    0.0244</td> <td>    0.007</td> <td>    3.294</td> <td> 0.001</td> <td>    0.010</td> <td>    0.039</td>\n",
       "</tr>\n",
       "<tr>\n",
       "  <th>IQ</th>               <td>    0.0084</td> <td>    0.002</td> <td>    5.116</td> <td> 0.000</td> <td>    0.005</td> <td>    0.012</td>\n",
       "</tr>\n",
       "<tr>\n",
       "  <th>south</th>            <td>   -0.0140</td> <td>    0.052</td> <td>   -0.271</td> <td> 0.787</td> <td>   -0.115</td> <td>    0.087</td>\n",
       "</tr>\n",
       "<tr>\n",
       "  <th>urban</th>            <td>    0.2369</td> <td>    0.368</td> <td>    0.643</td> <td> 0.520</td> <td>   -0.486</td> <td>    0.960</td>\n",
       "</tr>\n",
       "<tr>\n",
       "  <th>I(age * urban)</th>   <td>   -0.0006</td> <td>    0.009</td> <td>   -0.069</td> <td> 0.945</td> <td>   -0.018</td> <td>    0.017</td>\n",
       "</tr>\n",
       "<tr>\n",
       "  <th>I(IQ * urban)</th>    <td>-1.409e-05</td> <td>    0.002</td> <td>   -0.007</td> <td> 0.994</td> <td>   -0.004</td> <td>    0.004</td>\n",
       "</tr>\n",
       "<tr>\n",
       "  <th>I(south * urban)</th> <td>   -0.1172</td> <td>    0.061</td> <td>   -1.924</td> <td> 0.055</td> <td>   -0.237</td> <td>    0.002</td>\n",
       "</tr>\n",
       "</table>\n",
       "<table class=\"simpletable\">\n",
       "<tr>\n",
       "  <th>Omnibus:</th>       <td>40.413</td> <th>  Durbin-Watson:     </th> <td>   1.874</td>\n",
       "</tr>\n",
       "<tr>\n",
       "  <th>Prob(Omnibus):</th> <td> 0.000</td> <th>  Jarque-Bera (JB):  </th> <td>  73.142</td>\n",
       "</tr>\n",
       "<tr>\n",
       "  <th>Skew:</th>          <td>-0.311</td> <th>  Prob(JB):          </th> <td>1.31e-16</td>\n",
       "</tr>\n",
       "<tr>\n",
       "  <th>Kurtosis:</th>      <td> 4.221</td> <th>  Cond. No.          </th> <td>5.06e+03</td>\n",
       "</tr>\n",
       "</table><br/><br/>Notes:<br/>[1] Standard Errors assume that the covariance matrix of the errors is correctly specified.<br/>[2] The condition number is large, 5.06e+03. This might indicate that there are<br/>strong multicollinearity or other numerical problems."
      ],
      "text/plain": [
       "<class 'statsmodels.iolib.summary.Summary'>\n",
       "\"\"\"\n",
       "                            OLS Regression Results                            \n",
       "==============================================================================\n",
       "Dep. Variable:           np.log(wage)   R-squared:                       0.182\n",
       "Model:                            OLS   Adj. R-squared:                  0.176\n",
       "Method:                 Least Squares   F-statistic:                     29.42\n",
       "Date:                Fri, 14 Apr 2023   Prob (F-statistic):           8.45e-37\n",
       "Time:                        20:22:07   Log-Likelihood:                -423.86\n",
       "No. Observations:                 935   AIC:                             863.7\n",
       "Df Residuals:                     927   BIC:                             902.4\n",
       "Df Model:                           7                                         \n",
       "Covariance Type:            nonrobust                                         \n",
       "====================================================================================\n",
       "                       coef    std err          t      P>|t|      [0.025      0.975]\n",
       "------------------------------------------------------------------------------------\n",
       "Intercept            4.9986      0.312     16.016      0.000       4.386       5.611\n",
       "age                  0.0244      0.007      3.294      0.001       0.010       0.039\n",
       "IQ                   0.0084      0.002      5.116      0.000       0.005       0.012\n",
       "south               -0.0140      0.052     -0.271      0.787      -0.115       0.087\n",
       "urban                0.2369      0.368      0.643      0.520      -0.486       0.960\n",
       "I(age * urban)      -0.0006      0.009     -0.069      0.945      -0.018       0.017\n",
       "I(IQ * urban)    -1.409e-05      0.002     -0.007      0.994      -0.004       0.004\n",
       "I(south * urban)    -0.1172      0.061     -1.924      0.055      -0.237       0.002\n",
       "==============================================================================\n",
       "Omnibus:                       40.413   Durbin-Watson:                   1.874\n",
       "Prob(Omnibus):                  0.000   Jarque-Bera (JB):               73.142\n",
       "Skew:                          -0.311   Prob(JB):                     1.31e-16\n",
       "Kurtosis:                       4.221   Cond. No.                     5.06e+03\n",
       "==============================================================================\n",
       "\n",
       "Notes:\n",
       "[1] Standard Errors assume that the covariance matrix of the errors is correctly specified.\n",
       "[2] The condition number is large, 5.06e+03. This might indicate that there are\n",
       "strong multicollinearity or other numerical problems.\n",
       "\"\"\""
      ]
     },
     "execution_count": 161,
     "metadata": {},
     "output_type": "execute_result"
    }
   ],
   "source": [
    "models = smf.ols(data = df, formula = 'np.log(wage)~age+IQ+south+urban+I(age*urban)+I(IQ*urban)+I(south*urban)').fit()\n",
    "models.summary()"
   ]
  },
  {
   "cell_type": "code",
   "execution_count": 145,
   "id": "c5cb44f9",
   "metadata": {},
   "outputs": [
    {
     "data": {
      "text/html": [
       "<table class=\"simpletable\">\n",
       "<tr>\n",
       "          <td></td>            <th>coef</th>     <th>std err</th>      <th>t</th>      <th>P>|t|</th>  <th>[0.005</th>    <th>0.995]</th>  \n",
       "</tr>\n",
       "<tr>\n",
       "  <th>Intercept</th>        <td>    4.9986</td> <td>    0.312</td> <td>   16.016</td> <td> 0.000</td> <td>    4.193</td> <td>    5.804</td>\n",
       "</tr>\n",
       "<tr>\n",
       "  <th>age</th>              <td>    0.0244</td> <td>    0.007</td> <td>    3.294</td> <td> 0.001</td> <td>    0.005</td> <td>    0.044</td>\n",
       "</tr>\n",
       "<tr>\n",
       "  <th>IQ</th>               <td>    0.0084</td> <td>    0.002</td> <td>    5.116</td> <td> 0.000</td> <td>    0.004</td> <td>    0.013</td>\n",
       "</tr>\n",
       "<tr>\n",
       "  <th>south</th>            <td>   -0.0140</td> <td>    0.052</td> <td>   -0.271</td> <td> 0.787</td> <td>   -0.147</td> <td>    0.119</td>\n",
       "</tr>\n",
       "<tr>\n",
       "  <th>urban</th>            <td>    0.2369</td> <td>    0.368</td> <td>    0.643</td> <td> 0.520</td> <td>   -0.714</td> <td>    1.188</td>\n",
       "</tr>\n",
       "<tr>\n",
       "  <th>I(age * urban)</th>   <td>   -0.0006</td> <td>    0.009</td> <td>   -0.069</td> <td> 0.945</td> <td>   -0.023</td> <td>    0.022</td>\n",
       "</tr>\n",
       "<tr>\n",
       "  <th>I(IQ * urban)</th>    <td>-1.409e-05</td> <td>    0.002</td> <td>   -0.007</td> <td> 0.994</td> <td>   -0.005</td> <td>    0.005</td>\n",
       "</tr>\n",
       "<tr>\n",
       "  <th>I(south * urban)</th> <td>   -0.1172</td> <td>    0.061</td> <td>   -1.924</td> <td> 0.055</td> <td>   -0.274</td> <td>    0.040</td>\n",
       "</tr>\n",
       "</table>"
      ],
      "text/plain": [
       "<class 'statsmodels.iolib.table.SimpleTable'>"
      ]
     },
     "execution_count": 145,
     "metadata": {},
     "output_type": "execute_result"
    }
   ],
   "source": [
    "models.summary(alpha=0.01).tables[1]"
   ]
  },
  {
   "cell_type": "code",
   "execution_count": 146,
   "id": "229563d7",
   "metadata": {},
   "outputs": [],
   "source": [
    "string = '''names coef std.err\n",
    "Intercept 4.9986 0.312\n",
    "age 0.0244 0.007\n",
    "IQ 0.0084 0.002\n",
    "south -0.0140 0.052\n",
    "urban 0.2369 0.368\n",
    "I(age*urban) -0.0006 0.009\n",
    "I(IQ*urban) -1.409e-05 0.002\n",
    "I(south*urban) -0.1172 0.061'''"
   ]
  },
  {
   "cell_type": "code",
   "execution_count": 147,
   "id": "b41a1b7d",
   "metadata": {},
   "outputs": [
    {
     "data": {
      "text/html": [
       "<div>\n",
       "<style scoped>\n",
       "    .dataframe tbody tr th:only-of-type {\n",
       "        vertical-align: middle;\n",
       "    }\n",
       "\n",
       "    .dataframe tbody tr th {\n",
       "        vertical-align: top;\n",
       "    }\n",
       "\n",
       "    .dataframe thead th {\n",
       "        text-align: right;\n",
       "    }\n",
       "</style>\n",
       "<table border=\"1\" class=\"dataframe\">\n",
       "  <thead>\n",
       "    <tr style=\"text-align: right;\">\n",
       "      <th></th>\n",
       "      <th>names</th>\n",
       "      <th>coef</th>\n",
       "      <th>std.err</th>\n",
       "    </tr>\n",
       "  </thead>\n",
       "  <tbody>\n",
       "    <tr>\n",
       "      <th>0</th>\n",
       "      <td>Intercept</td>\n",
       "      <td>4.998600</td>\n",
       "      <td>0.312</td>\n",
       "    </tr>\n",
       "    <tr>\n",
       "      <th>1</th>\n",
       "      <td>age</td>\n",
       "      <td>0.024400</td>\n",
       "      <td>0.007</td>\n",
       "    </tr>\n",
       "    <tr>\n",
       "      <th>2</th>\n",
       "      <td>IQ</td>\n",
       "      <td>0.008400</td>\n",
       "      <td>0.002</td>\n",
       "    </tr>\n",
       "    <tr>\n",
       "      <th>3</th>\n",
       "      <td>south</td>\n",
       "      <td>-0.014000</td>\n",
       "      <td>0.052</td>\n",
       "    </tr>\n",
       "    <tr>\n",
       "      <th>4</th>\n",
       "      <td>urban</td>\n",
       "      <td>0.236900</td>\n",
       "      <td>0.368</td>\n",
       "    </tr>\n",
       "    <tr>\n",
       "      <th>5</th>\n",
       "      <td>I(age*urban)</td>\n",
       "      <td>-0.000600</td>\n",
       "      <td>0.009</td>\n",
       "    </tr>\n",
       "    <tr>\n",
       "      <th>6</th>\n",
       "      <td>I(IQ*urban)</td>\n",
       "      <td>-0.000014</td>\n",
       "      <td>0.002</td>\n",
       "    </tr>\n",
       "    <tr>\n",
       "      <th>7</th>\n",
       "      <td>I(south*urban)</td>\n",
       "      <td>-0.117200</td>\n",
       "      <td>0.061</td>\n",
       "    </tr>\n",
       "  </tbody>\n",
       "</table>\n",
       "</div>"
      ],
      "text/plain": [
       "            names      coef  std.err\n",
       "0       Intercept  4.998600    0.312\n",
       "1             age  0.024400    0.007\n",
       "2              IQ  0.008400    0.002\n",
       "3           south -0.014000    0.052\n",
       "4           urban  0.236900    0.368\n",
       "5    I(age*urban) -0.000600    0.009\n",
       "6     I(IQ*urban) -0.000014    0.002\n",
       "7  I(south*urban) -0.117200    0.061"
      ]
     },
     "execution_count": 147,
     "metadata": {},
     "output_type": "execute_result"
    }
   ],
   "source": [
    "df = pd.read_csv(io.StringIO(string), sep='\\s+' )\n",
    "df"
   ]
  },
  {
   "cell_type": "code",
   "execution_count": 148,
   "id": "b1eb75ae",
   "metadata": {},
   "outputs": [
    {
     "data": {
      "text/html": [
       "<div>\n",
       "<style scoped>\n",
       "    .dataframe tbody tr th:only-of-type {\n",
       "        vertical-align: middle;\n",
       "    }\n",
       "\n",
       "    .dataframe tbody tr th {\n",
       "        vertical-align: top;\n",
       "    }\n",
       "\n",
       "    .dataframe thead th {\n",
       "        text-align: right;\n",
       "    }\n",
       "</style>\n",
       "<table border=\"1\" class=\"dataframe\">\n",
       "  <thead>\n",
       "    <tr style=\"text-align: right;\">\n",
       "      <th></th>\n",
       "      <th>names</th>\n",
       "      <th>coef</th>\n",
       "      <th>std.err</th>\n",
       "      <th>t_nabl</th>\n",
       "    </tr>\n",
       "  </thead>\n",
       "  <tbody>\n",
       "    <tr>\n",
       "      <th>0</th>\n",
       "      <td>Intercept</td>\n",
       "      <td>4.999</td>\n",
       "      <td>0.312</td>\n",
       "      <td>16.021</td>\n",
       "    </tr>\n",
       "    <tr>\n",
       "      <th>1</th>\n",
       "      <td>age</td>\n",
       "      <td>0.024</td>\n",
       "      <td>0.007</td>\n",
       "      <td>3.486</td>\n",
       "    </tr>\n",
       "    <tr>\n",
       "      <th>2</th>\n",
       "      <td>IQ</td>\n",
       "      <td>0.008</td>\n",
       "      <td>0.002</td>\n",
       "      <td>4.200</td>\n",
       "    </tr>\n",
       "    <tr>\n",
       "      <th>3</th>\n",
       "      <td>south</td>\n",
       "      <td>-0.014</td>\n",
       "      <td>0.052</td>\n",
       "      <td>-0.269</td>\n",
       "    </tr>\n",
       "    <tr>\n",
       "      <th>4</th>\n",
       "      <td>urban</td>\n",
       "      <td>0.237</td>\n",
       "      <td>0.368</td>\n",
       "      <td>0.644</td>\n",
       "    </tr>\n",
       "    <tr>\n",
       "      <th>5</th>\n",
       "      <td>I(age*urban)</td>\n",
       "      <td>-0.001</td>\n",
       "      <td>0.009</td>\n",
       "      <td>-0.067</td>\n",
       "    </tr>\n",
       "    <tr>\n",
       "      <th>6</th>\n",
       "      <td>I(IQ*urban)</td>\n",
       "      <td>-0.000</td>\n",
       "      <td>0.002</td>\n",
       "      <td>-0.007</td>\n",
       "    </tr>\n",
       "    <tr>\n",
       "      <th>7</th>\n",
       "      <td>I(south*urban)</td>\n",
       "      <td>-0.117</td>\n",
       "      <td>0.061</td>\n",
       "      <td>-1.921</td>\n",
       "    </tr>\n",
       "  </tbody>\n",
       "</table>\n",
       "</div>"
      ],
      "text/plain": [
       "            names   coef  std.err  t_nabl\n",
       "0       Intercept  4.999    0.312  16.021\n",
       "1             age  0.024    0.007   3.486\n",
       "2              IQ  0.008    0.002   4.200\n",
       "3           south -0.014    0.052  -0.269\n",
       "4           urban  0.237    0.368   0.644\n",
       "5    I(age*urban) -0.001    0.009  -0.067\n",
       "6     I(IQ*urban) -0.000    0.002  -0.007\n",
       "7  I(south*urban) -0.117    0.061  -1.921"
      ]
     },
     "execution_count": 148,
     "metadata": {},
     "output_type": "execute_result"
    }
   ],
   "source": [
    "df['t_nabl'] = df['coef']/df['std.err']\n",
    "df.round(3)"
   ]
  },
  {
   "cell_type": "code",
   "execution_count": 149,
   "id": "67232f8c",
   "metadata": {},
   "outputs": [
    {
     "data": {
      "text/plain": [
       "2.581"
      ]
     },
     "execution_count": 149,
     "metadata": {},
     "output_type": "execute_result"
    }
   ],
   "source": [
    "alpha = 0.01\n",
    "t_crit = stats.t.ppf(1-alpha/2, 935-7-1)\n",
    "t_crit.round(3)"
   ]
  },
  {
   "cell_type": "code",
   "execution_count": 150,
   "id": "1d68b88d",
   "metadata": {},
   "outputs": [
    {
     "data": {
      "text/html": [
       "<div>\n",
       "<style scoped>\n",
       "    .dataframe tbody tr th:only-of-type {\n",
       "        vertical-align: middle;\n",
       "    }\n",
       "\n",
       "    .dataframe tbody tr th {\n",
       "        vertical-align: top;\n",
       "    }\n",
       "\n",
       "    .dataframe thead th {\n",
       "        text-align: right;\n",
       "    }\n",
       "</style>\n",
       "<table border=\"1\" class=\"dataframe\">\n",
       "  <thead>\n",
       "    <tr style=\"text-align: right;\">\n",
       "      <th></th>\n",
       "      <th>names</th>\n",
       "      <th>coef</th>\n",
       "      <th>std.err</th>\n",
       "      <th>t_nabl</th>\n",
       "      <th>znachimost</th>\n",
       "    </tr>\n",
       "  </thead>\n",
       "  <tbody>\n",
       "    <tr>\n",
       "      <th>0</th>\n",
       "      <td>Intercept</td>\n",
       "      <td>4.998600</td>\n",
       "      <td>0.312</td>\n",
       "      <td>16.021154</td>\n",
       "      <td>znachim</td>\n",
       "    </tr>\n",
       "    <tr>\n",
       "      <th>1</th>\n",
       "      <td>age</td>\n",
       "      <td>0.024400</td>\n",
       "      <td>0.007</td>\n",
       "      <td>3.485714</td>\n",
       "      <td>znachim</td>\n",
       "    </tr>\n",
       "    <tr>\n",
       "      <th>2</th>\n",
       "      <td>IQ</td>\n",
       "      <td>0.008400</td>\n",
       "      <td>0.002</td>\n",
       "      <td>4.200000</td>\n",
       "      <td>znachim</td>\n",
       "    </tr>\n",
       "    <tr>\n",
       "      <th>3</th>\n",
       "      <td>south</td>\n",
       "      <td>-0.014000</td>\n",
       "      <td>0.052</td>\n",
       "      <td>-0.269231</td>\n",
       "      <td>ne znachim</td>\n",
       "    </tr>\n",
       "    <tr>\n",
       "      <th>4</th>\n",
       "      <td>urban</td>\n",
       "      <td>0.236900</td>\n",
       "      <td>0.368</td>\n",
       "      <td>0.643750</td>\n",
       "      <td>ne znachim</td>\n",
       "    </tr>\n",
       "    <tr>\n",
       "      <th>5</th>\n",
       "      <td>I(age*urban)</td>\n",
       "      <td>-0.000600</td>\n",
       "      <td>0.009</td>\n",
       "      <td>-0.066667</td>\n",
       "      <td>ne znachim</td>\n",
       "    </tr>\n",
       "    <tr>\n",
       "      <th>6</th>\n",
       "      <td>I(IQ*urban)</td>\n",
       "      <td>-0.000014</td>\n",
       "      <td>0.002</td>\n",
       "      <td>-0.007045</td>\n",
       "      <td>ne znachim</td>\n",
       "    </tr>\n",
       "    <tr>\n",
       "      <th>7</th>\n",
       "      <td>I(south*urban)</td>\n",
       "      <td>-0.117200</td>\n",
       "      <td>0.061</td>\n",
       "      <td>-1.921311</td>\n",
       "      <td>ne znachim</td>\n",
       "    </tr>\n",
       "  </tbody>\n",
       "</table>\n",
       "</div>"
      ],
      "text/plain": [
       "            names      coef  std.err     t_nabl  znachimost\n",
       "0       Intercept  4.998600    0.312  16.021154     znachim\n",
       "1             age  0.024400    0.007   3.485714     znachim\n",
       "2              IQ  0.008400    0.002   4.200000     znachim\n",
       "3           south -0.014000    0.052  -0.269231  ne znachim\n",
       "4           urban  0.236900    0.368   0.643750  ne znachim\n",
       "5    I(age*urban) -0.000600    0.009  -0.066667  ne znachim\n",
       "6     I(IQ*urban) -0.000014    0.002  -0.007045  ne znachim\n",
       "7  I(south*urban) -0.117200    0.061  -1.921311  ne znachim"
      ]
     },
     "execution_count": 150,
     "metadata": {},
     "output_type": "execute_result"
    }
   ],
   "source": [
    "df['znachimost'] = df.apply(lambda x: 'znachim' if np.abs(x['t_nabl']) > t_crit else 'ne znachim', axis=1 )\n",
    "df"
   ]
  },
  {
   "cell_type": "markdown",
   "id": "50e43de2",
   "metadata": {},
   "source": [
    "$$ H_0 : \\beta_{urban} = \\beta_{age*urban} = \\beta_{IQ*urban} = \\beta_{south*urban} = 0 $$"
   ]
  },
  {
   "cell_type": "code",
   "execution_count": 151,
   "id": "7eda6cec",
   "metadata": {},
   "outputs": [
    {
     "data": {
      "text/plain": [
       "<class 'statsmodels.stats.contrast.ContrastResults'>\n",
       "<F test: F=10.250484249105511, p=4.0029474518426535e-08, df_denom=927, df_num=4>"
      ]
     },
     "execution_count": 151,
     "metadata": {},
     "output_type": "execute_result"
    }
   ],
   "source": [
    "models.f_test('urban = I(age * urban) = I(IQ * urban)= I(south * urban) = 0')"
   ]
  },
  {
   "cell_type": "code",
   "execution_count": 152,
   "id": "f685b3c5",
   "metadata": {},
   "outputs": [
    {
     "data": {
      "text/plain": [
       "3.34"
      ]
     },
     "execution_count": 152,
     "metadata": {},
     "output_type": "execute_result"
    }
   ],
   "source": [
    "alpha=0.01\n",
    "df_denom=927\n",
    "df_num=4\n",
    "t_crit = stats.f.ppf(1-alpha, df_num, df_denom)\n",
    "t_crit.round(2)"
   ]
  },
  {
   "cell_type": "markdown",
   "id": "2d05688e",
   "metadata": {},
   "source": [
    "Вывод: т.к. $F_{nabl}>F_{crit}$ гипотезу отвергаем $=>$ коэффициенты совместно значимы"
   ]
  },
  {
   "cell_type": "markdown",
   "id": "aa3cc2b4",
   "metadata": {},
   "source": [
    "### Тестируем на мультиколлинеарность"
   ]
  },
  {
   "cell_type": "code",
   "execution_count": 153,
   "id": "67d3858c",
   "metadata": {},
   "outputs": [
    {
     "data": {
      "text/html": [
       "<div>\n",
       "<style scoped>\n",
       "    .dataframe tbody tr th:only-of-type {\n",
       "        vertical-align: middle;\n",
       "    }\n",
       "\n",
       "    .dataframe tbody tr th {\n",
       "        vertical-align: top;\n",
       "    }\n",
       "\n",
       "    .dataframe thead th {\n",
       "        text-align: right;\n",
       "    }\n",
       "</style>\n",
       "<table border=\"1\" class=\"dataframe\">\n",
       "  <thead>\n",
       "    <tr style=\"text-align: right;\">\n",
       "      <th></th>\n",
       "      <th>VIF</th>\n",
       "    </tr>\n",
       "  </thead>\n",
       "  <tbody>\n",
       "    <tr>\n",
       "      <th>age</th>\n",
       "      <td>3.394929</td>\n",
       "    </tr>\n",
       "    <tr>\n",
       "      <th>IQ</th>\n",
       "      <td>3.879824</td>\n",
       "    </tr>\n",
       "    <tr>\n",
       "      <th>south</th>\n",
       "      <td>3.832146</td>\n",
       "    </tr>\n",
       "    <tr>\n",
       "      <th>urban</th>\n",
       "      <td>175.876722</td>\n",
       "    </tr>\n",
       "    <tr>\n",
       "      <th>I(age * urban)</th>\n",
       "      <td>114.318464</td>\n",
       "    </tr>\n",
       "    <tr>\n",
       "      <th>I(IQ * urban)</th>\n",
       "      <td>53.135490</td>\n",
       "    </tr>\n",
       "    <tr>\n",
       "      <th>I(south * urban)</th>\n",
       "      <td>4.087171</td>\n",
       "    </tr>\n",
       "  </tbody>\n",
       "</table>\n",
       "</div>"
      ],
      "text/plain": [
       "                         VIF\n",
       "age                 3.394929\n",
       "IQ                  3.879824\n",
       "south               3.832146\n",
       "urban             175.876722\n",
       "I(age * urban)    114.318464\n",
       "I(IQ * urban)      53.135490\n",
       "I(south * urban)    4.087171"
      ]
     },
     "execution_count": 153,
     "metadata": {},
     "output_type": "execute_result"
    }
   ],
   "source": [
    "VIFS = pd.DataFrame({'VIF': [variance_inflation_factor(models.model.exog, i) for i in range(int(models.df_model+1))]}, index=models.model.exog_names)\n",
    "VIFS.drop(index='Intercept', inplace=True)\n",
    "VIFS"
   ]
  },
  {
   "cell_type": "code",
   "execution_count": 162,
   "id": "9eb2d83c",
   "metadata": {},
   "outputs": [
    {
     "data": {
      "text/html": [
       "<div>\n",
       "<style scoped>\n",
       "    .dataframe tbody tr th:only-of-type {\n",
       "        vertical-align: middle;\n",
       "    }\n",
       "\n",
       "    .dataframe tbody tr th {\n",
       "        vertical-align: top;\n",
       "    }\n",
       "\n",
       "    .dataframe thead th {\n",
       "        text-align: right;\n",
       "    }\n",
       "</style>\n",
       "<table border=\"1\" class=\"dataframe\">\n",
       "  <thead>\n",
       "    <tr style=\"text-align: right;\">\n",
       "      <th></th>\n",
       "      <th>age</th>\n",
       "      <th>IQ</th>\n",
       "      <th>south</th>\n",
       "      <th>urban</th>\n",
       "      <th>I(age*urban)</th>\n",
       "      <th>I(IQ*urban)</th>\n",
       "      <th>I(south*urban)</th>\n",
       "    </tr>\n",
       "  </thead>\n",
       "  <tbody>\n",
       "    <tr>\n",
       "      <th>age</th>\n",
       "      <td>1.000</td>\n",
       "      <td>-0.044</td>\n",
       "      <td>-0.029</td>\n",
       "      <td>-0.007</td>\n",
       "      <td>0.137</td>\n",
       "      <td>-0.020</td>\n",
       "      <td>0.010</td>\n",
       "    </tr>\n",
       "    <tr>\n",
       "      <th>IQ</th>\n",
       "      <td>-0.044</td>\n",
       "      <td>1.000</td>\n",
       "      <td>-0.210</td>\n",
       "      <td>0.039</td>\n",
       "      <td>0.030</td>\n",
       "      <td>0.260</td>\n",
       "      <td>-0.097</td>\n",
       "    </tr>\n",
       "    <tr>\n",
       "      <th>south</th>\n",
       "      <td>-0.029</td>\n",
       "      <td>-0.210</td>\n",
       "      <td>1.000</td>\n",
       "      <td>-0.110</td>\n",
       "      <td>-0.106</td>\n",
       "      <td>-0.136</td>\n",
       "      <td>0.741</td>\n",
       "    </tr>\n",
       "    <tr>\n",
       "      <th>urban</th>\n",
       "      <td>-0.007</td>\n",
       "      <td>0.039</td>\n",
       "      <td>-0.110</td>\n",
       "      <td>1.000</td>\n",
       "      <td>0.985</td>\n",
       "      <td>0.964</td>\n",
       "      <td>0.334</td>\n",
       "    </tr>\n",
       "    <tr>\n",
       "      <th>I(age*urban)</th>\n",
       "      <td>0.137</td>\n",
       "      <td>0.030</td>\n",
       "      <td>-0.106</td>\n",
       "      <td>0.985</td>\n",
       "      <td>1.000</td>\n",
       "      <td>0.947</td>\n",
       "      <td>0.332</td>\n",
       "    </tr>\n",
       "    <tr>\n",
       "      <th>I(IQ*urban)</th>\n",
       "      <td>-0.020</td>\n",
       "      <td>0.260</td>\n",
       "      <td>-0.136</td>\n",
       "      <td>0.964</td>\n",
       "      <td>0.947</td>\n",
       "      <td>1.000</td>\n",
       "      <td>0.288</td>\n",
       "    </tr>\n",
       "    <tr>\n",
       "      <th>I(south*urban)</th>\n",
       "      <td>0.010</td>\n",
       "      <td>-0.097</td>\n",
       "      <td>0.741</td>\n",
       "      <td>0.334</td>\n",
       "      <td>0.332</td>\n",
       "      <td>0.288</td>\n",
       "      <td>1.000</td>\n",
       "    </tr>\n",
       "  </tbody>\n",
       "</table>\n",
       "</div>"
      ],
      "text/plain": [
       "                  age     IQ  south  urban  I(age*urban)  I(IQ*urban)  \\\n",
       "age             1.000 -0.044 -0.029 -0.007         0.137       -0.020   \n",
       "IQ             -0.044  1.000 -0.210  0.039         0.030        0.260   \n",
       "south          -0.029 -0.210  1.000 -0.110        -0.106       -0.136   \n",
       "urban          -0.007  0.039 -0.110  1.000         0.985        0.964   \n",
       "I(age*urban)    0.137  0.030 -0.106  0.985         1.000        0.947   \n",
       "I(IQ*urban)    -0.020  0.260 -0.136  0.964         0.947        1.000   \n",
       "I(south*urban)  0.010 -0.097  0.741  0.334         0.332        0.288   \n",
       "\n",
       "                I(south*urban)  \n",
       "age                      0.010  \n",
       "IQ                      -0.097  \n",
       "south                    0.741  \n",
       "urban                    0.334  \n",
       "I(age*urban)             0.332  \n",
       "I(IQ*urban)              0.288  \n",
       "I(south*urban)           1.000  "
      ]
     },
     "execution_count": 162,
     "metadata": {},
     "output_type": "execute_result"
    }
   ],
   "source": [
    "data = df [['age', 'IQ', 'south', 'urban']].copy()\n",
    "data ['I(age*urban)'] = df['age']*df['urban']\n",
    "data ['I(IQ*urban)'] = df['IQ']*df['urban']\n",
    "data ['I(south*urban)'] = df['south']*df['urban']\n",
    "corr_matrix = data.corr().round(3)\n",
    "corr_matrix"
   ]
  },
  {
   "cell_type": "code",
   "execution_count": 163,
   "id": "bd4ee503",
   "metadata": {},
   "outputs": [
    {
     "data": {
      "image/png": "[encoded data removed]",
      "text/plain": [
       "<Figure size 640x480 with 2 Axes>"
      ]
     },
     "metadata": {},
     "output_type": "display_data"
    }
   ],
   "source": [
    "# Визуализация корреляций\n",
    "sm.graphics.plot_corr(corr_matrix, xnames=data.columns, normcolor=True, cmap='coolwarm')\n",
    "plt.show()"
   ]
  }
 ],
 "metadata": {
  "kernelspec": {
   "display_name": "Python 3 (ipykernel)",
   "language": "python",
   "name": "python3"
  },
  "language_info": {
   "codemirror_mode": {
    "name": "ipython",
    "version": 3
   },
   "file_extension": ".py",
   "mimetype": "text/x-python",
   "name": "python",
   "nbconvert_exporter": "python",
   "pygments_lexer": "ipython3",
   "version": "3.9.13"
  }
 },
 "nbformat": 4,
 "nbformat_minor": 5
}
