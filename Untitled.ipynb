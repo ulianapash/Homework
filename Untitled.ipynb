{
 "cells": [
  {
   "cell_type": "code",
   "execution_count": 1,
   "id": "8686ac7d",
   "metadata": {},
   "outputs": [],
   "source": [
    "import pandas as pd\n",
    "import numpy as np\n",
    "import io\n",
    "import ststsmodels.formula.api as smf"
   ]
  },
  {
   "cell_type": "markdown",
   "id": "acf5d46a",
   "metadata": {},
   "source": [
    "## 1.1.1 Задача "
   ]
  },
  {
   "cell_type": "code",
   "execution_count": 2,
   "id": "2f93f05a",
   "metadata": {},
   "outputs": [],
   "source": [
    "some_string = ''' sleep totwrk age male hrwage\n",
    "3113   3438  32   1    7.07 \n",
    "2920   5020  31   1    1.43 \n",
    "2670   2815  44   1   20.53 \n",
    "3083   3786  30   0    9.62 \n",
    "3448   2580  64   1    2.75 \n",
    "4063   1205  41   1   19.25'''"
   ]
  },
  {
   "cell_type": "code",
   "execution_count": 3,
   "id": "223676cc",
   "metadata": {},
   "outputs": [
    {
     "data": {
      "text/html": [
       "<div>\n",
       "<style scoped>\n",
       "    .dataframe tbody tr th:only-of-type {\n",
       "        vertical-align: middle;\n",
       "    }\n",
       "\n",
       "    .dataframe tbody tr th {\n",
       "        vertical-align: top;\n",
       "    }\n",
       "\n",
       "    .dataframe thead th {\n",
       "        text-align: right;\n",
       "    }\n",
       "</style>\n",
       "<table border=\"1\" class=\"dataframe\">\n",
       "  <thead>\n",
       "    <tr style=\"text-align: right;\">\n",
       "      <th></th>\n",
       "      <th>sleep</th>\n",
       "      <th>totwrk</th>\n",
       "      <th>age</th>\n",
       "      <th>male</th>\n",
       "      <th>hrwage</th>\n",
       "    </tr>\n",
       "  </thead>\n",
       "  <tbody>\n",
       "    <tr>\n",
       "      <th>0</th>\n",
       "      <td>3113</td>\n",
       "      <td>3438</td>\n",
       "      <td>32</td>\n",
       "      <td>1</td>\n",
       "      <td>7.07</td>\n",
       "    </tr>\n",
       "    <tr>\n",
       "      <th>1</th>\n",
       "      <td>2920</td>\n",
       "      <td>5020</td>\n",
       "      <td>31</td>\n",
       "      <td>1</td>\n",
       "      <td>1.43</td>\n",
       "    </tr>\n",
       "    <tr>\n",
       "      <th>2</th>\n",
       "      <td>2670</td>\n",
       "      <td>2815</td>\n",
       "      <td>44</td>\n",
       "      <td>1</td>\n",
       "      <td>20.53</td>\n",
       "    </tr>\n",
       "    <tr>\n",
       "      <th>3</th>\n",
       "      <td>3083</td>\n",
       "      <td>3786</td>\n",
       "      <td>30</td>\n",
       "      <td>0</td>\n",
       "      <td>9.62</td>\n",
       "    </tr>\n",
       "    <tr>\n",
       "      <th>4</th>\n",
       "      <td>3448</td>\n",
       "      <td>2580</td>\n",
       "      <td>64</td>\n",
       "      <td>1</td>\n",
       "      <td>2.75</td>\n",
       "    </tr>\n",
       "    <tr>\n",
       "      <th>5</th>\n",
       "      <td>4063</td>\n",
       "      <td>1205</td>\n",
       "      <td>41</td>\n",
       "      <td>1</td>\n",
       "      <td>19.25</td>\n",
       "    </tr>\n",
       "  </tbody>\n",
       "</table>\n",
       "</div>"
      ],
      "text/plain": [
       "   sleep  totwrk  age  male  hrwage\n",
       "0   3113    3438   32     1    7.07\n",
       "1   2920    5020   31     1    1.43\n",
       "2   2670    2815   44     1   20.53\n",
       "3   3083    3786   30     0    9.62\n",
       "4   3448    2580   64     1    2.75\n",
       "5   4063    1205   41     1   19.25"
      ]
     },
     "execution_count": 3,
     "metadata": {},
     "output_type": "execute_result"
    }
   ],
   "source": [
    "df = pd.read_csv(io.StringIO(some_string), sep='\\s+' )\n",
    "df"
   ]
  },
  {
   "cell_type": "code",
   "execution_count": 4,
   "id": "4cf780fa",
   "metadata": {},
   "outputs": [
    {
     "data": {
      "text/html": [
       "<div>\n",
       "<style scoped>\n",
       "    .dataframe tbody tr th:only-of-type {\n",
       "        vertical-align: middle;\n",
       "    }\n",
       "\n",
       "    .dataframe tbody tr th {\n",
       "        vertical-align: top;\n",
       "    }\n",
       "\n",
       "    .dataframe thead th {\n",
       "        text-align: right;\n",
       "    }\n",
       "</style>\n",
       "<table border=\"1\" class=\"dataframe\">\n",
       "  <thead>\n",
       "    <tr style=\"text-align: right;\">\n",
       "      <th></th>\n",
       "      <th>sleep</th>\n",
       "      <th>totwrk</th>\n",
       "      <th>age</th>\n",
       "      <th>male</th>\n",
       "      <th>hrwage</th>\n",
       "      <th>pred</th>\n",
       "    </tr>\n",
       "  </thead>\n",
       "  <tbody>\n",
       "    <tr>\n",
       "      <th>0</th>\n",
       "      <td>3113</td>\n",
       "      <td>3438</td>\n",
       "      <td>32</td>\n",
       "      <td>1</td>\n",
       "      <td>7.07</td>\n",
       "      <td>3059.416098</td>\n",
       "    </tr>\n",
       "    <tr>\n",
       "      <th>1</th>\n",
       "      <td>2920</td>\n",
       "      <td>5020</td>\n",
       "      <td>31</td>\n",
       "      <td>1</td>\n",
       "      <td>1.43</td>\n",
       "      <td>2820.466176</td>\n",
       "    </tr>\n",
       "    <tr>\n",
       "      <th>2</th>\n",
       "      <td>2670</td>\n",
       "      <td>2815</td>\n",
       "      <td>44</td>\n",
       "      <td>1</td>\n",
       "      <td>20.53</td>\n",
       "      <td>3168.003754</td>\n",
       "    </tr>\n",
       "    <tr>\n",
       "      <th>3</th>\n",
       "      <td>3083</td>\n",
       "      <td>3786</td>\n",
       "      <td>30</td>\n",
       "      <td>0</td>\n",
       "      <td>9.62</td>\n",
       "      <td>2945.613219</td>\n",
       "    </tr>\n",
       "    <tr>\n",
       "      <th>4</th>\n",
       "      <td>3448</td>\n",
       "      <td>2580</td>\n",
       "      <td>64</td>\n",
       "      <td>1</td>\n",
       "      <td>2.75</td>\n",
       "      <td>3257.865383</td>\n",
       "    </tr>\n",
       "    <tr>\n",
       "      <th>5</th>\n",
       "      <td>4063</td>\n",
       "      <td>1205</td>\n",
       "      <td>41</td>\n",
       "      <td>1</td>\n",
       "      <td>19.25</td>\n",
       "      <td>3421.379791</td>\n",
       "    </tr>\n",
       "  </tbody>\n",
       "</table>\n",
       "</div>"
      ],
      "text/plain": [
       "   sleep  totwrk  age  male  hrwage         pred\n",
       "0   3113    3438   32     1    7.07  3059.416098\n",
       "1   2920    5020   31     1    1.43  2820.466176\n",
       "2   2670    2815   44     1   20.53  3168.003754\n",
       "3   3083    3786   30     0    9.62  2945.613219\n",
       "4   3448    2580   64     1    2.75  3257.865383\n",
       "5   4063    1205   41     1   19.25  3421.379791"
      ]
     },
     "execution_count": 4,
     "metadata": {},
     "output_type": "execute_result"
    }
   ],
   "source": [
    "df['pred'] =  3525.14 + (-0.16)*df['totwrk'] +  1.62*df['age'] + 51.84*df['male'] +  (-9.88)*np.log(df['hrwage'])\n",
    "df"
   ]
  },
  {
   "cell_type": "code",
   "execution_count": 5,
   "id": "50c0783d",
   "metadata": {},
   "outputs": [
    {
     "data": {
      "text/html": [
       "<div>\n",
       "<style scoped>\n",
       "    .dataframe tbody tr th:only-of-type {\n",
       "        vertical-align: middle;\n",
       "    }\n",
       "\n",
       "    .dataframe tbody tr th {\n",
       "        vertical-align: top;\n",
       "    }\n",
       "\n",
       "    .dataframe thead th {\n",
       "        text-align: right;\n",
       "    }\n",
       "</style>\n",
       "<table border=\"1\" class=\"dataframe\">\n",
       "  <thead>\n",
       "    <tr style=\"text-align: right;\">\n",
       "      <th></th>\n",
       "      <th>sleep</th>\n",
       "      <th>totwrk</th>\n",
       "      <th>age</th>\n",
       "      <th>male</th>\n",
       "      <th>hrwage</th>\n",
       "      <th>pred</th>\n",
       "      <th>residual</th>\n",
       "    </tr>\n",
       "  </thead>\n",
       "  <tbody>\n",
       "    <tr>\n",
       "      <th>0</th>\n",
       "      <td>3113</td>\n",
       "      <td>3438</td>\n",
       "      <td>32</td>\n",
       "      <td>1</td>\n",
       "      <td>7.07</td>\n",
       "      <td>3059.42</td>\n",
       "      <td>53.58</td>\n",
       "    </tr>\n",
       "    <tr>\n",
       "      <th>1</th>\n",
       "      <td>2920</td>\n",
       "      <td>5020</td>\n",
       "      <td>31</td>\n",
       "      <td>1</td>\n",
       "      <td>1.43</td>\n",
       "      <td>2820.47</td>\n",
       "      <td>99.53</td>\n",
       "    </tr>\n",
       "    <tr>\n",
       "      <th>2</th>\n",
       "      <td>2670</td>\n",
       "      <td>2815</td>\n",
       "      <td>44</td>\n",
       "      <td>1</td>\n",
       "      <td>20.53</td>\n",
       "      <td>3168.00</td>\n",
       "      <td>-498.00</td>\n",
       "    </tr>\n",
       "    <tr>\n",
       "      <th>3</th>\n",
       "      <td>3083</td>\n",
       "      <td>3786</td>\n",
       "      <td>30</td>\n",
       "      <td>0</td>\n",
       "      <td>9.62</td>\n",
       "      <td>2945.61</td>\n",
       "      <td>137.39</td>\n",
       "    </tr>\n",
       "    <tr>\n",
       "      <th>4</th>\n",
       "      <td>3448</td>\n",
       "      <td>2580</td>\n",
       "      <td>64</td>\n",
       "      <td>1</td>\n",
       "      <td>2.75</td>\n",
       "      <td>3257.87</td>\n",
       "      <td>190.13</td>\n",
       "    </tr>\n",
       "    <tr>\n",
       "      <th>5</th>\n",
       "      <td>4063</td>\n",
       "      <td>1205</td>\n",
       "      <td>41</td>\n",
       "      <td>1</td>\n",
       "      <td>19.25</td>\n",
       "      <td>3421.38</td>\n",
       "      <td>641.62</td>\n",
       "    </tr>\n",
       "  </tbody>\n",
       "</table>\n",
       "</div>"
      ],
      "text/plain": [
       "   sleep  totwrk  age  male  hrwage     pred  residual\n",
       "0   3113    3438   32     1    7.07  3059.42     53.58\n",
       "1   2920    5020   31     1    1.43  2820.47     99.53\n",
       "2   2670    2815   44     1   20.53  3168.00   -498.00\n",
       "3   3083    3786   30     0    9.62  2945.61    137.39\n",
       "4   3448    2580   64     1    2.75  3257.87    190.13\n",
       "5   4063    1205   41     1   19.25  3421.38    641.62"
      ]
     },
     "execution_count": 5,
     "metadata": {},
     "output_type": "execute_result"
    }
   ],
   "source": [
    "df['residual'] = df['sleep'] - df['pred']\n",
    "df. round(2)"
   ]
  },
  {
   "cell_type": "markdown",
   "id": "c68a340f",
   "metadata": {},
   "source": [
    "## 1.1.2 Задача"
   ]
  },
  {
   "cell_type": "code",
   "execution_count": 6,
   "id": "9453b1b1",
   "metadata": {},
   "outputs": [],
   "source": [
    "some_string = '''output capital labour\n",
    "9.25    2.61    184  \n",
    "3.66    1.32     91  \n",
    "28.78   22.09   426  \n",
    "4.12    10.74    72  \n",
    "2.89    1.16     46  '''"
   ]
  },
  {
   "cell_type": "code",
   "execution_count": 8,
   "id": "599d04c1",
   "metadata": {},
   "outputs": [
    {
     "data": {
      "text/html": [
       "<div>\n",
       "<style scoped>\n",
       "    .dataframe tbody tr th:only-of-type {\n",
       "        vertical-align: middle;\n",
       "    }\n",
       "\n",
       "    .dataframe tbody tr th {\n",
       "        vertical-align: top;\n",
       "    }\n",
       "\n",
       "    .dataframe thead th {\n",
       "        text-align: right;\n",
       "    }\n",
       "</style>\n",
       "<table border=\"1\" class=\"dataframe\">\n",
       "  <thead>\n",
       "    <tr style=\"text-align: right;\">\n",
       "      <th></th>\n",
       "      <th>output</th>\n",
       "      <th>capital</th>\n",
       "      <th>labour</th>\n",
       "    </tr>\n",
       "  </thead>\n",
       "  <tbody>\n",
       "    <tr>\n",
       "      <th>0</th>\n",
       "      <td>9.25</td>\n",
       "      <td>2.61</td>\n",
       "      <td>184</td>\n",
       "    </tr>\n",
       "    <tr>\n",
       "      <th>1</th>\n",
       "      <td>3.66</td>\n",
       "      <td>1.32</td>\n",
       "      <td>91</td>\n",
       "    </tr>\n",
       "    <tr>\n",
       "      <th>2</th>\n",
       "      <td>28.78</td>\n",
       "      <td>22.09</td>\n",
       "      <td>426</td>\n",
       "    </tr>\n",
       "    <tr>\n",
       "      <th>3</th>\n",
       "      <td>4.12</td>\n",
       "      <td>10.74</td>\n",
       "      <td>72</td>\n",
       "    </tr>\n",
       "    <tr>\n",
       "      <th>4</th>\n",
       "      <td>2.89</td>\n",
       "      <td>1.16</td>\n",
       "      <td>46</td>\n",
       "    </tr>\n",
       "  </tbody>\n",
       "</table>\n",
       "</div>"
      ],
      "text/plain": [
       "   output  capital  labour\n",
       "0    9.25     2.61     184\n",
       "1    3.66     1.32      91\n",
       "2   28.78    22.09     426\n",
       "3    4.12    10.74      72\n",
       "4    2.89     1.16      46"
      ]
     },
     "execution_count": 8,
     "metadata": {},
     "output_type": "execute_result"
    }
   ],
   "source": [
    "df = pd.read_csv(io.StringIO(some_string), sep='\\s+' )\n",
    "df"
   ]
  },
  {
   "cell_type": "code",
   "execution_count": 9,
   "id": "5c7cdf7f",
   "metadata": {},
   "outputs": [
    {
     "data": {
      "text/html": [
       "<div>\n",
       "<style scoped>\n",
       "    .dataframe tbody tr th:only-of-type {\n",
       "        vertical-align: middle;\n",
       "    }\n",
       "\n",
       "    .dataframe tbody tr th {\n",
       "        vertical-align: top;\n",
       "    }\n",
       "\n",
       "    .dataframe thead th {\n",
       "        text-align: right;\n",
       "    }\n",
       "</style>\n",
       "<table border=\"1\" class=\"dataframe\">\n",
       "  <thead>\n",
       "    <tr style=\"text-align: right;\">\n",
       "      <th></th>\n",
       "      <th>output</th>\n",
       "      <th>capital</th>\n",
       "      <th>labour</th>\n",
       "      <th>pred</th>\n",
       "    </tr>\n",
       "  </thead>\n",
       "  <tbody>\n",
       "    <tr>\n",
       "      <th>0</th>\n",
       "      <td>9.25</td>\n",
       "      <td>2.61</td>\n",
       "      <td>184</td>\n",
       "      <td>2.194068</td>\n",
       "    </tr>\n",
       "    <tr>\n",
       "      <th>1</th>\n",
       "      <td>3.66</td>\n",
       "      <td>1.32</td>\n",
       "      <td>91</td>\n",
       "      <td>1.551013</td>\n",
       "    </tr>\n",
       "    <tr>\n",
       "      <th>2</th>\n",
       "      <td>28.78</td>\n",
       "      <td>22.09</td>\n",
       "      <td>426</td>\n",
       "      <td>3.238628</td>\n",
       "    </tr>\n",
       "    <tr>\n",
       "      <th>3</th>\n",
       "      <td>4.12</td>\n",
       "      <td>10.74</td>\n",
       "      <td>72</td>\n",
       "      <td>1.824968</td>\n",
       "    </tr>\n",
       "    <tr>\n",
       "      <th>4</th>\n",
       "      <td>2.89</td>\n",
       "      <td>1.16</td>\n",
       "      <td>46</td>\n",
       "      <td>1.039504</td>\n",
       "    </tr>\n",
       "  </tbody>\n",
       "</table>\n",
       "</div>"
      ],
      "text/plain": [
       "   output  capital  labour      pred\n",
       "0    9.25     2.61     184  2.194068\n",
       "1    3.66     1.32      91  1.551013\n",
       "2   28.78    22.09     426  3.238628\n",
       "3    4.12    10.74      72  1.824968\n",
       "4    2.89     1.16      46  1.039504"
      ]
     },
     "execution_count": 9,
     "metadata": {},
     "output_type": "execute_result"
    }
   ],
   "source": [
    "df['pred'] =   -1.71 + 0.21*np.log(df['capital']) + 0.71*np.log(df['labour'])\n",
    "df"
   ]
  },
  {
   "cell_type": "code",
   "execution_count": 10,
   "id": "e740b880",
   "metadata": {},
   "outputs": [
    {
     "data": {
      "text/html": [
       "<div>\n",
       "<style scoped>\n",
       "    .dataframe tbody tr th:only-of-type {\n",
       "        vertical-align: middle;\n",
       "    }\n",
       "\n",
       "    .dataframe tbody tr th {\n",
       "        vertical-align: top;\n",
       "    }\n",
       "\n",
       "    .dataframe thead th {\n",
       "        text-align: right;\n",
       "    }\n",
       "</style>\n",
       "<table border=\"1\" class=\"dataframe\">\n",
       "  <thead>\n",
       "    <tr style=\"text-align: right;\">\n",
       "      <th></th>\n",
       "      <th>output</th>\n",
       "      <th>capital</th>\n",
       "      <th>labour</th>\n",
       "      <th>pred</th>\n",
       "      <th>residual</th>\n",
       "    </tr>\n",
       "  </thead>\n",
       "  <tbody>\n",
       "    <tr>\n",
       "      <th>0</th>\n",
       "      <td>9.25</td>\n",
       "      <td>2.61</td>\n",
       "      <td>184</td>\n",
       "      <td>2.19</td>\n",
       "      <td>0.03</td>\n",
       "    </tr>\n",
       "    <tr>\n",
       "      <th>1</th>\n",
       "      <td>3.66</td>\n",
       "      <td>1.32</td>\n",
       "      <td>91</td>\n",
       "      <td>1.55</td>\n",
       "      <td>-0.25</td>\n",
       "    </tr>\n",
       "    <tr>\n",
       "      <th>2</th>\n",
       "      <td>28.78</td>\n",
       "      <td>22.09</td>\n",
       "      <td>426</td>\n",
       "      <td>3.24</td>\n",
       "      <td>0.12</td>\n",
       "    </tr>\n",
       "    <tr>\n",
       "      <th>3</th>\n",
       "      <td>4.12</td>\n",
       "      <td>10.74</td>\n",
       "      <td>72</td>\n",
       "      <td>1.82</td>\n",
       "      <td>-0.41</td>\n",
       "    </tr>\n",
       "    <tr>\n",
       "      <th>4</th>\n",
       "      <td>2.89</td>\n",
       "      <td>1.16</td>\n",
       "      <td>46</td>\n",
       "      <td>1.04</td>\n",
       "      <td>0.02</td>\n",
       "    </tr>\n",
       "  </tbody>\n",
       "</table>\n",
       "</div>"
      ],
      "text/plain": [
       "   output  capital  labour  pred  residual\n",
       "0    9.25     2.61     184  2.19      0.03\n",
       "1    3.66     1.32      91  1.55     -0.25\n",
       "2   28.78    22.09     426  3.24      0.12\n",
       "3    4.12    10.74      72  1.82     -0.41\n",
       "4    2.89     1.16      46  1.04      0.02"
      ]
     },
     "execution_count": 10,
     "metadata": {},
     "output_type": "execute_result"
    }
   ],
   "source": [
    "df['residual'] = np.log(df['output']) - df['pred']\n",
    "df. round(2)"
   ]
  },
  {
   "cell_type": "markdown",
   "id": "cfddc1e7",
   "metadata": {},
   "source": [
    "## 1.2.1 Задача"
   ]
  },
  {
   "cell_type": "code",
   "execution_count": 12,
   "id": "7b6dcde1",
   "metadata": {},
   "outputs": [
    {
     "data": {
      "text/plain": [
       "52.78999999999999"
      ]
     },
     "execution_count": 12,
     "metadata": {},
     "output_type": "execute_result"
    }
   ],
   "source": [
    "TSS = 100.35\n",
    "ESS = 47.56\n",
    "RSS = TSS - ESS\n",
    "RSS"
   ]
  },
  {
   "cell_type": "code",
   "execution_count": 18,
   "id": "3e743f0e",
   "metadata": {},
   "outputs": [
    {
     "data": {
      "text/plain": [
       "0.47"
      ]
     },
     "execution_count": 18,
     "metadata": {},
     "output_type": "execute_result"
    }
   ],
   "source": [
    "R2 = ESS/TSS\n",
    "round(R2,2)"
   ]
  },
  {
   "cell_type": "markdown",
   "id": "48cc5f5d",
   "metadata": {},
   "source": [
    "## 1.2.2 Задача"
   ]
  },
  {
   "cell_type": "code",
   "execution_count": 20,
   "id": "11e3107e",
   "metadata": {},
   "outputs": [
    {
     "data": {
      "text/plain": [
       "147.3"
      ]
     },
     "execution_count": 20,
     "metadata": {},
     "output_type": "execute_result"
    }
   ],
   "source": [
    "TSS =  240.82\n",
    "RSS = 93.52\n",
    "ESS = TSS - RSS\n",
    "ESS"
   ]
  },
  {
   "cell_type": "code",
   "execution_count": 21,
   "id": "85f1a766",
   "metadata": {},
   "outputs": [
    {
     "data": {
      "text/plain": [
       "0.61"
      ]
     },
     "execution_count": 21,
     "metadata": {},
     "output_type": "execute_result"
    }
   ],
   "source": [
    "R2=ESS/TSS\n",
    "round(R2,2)"
   ]
  },
  {
   "cell_type": "markdown",
   "id": "e6d809a7",
   "metadata": {},
   "source": [
    "## 2.1 Задача"
   ]
  },
  {
   "cell_type": "markdown",
   "id": "35912997",
   "metadata": {},
   "source": [
    "$$\n",
    "R^2_{adj} = -1 - (1-R^2)*\\frac{(n-1)}{(n-k)}\n",
    "$$"
   ]
  },
  {
   "cell_type": "code",
   "execution_count": 24,
   "id": "5bdf6c25",
   "metadata": {},
   "outputs": [],
   "source": [
    "n=526\n",
    "k=5\n",
    "R2=0.288"
   ]
  },
  {
   "cell_type": "code",
   "execution_count": 27,
   "id": "6cc8fc15",
   "metadata": {},
   "outputs": [
    {
     "data": {
      "text/plain": [
       "0.28"
      ]
     },
     "execution_count": 27,
     "metadata": {},
     "output_type": "execute_result"
    }
   ],
   "source": [
    "R2adj=1-(1-R2)*(n-1)/(n-k)\n",
    "round(R2adj,2)"
   ]
  },
  {
   "cell_type": "markdown",
   "id": "a2c72d55",
   "metadata": {},
   "source": [
    "## 3.1 Sleep equation"
   ]
  },
  {
   "cell_type": "code",
   "execution_count": 28,
   "id": "25245cb0",
   "metadata": {},
   "outputs": [],
   "source": [
    "better_check = '''i   Факт  Fitted  Остаток \n",
    "1   3113 3094.454  18.546 \n",
    "4   3083 2943.580 139.420 \n",
    "6   4063 3494.143 568.857 \n",
    "10  3018 3111.983 -93.983 \n",
    "508 3630 3476.914 153.086 \n",
    "700 2993 3295.398 -302.398'''"
   ]
  },
  {
   "cell_type": "code",
   "execution_count": 29,
   "id": "139beb0a",
   "metadata": {},
   "outputs": [
    {
     "data": {
      "text/html": [
       "<div>\n",
       "<style scoped>\n",
       "    .dataframe tbody tr th:only-of-type {\n",
       "        vertical-align: middle;\n",
       "    }\n",
       "\n",
       "    .dataframe tbody tr th {\n",
       "        vertical-align: top;\n",
       "    }\n",
       "\n",
       "    .dataframe thead th {\n",
       "        text-align: right;\n",
       "    }\n",
       "</style>\n",
       "<table border=\"1\" class=\"dataframe\">\n",
       "  <thead>\n",
       "    <tr style=\"text-align: right;\">\n",
       "      <th></th>\n",
       "      <th>i</th>\n",
       "      <th>Факт</th>\n",
       "      <th>Fitted</th>\n",
       "      <th>Остаток</th>\n",
       "    </tr>\n",
       "  </thead>\n",
       "  <tbody>\n",
       "    <tr>\n",
       "      <th>0</th>\n",
       "      <td>1</td>\n",
       "      <td>3113</td>\n",
       "      <td>3094.454</td>\n",
       "      <td>18.546</td>\n",
       "    </tr>\n",
       "    <tr>\n",
       "      <th>1</th>\n",
       "      <td>4</td>\n",
       "      <td>3083</td>\n",
       "      <td>2943.580</td>\n",
       "      <td>139.420</td>\n",
       "    </tr>\n",
       "    <tr>\n",
       "      <th>2</th>\n",
       "      <td>6</td>\n",
       "      <td>4063</td>\n",
       "      <td>3494.143</td>\n",
       "      <td>568.857</td>\n",
       "    </tr>\n",
       "    <tr>\n",
       "      <th>3</th>\n",
       "      <td>10</td>\n",
       "      <td>3018</td>\n",
       "      <td>3111.983</td>\n",
       "      <td>-93.983</td>\n",
       "    </tr>\n",
       "    <tr>\n",
       "      <th>4</th>\n",
       "      <td>508</td>\n",
       "      <td>3630</td>\n",
       "      <td>3476.914</td>\n",
       "      <td>153.086</td>\n",
       "    </tr>\n",
       "    <tr>\n",
       "      <th>5</th>\n",
       "      <td>700</td>\n",
       "      <td>2993</td>\n",
       "      <td>3295.398</td>\n",
       "      <td>-302.398</td>\n",
       "    </tr>\n",
       "  </tbody>\n",
       "</table>\n",
       "</div>"
      ],
      "text/plain": [
       "     i  Факт    Fitted  Остаток\n",
       "0    1  3113  3094.454   18.546\n",
       "1    4  3083  2943.580  139.420\n",
       "2    6  4063  3494.143  568.857\n",
       "3   10  3018  3111.983  -93.983\n",
       "4  508  3630  3476.914  153.086\n",
       "5  700  2993  3295.398 -302.398"
      ]
     },
     "execution_count": 29,
     "metadata": {},
     "output_type": "execute_result"
    }
   ],
   "source": [
    "op = pd.read_csv(io.StringIO(better_check), sep='\\s+' )\n",
    "op"
   ]
  },
  {
   "cell_type": "code",
   "execution_count": 30,
   "id": "aac43de2",
   "metadata": {},
   "outputs": [
    {
     "data": {
      "text/plain": [
       "0    3113\n",
       "1    3083\n",
       "2    4063\n",
       "3    3018\n",
       "4    3630\n",
       "5    2993\n",
       "Name: Факт, dtype: int64"
      ]
     },
     "execution_count": 30,
     "metadata": {},
     "output_type": "execute_result"
    }
   ],
   "source": [
    "op['Факт']"
   ]
  },
  {
   "cell_type": "code",
   "execution_count": 31,
   "id": "c1283103",
   "metadata": {
    "scrolled": true
   },
   "outputs": [
    {
     "data": {
      "text/plain": [
       "3316.6666666666665"
      ]
     },
     "execution_count": 31,
     "metadata": {},
     "output_type": "execute_result"
    }
   ],
   "source": [
    "op['Факт'].mean()"
   ]
  },
  {
   "cell_type": "code",
   "execution_count": 32,
   "id": "08cae1d2",
   "metadata": {},
   "outputs": [
    {
     "data": {
      "text/plain": [
       "0   -203.666667\n",
       "1   -233.666667\n",
       "2    746.333333\n",
       "3   -298.666667\n",
       "4    313.333333\n",
       "5   -323.666667\n",
       "Name: Факт, dtype: float64"
      ]
     },
     "execution_count": 32,
     "metadata": {},
     "output_type": "execute_result"
    }
   ],
   "source": [
    "op['Факт'] - op['Факт'].mean()"
   ]
  },
  {
   "cell_type": "code",
   "execution_count": 33,
   "id": "b863fc07",
   "metadata": {},
   "outputs": [
    {
     "data": {
      "text/plain": [
       "945233.3333333334"
      ]
     },
     "execution_count": 33,
     "metadata": {},
     "output_type": "execute_result"
    }
   ],
   "source": [
    "TSS = np.sum ((op['Факт'] - op['Факт'].mean())**2)\n",
    "TSS"
   ]
  },
  {
   "cell_type": "code",
   "execution_count": 36,
   "id": "190e3039",
   "metadata": {},
   "outputs": [
    {
     "data": {
      "text/plain": [
       "288096.9463873332"
      ]
     },
     "execution_count": 36,
     "metadata": {},
     "output_type": "execute_result"
    }
   ],
   "source": [
    "ESS = np.sum ((op['Fitted'] - op['Факт'].mean())**2)\n",
    "ESS"
   ]
  },
  {
   "cell_type": "code",
   "execution_count": 37,
   "id": "7bc05ae0",
   "metadata": {},
   "outputs": [
    {
     "data": {
      "text/plain": [
       "657136.3869460002"
      ]
     },
     "execution_count": 37,
     "metadata": {},
     "output_type": "execute_result"
    }
   ],
   "source": [
    "RSS = TSS - ESS\n",
    "RSS"
   ]
  },
  {
   "cell_type": "code",
   "execution_count": 39,
   "id": "6c24ee6b",
   "metadata": {},
   "outputs": [
    {
     "data": {
      "text/plain": [
       "467092.85505400004"
      ]
     },
     "execution_count": 39,
     "metadata": {},
     "output_type": "execute_result"
    }
   ],
   "source": [
    "RSS = np.sum ((op['Fitted'] - op['Факт'])**2)\n",
    "RSS"
   ]
  },
  {
   "cell_type": "code",
   "execution_count": 40,
   "id": "4b8237f4",
   "metadata": {},
   "outputs": [
    {
     "data": {
      "text/plain": [
       "0.30478923692985843"
      ]
     },
     "execution_count": 40,
     "metadata": {},
     "output_type": "execute_result"
    }
   ],
   "source": [
    "R2 = ESS/TSS\n",
    "R2"
   ]
  },
  {
   "cell_type": "markdown",
   "id": "9438cc89",
   "metadata": {},
   "source": [
    "### SER"
   ]
  },
  {
   "cell_type": "markdown",
   "id": "6237f9d5",
   "metadata": {},
   "source": [
    "$$\n",
    "SER = \\sqrt{RSS}\n",
    "$$"
   ]
  },
  {
   "cell_type": "code",
   "execution_count": 43,
   "id": "10c3f9e1",
   "metadata": {},
   "outputs": [
    {
     "data": {
      "text/plain": [
       "683.4419178350125"
      ]
     },
     "execution_count": 43,
     "metadata": {},
     "output_type": "execute_result"
    }
   ],
   "source": [
    "np.sqrt(RSS)"
   ]
  },
  {
   "cell_type": "code",
   "execution_count": null,
   "id": "3036849f",
   "metadata": {},
   "outputs": [],
   "source": []
  }
 ],
 "metadata": {
  "kernelspec": {
   "display_name": "Python 3 (ipykernel)",
   "language": "python",
   "name": "python3"
  },
  "language_info": {
   "codemirror_mode": {
    "name": "ipython",
    "version": 3
   },
   "file_extension": ".py",
   "mimetype": "text/x-python",
   "name": "python",
   "nbconvert_exporter": "python",
   "pygments_lexer": "ipython3",
   "version": "3.9.16"
  }
 },
 "nbformat": 4,
 "nbformat_minor": 5
}
