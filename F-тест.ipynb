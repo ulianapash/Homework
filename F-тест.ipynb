{
 "cells": [
  {
   "cell_type": "code",
   "execution_count": 52,
   "id": "6a92f342",
   "metadata": {},
   "outputs": [],
   "source": [
    "import pandas as pd\n",
    "import numpy as np\n",
    "import io\n",
    "import statsmodels.formula.api as smf\n",
    "import scipy.stats as stats\n",
    "import re"
   ]
  },
  {
   "cell_type": "markdown",
   "id": "776b76a8",
   "metadata": {},
   "source": [
    "# 1 F-тест: значимость регрессии"
   ]
  },
  {
   "cell_type": "markdown",
   "id": "6faa1d84",
   "metadata": {},
   "source": [
    "$$\n",
    "F_{nabl} = \\frac{R^2}{1-R^2} * \\frac{n-m}{m-1}\n",
    "$$\n",
    "\n",
    "$$\n",
    "F_{crit} (\\alpha, k, n-k-1)\n",
    "$$"
   ]
  },
  {
   "cell_type": "markdown",
   "id": "357ac10c",
   "metadata": {},
   "source": [
    "## 1.1 sleep equation #1"
   ]
  },
  {
   "cell_type": "code",
   "execution_count": 53,
   "id": "cbb9a7d5",
   "metadata": {},
   "outputs": [],
   "source": [
    "some_string1 = '''Observations     706         706         706         706    \n",
    "R2              0.132       0.131       0.128       0.007   \n",
    "Adjusted_R2     0.121       0.123       0.121       0.002'''"
   ]
  },
  {
   "cell_type": "code",
   "execution_count": 54,
   "id": "e5ebbb9e",
   "metadata": {},
   "outputs": [
    {
     "data": {
      "text/html": [
       "<div>\n",
       "<style scoped>\n",
       "    .dataframe tbody tr th:only-of-type {\n",
       "        vertical-align: middle;\n",
       "    }\n",
       "\n",
       "    .dataframe tbody tr th {\n",
       "        vertical-align: top;\n",
       "    }\n",
       "\n",
       "    .dataframe thead th {\n",
       "        text-align: right;\n",
       "    }\n",
       "</style>\n",
       "<table border=\"1\" class=\"dataframe\">\n",
       "  <thead>\n",
       "    <tr style=\"text-align: right;\">\n",
       "      <th></th>\n",
       "      <th>1</th>\n",
       "      <th>2</th>\n",
       "      <th>3</th>\n",
       "      <th>4</th>\n",
       "    </tr>\n",
       "    <tr>\n",
       "      <th>0</th>\n",
       "      <th></th>\n",
       "      <th></th>\n",
       "      <th></th>\n",
       "      <th></th>\n",
       "    </tr>\n",
       "  </thead>\n",
       "  <tbody>\n",
       "    <tr>\n",
       "      <th>Observations</th>\n",
       "      <td>706.000</td>\n",
       "      <td>706.000</td>\n",
       "      <td>706.000</td>\n",
       "      <td>706.000</td>\n",
       "    </tr>\n",
       "    <tr>\n",
       "      <th>R2</th>\n",
       "      <td>0.132</td>\n",
       "      <td>0.131</td>\n",
       "      <td>0.128</td>\n",
       "      <td>0.007</td>\n",
       "    </tr>\n",
       "    <tr>\n",
       "      <th>Adjusted_R2</th>\n",
       "      <td>0.121</td>\n",
       "      <td>0.123</td>\n",
       "      <td>0.121</td>\n",
       "      <td>0.002</td>\n",
       "    </tr>\n",
       "  </tbody>\n",
       "</table>\n",
       "</div>"
      ],
      "text/plain": [
       "                    1        2        3        4\n",
       "0                                               \n",
       "Observations  706.000  706.000  706.000  706.000\n",
       "R2              0.132    0.131    0.128    0.007\n",
       "Adjusted_R2     0.121    0.123    0.121    0.002"
      ]
     },
     "execution_count": 54,
     "metadata": {},
     "output_type": "execute_result"
    }
   ],
   "source": [
    "df = pd.read_csv(io.StringIO(some_string1), sep='\\s+' , header=None , index_col = 0)\n",
    "df"
   ]
  },
  {
   "cell_type": "code",
   "execution_count": 55,
   "id": "ea33fa8c",
   "metadata": {},
   "outputs": [
    {
     "data": {
      "text/html": [
       "<div>\n",
       "<style scoped>\n",
       "    .dataframe tbody tr th:only-of-type {\n",
       "        vertical-align: middle;\n",
       "    }\n",
       "\n",
       "    .dataframe tbody tr th {\n",
       "        vertical-align: top;\n",
       "    }\n",
       "\n",
       "    .dataframe thead th {\n",
       "        text-align: right;\n",
       "    }\n",
       "</style>\n",
       "<table border=\"1\" class=\"dataframe\">\n",
       "  <thead>\n",
       "    <tr style=\"text-align: right;\">\n",
       "      <th></th>\n",
       "      <th>Observations</th>\n",
       "      <th>R2</th>\n",
       "      <th>Adjusted_R2</th>\n",
       "    </tr>\n",
       "  </thead>\n",
       "  <tbody>\n",
       "    <tr>\n",
       "      <th>1</th>\n",
       "      <td>706.0</td>\n",
       "      <td>0.132</td>\n",
       "      <td>0.121</td>\n",
       "    </tr>\n",
       "    <tr>\n",
       "      <th>2</th>\n",
       "      <td>706.0</td>\n",
       "      <td>0.131</td>\n",
       "      <td>0.123</td>\n",
       "    </tr>\n",
       "    <tr>\n",
       "      <th>3</th>\n",
       "      <td>706.0</td>\n",
       "      <td>0.128</td>\n",
       "      <td>0.121</td>\n",
       "    </tr>\n",
       "    <tr>\n",
       "      <th>4</th>\n",
       "      <td>706.0</td>\n",
       "      <td>0.007</td>\n",
       "      <td>0.002</td>\n",
       "    </tr>\n",
       "  </tbody>\n",
       "</table>\n",
       "</div>"
      ],
      "text/plain": [
       "0  Observations     R2  Adjusted_R2\n",
       "1         706.0  0.132        0.121\n",
       "2         706.0  0.131        0.123\n",
       "3         706.0  0.128        0.121\n",
       "4         706.0  0.007        0.002"
      ]
     },
     "execution_count": 55,
     "metadata": {},
     "output_type": "execute_result"
    }
   ],
   "source": [
    "df = df.transpose()\n",
    "df"
   ]
  },
  {
   "cell_type": "code",
   "execution_count": 56,
   "id": "f2b87952",
   "metadata": {},
   "outputs": [
    {
     "data": {
      "text/html": [
       "<div>\n",
       "<style scoped>\n",
       "    .dataframe tbody tr th:only-of-type {\n",
       "        vertical-align: middle;\n",
       "    }\n",
       "\n",
       "    .dataframe tbody tr th {\n",
       "        vertical-align: top;\n",
       "    }\n",
       "\n",
       "    .dataframe thead th {\n",
       "        text-align: right;\n",
       "    }\n",
       "</style>\n",
       "<table border=\"1\" class=\"dataframe\">\n",
       "  <thead>\n",
       "    <tr style=\"text-align: right;\">\n",
       "      <th></th>\n",
       "      <th>Observations</th>\n",
       "      <th>R2</th>\n",
       "      <th>Adjusted_R2</th>\n",
       "      <th>m</th>\n",
       "    </tr>\n",
       "  </thead>\n",
       "  <tbody>\n",
       "    <tr>\n",
       "      <th>1</th>\n",
       "      <td>706.0</td>\n",
       "      <td>0.132</td>\n",
       "      <td>0.121</td>\n",
       "      <td>10</td>\n",
       "    </tr>\n",
       "    <tr>\n",
       "      <th>2</th>\n",
       "      <td>706.0</td>\n",
       "      <td>0.131</td>\n",
       "      <td>0.123</td>\n",
       "      <td>8</td>\n",
       "    </tr>\n",
       "    <tr>\n",
       "      <th>3</th>\n",
       "      <td>706.0</td>\n",
       "      <td>0.128</td>\n",
       "      <td>0.121</td>\n",
       "      <td>6</td>\n",
       "    </tr>\n",
       "    <tr>\n",
       "      <th>4</th>\n",
       "      <td>706.0</td>\n",
       "      <td>0.007</td>\n",
       "      <td>0.002</td>\n",
       "      <td>5</td>\n",
       "    </tr>\n",
       "  </tbody>\n",
       "</table>\n",
       "</div>"
      ],
      "text/plain": [
       "0  Observations     R2  Adjusted_R2   m\n",
       "1         706.0  0.132        0.121  10\n",
       "2         706.0  0.131        0.123   8\n",
       "3         706.0  0.128        0.121   6\n",
       "4         706.0  0.007        0.002   5"
      ]
     },
     "execution_count": 56,
     "metadata": {},
     "output_type": "execute_result"
    }
   ],
   "source": [
    "df['m'] = [10,8,6,5]\n",
    "df"
   ]
  },
  {
   "cell_type": "code",
   "execution_count": 57,
   "id": "1fe982c5",
   "metadata": {},
   "outputs": [
    {
     "data": {
      "text/html": [
       "<div>\n",
       "<style scoped>\n",
       "    .dataframe tbody tr th:only-of-type {\n",
       "        vertical-align: middle;\n",
       "    }\n",
       "\n",
       "    .dataframe tbody tr th {\n",
       "        vertical-align: top;\n",
       "    }\n",
       "\n",
       "    .dataframe thead th {\n",
       "        text-align: right;\n",
       "    }\n",
       "</style>\n",
       "<table border=\"1\" class=\"dataframe\">\n",
       "  <thead>\n",
       "    <tr style=\"text-align: right;\">\n",
       "      <th></th>\n",
       "      <th>Observations</th>\n",
       "      <th>R2</th>\n",
       "      <th>Adjusted_R2</th>\n",
       "      <th>m</th>\n",
       "      <th>F_nabl</th>\n",
       "    </tr>\n",
       "  </thead>\n",
       "  <tbody>\n",
       "    <tr>\n",
       "      <th>1</th>\n",
       "      <td>706.0</td>\n",
       "      <td>0.13</td>\n",
       "      <td>0.12</td>\n",
       "      <td>10</td>\n",
       "      <td>11.76</td>\n",
       "    </tr>\n",
       "    <tr>\n",
       "      <th>2</th>\n",
       "      <td>706.0</td>\n",
       "      <td>0.13</td>\n",
       "      <td>0.12</td>\n",
       "      <td>8</td>\n",
       "      <td>15.03</td>\n",
       "    </tr>\n",
       "    <tr>\n",
       "      <th>3</th>\n",
       "      <td>706.0</td>\n",
       "      <td>0.13</td>\n",
       "      <td>0.12</td>\n",
       "      <td>6</td>\n",
       "      <td>20.55</td>\n",
       "    </tr>\n",
       "    <tr>\n",
       "      <th>4</th>\n",
       "      <td>706.0</td>\n",
       "      <td>0.01</td>\n",
       "      <td>0.00</td>\n",
       "      <td>5</td>\n",
       "      <td>1.24</td>\n",
       "    </tr>\n",
       "  </tbody>\n",
       "</table>\n",
       "</div>"
      ],
      "text/plain": [
       "0  Observations    R2  Adjusted_R2   m  F_nabl\n",
       "1         706.0  0.13         0.12  10   11.76\n",
       "2         706.0  0.13         0.12   8   15.03\n",
       "3         706.0  0.13         0.12   6   20.55\n",
       "4         706.0  0.01         0.00   5    1.24"
      ]
     },
     "execution_count": 57,
     "metadata": {},
     "output_type": "execute_result"
    }
   ],
   "source": [
    "df['F_nabl'] = (df['R2']/(1-df['R2']))*((df['Observations']-df['m'])/(df['m']-1))\n",
    "df.round(2)"
   ]
  },
  {
   "cell_type": "code",
   "execution_count": 58,
   "id": "5ba1d696",
   "metadata": {},
   "outputs": [
    {
     "data": {
      "text/html": [
       "<div>\n",
       "<style scoped>\n",
       "    .dataframe tbody tr th:only-of-type {\n",
       "        vertical-align: middle;\n",
       "    }\n",
       "\n",
       "    .dataframe tbody tr th {\n",
       "        vertical-align: top;\n",
       "    }\n",
       "\n",
       "    .dataframe thead th {\n",
       "        text-align: right;\n",
       "    }\n",
       "</style>\n",
       "<table border=\"1\" class=\"dataframe\">\n",
       "  <thead>\n",
       "    <tr style=\"text-align: right;\">\n",
       "      <th></th>\n",
       "      <th>Observations</th>\n",
       "      <th>R2</th>\n",
       "      <th>Adjusted_R2</th>\n",
       "      <th>m</th>\n",
       "      <th>F_nabl</th>\n",
       "      <th>F_crit</th>\n",
       "    </tr>\n",
       "  </thead>\n",
       "  <tbody>\n",
       "    <tr>\n",
       "      <th>1</th>\n",
       "      <td>706.0</td>\n",
       "      <td>0.13</td>\n",
       "      <td>0.12</td>\n",
       "      <td>10</td>\n",
       "      <td>11.76</td>\n",
       "      <td>1.89</td>\n",
       "    </tr>\n",
       "    <tr>\n",
       "      <th>2</th>\n",
       "      <td>706.0</td>\n",
       "      <td>0.13</td>\n",
       "      <td>0.12</td>\n",
       "      <td>8</td>\n",
       "      <td>15.03</td>\n",
       "      <td>2.02</td>\n",
       "    </tr>\n",
       "    <tr>\n",
       "      <th>3</th>\n",
       "      <td>706.0</td>\n",
       "      <td>0.13</td>\n",
       "      <td>0.12</td>\n",
       "      <td>6</td>\n",
       "      <td>20.55</td>\n",
       "      <td>2.23</td>\n",
       "    </tr>\n",
       "    <tr>\n",
       "      <th>4</th>\n",
       "      <td>706.0</td>\n",
       "      <td>0.01</td>\n",
       "      <td>0.00</td>\n",
       "      <td>5</td>\n",
       "      <td>1.24</td>\n",
       "      <td>2.38</td>\n",
       "    </tr>\n",
       "  </tbody>\n",
       "</table>\n",
       "</div>"
      ],
      "text/plain": [
       "0  Observations    R2  Adjusted_R2   m  F_nabl  F_crit\n",
       "1         706.0  0.13         0.12  10   11.76    1.89\n",
       "2         706.0  0.13         0.12   8   15.03    2.02\n",
       "3         706.0  0.13         0.12   6   20.55    2.23\n",
       "4         706.0  0.01         0.00   5    1.24    2.38"
      ]
     },
     "execution_count": 58,
     "metadata": {},
     "output_type": "execute_result"
    }
   ],
   "source": [
    "alpha = 0.05\n",
    "df['F_crit'] = stats.f.ppf(1-alpha,df['m']-1,df['Observations'] - df['m'])\n",
    "df.round(2)"
   ]
  },
  {
   "cell_type": "code",
   "execution_count": 59,
   "id": "429de676",
   "metadata": {},
   "outputs": [
    {
     "data": {
      "text/html": [
       "<div>\n",
       "<style scoped>\n",
       "    .dataframe tbody tr th:only-of-type {\n",
       "        vertical-align: middle;\n",
       "    }\n",
       "\n",
       "    .dataframe tbody tr th {\n",
       "        vertical-align: top;\n",
       "    }\n",
       "\n",
       "    .dataframe thead th {\n",
       "        text-align: right;\n",
       "    }\n",
       "</style>\n",
       "<table border=\"1\" class=\"dataframe\">\n",
       "  <thead>\n",
       "    <tr style=\"text-align: right;\">\n",
       "      <th></th>\n",
       "      <th>Observations</th>\n",
       "      <th>R2</th>\n",
       "      <th>Adjusted_R2</th>\n",
       "      <th>m</th>\n",
       "      <th>F_nabl</th>\n",
       "      <th>F_crit</th>\n",
       "      <th>znachimost</th>\n",
       "    </tr>\n",
       "  </thead>\n",
       "  <tbody>\n",
       "    <tr>\n",
       "      <th>1</th>\n",
       "      <td>706.0</td>\n",
       "      <td>0.132</td>\n",
       "      <td>0.121</td>\n",
       "      <td>10</td>\n",
       "      <td>11.760369</td>\n",
       "      <td>1.893317</td>\n",
       "      <td>znachimo</td>\n",
       "    </tr>\n",
       "    <tr>\n",
       "      <th>2</th>\n",
       "      <td>706.0</td>\n",
       "      <td>0.131</td>\n",
       "      <td>0.123</td>\n",
       "      <td>8</td>\n",
       "      <td>15.031728</td>\n",
       "      <td>2.022681</td>\n",
       "      <td>znachimo</td>\n",
       "    </tr>\n",
       "    <tr>\n",
       "      <th>3</th>\n",
       "      <td>706.0</td>\n",
       "      <td>0.128</td>\n",
       "      <td>0.121</td>\n",
       "      <td>6</td>\n",
       "      <td>20.550459</td>\n",
       "      <td>2.226901</td>\n",
       "      <td>znachimo</td>\n",
       "    </tr>\n",
       "    <tr>\n",
       "      <th>4</th>\n",
       "      <td>706.0</td>\n",
       "      <td>0.007</td>\n",
       "      <td>0.002</td>\n",
       "      <td>5</td>\n",
       "      <td>1.235398</td>\n",
       "      <td>2.384638</td>\n",
       "      <td>ne znachimo</td>\n",
       "    </tr>\n",
       "  </tbody>\n",
       "</table>\n",
       "</div>"
      ],
      "text/plain": [
       "0  Observations     R2  Adjusted_R2   m     F_nabl    F_crit   znachimost\n",
       "1         706.0  0.132        0.121  10  11.760369  1.893317     znachimo\n",
       "2         706.0  0.131        0.123   8  15.031728  2.022681     znachimo\n",
       "3         706.0  0.128        0.121   6  20.550459  2.226901     znachimo\n",
       "4         706.0  0.007        0.002   5   1.235398  2.384638  ne znachimo"
      ]
     },
     "execution_count": 59,
     "metadata": {},
     "output_type": "execute_result"
    }
   ],
   "source": [
    "df['znachimost'] = df.apply(lambda x : 'znachimo' if x['F_nabl'] > x['F_crit'] else 'ne znachimo', axis = 1)\n",
    "df"
   ]
  },
  {
   "cell_type": "markdown",
   "id": "678ce8f9",
   "metadata": {},
   "source": [
    "## 1.2 cost equation #1"
   ]
  },
  {
   "cell_type": "code",
   "execution_count": 60,
   "id": "5fa4a851",
   "metadata": {},
   "outputs": [],
   "source": [
    "some_string2 = '''Observations    158       158       158       158      158  \n",
    "R2             0.982     0.965     0.982     0.053    0.026 \n",
    "Adjusted_R2    0.982     0.965     0.982     0.035    0.020 '''"
   ]
  },
  {
   "cell_type": "code",
   "execution_count": 61,
   "id": "349c1c5d",
   "metadata": {},
   "outputs": [
    {
     "data": {
      "text/html": [
       "<div>\n",
       "<style scoped>\n",
       "    .dataframe tbody tr th:only-of-type {\n",
       "        vertical-align: middle;\n",
       "    }\n",
       "\n",
       "    .dataframe tbody tr th {\n",
       "        vertical-align: top;\n",
       "    }\n",
       "\n",
       "    .dataframe thead th {\n",
       "        text-align: right;\n",
       "    }\n",
       "</style>\n",
       "<table border=\"1\" class=\"dataframe\">\n",
       "  <thead>\n",
       "    <tr style=\"text-align: right;\">\n",
       "      <th></th>\n",
       "      <th>1</th>\n",
       "      <th>2</th>\n",
       "      <th>3</th>\n",
       "      <th>4</th>\n",
       "      <th>5</th>\n",
       "    </tr>\n",
       "    <tr>\n",
       "      <th>0</th>\n",
       "      <th></th>\n",
       "      <th></th>\n",
       "      <th></th>\n",
       "      <th></th>\n",
       "      <th></th>\n",
       "    </tr>\n",
       "  </thead>\n",
       "  <tbody>\n",
       "    <tr>\n",
       "      <th>Observations</th>\n",
       "      <td>158.000</td>\n",
       "      <td>158.000</td>\n",
       "      <td>158.000</td>\n",
       "      <td>158.000</td>\n",
       "      <td>158.000</td>\n",
       "    </tr>\n",
       "    <tr>\n",
       "      <th>R2</th>\n",
       "      <td>0.982</td>\n",
       "      <td>0.965</td>\n",
       "      <td>0.982</td>\n",
       "      <td>0.053</td>\n",
       "      <td>0.026</td>\n",
       "    </tr>\n",
       "    <tr>\n",
       "      <th>Adjusted_R2</th>\n",
       "      <td>0.982</td>\n",
       "      <td>0.965</td>\n",
       "      <td>0.982</td>\n",
       "      <td>0.035</td>\n",
       "      <td>0.020</td>\n",
       "    </tr>\n",
       "  </tbody>\n",
       "</table>\n",
       "</div>"
      ],
      "text/plain": [
       "                    1        2        3        4        5\n",
       "0                                                        \n",
       "Observations  158.000  158.000  158.000  158.000  158.000\n",
       "R2              0.982    0.965    0.982    0.053    0.026\n",
       "Adjusted_R2     0.982    0.965    0.982    0.035    0.020"
      ]
     },
     "execution_count": 61,
     "metadata": {},
     "output_type": "execute_result"
    }
   ],
   "source": [
    "df = pd.read_csv(io.StringIO(some_string2), sep='\\s+' , header=None , index_col = 0)\n",
    "df"
   ]
  },
  {
   "cell_type": "code",
   "execution_count": 62,
   "id": "bd91d207",
   "metadata": {},
   "outputs": [
    {
     "data": {
      "text/html": [
       "<div>\n",
       "<style scoped>\n",
       "    .dataframe tbody tr th:only-of-type {\n",
       "        vertical-align: middle;\n",
       "    }\n",
       "\n",
       "    .dataframe tbody tr th {\n",
       "        vertical-align: top;\n",
       "    }\n",
       "\n",
       "    .dataframe thead th {\n",
       "        text-align: right;\n",
       "    }\n",
       "</style>\n",
       "<table border=\"1\" class=\"dataframe\">\n",
       "  <thead>\n",
       "    <tr style=\"text-align: right;\">\n",
       "      <th></th>\n",
       "      <th>Observations</th>\n",
       "      <th>R2</th>\n",
       "      <th>Adjusted_R2</th>\n",
       "    </tr>\n",
       "  </thead>\n",
       "  <tbody>\n",
       "    <tr>\n",
       "      <th>1</th>\n",
       "      <td>158.0</td>\n",
       "      <td>0.982</td>\n",
       "      <td>0.982</td>\n",
       "    </tr>\n",
       "    <tr>\n",
       "      <th>2</th>\n",
       "      <td>158.0</td>\n",
       "      <td>0.965</td>\n",
       "      <td>0.965</td>\n",
       "    </tr>\n",
       "    <tr>\n",
       "      <th>3</th>\n",
       "      <td>158.0</td>\n",
       "      <td>0.982</td>\n",
       "      <td>0.982</td>\n",
       "    </tr>\n",
       "    <tr>\n",
       "      <th>4</th>\n",
       "      <td>158.0</td>\n",
       "      <td>0.053</td>\n",
       "      <td>0.035</td>\n",
       "    </tr>\n",
       "    <tr>\n",
       "      <th>5</th>\n",
       "      <td>158.0</td>\n",
       "      <td>0.026</td>\n",
       "      <td>0.020</td>\n",
       "    </tr>\n",
       "  </tbody>\n",
       "</table>\n",
       "</div>"
      ],
      "text/plain": [
       "0  Observations     R2  Adjusted_R2\n",
       "1         158.0  0.982        0.982\n",
       "2         158.0  0.965        0.965\n",
       "3         158.0  0.982        0.982\n",
       "4         158.0  0.053        0.035\n",
       "5         158.0  0.026        0.020"
      ]
     },
     "execution_count": 62,
     "metadata": {},
     "output_type": "execute_result"
    }
   ],
   "source": [
    "df = df.transpose()\n",
    "df"
   ]
  },
  {
   "cell_type": "code",
   "execution_count": 63,
   "id": "1af5e8bb",
   "metadata": {},
   "outputs": [
    {
     "data": {
      "text/html": [
       "<div>\n",
       "<style scoped>\n",
       "    .dataframe tbody tr th:only-of-type {\n",
       "        vertical-align: middle;\n",
       "    }\n",
       "\n",
       "    .dataframe tbody tr th {\n",
       "        vertical-align: top;\n",
       "    }\n",
       "\n",
       "    .dataframe thead th {\n",
       "        text-align: right;\n",
       "    }\n",
       "</style>\n",
       "<table border=\"1\" class=\"dataframe\">\n",
       "  <thead>\n",
       "    <tr style=\"text-align: right;\">\n",
       "      <th></th>\n",
       "      <th>Observations</th>\n",
       "      <th>R2</th>\n",
       "      <th>Adjusted_R2</th>\n",
       "      <th>m</th>\n",
       "    </tr>\n",
       "  </thead>\n",
       "  <tbody>\n",
       "    <tr>\n",
       "      <th>1</th>\n",
       "      <td>158.0</td>\n",
       "      <td>0.982</td>\n",
       "      <td>0.982</td>\n",
       "      <td>5</td>\n",
       "    </tr>\n",
       "    <tr>\n",
       "      <th>2</th>\n",
       "      <td>158.0</td>\n",
       "      <td>0.965</td>\n",
       "      <td>0.965</td>\n",
       "      <td>2</td>\n",
       "    </tr>\n",
       "    <tr>\n",
       "      <th>3</th>\n",
       "      <td>158.0</td>\n",
       "      <td>0.982</td>\n",
       "      <td>0.982</td>\n",
       "      <td>4</td>\n",
       "    </tr>\n",
       "    <tr>\n",
       "      <th>4</th>\n",
       "      <td>158.0</td>\n",
       "      <td>0.053</td>\n",
       "      <td>0.035</td>\n",
       "      <td>4</td>\n",
       "    </tr>\n",
       "    <tr>\n",
       "      <th>5</th>\n",
       "      <td>158.0</td>\n",
       "      <td>0.026</td>\n",
       "      <td>0.020</td>\n",
       "      <td>2</td>\n",
       "    </tr>\n",
       "  </tbody>\n",
       "</table>\n",
       "</div>"
      ],
      "text/plain": [
       "0  Observations     R2  Adjusted_R2  m\n",
       "1         158.0  0.982        0.982  5\n",
       "2         158.0  0.965        0.965  2\n",
       "3         158.0  0.982        0.982  4\n",
       "4         158.0  0.053        0.035  4\n",
       "5         158.0  0.026        0.020  2"
      ]
     },
     "execution_count": 63,
     "metadata": {},
     "output_type": "execute_result"
    }
   ],
   "source": [
    "df['m'] = [5,2,4,4,2]\n",
    "df"
   ]
  },
  {
   "cell_type": "code",
   "execution_count": 64,
   "id": "51ab0b4d",
   "metadata": {},
   "outputs": [
    {
     "data": {
      "text/html": [
       "<div>\n",
       "<style scoped>\n",
       "    .dataframe tbody tr th:only-of-type {\n",
       "        vertical-align: middle;\n",
       "    }\n",
       "\n",
       "    .dataframe tbody tr th {\n",
       "        vertical-align: top;\n",
       "    }\n",
       "\n",
       "    .dataframe thead th {\n",
       "        text-align: right;\n",
       "    }\n",
       "</style>\n",
       "<table border=\"1\" class=\"dataframe\">\n",
       "  <thead>\n",
       "    <tr style=\"text-align: right;\">\n",
       "      <th></th>\n",
       "      <th>Observations</th>\n",
       "      <th>R2</th>\n",
       "      <th>Adjusted_R2</th>\n",
       "      <th>m</th>\n",
       "      <th>F_nabl</th>\n",
       "    </tr>\n",
       "  </thead>\n",
       "  <tbody>\n",
       "    <tr>\n",
       "      <th>1</th>\n",
       "      <td>158.0</td>\n",
       "      <td>0.98</td>\n",
       "      <td>0.98</td>\n",
       "      <td>5</td>\n",
       "      <td>2086.75</td>\n",
       "    </tr>\n",
       "    <tr>\n",
       "      <th>2</th>\n",
       "      <td>158.0</td>\n",
       "      <td>0.96</td>\n",
       "      <td>0.96</td>\n",
       "      <td>2</td>\n",
       "      <td>4301.14</td>\n",
       "    </tr>\n",
       "    <tr>\n",
       "      <th>3</th>\n",
       "      <td>158.0</td>\n",
       "      <td>0.98</td>\n",
       "      <td>0.98</td>\n",
       "      <td>4</td>\n",
       "      <td>2800.52</td>\n",
       "    </tr>\n",
       "    <tr>\n",
       "      <th>4</th>\n",
       "      <td>158.0</td>\n",
       "      <td>0.05</td>\n",
       "      <td>0.04</td>\n",
       "      <td>4</td>\n",
       "      <td>2.87</td>\n",
       "    </tr>\n",
       "    <tr>\n",
       "      <th>5</th>\n",
       "      <td>158.0</td>\n",
       "      <td>0.03</td>\n",
       "      <td>0.02</td>\n",
       "      <td>2</td>\n",
       "      <td>4.16</td>\n",
       "    </tr>\n",
       "  </tbody>\n",
       "</table>\n",
       "</div>"
      ],
      "text/plain": [
       "0  Observations    R2  Adjusted_R2  m   F_nabl\n",
       "1         158.0  0.98         0.98  5  2086.75\n",
       "2         158.0  0.96         0.96  2  4301.14\n",
       "3         158.0  0.98         0.98  4  2800.52\n",
       "4         158.0  0.05         0.04  4     2.87\n",
       "5         158.0  0.03         0.02  2     4.16"
      ]
     },
     "execution_count": 64,
     "metadata": {},
     "output_type": "execute_result"
    }
   ],
   "source": [
    "df['F_nabl'] = (df['R2']/(1-df['R2']))*((df['Observations']-df['m'])/(df['m']-1))\n",
    "df.round(2)"
   ]
  },
  {
   "cell_type": "code",
   "execution_count": 65,
   "id": "768cc631",
   "metadata": {},
   "outputs": [
    {
     "data": {
      "text/html": [
       "<div>\n",
       "<style scoped>\n",
       "    .dataframe tbody tr th:only-of-type {\n",
       "        vertical-align: middle;\n",
       "    }\n",
       "\n",
       "    .dataframe tbody tr th {\n",
       "        vertical-align: top;\n",
       "    }\n",
       "\n",
       "    .dataframe thead th {\n",
       "        text-align: right;\n",
       "    }\n",
       "</style>\n",
       "<table border=\"1\" class=\"dataframe\">\n",
       "  <thead>\n",
       "    <tr style=\"text-align: right;\">\n",
       "      <th></th>\n",
       "      <th>Observations</th>\n",
       "      <th>R2</th>\n",
       "      <th>Adjusted_R2</th>\n",
       "      <th>m</th>\n",
       "      <th>F_nabl</th>\n",
       "      <th>F_crit</th>\n",
       "    </tr>\n",
       "  </thead>\n",
       "  <tbody>\n",
       "    <tr>\n",
       "      <th>1</th>\n",
       "      <td>158.0</td>\n",
       "      <td>0.98</td>\n",
       "      <td>0.98</td>\n",
       "      <td>5</td>\n",
       "      <td>2086.75</td>\n",
       "      <td>3.44</td>\n",
       "    </tr>\n",
       "    <tr>\n",
       "      <th>2</th>\n",
       "      <td>158.0</td>\n",
       "      <td>0.96</td>\n",
       "      <td>0.96</td>\n",
       "      <td>2</td>\n",
       "      <td>4301.14</td>\n",
       "      <td>6.80</td>\n",
       "    </tr>\n",
       "    <tr>\n",
       "      <th>3</th>\n",
       "      <td>158.0</td>\n",
       "      <td>0.98</td>\n",
       "      <td>0.98</td>\n",
       "      <td>4</td>\n",
       "      <td>2800.52</td>\n",
       "      <td>3.91</td>\n",
       "    </tr>\n",
       "    <tr>\n",
       "      <th>4</th>\n",
       "      <td>158.0</td>\n",
       "      <td>0.05</td>\n",
       "      <td>0.04</td>\n",
       "      <td>4</td>\n",
       "      <td>2.87</td>\n",
       "      <td>3.91</td>\n",
       "    </tr>\n",
       "    <tr>\n",
       "      <th>5</th>\n",
       "      <td>158.0</td>\n",
       "      <td>0.03</td>\n",
       "      <td>0.02</td>\n",
       "      <td>2</td>\n",
       "      <td>4.16</td>\n",
       "      <td>6.80</td>\n",
       "    </tr>\n",
       "  </tbody>\n",
       "</table>\n",
       "</div>"
      ],
      "text/plain": [
       "0  Observations    R2  Adjusted_R2  m   F_nabl  F_crit\n",
       "1         158.0  0.98         0.98  5  2086.75    3.44\n",
       "2         158.0  0.96         0.96  2  4301.14    6.80\n",
       "3         158.0  0.98         0.98  4  2800.52    3.91\n",
       "4         158.0  0.05         0.04  4     2.87    3.91\n",
       "5         158.0  0.03         0.02  2     4.16    6.80"
      ]
     },
     "execution_count": 65,
     "metadata": {},
     "output_type": "execute_result"
    }
   ],
   "source": [
    "alpha = 0.01\n",
    "df['F_crit'] = stats.f.ppf(1-alpha,df['m']-1,df['Observations'] - df['m'])\n",
    "df.round(2)"
   ]
  },
  {
   "cell_type": "code",
   "execution_count": 66,
   "id": "40f20af4",
   "metadata": {},
   "outputs": [
    {
     "data": {
      "text/html": [
       "<div>\n",
       "<style scoped>\n",
       "    .dataframe tbody tr th:only-of-type {\n",
       "        vertical-align: middle;\n",
       "    }\n",
       "\n",
       "    .dataframe tbody tr th {\n",
       "        vertical-align: top;\n",
       "    }\n",
       "\n",
       "    .dataframe thead th {\n",
       "        text-align: right;\n",
       "    }\n",
       "</style>\n",
       "<table border=\"1\" class=\"dataframe\">\n",
       "  <thead>\n",
       "    <tr style=\"text-align: right;\">\n",
       "      <th></th>\n",
       "      <th>Observations</th>\n",
       "      <th>R2</th>\n",
       "      <th>Adjusted_R2</th>\n",
       "      <th>m</th>\n",
       "      <th>F_nabl</th>\n",
       "      <th>F_crit</th>\n",
       "      <th>znachimost</th>\n",
       "    </tr>\n",
       "  </thead>\n",
       "  <tbody>\n",
       "    <tr>\n",
       "      <th>1</th>\n",
       "      <td>158.0</td>\n",
       "      <td>0.982</td>\n",
       "      <td>0.982</td>\n",
       "      <td>5</td>\n",
       "      <td>2086.750000</td>\n",
       "      <td>3.444189</td>\n",
       "      <td>znachimo</td>\n",
       "    </tr>\n",
       "    <tr>\n",
       "      <th>2</th>\n",
       "      <td>158.0</td>\n",
       "      <td>0.965</td>\n",
       "      <td>0.965</td>\n",
       "      <td>2</td>\n",
       "      <td>4301.142857</td>\n",
       "      <td>6.800161</td>\n",
       "      <td>znachimo</td>\n",
       "    </tr>\n",
       "    <tr>\n",
       "      <th>3</th>\n",
       "      <td>158.0</td>\n",
       "      <td>0.982</td>\n",
       "      <td>0.982</td>\n",
       "      <td>4</td>\n",
       "      <td>2800.518519</td>\n",
       "      <td>3.911342</td>\n",
       "      <td>znachimo</td>\n",
       "    </tr>\n",
       "    <tr>\n",
       "      <th>4</th>\n",
       "      <td>158.0</td>\n",
       "      <td>0.053</td>\n",
       "      <td>0.035</td>\n",
       "      <td>4</td>\n",
       "      <td>2.872932</td>\n",
       "      <td>3.911342</td>\n",
       "      <td>ne znachimo</td>\n",
       "    </tr>\n",
       "    <tr>\n",
       "      <th>5</th>\n",
       "      <td>158.0</td>\n",
       "      <td>0.026</td>\n",
       "      <td>0.020</td>\n",
       "      <td>2</td>\n",
       "      <td>4.164271</td>\n",
       "      <td>6.800161</td>\n",
       "      <td>ne znachimo</td>\n",
       "    </tr>\n",
       "  </tbody>\n",
       "</table>\n",
       "</div>"
      ],
      "text/plain": [
       "0  Observations     R2  Adjusted_R2  m       F_nabl    F_crit   znachimost\n",
       "1         158.0  0.982        0.982  5  2086.750000  3.444189     znachimo\n",
       "2         158.0  0.965        0.965  2  4301.142857  6.800161     znachimo\n",
       "3         158.0  0.982        0.982  4  2800.518519  3.911342     znachimo\n",
       "4         158.0  0.053        0.035  4     2.872932  3.911342  ne znachimo\n",
       "5         158.0  0.026        0.020  2     4.164271  6.800161  ne znachimo"
      ]
     },
     "execution_count": 66,
     "metadata": {},
     "output_type": "execute_result"
    }
   ],
   "source": [
    "df['znachimost'] = df.apply(lambda x : 'znachimo' if x['F_nabl'] > x['F_crit'] else 'ne znachimo', axis = 1)\n",
    "df"
   ]
  },
  {
   "cell_type": "markdown",
   "id": "c8b12ab3",
   "metadata": {},
   "source": [
    "## 1.3 sleep equation #2"
   ]
  },
  {
   "cell_type": "code",
   "execution_count": 67,
   "id": "16787eeb",
   "metadata": {},
   "outputs": [],
   "source": [
    "some_string3 = '''Observations            706         706         706         706    \n",
    "R2                     0.118       0.022       0.015       0.007   \n",
    "Adjusted_R2            0.110       0.014       0.012       0.002'''"
   ]
  },
  {
   "cell_type": "code",
   "execution_count": 68,
   "id": "c26a5a90",
   "metadata": {},
   "outputs": [
    {
     "data": {
      "text/html": [
       "<div>\n",
       "<style scoped>\n",
       "    .dataframe tbody tr th:only-of-type {\n",
       "        vertical-align: middle;\n",
       "    }\n",
       "\n",
       "    .dataframe tbody tr th {\n",
       "        vertical-align: top;\n",
       "    }\n",
       "\n",
       "    .dataframe thead th {\n",
       "        text-align: right;\n",
       "    }\n",
       "</style>\n",
       "<table border=\"1\" class=\"dataframe\">\n",
       "  <thead>\n",
       "    <tr style=\"text-align: right;\">\n",
       "      <th></th>\n",
       "      <th>1</th>\n",
       "      <th>2</th>\n",
       "      <th>3</th>\n",
       "      <th>4</th>\n",
       "    </tr>\n",
       "    <tr>\n",
       "      <th>0</th>\n",
       "      <th></th>\n",
       "      <th></th>\n",
       "      <th></th>\n",
       "      <th></th>\n",
       "    </tr>\n",
       "  </thead>\n",
       "  <tbody>\n",
       "    <tr>\n",
       "      <th>Observations</th>\n",
       "      <td>706.000</td>\n",
       "      <td>706.000</td>\n",
       "      <td>706.000</td>\n",
       "      <td>706.000</td>\n",
       "    </tr>\n",
       "    <tr>\n",
       "      <th>R2</th>\n",
       "      <td>0.118</td>\n",
       "      <td>0.022</td>\n",
       "      <td>0.015</td>\n",
       "      <td>0.007</td>\n",
       "    </tr>\n",
       "    <tr>\n",
       "      <th>Adjusted_R2</th>\n",
       "      <td>0.110</td>\n",
       "      <td>0.014</td>\n",
       "      <td>0.012</td>\n",
       "      <td>0.002</td>\n",
       "    </tr>\n",
       "  </tbody>\n",
       "</table>\n",
       "</div>"
      ],
      "text/plain": [
       "                    1        2        3        4\n",
       "0                                               \n",
       "Observations  706.000  706.000  706.000  706.000\n",
       "R2              0.118    0.022    0.015    0.007\n",
       "Adjusted_R2     0.110    0.014    0.012    0.002"
      ]
     },
     "execution_count": 68,
     "metadata": {},
     "output_type": "execute_result"
    }
   ],
   "source": [
    "df = pd.read_csv(io.StringIO(some_string3), sep='\\s+' , header=None , index_col = 0)\n",
    "df"
   ]
  },
  {
   "cell_type": "code",
   "execution_count": 69,
   "id": "b828044d",
   "metadata": {},
   "outputs": [
    {
     "data": {
      "text/html": [
       "<div>\n",
       "<style scoped>\n",
       "    .dataframe tbody tr th:only-of-type {\n",
       "        vertical-align: middle;\n",
       "    }\n",
       "\n",
       "    .dataframe tbody tr th {\n",
       "        vertical-align: top;\n",
       "    }\n",
       "\n",
       "    .dataframe thead th {\n",
       "        text-align: right;\n",
       "    }\n",
       "</style>\n",
       "<table border=\"1\" class=\"dataframe\">\n",
       "  <thead>\n",
       "    <tr style=\"text-align: right;\">\n",
       "      <th></th>\n",
       "      <th>Observations</th>\n",
       "      <th>R2</th>\n",
       "      <th>Adjusted_R2</th>\n",
       "    </tr>\n",
       "  </thead>\n",
       "  <tbody>\n",
       "    <tr>\n",
       "      <th>1</th>\n",
       "      <td>706.0</td>\n",
       "      <td>0.118</td>\n",
       "      <td>0.110</td>\n",
       "    </tr>\n",
       "    <tr>\n",
       "      <th>2</th>\n",
       "      <td>706.0</td>\n",
       "      <td>0.022</td>\n",
       "      <td>0.014</td>\n",
       "    </tr>\n",
       "    <tr>\n",
       "      <th>3</th>\n",
       "      <td>706.0</td>\n",
       "      <td>0.015</td>\n",
       "      <td>0.012</td>\n",
       "    </tr>\n",
       "    <tr>\n",
       "      <th>4</th>\n",
       "      <td>706.0</td>\n",
       "      <td>0.007</td>\n",
       "      <td>0.002</td>\n",
       "    </tr>\n",
       "  </tbody>\n",
       "</table>\n",
       "</div>"
      ],
      "text/plain": [
       "0  Observations     R2  Adjusted_R2\n",
       "1         706.0  0.118        0.110\n",
       "2         706.0  0.022        0.014\n",
       "3         706.0  0.015        0.012\n",
       "4         706.0  0.007        0.002"
      ]
     },
     "execution_count": 69,
     "metadata": {},
     "output_type": "execute_result"
    }
   ],
   "source": [
    "df = df.transpose()\n",
    "df"
   ]
  },
  {
   "cell_type": "code",
   "execution_count": 70,
   "id": "b9f06087",
   "metadata": {},
   "outputs": [
    {
     "data": {
      "text/html": [
       "<div>\n",
       "<style scoped>\n",
       "    .dataframe tbody tr th:only-of-type {\n",
       "        vertical-align: middle;\n",
       "    }\n",
       "\n",
       "    .dataframe tbody tr th {\n",
       "        vertical-align: top;\n",
       "    }\n",
       "\n",
       "    .dataframe thead th {\n",
       "        text-align: right;\n",
       "    }\n",
       "</style>\n",
       "<table border=\"1\" class=\"dataframe\">\n",
       "  <thead>\n",
       "    <tr style=\"text-align: right;\">\n",
       "      <th></th>\n",
       "      <th>Observations</th>\n",
       "      <th>R2</th>\n",
       "      <th>Adjusted_R2</th>\n",
       "      <th>m</th>\n",
       "    </tr>\n",
       "  </thead>\n",
       "  <tbody>\n",
       "    <tr>\n",
       "      <th>1</th>\n",
       "      <td>706.0</td>\n",
       "      <td>0.118</td>\n",
       "      <td>0.110</td>\n",
       "      <td>8</td>\n",
       "    </tr>\n",
       "    <tr>\n",
       "      <th>2</th>\n",
       "      <td>706.0</td>\n",
       "      <td>0.022</td>\n",
       "      <td>0.014</td>\n",
       "      <td>7</td>\n",
       "    </tr>\n",
       "    <tr>\n",
       "      <th>3</th>\n",
       "      <td>706.0</td>\n",
       "      <td>0.015</td>\n",
       "      <td>0.012</td>\n",
       "      <td>3</td>\n",
       "    </tr>\n",
       "    <tr>\n",
       "      <th>4</th>\n",
       "      <td>706.0</td>\n",
       "      <td>0.007</td>\n",
       "      <td>0.002</td>\n",
       "      <td>5</td>\n",
       "    </tr>\n",
       "  </tbody>\n",
       "</table>\n",
       "</div>"
      ],
      "text/plain": [
       "0  Observations     R2  Adjusted_R2  m\n",
       "1         706.0  0.118        0.110  8\n",
       "2         706.0  0.022        0.014  7\n",
       "3         706.0  0.015        0.012  3\n",
       "4         706.0  0.007        0.002  5"
      ]
     },
     "execution_count": 70,
     "metadata": {},
     "output_type": "execute_result"
    }
   ],
   "source": [
    "df['m'] = [8,7,3,5]\n",
    "df"
   ]
  },
  {
   "cell_type": "code",
   "execution_count": 71,
   "id": "2eb7d1e4",
   "metadata": {},
   "outputs": [
    {
     "data": {
      "text/html": [
       "<div>\n",
       "<style scoped>\n",
       "    .dataframe tbody tr th:only-of-type {\n",
       "        vertical-align: middle;\n",
       "    }\n",
       "\n",
       "    .dataframe tbody tr th {\n",
       "        vertical-align: top;\n",
       "    }\n",
       "\n",
       "    .dataframe thead th {\n",
       "        text-align: right;\n",
       "    }\n",
       "</style>\n",
       "<table border=\"1\" class=\"dataframe\">\n",
       "  <thead>\n",
       "    <tr style=\"text-align: right;\">\n",
       "      <th></th>\n",
       "      <th>Observations</th>\n",
       "      <th>R2</th>\n",
       "      <th>Adjusted_R2</th>\n",
       "      <th>m</th>\n",
       "      <th>F_nabl</th>\n",
       "    </tr>\n",
       "  </thead>\n",
       "  <tbody>\n",
       "    <tr>\n",
       "      <th>1</th>\n",
       "      <td>706.0</td>\n",
       "      <td>0.12</td>\n",
       "      <td>0.11</td>\n",
       "      <td>8</td>\n",
       "      <td>13.34</td>\n",
       "    </tr>\n",
       "    <tr>\n",
       "      <th>2</th>\n",
       "      <td>706.0</td>\n",
       "      <td>0.02</td>\n",
       "      <td>0.01</td>\n",
       "      <td>7</td>\n",
       "      <td>2.62</td>\n",
       "    </tr>\n",
       "    <tr>\n",
       "      <th>3</th>\n",
       "      <td>706.0</td>\n",
       "      <td>0.02</td>\n",
       "      <td>0.01</td>\n",
       "      <td>3</td>\n",
       "      <td>5.35</td>\n",
       "    </tr>\n",
       "    <tr>\n",
       "      <th>4</th>\n",
       "      <td>706.0</td>\n",
       "      <td>0.01</td>\n",
       "      <td>0.00</td>\n",
       "      <td>5</td>\n",
       "      <td>1.24</td>\n",
       "    </tr>\n",
       "  </tbody>\n",
       "</table>\n",
       "</div>"
      ],
      "text/plain": [
       "0  Observations    R2  Adjusted_R2  m  F_nabl\n",
       "1         706.0  0.12         0.11  8   13.34\n",
       "2         706.0  0.02         0.01  7    2.62\n",
       "3         706.0  0.02         0.01  3    5.35\n",
       "4         706.0  0.01         0.00  5    1.24"
      ]
     },
     "execution_count": 71,
     "metadata": {},
     "output_type": "execute_result"
    }
   ],
   "source": [
    "df['F_nabl'] = (df['R2']/(1-df['R2']))*((df['Observations']-df['m'])/(df['m']-1))\n",
    "df.round(2)"
   ]
  },
  {
   "cell_type": "code",
   "execution_count": 72,
   "id": "65e23a89",
   "metadata": {},
   "outputs": [
    {
     "data": {
      "text/html": [
       "<div>\n",
       "<style scoped>\n",
       "    .dataframe tbody tr th:only-of-type {\n",
       "        vertical-align: middle;\n",
       "    }\n",
       "\n",
       "    .dataframe tbody tr th {\n",
       "        vertical-align: top;\n",
       "    }\n",
       "\n",
       "    .dataframe thead th {\n",
       "        text-align: right;\n",
       "    }\n",
       "</style>\n",
       "<table border=\"1\" class=\"dataframe\">\n",
       "  <thead>\n",
       "    <tr style=\"text-align: right;\">\n",
       "      <th></th>\n",
       "      <th>Observations</th>\n",
       "      <th>R2</th>\n",
       "      <th>Adjusted_R2</th>\n",
       "      <th>m</th>\n",
       "      <th>F_nabl</th>\n",
       "      <th>F_crit</th>\n",
       "    </tr>\n",
       "  </thead>\n",
       "  <tbody>\n",
       "    <tr>\n",
       "      <th>1</th>\n",
       "      <td>706.0</td>\n",
       "      <td>0.12</td>\n",
       "      <td>0.11</td>\n",
       "      <td>8</td>\n",
       "      <td>13.34</td>\n",
       "      <td>2.66</td>\n",
       "    </tr>\n",
       "    <tr>\n",
       "      <th>2</th>\n",
       "      <td>706.0</td>\n",
       "      <td>0.02</td>\n",
       "      <td>0.01</td>\n",
       "      <td>7</td>\n",
       "      <td>2.62</td>\n",
       "      <td>2.83</td>\n",
       "    </tr>\n",
       "    <tr>\n",
       "      <th>3</th>\n",
       "      <td>706.0</td>\n",
       "      <td>0.02</td>\n",
       "      <td>0.01</td>\n",
       "      <td>3</td>\n",
       "      <td>5.35</td>\n",
       "      <td>4.64</td>\n",
       "    </tr>\n",
       "    <tr>\n",
       "      <th>4</th>\n",
       "      <td>706.0</td>\n",
       "      <td>0.01</td>\n",
       "      <td>0.00</td>\n",
       "      <td>5</td>\n",
       "      <td>1.24</td>\n",
       "      <td>3.35</td>\n",
       "    </tr>\n",
       "  </tbody>\n",
       "</table>\n",
       "</div>"
      ],
      "text/plain": [
       "0  Observations    R2  Adjusted_R2  m  F_nabl  F_crit\n",
       "1         706.0  0.12         0.11  8   13.34    2.66\n",
       "2         706.0  0.02         0.01  7    2.62    2.83\n",
       "3         706.0  0.02         0.01  3    5.35    4.64\n",
       "4         706.0  0.01         0.00  5    1.24    3.35"
      ]
     },
     "execution_count": 72,
     "metadata": {},
     "output_type": "execute_result"
    }
   ],
   "source": [
    "alpha = 0.01\n",
    "df['F_crit'] = stats.f.ppf(1-alpha,df['m']-1,df['Observations'] - df['m'])\n",
    "df.round(2)"
   ]
  },
  {
   "cell_type": "code",
   "execution_count": 73,
   "id": "4f74e7c2",
   "metadata": {},
   "outputs": [
    {
     "data": {
      "text/html": [
       "<div>\n",
       "<style scoped>\n",
       "    .dataframe tbody tr th:only-of-type {\n",
       "        vertical-align: middle;\n",
       "    }\n",
       "\n",
       "    .dataframe tbody tr th {\n",
       "        vertical-align: top;\n",
       "    }\n",
       "\n",
       "    .dataframe thead th {\n",
       "        text-align: right;\n",
       "    }\n",
       "</style>\n",
       "<table border=\"1\" class=\"dataframe\">\n",
       "  <thead>\n",
       "    <tr style=\"text-align: right;\">\n",
       "      <th></th>\n",
       "      <th>Observations</th>\n",
       "      <th>R2</th>\n",
       "      <th>Adjusted_R2</th>\n",
       "      <th>m</th>\n",
       "      <th>F_nabl</th>\n",
       "      <th>F_crit</th>\n",
       "      <th>znachimost</th>\n",
       "    </tr>\n",
       "  </thead>\n",
       "  <tbody>\n",
       "    <tr>\n",
       "      <th>1</th>\n",
       "      <td>706.0</td>\n",
       "      <td>0.118</td>\n",
       "      <td>0.110</td>\n",
       "      <td>8</td>\n",
       "      <td>13.340460</td>\n",
       "      <td>2.664930</td>\n",
       "      <td>znachimo</td>\n",
       "    </tr>\n",
       "    <tr>\n",
       "      <th>2</th>\n",
       "      <td>706.0</td>\n",
       "      <td>0.022</td>\n",
       "      <td>0.014</td>\n",
       "      <td>7</td>\n",
       "      <td>2.620654</td>\n",
       "      <td>2.827785</td>\n",
       "      <td>ne znachimo</td>\n",
       "    </tr>\n",
       "    <tr>\n",
       "      <th>3</th>\n",
       "      <td>706.0</td>\n",
       "      <td>0.015</td>\n",
       "      <td>0.012</td>\n",
       "      <td>3</td>\n",
       "      <td>5.352792</td>\n",
       "      <td>4.635470</td>\n",
       "      <td>znachimo</td>\n",
       "    </tr>\n",
       "    <tr>\n",
       "      <th>4</th>\n",
       "      <td>706.0</td>\n",
       "      <td>0.007</td>\n",
       "      <td>0.002</td>\n",
       "      <td>5</td>\n",
       "      <td>1.235398</td>\n",
       "      <td>3.346000</td>\n",
       "      <td>ne znachimo</td>\n",
       "    </tr>\n",
       "  </tbody>\n",
       "</table>\n",
       "</div>"
      ],
      "text/plain": [
       "0  Observations     R2  Adjusted_R2  m     F_nabl    F_crit   znachimost\n",
       "1         706.0  0.118        0.110  8  13.340460  2.664930     znachimo\n",
       "2         706.0  0.022        0.014  7   2.620654  2.827785  ne znachimo\n",
       "3         706.0  0.015        0.012  3   5.352792  4.635470     znachimo\n",
       "4         706.0  0.007        0.002  5   1.235398  3.346000  ne znachimo"
      ]
     },
     "execution_count": 73,
     "metadata": {},
     "output_type": "execute_result"
    }
   ],
   "source": [
    "df['znachimost'] = df.apply(lambda x : 'znachimo' if x['F_nabl'] > x['F_crit'] else 'ne znachimo', axis = 1)\n",
    "df"
   ]
  },
  {
   "cell_type": "markdown",
   "id": "42661d33",
   "metadata": {},
   "source": [
    "## 1.4 cost equation #2"
   ]
  },
  {
   "cell_type": "code",
   "execution_count": 74,
   "id": "99cc8ff0",
   "metadata": {},
   "outputs": [],
   "source": [
    "some_string4 = '''Observations            158         158         158        158      158  \n",
    "R2                     0.992       0.976       0.982      0.053    0.026 \n",
    "Adjusted_R2            0.992       0.976       0.982      0.035    0.020'''"
   ]
  },
  {
   "cell_type": "code",
   "execution_count": 75,
   "id": "4bab6bdb",
   "metadata": {},
   "outputs": [
    {
     "data": {
      "text/html": [
       "<div>\n",
       "<style scoped>\n",
       "    .dataframe tbody tr th:only-of-type {\n",
       "        vertical-align: middle;\n",
       "    }\n",
       "\n",
       "    .dataframe tbody tr th {\n",
       "        vertical-align: top;\n",
       "    }\n",
       "\n",
       "    .dataframe thead th {\n",
       "        text-align: right;\n",
       "    }\n",
       "</style>\n",
       "<table border=\"1\" class=\"dataframe\">\n",
       "  <thead>\n",
       "    <tr style=\"text-align: right;\">\n",
       "      <th></th>\n",
       "      <th>1</th>\n",
       "      <th>2</th>\n",
       "      <th>3</th>\n",
       "      <th>4</th>\n",
       "      <th>5</th>\n",
       "    </tr>\n",
       "    <tr>\n",
       "      <th>0</th>\n",
       "      <th></th>\n",
       "      <th></th>\n",
       "      <th></th>\n",
       "      <th></th>\n",
       "      <th></th>\n",
       "    </tr>\n",
       "  </thead>\n",
       "  <tbody>\n",
       "    <tr>\n",
       "      <th>Observations</th>\n",
       "      <td>158.000</td>\n",
       "      <td>158.000</td>\n",
       "      <td>158.000</td>\n",
       "      <td>158.000</td>\n",
       "      <td>158.000</td>\n",
       "    </tr>\n",
       "    <tr>\n",
       "      <th>R2</th>\n",
       "      <td>0.992</td>\n",
       "      <td>0.976</td>\n",
       "      <td>0.982</td>\n",
       "      <td>0.053</td>\n",
       "      <td>0.026</td>\n",
       "    </tr>\n",
       "    <tr>\n",
       "      <th>Adjusted_R2</th>\n",
       "      <td>0.992</td>\n",
       "      <td>0.976</td>\n",
       "      <td>0.982</td>\n",
       "      <td>0.035</td>\n",
       "      <td>0.020</td>\n",
       "    </tr>\n",
       "  </tbody>\n",
       "</table>\n",
       "</div>"
      ],
      "text/plain": [
       "                    1        2        3        4        5\n",
       "0                                                        \n",
       "Observations  158.000  158.000  158.000  158.000  158.000\n",
       "R2              0.992    0.976    0.982    0.053    0.026\n",
       "Adjusted_R2     0.992    0.976    0.982    0.035    0.020"
      ]
     },
     "execution_count": 75,
     "metadata": {},
     "output_type": "execute_result"
    }
   ],
   "source": [
    "df = pd.read_csv(io.StringIO(some_string4), sep='\\s+' , header=None , index_col = 0)\n",
    "df"
   ]
  },
  {
   "cell_type": "code",
   "execution_count": 76,
   "id": "b27de174",
   "metadata": {},
   "outputs": [
    {
     "data": {
      "text/html": [
       "<div>\n",
       "<style scoped>\n",
       "    .dataframe tbody tr th:only-of-type {\n",
       "        vertical-align: middle;\n",
       "    }\n",
       "\n",
       "    .dataframe tbody tr th {\n",
       "        vertical-align: top;\n",
       "    }\n",
       "\n",
       "    .dataframe thead th {\n",
       "        text-align: right;\n",
       "    }\n",
       "</style>\n",
       "<table border=\"1\" class=\"dataframe\">\n",
       "  <thead>\n",
       "    <tr style=\"text-align: right;\">\n",
       "      <th></th>\n",
       "      <th>Observations</th>\n",
       "      <th>R2</th>\n",
       "      <th>Adjusted_R2</th>\n",
       "    </tr>\n",
       "  </thead>\n",
       "  <tbody>\n",
       "    <tr>\n",
       "      <th>1</th>\n",
       "      <td>158.0</td>\n",
       "      <td>0.992</td>\n",
       "      <td>0.992</td>\n",
       "    </tr>\n",
       "    <tr>\n",
       "      <th>2</th>\n",
       "      <td>158.0</td>\n",
       "      <td>0.976</td>\n",
       "      <td>0.976</td>\n",
       "    </tr>\n",
       "    <tr>\n",
       "      <th>3</th>\n",
       "      <td>158.0</td>\n",
       "      <td>0.982</td>\n",
       "      <td>0.982</td>\n",
       "    </tr>\n",
       "    <tr>\n",
       "      <th>4</th>\n",
       "      <td>158.0</td>\n",
       "      <td>0.053</td>\n",
       "      <td>0.035</td>\n",
       "    </tr>\n",
       "    <tr>\n",
       "      <th>5</th>\n",
       "      <td>158.0</td>\n",
       "      <td>0.026</td>\n",
       "      <td>0.020</td>\n",
       "    </tr>\n",
       "  </tbody>\n",
       "</table>\n",
       "</div>"
      ],
      "text/plain": [
       "0  Observations     R2  Adjusted_R2\n",
       "1         158.0  0.992        0.992\n",
       "2         158.0  0.976        0.976\n",
       "3         158.0  0.982        0.982\n",
       "4         158.0  0.053        0.035\n",
       "5         158.0  0.026        0.020"
      ]
     },
     "execution_count": 76,
     "metadata": {},
     "output_type": "execute_result"
    }
   ],
   "source": [
    "df = df.transpose()\n",
    "df"
   ]
  },
  {
   "cell_type": "code",
   "execution_count": 77,
   "id": "884a80ad",
   "metadata": {},
   "outputs": [
    {
     "data": {
      "text/html": [
       "<div>\n",
       "<style scoped>\n",
       "    .dataframe tbody tr th:only-of-type {\n",
       "        vertical-align: middle;\n",
       "    }\n",
       "\n",
       "    .dataframe tbody tr th {\n",
       "        vertical-align: top;\n",
       "    }\n",
       "\n",
       "    .dataframe thead th {\n",
       "        text-align: right;\n",
       "    }\n",
       "</style>\n",
       "<table border=\"1\" class=\"dataframe\">\n",
       "  <thead>\n",
       "    <tr style=\"text-align: right;\">\n",
       "      <th></th>\n",
       "      <th>Observations</th>\n",
       "      <th>R2</th>\n",
       "      <th>Adjusted_R2</th>\n",
       "      <th>m</th>\n",
       "    </tr>\n",
       "  </thead>\n",
       "  <tbody>\n",
       "    <tr>\n",
       "      <th>1</th>\n",
       "      <td>158.0</td>\n",
       "      <td>0.992</td>\n",
       "      <td>0.992</td>\n",
       "      <td>6</td>\n",
       "    </tr>\n",
       "    <tr>\n",
       "      <th>2</th>\n",
       "      <td>158.0</td>\n",
       "      <td>0.976</td>\n",
       "      <td>0.976</td>\n",
       "      <td>3</td>\n",
       "    </tr>\n",
       "    <tr>\n",
       "      <th>3</th>\n",
       "      <td>158.0</td>\n",
       "      <td>0.982</td>\n",
       "      <td>0.982</td>\n",
       "      <td>5</td>\n",
       "    </tr>\n",
       "    <tr>\n",
       "      <th>4</th>\n",
       "      <td>158.0</td>\n",
       "      <td>0.053</td>\n",
       "      <td>0.035</td>\n",
       "      <td>4</td>\n",
       "    </tr>\n",
       "    <tr>\n",
       "      <th>5</th>\n",
       "      <td>158.0</td>\n",
       "      <td>0.026</td>\n",
       "      <td>0.020</td>\n",
       "      <td>2</td>\n",
       "    </tr>\n",
       "  </tbody>\n",
       "</table>\n",
       "</div>"
      ],
      "text/plain": [
       "0  Observations     R2  Adjusted_R2  m\n",
       "1         158.0  0.992        0.992  6\n",
       "2         158.0  0.976        0.976  3\n",
       "3         158.0  0.982        0.982  5\n",
       "4         158.0  0.053        0.035  4\n",
       "5         158.0  0.026        0.020  2"
      ]
     },
     "execution_count": 77,
     "metadata": {},
     "output_type": "execute_result"
    }
   ],
   "source": [
    "df['m'] = [6,3,5,4,2]\n",
    "df"
   ]
  },
  {
   "cell_type": "code",
   "execution_count": 78,
   "id": "2b968854",
   "metadata": {},
   "outputs": [
    {
     "data": {
      "text/html": [
       "<div>\n",
       "<style scoped>\n",
       "    .dataframe tbody tr th:only-of-type {\n",
       "        vertical-align: middle;\n",
       "    }\n",
       "\n",
       "    .dataframe tbody tr th {\n",
       "        vertical-align: top;\n",
       "    }\n",
       "\n",
       "    .dataframe thead th {\n",
       "        text-align: right;\n",
       "    }\n",
       "</style>\n",
       "<table border=\"1\" class=\"dataframe\">\n",
       "  <thead>\n",
       "    <tr style=\"text-align: right;\">\n",
       "      <th></th>\n",
       "      <th>Observations</th>\n",
       "      <th>R2</th>\n",
       "      <th>Adjusted_R2</th>\n",
       "      <th>m</th>\n",
       "      <th>F_nabl</th>\n",
       "    </tr>\n",
       "  </thead>\n",
       "  <tbody>\n",
       "    <tr>\n",
       "      <th>1</th>\n",
       "      <td>158.0</td>\n",
       "      <td>0.99</td>\n",
       "      <td>0.99</td>\n",
       "      <td>6</td>\n",
       "      <td>3769.60</td>\n",
       "    </tr>\n",
       "    <tr>\n",
       "      <th>2</th>\n",
       "      <td>158.0</td>\n",
       "      <td>0.98</td>\n",
       "      <td>0.98</td>\n",
       "      <td>3</td>\n",
       "      <td>3151.67</td>\n",
       "    </tr>\n",
       "    <tr>\n",
       "      <th>3</th>\n",
       "      <td>158.0</td>\n",
       "      <td>0.98</td>\n",
       "      <td>0.98</td>\n",
       "      <td>5</td>\n",
       "      <td>2086.75</td>\n",
       "    </tr>\n",
       "    <tr>\n",
       "      <th>4</th>\n",
       "      <td>158.0</td>\n",
       "      <td>0.05</td>\n",
       "      <td>0.04</td>\n",
       "      <td>4</td>\n",
       "      <td>2.87</td>\n",
       "    </tr>\n",
       "    <tr>\n",
       "      <th>5</th>\n",
       "      <td>158.0</td>\n",
       "      <td>0.03</td>\n",
       "      <td>0.02</td>\n",
       "      <td>2</td>\n",
       "      <td>4.16</td>\n",
       "    </tr>\n",
       "  </tbody>\n",
       "</table>\n",
       "</div>"
      ],
      "text/plain": [
       "0  Observations    R2  Adjusted_R2  m   F_nabl\n",
       "1         158.0  0.99         0.99  6  3769.60\n",
       "2         158.0  0.98         0.98  3  3151.67\n",
       "3         158.0  0.98         0.98  5  2086.75\n",
       "4         158.0  0.05         0.04  4     2.87\n",
       "5         158.0  0.03         0.02  2     4.16"
      ]
     },
     "execution_count": 78,
     "metadata": {},
     "output_type": "execute_result"
    }
   ],
   "source": [
    "df['F_nabl'] = (df['R2']/(1-df['R2']))*((df['Observations']-df['m'])/(df['m']-1))\n",
    "df.round(2)"
   ]
  },
  {
   "cell_type": "code",
   "execution_count": 79,
   "id": "fb7d05bd",
   "metadata": {},
   "outputs": [
    {
     "data": {
      "text/html": [
       "<div>\n",
       "<style scoped>\n",
       "    .dataframe tbody tr th:only-of-type {\n",
       "        vertical-align: middle;\n",
       "    }\n",
       "\n",
       "    .dataframe tbody tr th {\n",
       "        vertical-align: top;\n",
       "    }\n",
       "\n",
       "    .dataframe thead th {\n",
       "        text-align: right;\n",
       "    }\n",
       "</style>\n",
       "<table border=\"1\" class=\"dataframe\">\n",
       "  <thead>\n",
       "    <tr style=\"text-align: right;\">\n",
       "      <th></th>\n",
       "      <th>Observations</th>\n",
       "      <th>R2</th>\n",
       "      <th>Adjusted_R2</th>\n",
       "      <th>m</th>\n",
       "      <th>F_nabl</th>\n",
       "      <th>F_crit</th>\n",
       "    </tr>\n",
       "  </thead>\n",
       "  <tbody>\n",
       "    <tr>\n",
       "      <th>1</th>\n",
       "      <td>158.0</td>\n",
       "      <td>0.99</td>\n",
       "      <td>0.99</td>\n",
       "      <td>6</td>\n",
       "      <td>3769.60</td>\n",
       "      <td>3.14</td>\n",
       "    </tr>\n",
       "    <tr>\n",
       "      <th>2</th>\n",
       "      <td>158.0</td>\n",
       "      <td>0.98</td>\n",
       "      <td>0.98</td>\n",
       "      <td>3</td>\n",
       "      <td>3151.67</td>\n",
       "      <td>4.74</td>\n",
       "    </tr>\n",
       "    <tr>\n",
       "      <th>3</th>\n",
       "      <td>158.0</td>\n",
       "      <td>0.98</td>\n",
       "      <td>0.98</td>\n",
       "      <td>5</td>\n",
       "      <td>2086.75</td>\n",
       "      <td>3.44</td>\n",
       "    </tr>\n",
       "    <tr>\n",
       "      <th>4</th>\n",
       "      <td>158.0</td>\n",
       "      <td>0.05</td>\n",
       "      <td>0.04</td>\n",
       "      <td>4</td>\n",
       "      <td>2.87</td>\n",
       "      <td>3.91</td>\n",
       "    </tr>\n",
       "    <tr>\n",
       "      <th>5</th>\n",
       "      <td>158.0</td>\n",
       "      <td>0.03</td>\n",
       "      <td>0.02</td>\n",
       "      <td>2</td>\n",
       "      <td>4.16</td>\n",
       "      <td>6.80</td>\n",
       "    </tr>\n",
       "  </tbody>\n",
       "</table>\n",
       "</div>"
      ],
      "text/plain": [
       "0  Observations    R2  Adjusted_R2  m   F_nabl  F_crit\n",
       "1         158.0  0.99         0.99  6  3769.60    3.14\n",
       "2         158.0  0.98         0.98  3  3151.67    4.74\n",
       "3         158.0  0.98         0.98  5  2086.75    3.44\n",
       "4         158.0  0.05         0.04  4     2.87    3.91\n",
       "5         158.0  0.03         0.02  2     4.16    6.80"
      ]
     },
     "execution_count": 79,
     "metadata": {},
     "output_type": "execute_result"
    }
   ],
   "source": [
    "alpha = 0.01\n",
    "df['F_crit'] = stats.f.ppf(1-alpha,df['m']-1,df['Observations'] - df['m'])\n",
    "df.round(2)"
   ]
  },
  {
   "cell_type": "code",
   "execution_count": 80,
   "id": "cbd553c1",
   "metadata": {},
   "outputs": [
    {
     "data": {
      "text/html": [
       "<div>\n",
       "<style scoped>\n",
       "    .dataframe tbody tr th:only-of-type {\n",
       "        vertical-align: middle;\n",
       "    }\n",
       "\n",
       "    .dataframe tbody tr th {\n",
       "        vertical-align: top;\n",
       "    }\n",
       "\n",
       "    .dataframe thead th {\n",
       "        text-align: right;\n",
       "    }\n",
       "</style>\n",
       "<table border=\"1\" class=\"dataframe\">\n",
       "  <thead>\n",
       "    <tr style=\"text-align: right;\">\n",
       "      <th></th>\n",
       "      <th>Observations</th>\n",
       "      <th>R2</th>\n",
       "      <th>Adjusted_R2</th>\n",
       "      <th>m</th>\n",
       "      <th>F_nabl</th>\n",
       "      <th>F_crit</th>\n",
       "      <th>znachimost</th>\n",
       "    </tr>\n",
       "  </thead>\n",
       "  <tbody>\n",
       "    <tr>\n",
       "      <th>1</th>\n",
       "      <td>158.0</td>\n",
       "      <td>0.992</td>\n",
       "      <td>0.992</td>\n",
       "      <td>6</td>\n",
       "      <td>3769.600000</td>\n",
       "      <td>3.139909</td>\n",
       "      <td>znachimo</td>\n",
       "    </tr>\n",
       "    <tr>\n",
       "      <th>2</th>\n",
       "      <td>158.0</td>\n",
       "      <td>0.976</td>\n",
       "      <td>0.976</td>\n",
       "      <td>3</td>\n",
       "      <td>3151.666667</td>\n",
       "      <td>4.744744</td>\n",
       "      <td>znachimo</td>\n",
       "    </tr>\n",
       "    <tr>\n",
       "      <th>3</th>\n",
       "      <td>158.0</td>\n",
       "      <td>0.982</td>\n",
       "      <td>0.982</td>\n",
       "      <td>5</td>\n",
       "      <td>2086.750000</td>\n",
       "      <td>3.444189</td>\n",
       "      <td>znachimo</td>\n",
       "    </tr>\n",
       "    <tr>\n",
       "      <th>4</th>\n",
       "      <td>158.0</td>\n",
       "      <td>0.053</td>\n",
       "      <td>0.035</td>\n",
       "      <td>4</td>\n",
       "      <td>2.872932</td>\n",
       "      <td>3.911342</td>\n",
       "      <td>ne znachimo</td>\n",
       "    </tr>\n",
       "    <tr>\n",
       "      <th>5</th>\n",
       "      <td>158.0</td>\n",
       "      <td>0.026</td>\n",
       "      <td>0.020</td>\n",
       "      <td>2</td>\n",
       "      <td>4.164271</td>\n",
       "      <td>6.800161</td>\n",
       "      <td>ne znachimo</td>\n",
       "    </tr>\n",
       "  </tbody>\n",
       "</table>\n",
       "</div>"
      ],
      "text/plain": [
       "0  Observations     R2  Adjusted_R2  m       F_nabl    F_crit   znachimost\n",
       "1         158.0  0.992        0.992  6  3769.600000  3.139909     znachimo\n",
       "2         158.0  0.976        0.976  3  3151.666667  4.744744     znachimo\n",
       "3         158.0  0.982        0.982  5  2086.750000  3.444189     znachimo\n",
       "4         158.0  0.053        0.035  4     2.872932  3.911342  ne znachimo\n",
       "5         158.0  0.026        0.020  2     4.164271  6.800161  ne znachimo"
      ]
     },
     "execution_count": 80,
     "metadata": {},
     "output_type": "execute_result"
    }
   ],
   "source": [
    "df['znachimost'] = df.apply(lambda x : 'znachimo' if x['F_nabl'] > x['F_crit'] else 'ne znachimo', axis = 1)\n",
    "df"
   ]
  },
  {
   "cell_type": "markdown",
   "id": "c430ccc7",
   "metadata": {},
   "source": [
    "# 2 F-тест: совместная значимость"
   ]
  },
  {
   "cell_type": "markdown",
   "id": "403ca5fb",
   "metadata": {},
   "source": [
    "$$\n",
    "H_0: \\beta_{0} = \\beta_{1} = \\dots = \\beta_k = 0\n",
    "$$\n",
    "\n",
    "$$\n",
    "H_1: \\beta_{0}^2 + \\beta_{1}^2 + \\dots + \\beta_k^2 > 0\n",
    "$$"
   ]
  },
  {
   "cell_type": "markdown",
   "id": "a32f5ef4",
   "metadata": {},
   "source": [
    "$$\n",
    "F_{nabl} = \\frac{R_{ur}^2-R_r^2}{1-R_{ur}^2} * \\frac{n-m}{q}\n",
    "$$"
   ]
  },
  {
   "cell_type": "markdown",
   "id": "f7a9ba2f",
   "metadata": {},
   "source": [
    "## 2.1 sleep equation #1"
   ]
  },
  {
   "cell_type": "code",
   "execution_count": 81,
   "id": "ac153706",
   "metadata": {},
   "outputs": [],
   "source": [
    "some_string5 = '''Names   Estimate  Std.Error t_nabl   \n",
    "(Intercept) 3446.830301   81.839915 42.1167  \n",
    "totwrk        -0.169130    0.018074 -9.3577 \n",
    "age            2.714483    1.472374  1.8436   \n",
    "male          87.108150   35.173210  2.4765   \n",
    "south        102.271833   41.925047  2.4394  \n",
    "smsa         -54.187710   33.193402 -1.6325      \n",
    "yngkid       -13.051272   50.459104 -0.2587   \n",
    "marr          31.360412   42.263190  0.7420     \n",
    "union         11.865664   38.185877  0.3107'''"
   ]
  },
  {
   "cell_type": "code",
   "execution_count": 82,
   "id": "3e838734",
   "metadata": {},
   "outputs": [
    {
     "data": {
      "text/html": [
       "<div>\n",
       "<style scoped>\n",
       "    .dataframe tbody tr th:only-of-type {\n",
       "        vertical-align: middle;\n",
       "    }\n",
       "\n",
       "    .dataframe tbody tr th {\n",
       "        vertical-align: top;\n",
       "    }\n",
       "\n",
       "    .dataframe thead th {\n",
       "        text-align: right;\n",
       "    }\n",
       "</style>\n",
       "<table border=\"1\" class=\"dataframe\">\n",
       "  <thead>\n",
       "    <tr style=\"text-align: right;\">\n",
       "      <th></th>\n",
       "      <th>Names</th>\n",
       "      <th>Estimate</th>\n",
       "      <th>Std.Error</th>\n",
       "      <th>t_nabl</th>\n",
       "    </tr>\n",
       "  </thead>\n",
       "  <tbody>\n",
       "    <tr>\n",
       "      <th>0</th>\n",
       "      <td>(Intercept)</td>\n",
       "      <td>3446.830</td>\n",
       "      <td>81.840</td>\n",
       "      <td>42.117</td>\n",
       "    </tr>\n",
       "    <tr>\n",
       "      <th>1</th>\n",
       "      <td>totwrk</td>\n",
       "      <td>-0.169</td>\n",
       "      <td>0.018</td>\n",
       "      <td>-9.358</td>\n",
       "    </tr>\n",
       "    <tr>\n",
       "      <th>2</th>\n",
       "      <td>age</td>\n",
       "      <td>2.714</td>\n",
       "      <td>1.472</td>\n",
       "      <td>1.844</td>\n",
       "    </tr>\n",
       "    <tr>\n",
       "      <th>3</th>\n",
       "      <td>male</td>\n",
       "      <td>87.108</td>\n",
       "      <td>35.173</td>\n",
       "      <td>2.476</td>\n",
       "    </tr>\n",
       "    <tr>\n",
       "      <th>4</th>\n",
       "      <td>south</td>\n",
       "      <td>102.272</td>\n",
       "      <td>41.925</td>\n",
       "      <td>2.439</td>\n",
       "    </tr>\n",
       "    <tr>\n",
       "      <th>5</th>\n",
       "      <td>smsa</td>\n",
       "      <td>-54.188</td>\n",
       "      <td>33.193</td>\n",
       "      <td>-1.632</td>\n",
       "    </tr>\n",
       "    <tr>\n",
       "      <th>6</th>\n",
       "      <td>yngkid</td>\n",
       "      <td>-13.051</td>\n",
       "      <td>50.459</td>\n",
       "      <td>-0.259</td>\n",
       "    </tr>\n",
       "    <tr>\n",
       "      <th>7</th>\n",
       "      <td>marr</td>\n",
       "      <td>31.360</td>\n",
       "      <td>42.263</td>\n",
       "      <td>0.742</td>\n",
       "    </tr>\n",
       "    <tr>\n",
       "      <th>8</th>\n",
       "      <td>union</td>\n",
       "      <td>11.866</td>\n",
       "      <td>38.186</td>\n",
       "      <td>0.311</td>\n",
       "    </tr>\n",
       "  </tbody>\n",
       "</table>\n",
       "</div>"
      ],
      "text/plain": [
       "         Names  Estimate  Std.Error  t_nabl\n",
       "0  (Intercept)  3446.830     81.840  42.117\n",
       "1       totwrk    -0.169      0.018  -9.358\n",
       "2          age     2.714      1.472   1.844\n",
       "3         male    87.108     35.173   2.476\n",
       "4        south   102.272     41.925   2.439\n",
       "5         smsa   -54.188     33.193  -1.632\n",
       "6       yngkid   -13.051     50.459  -0.259\n",
       "7         marr    31.360     42.263   0.742\n",
       "8        union    11.866     38.186   0.311"
      ]
     },
     "execution_count": 82,
     "metadata": {},
     "output_type": "execute_result"
    }
   ],
   "source": [
    "df = pd.read_csv(io.StringIO(some_string5), sep='\\s+' )\n",
    "df.round(3)"
   ]
  },
  {
   "cell_type": "code",
   "execution_count": 83,
   "id": "11560054",
   "metadata": {},
   "outputs": [
    {
     "data": {
      "text/plain": [
       "1.963"
      ]
     },
     "execution_count": 83,
     "metadata": {},
     "output_type": "execute_result"
    }
   ],
   "source": [
    "alpha = 0.05\n",
    "t_crit = stats.t.ppf(1-alpha/2, 706-8-1)\n",
    "t_crit.round(3)"
   ]
  },
  {
   "cell_type": "code",
   "execution_count": 84,
   "id": "01af152e",
   "metadata": {},
   "outputs": [
    {
     "data": {
      "text/html": [
       "<div>\n",
       "<style scoped>\n",
       "    .dataframe tbody tr th:only-of-type {\n",
       "        vertical-align: middle;\n",
       "    }\n",
       "\n",
       "    .dataframe tbody tr th {\n",
       "        vertical-align: top;\n",
       "    }\n",
       "\n",
       "    .dataframe thead th {\n",
       "        text-align: right;\n",
       "    }\n",
       "</style>\n",
       "<table border=\"1\" class=\"dataframe\">\n",
       "  <thead>\n",
       "    <tr style=\"text-align: right;\">\n",
       "      <th></th>\n",
       "      <th>Names</th>\n",
       "      <th>Estimate</th>\n",
       "      <th>Std.Error</th>\n",
       "      <th>t_nabl</th>\n",
       "      <th>znachimost</th>\n",
       "    </tr>\n",
       "  </thead>\n",
       "  <tbody>\n",
       "    <tr>\n",
       "      <th>0</th>\n",
       "      <td>(Intercept)</td>\n",
       "      <td>3446.830301</td>\n",
       "      <td>81.839915</td>\n",
       "      <td>42.1167</td>\n",
       "      <td>znachimo</td>\n",
       "    </tr>\n",
       "    <tr>\n",
       "      <th>1</th>\n",
       "      <td>totwrk</td>\n",
       "      <td>-0.169130</td>\n",
       "      <td>0.018074</td>\n",
       "      <td>-9.3577</td>\n",
       "      <td>znachimo</td>\n",
       "    </tr>\n",
       "    <tr>\n",
       "      <th>2</th>\n",
       "      <td>age</td>\n",
       "      <td>2.714483</td>\n",
       "      <td>1.472374</td>\n",
       "      <td>1.8436</td>\n",
       "      <td>ne znachimo</td>\n",
       "    </tr>\n",
       "    <tr>\n",
       "      <th>3</th>\n",
       "      <td>male</td>\n",
       "      <td>87.108150</td>\n",
       "      <td>35.173210</td>\n",
       "      <td>2.4765</td>\n",
       "      <td>znachimo</td>\n",
       "    </tr>\n",
       "    <tr>\n",
       "      <th>4</th>\n",
       "      <td>south</td>\n",
       "      <td>102.271833</td>\n",
       "      <td>41.925047</td>\n",
       "      <td>2.4394</td>\n",
       "      <td>znachimo</td>\n",
       "    </tr>\n",
       "    <tr>\n",
       "      <th>5</th>\n",
       "      <td>smsa</td>\n",
       "      <td>-54.187710</td>\n",
       "      <td>33.193402</td>\n",
       "      <td>-1.6325</td>\n",
       "      <td>ne znachimo</td>\n",
       "    </tr>\n",
       "    <tr>\n",
       "      <th>6</th>\n",
       "      <td>yngkid</td>\n",
       "      <td>-13.051272</td>\n",
       "      <td>50.459104</td>\n",
       "      <td>-0.2587</td>\n",
       "      <td>ne znachimo</td>\n",
       "    </tr>\n",
       "    <tr>\n",
       "      <th>7</th>\n",
       "      <td>marr</td>\n",
       "      <td>31.360412</td>\n",
       "      <td>42.263190</td>\n",
       "      <td>0.7420</td>\n",
       "      <td>ne znachimo</td>\n",
       "    </tr>\n",
       "    <tr>\n",
       "      <th>8</th>\n",
       "      <td>union</td>\n",
       "      <td>11.865664</td>\n",
       "      <td>38.185877</td>\n",
       "      <td>0.3107</td>\n",
       "      <td>ne znachimo</td>\n",
       "    </tr>\n",
       "  </tbody>\n",
       "</table>\n",
       "</div>"
      ],
      "text/plain": [
       "         Names     Estimate  Std.Error   t_nabl   znachimost\n",
       "0  (Intercept)  3446.830301  81.839915  42.1167     znachimo\n",
       "1       totwrk    -0.169130   0.018074  -9.3577     znachimo\n",
       "2          age     2.714483   1.472374   1.8436  ne znachimo\n",
       "3         male    87.108150  35.173210   2.4765     znachimo\n",
       "4        south   102.271833  41.925047   2.4394     znachimo\n",
       "5         smsa   -54.187710  33.193402  -1.6325  ne znachimo\n",
       "6       yngkid   -13.051272  50.459104  -0.2587  ne znachimo\n",
       "7         marr    31.360412  42.263190   0.7420  ne znachimo\n",
       "8        union    11.865664  38.185877   0.3107  ne znachimo"
      ]
     },
     "execution_count": 84,
     "metadata": {},
     "output_type": "execute_result"
    }
   ],
   "source": [
    "df['znachimost'] = df.apply(lambda x: 'znachimo' if np.abs(x['t_nabl']) > t_crit else 'ne znachimo', axis=1 )\n",
    "df"
   ]
  },
  {
   "cell_type": "markdown",
   "id": "5c2825d1",
   "metadata": {},
   "source": [
    "$$\n",
    "H_0: \\beta_{marr} = \\beta_{union} = \\beta_{ynkid} = \\beta_{smsa} = 0\n",
    "$$\n",
    "\n",
    "$$\n",
    "H_1: \\beta_{marr}^2 + \\beta_{union}^2 + \\beta_{ynkid}^2 + \\beta_{smsa}^2 > 0\n",
    "$$"
   ]
  },
  {
   "cell_type": "code",
   "execution_count": 38,
   "id": "b0a3a5c8",
   "metadata": {},
   "outputs": [
    {
     "name": "stdout",
     "output_type": "stream",
     "text": [
      "0.131 0.127\n"
     ]
    }
   ],
   "source": [
    "unrest, rest = np.float_( re.findall(r'([-+]?\\d+.\\d+)', 'R2                      0.131          0.127    '))\n",
    "print(unrest, rest)"
   ]
  },
  {
   "cell_type": "code",
   "execution_count": 41,
   "id": "88b3fc85",
   "metadata": {},
   "outputs": [
    {
     "data": {
      "text/plain": [
       "0.802"
      ]
     },
     "execution_count": 41,
     "metadata": {},
     "output_type": "execute_result"
    }
   ],
   "source": [
    "F_nabl = (unrest - rest)/(1-unrest)*(706 - 9)/4\n",
    "F_nabl.round(3)"
   ]
  },
  {
   "cell_type": "code",
   "execution_count": 42,
   "id": "e3806b84",
   "metadata": {},
   "outputs": [
    {
     "data": {
      "text/plain": [
       "2.385"
      ]
     },
     "execution_count": 42,
     "metadata": {},
     "output_type": "execute_result"
    }
   ],
   "source": [
    "alpha = 0.05\n",
    "F_crit = stats.f.ppf(1-alpha,4,706-9)\n",
    "F_crit.round(3)"
   ]
  },
  {
   "cell_type": "markdown",
   "id": "fd24bd86",
   "metadata": {},
   "source": [
    "$ F_{nabl} < F_{crit} $ следовательно данные согласуются с гипотезой $H_0 =>$ коэффициенты совместно незначимы"
   ]
  },
  {
   "cell_type": "markdown",
   "id": "8348a651",
   "metadata": {},
   "source": [
    "## 2.2 sleep equation #2"
   ]
  },
  {
   "cell_type": "code",
   "execution_count": 151,
   "id": "1fb84a83",
   "metadata": {},
   "outputs": [],
   "source": [
    "some_string6 = '''Names Estimate  Std.Error t_nabl  \n",
    "(Intercept) 3613.994663  218.432669 16.5451 \n",
    "totwrk        -0.167320    0.018132 -9.2278 \n",
    "age           -6.254665   11.191179 -0.5589    \n",
    "I(age^2)       0.108862    0.133736  0.8140  \n",
    "male          90.456708   34.257144  2.6405 \n",
    "south        114.547494   40.637198  2.8188'''"
   ]
  },
  {
   "cell_type": "code",
   "execution_count": 152,
   "id": "852a4818",
   "metadata": {},
   "outputs": [
    {
     "data": {
      "text/html": [
       "<div>\n",
       "<style scoped>\n",
       "    .dataframe tbody tr th:only-of-type {\n",
       "        vertical-align: middle;\n",
       "    }\n",
       "\n",
       "    .dataframe tbody tr th {\n",
       "        vertical-align: top;\n",
       "    }\n",
       "\n",
       "    .dataframe thead th {\n",
       "        text-align: right;\n",
       "    }\n",
       "</style>\n",
       "<table border=\"1\" class=\"dataframe\">\n",
       "  <thead>\n",
       "    <tr style=\"text-align: right;\">\n",
       "      <th></th>\n",
       "      <th>Names</th>\n",
       "      <th>Estimate</th>\n",
       "      <th>Std.Error</th>\n",
       "      <th>t_nabl</th>\n",
       "    </tr>\n",
       "  </thead>\n",
       "  <tbody>\n",
       "    <tr>\n",
       "      <th>0</th>\n",
       "      <td>(Intercept)</td>\n",
       "      <td>3613.995</td>\n",
       "      <td>218.433</td>\n",
       "      <td>16.545</td>\n",
       "    </tr>\n",
       "    <tr>\n",
       "      <th>1</th>\n",
       "      <td>totwrk</td>\n",
       "      <td>-0.167</td>\n",
       "      <td>0.018</td>\n",
       "      <td>-9.228</td>\n",
       "    </tr>\n",
       "    <tr>\n",
       "      <th>2</th>\n",
       "      <td>age</td>\n",
       "      <td>-6.255</td>\n",
       "      <td>11.191</td>\n",
       "      <td>-0.559</td>\n",
       "    </tr>\n",
       "    <tr>\n",
       "      <th>3</th>\n",
       "      <td>I(age^2)</td>\n",
       "      <td>0.109</td>\n",
       "      <td>0.134</td>\n",
       "      <td>0.814</td>\n",
       "    </tr>\n",
       "    <tr>\n",
       "      <th>4</th>\n",
       "      <td>male</td>\n",
       "      <td>90.457</td>\n",
       "      <td>34.257</td>\n",
       "      <td>2.640</td>\n",
       "    </tr>\n",
       "    <tr>\n",
       "      <th>5</th>\n",
       "      <td>south</td>\n",
       "      <td>114.547</td>\n",
       "      <td>40.637</td>\n",
       "      <td>2.819</td>\n",
       "    </tr>\n",
       "  </tbody>\n",
       "</table>\n",
       "</div>"
      ],
      "text/plain": [
       "         Names  Estimate  Std.Error  t_nabl\n",
       "0  (Intercept)  3613.995    218.433  16.545\n",
       "1       totwrk    -0.167      0.018  -9.228\n",
       "2          age    -6.255     11.191  -0.559\n",
       "3     I(age^2)     0.109      0.134   0.814\n",
       "4         male    90.457     34.257   2.640\n",
       "5        south   114.547     40.637   2.819"
      ]
     },
     "execution_count": 152,
     "metadata": {},
     "output_type": "execute_result"
    }
   ],
   "source": [
    "df = pd.read_csv(io.StringIO(some_string6), sep='\\s+' )\n",
    "df.round(3)"
   ]
  },
  {
   "cell_type": "code",
   "execution_count": 153,
   "id": "6b851a1c",
   "metadata": {},
   "outputs": [
    {
     "data": {
      "text/plain": [
       "2.583"
      ]
     },
     "execution_count": 153,
     "metadata": {},
     "output_type": "execute_result"
    }
   ],
   "source": [
    "alpha = 0.01\n",
    "t_crit = stats.t.ppf(1-alpha/2, 706-5-1)\n",
    "t_crit.round(3)"
   ]
  },
  {
   "cell_type": "code",
   "execution_count": 154,
   "id": "5fbcd35c",
   "metadata": {},
   "outputs": [
    {
     "data": {
      "text/html": [
       "<div>\n",
       "<style scoped>\n",
       "    .dataframe tbody tr th:only-of-type {\n",
       "        vertical-align: middle;\n",
       "    }\n",
       "\n",
       "    .dataframe tbody tr th {\n",
       "        vertical-align: top;\n",
       "    }\n",
       "\n",
       "    .dataframe thead th {\n",
       "        text-align: right;\n",
       "    }\n",
       "</style>\n",
       "<table border=\"1\" class=\"dataframe\">\n",
       "  <thead>\n",
       "    <tr style=\"text-align: right;\">\n",
       "      <th></th>\n",
       "      <th>Names</th>\n",
       "      <th>Estimate</th>\n",
       "      <th>Std.Error</th>\n",
       "      <th>t_nabl</th>\n",
       "      <th>znachimost</th>\n",
       "    </tr>\n",
       "  </thead>\n",
       "  <tbody>\n",
       "    <tr>\n",
       "      <th>0</th>\n",
       "      <td>(Intercept)</td>\n",
       "      <td>3613.994663</td>\n",
       "      <td>218.432669</td>\n",
       "      <td>16.5451</td>\n",
       "      <td>znachimo</td>\n",
       "    </tr>\n",
       "    <tr>\n",
       "      <th>1</th>\n",
       "      <td>totwrk</td>\n",
       "      <td>-0.167320</td>\n",
       "      <td>0.018132</td>\n",
       "      <td>-9.2278</td>\n",
       "      <td>znachimo</td>\n",
       "    </tr>\n",
       "    <tr>\n",
       "      <th>2</th>\n",
       "      <td>age</td>\n",
       "      <td>-6.254665</td>\n",
       "      <td>11.191179</td>\n",
       "      <td>-0.5589</td>\n",
       "      <td>ne znachimo</td>\n",
       "    </tr>\n",
       "    <tr>\n",
       "      <th>3</th>\n",
       "      <td>I(age^2)</td>\n",
       "      <td>0.108862</td>\n",
       "      <td>0.133736</td>\n",
       "      <td>0.8140</td>\n",
       "      <td>ne znachimo</td>\n",
       "    </tr>\n",
       "    <tr>\n",
       "      <th>4</th>\n",
       "      <td>male</td>\n",
       "      <td>90.456708</td>\n",
       "      <td>34.257144</td>\n",
       "      <td>2.6405</td>\n",
       "      <td>znachimo</td>\n",
       "    </tr>\n",
       "    <tr>\n",
       "      <th>5</th>\n",
       "      <td>south</td>\n",
       "      <td>114.547494</td>\n",
       "      <td>40.637198</td>\n",
       "      <td>2.8188</td>\n",
       "      <td>znachimo</td>\n",
       "    </tr>\n",
       "  </tbody>\n",
       "</table>\n",
       "</div>"
      ],
      "text/plain": [
       "         Names     Estimate   Std.Error   t_nabl   znachimost\n",
       "0  (Intercept)  3613.994663  218.432669  16.5451     znachimo\n",
       "1       totwrk    -0.167320    0.018132  -9.2278     znachimo\n",
       "2          age    -6.254665   11.191179  -0.5589  ne znachimo\n",
       "3     I(age^2)     0.108862    0.133736   0.8140  ne znachimo\n",
       "4         male    90.456708   34.257144   2.6405     znachimo\n",
       "5        south   114.547494   40.637198   2.8188     znachimo"
      ]
     },
     "execution_count": 154,
     "metadata": {},
     "output_type": "execute_result"
    }
   ],
   "source": [
    "df['znachimost'] = df.apply(lambda x: 'znachimo' if np.abs(x['t_nabl']) > t_crit else 'ne znachimo', axis=1 )\n",
    "df"
   ]
  },
  {
   "cell_type": "markdown",
   "id": "618bf828",
   "metadata": {},
   "source": [
    "$$\n",
    "H_0: \\beta_{age} = \\beta_{age^2} = 0\n",
    "$$\n",
    "\n",
    "$$\n",
    "H_1: \\beta_{age}^2 + \\beta_{age^2}^2 > 0\n",
    "$$"
   ]
  },
  {
   "cell_type": "code",
   "execution_count": 108,
   "id": "b6fa15ab",
   "metadata": {},
   "outputs": [
    {
     "name": "stdout",
     "output_type": "stream",
     "text": [
      "0.128 0.122\n"
     ]
    }
   ],
   "source": [
    "unrest, rest = np.float_( re.findall(r'([-+]?\\d+.\\d+)', 'R2                      0.128          0.122'))\n",
    "print(unrest, rest)"
   ]
  },
  {
   "cell_type": "code",
   "execution_count": 109,
   "id": "72d14ad8",
   "metadata": {},
   "outputs": [
    {
     "data": {
      "text/plain": [
       "2.408"
      ]
     },
     "execution_count": 109,
     "metadata": {},
     "output_type": "execute_result"
    }
   ],
   "source": [
    "F_nabl = (unrest - rest)/(1-unrest)*(706 - 6)/2\n",
    "F_nabl.round(3)"
   ]
  },
  {
   "cell_type": "code",
   "execution_count": 110,
   "id": "8a126224",
   "metadata": {},
   "outputs": [
    {
     "data": {
      "text/plain": [
       "4.636"
      ]
     },
     "execution_count": 110,
     "metadata": {},
     "output_type": "execute_result"
    }
   ],
   "source": [
    "alpha = 0.01\n",
    "F_crit = stats.f.ppf(1-alpha,2,706-6)\n",
    "F_crit.round(3)"
   ]
  },
  {
   "cell_type": "markdown",
   "id": "8df5fe1b",
   "metadata": {},
   "source": [
    "$ F_{nabl} < F_{crit} $ следовательно данные согласуются с гипотезой $H_0 =>$ коэффициенты совместно незначимы"
   ]
  },
  {
   "cell_type": "markdown",
   "id": "2d160bb3",
   "metadata": {},
   "source": [
    "## 2.3 sleep equation #3"
   ]
  },
  {
   "cell_type": "code",
   "execution_count": 155,
   "id": "c4067d13",
   "metadata": {},
   "outputs": [],
   "source": [
    "some_string7 = '''Names  Estimate  Std.Error t_nabl \n",
    "(Intercept) 3587.178292  220.238404 16.2877 \n",
    "totwrk        -0.149121    0.026286 -5.6730 \n",
    "age           -6.258663   11.191863 -0.5592   \n",
    "I(age^2)       0.106517    0.133767  0.7963  \n",
    "male         161.890143   82.177481  1.9700  \n",
    "south        112.143584   40.717344  2.7542 \n",
    "totwrk:male   -0.034694    0.036279 -0.9563'''"
   ]
  },
  {
   "cell_type": "code",
   "execution_count": 156,
   "id": "28043777",
   "metadata": {},
   "outputs": [
    {
     "data": {
      "text/html": [
       "<div>\n",
       "<style scoped>\n",
       "    .dataframe tbody tr th:only-of-type {\n",
       "        vertical-align: middle;\n",
       "    }\n",
       "\n",
       "    .dataframe tbody tr th {\n",
       "        vertical-align: top;\n",
       "    }\n",
       "\n",
       "    .dataframe thead th {\n",
       "        text-align: right;\n",
       "    }\n",
       "</style>\n",
       "<table border=\"1\" class=\"dataframe\">\n",
       "  <thead>\n",
       "    <tr style=\"text-align: right;\">\n",
       "      <th></th>\n",
       "      <th>Names</th>\n",
       "      <th>Estimate</th>\n",
       "      <th>Std.Error</th>\n",
       "      <th>t_nabl</th>\n",
       "    </tr>\n",
       "  </thead>\n",
       "  <tbody>\n",
       "    <tr>\n",
       "      <th>0</th>\n",
       "      <td>(Intercept)</td>\n",
       "      <td>3587.178</td>\n",
       "      <td>220.238</td>\n",
       "      <td>16.288</td>\n",
       "    </tr>\n",
       "    <tr>\n",
       "      <th>1</th>\n",
       "      <td>totwrk</td>\n",
       "      <td>-0.149</td>\n",
       "      <td>0.026</td>\n",
       "      <td>-5.673</td>\n",
       "    </tr>\n",
       "    <tr>\n",
       "      <th>2</th>\n",
       "      <td>age</td>\n",
       "      <td>-6.259</td>\n",
       "      <td>11.192</td>\n",
       "      <td>-0.559</td>\n",
       "    </tr>\n",
       "    <tr>\n",
       "      <th>3</th>\n",
       "      <td>I(age^2)</td>\n",
       "      <td>0.107</td>\n",
       "      <td>0.134</td>\n",
       "      <td>0.796</td>\n",
       "    </tr>\n",
       "    <tr>\n",
       "      <th>4</th>\n",
       "      <td>male</td>\n",
       "      <td>161.890</td>\n",
       "      <td>82.177</td>\n",
       "      <td>1.970</td>\n",
       "    </tr>\n",
       "    <tr>\n",
       "      <th>5</th>\n",
       "      <td>south</td>\n",
       "      <td>112.144</td>\n",
       "      <td>40.717</td>\n",
       "      <td>2.754</td>\n",
       "    </tr>\n",
       "    <tr>\n",
       "      <th>6</th>\n",
       "      <td>totwrk:male</td>\n",
       "      <td>-0.035</td>\n",
       "      <td>0.036</td>\n",
       "      <td>-0.956</td>\n",
       "    </tr>\n",
       "  </tbody>\n",
       "</table>\n",
       "</div>"
      ],
      "text/plain": [
       "         Names  Estimate  Std.Error  t_nabl\n",
       "0  (Intercept)  3587.178    220.238  16.288\n",
       "1       totwrk    -0.149      0.026  -5.673\n",
       "2          age    -6.259     11.192  -0.559\n",
       "3     I(age^2)     0.107      0.134   0.796\n",
       "4         male   161.890     82.177   1.970\n",
       "5        south   112.144     40.717   2.754\n",
       "6  totwrk:male    -0.035      0.036  -0.956"
      ]
     },
     "execution_count": 156,
     "metadata": {},
     "output_type": "execute_result"
    }
   ],
   "source": [
    "df = pd.read_csv(io.StringIO(some_string7), sep='\\s+' )\n",
    "df.round(3)"
   ]
  },
  {
   "cell_type": "code",
   "execution_count": 157,
   "id": "8748cbb9",
   "metadata": {},
   "outputs": [
    {
     "data": {
      "text/plain": [
       "2.583"
      ]
     },
     "execution_count": 157,
     "metadata": {},
     "output_type": "execute_result"
    }
   ],
   "source": [
    "alpha = 0.01\n",
    "t_crit = stats.t.ppf(1-alpha/2, 706-6-1)\n",
    "t_crit.round(3)"
   ]
  },
  {
   "cell_type": "code",
   "execution_count": 158,
   "id": "436aa304",
   "metadata": {},
   "outputs": [
    {
     "data": {
      "text/html": [
       "<div>\n",
       "<style scoped>\n",
       "    .dataframe tbody tr th:only-of-type {\n",
       "        vertical-align: middle;\n",
       "    }\n",
       "\n",
       "    .dataframe tbody tr th {\n",
       "        vertical-align: top;\n",
       "    }\n",
       "\n",
       "    .dataframe thead th {\n",
       "        text-align: right;\n",
       "    }\n",
       "</style>\n",
       "<table border=\"1\" class=\"dataframe\">\n",
       "  <thead>\n",
       "    <tr style=\"text-align: right;\">\n",
       "      <th></th>\n",
       "      <th>Names</th>\n",
       "      <th>Estimate</th>\n",
       "      <th>Std.Error</th>\n",
       "      <th>t_nabl</th>\n",
       "      <th>znachimost</th>\n",
       "    </tr>\n",
       "  </thead>\n",
       "  <tbody>\n",
       "    <tr>\n",
       "      <th>0</th>\n",
       "      <td>(Intercept)</td>\n",
       "      <td>3587.178292</td>\n",
       "      <td>220.238404</td>\n",
       "      <td>16.2877</td>\n",
       "      <td>znachimo</td>\n",
       "    </tr>\n",
       "    <tr>\n",
       "      <th>1</th>\n",
       "      <td>totwrk</td>\n",
       "      <td>-0.149121</td>\n",
       "      <td>0.026286</td>\n",
       "      <td>-5.6730</td>\n",
       "      <td>znachimo</td>\n",
       "    </tr>\n",
       "    <tr>\n",
       "      <th>2</th>\n",
       "      <td>age</td>\n",
       "      <td>-6.258663</td>\n",
       "      <td>11.191863</td>\n",
       "      <td>-0.5592</td>\n",
       "      <td>ne znachimo</td>\n",
       "    </tr>\n",
       "    <tr>\n",
       "      <th>3</th>\n",
       "      <td>I(age^2)</td>\n",
       "      <td>0.106517</td>\n",
       "      <td>0.133767</td>\n",
       "      <td>0.7963</td>\n",
       "      <td>ne znachimo</td>\n",
       "    </tr>\n",
       "    <tr>\n",
       "      <th>4</th>\n",
       "      <td>male</td>\n",
       "      <td>161.890143</td>\n",
       "      <td>82.177481</td>\n",
       "      <td>1.9700</td>\n",
       "      <td>ne znachimo</td>\n",
       "    </tr>\n",
       "    <tr>\n",
       "      <th>5</th>\n",
       "      <td>south</td>\n",
       "      <td>112.143584</td>\n",
       "      <td>40.717344</td>\n",
       "      <td>2.7542</td>\n",
       "      <td>znachimo</td>\n",
       "    </tr>\n",
       "    <tr>\n",
       "      <th>6</th>\n",
       "      <td>totwrk:male</td>\n",
       "      <td>-0.034694</td>\n",
       "      <td>0.036279</td>\n",
       "      <td>-0.9563</td>\n",
       "      <td>ne znachimo</td>\n",
       "    </tr>\n",
       "  </tbody>\n",
       "</table>\n",
       "</div>"
      ],
      "text/plain": [
       "         Names     Estimate   Std.Error   t_nabl   znachimost\n",
       "0  (Intercept)  3587.178292  220.238404  16.2877     znachimo\n",
       "1       totwrk    -0.149121    0.026286  -5.6730     znachimo\n",
       "2          age    -6.258663   11.191863  -0.5592  ne znachimo\n",
       "3     I(age^2)     0.106517    0.133767   0.7963  ne znachimo\n",
       "4         male   161.890143   82.177481   1.9700  ne znachimo\n",
       "5        south   112.143584   40.717344   2.7542     znachimo\n",
       "6  totwrk:male    -0.034694    0.036279  -0.9563  ne znachimo"
      ]
     },
     "execution_count": 158,
     "metadata": {},
     "output_type": "execute_result"
    }
   ],
   "source": [
    "df['znachimost'] = df.apply(lambda x: 'znachimo' if np.abs(x['t_nabl']) > t_crit else 'ne znachimo', axis=1 )\n",
    "df"
   ]
  },
  {
   "cell_type": "markdown",
   "id": "8c07c43e",
   "metadata": {},
   "source": [
    "$$\n",
    "H_0: \\beta_{male} = \\beta_{male*totwrk} = 0\n",
    "$$\n",
    "\n",
    "$$\n",
    "H_1: \\beta_{male}^2 + \\beta_{male*totwrk}^2 > 0\n",
    "$$"
   ]
  },
  {
   "cell_type": "code",
   "execution_count": 117,
   "id": "2db977d2",
   "metadata": {},
   "outputs": [
    {
     "name": "stdout",
     "output_type": "stream",
     "text": [
      "0.129 0.119\n"
     ]
    }
   ],
   "source": [
    "unrest, rest = np.float_( re.findall(r'([-+]?\\d+.\\d+)', 'R2                      0.129          0.119'))\n",
    "print(unrest, rest)"
   ]
  },
  {
   "cell_type": "code",
   "execution_count": 118,
   "id": "afed2d98",
   "metadata": {},
   "outputs": [
    {
     "data": {
      "text/plain": [
       "4.013"
      ]
     },
     "execution_count": 118,
     "metadata": {},
     "output_type": "execute_result"
    }
   ],
   "source": [
    "F_nabl = (unrest - rest)/(1-unrest)*(706 - 7)/2\n",
    "F_nabl.round(3)"
   ]
  },
  {
   "cell_type": "code",
   "execution_count": 119,
   "id": "a7af5f0e",
   "metadata": {},
   "outputs": [
    {
     "data": {
      "text/plain": [
       "4.636"
      ]
     },
     "execution_count": 119,
     "metadata": {},
     "output_type": "execute_result"
    }
   ],
   "source": [
    "alpha = 0.01\n",
    "F_crit = stats.f.ppf(1-alpha,2,706-7)\n",
    "F_crit.round(3)"
   ]
  },
  {
   "cell_type": "markdown",
   "id": "14d41f80",
   "metadata": {},
   "source": [
    "$ F_{nabl} < F_{crit} $ следовательно данные согласуются с гипотезой $H_0 =>$ коэффициенты совместно незначимы"
   ]
  },
  {
   "cell_type": "markdown",
   "id": "db453dde",
   "metadata": {},
   "source": [
    "## 2.4 wage equation #1"
   ]
  },
  {
   "cell_type": "code",
   "execution_count": 159,
   "id": "dcbb1f6d",
   "metadata": {},
   "outputs": [],
   "source": [
    "some_string8 = '''Names Estimate  Std.Error t_nabl   \n",
    "(Intercept)  2.93780233  1.65623416  1.7738   \n",
    "age          0.14475408  0.10003338  1.4471    \n",
    "I(age^2)    -0.00185652  0.00150253 -1.2356    \n",
    "IQ           0.00821604  0.00084095  9.7699 \n",
    "south       -0.10027331  0.02683810 -3.7362 \n",
    "urban        0.17319472  0.02766716  6.2599 \n",
    "married      0.20153862  0.04023976  5.0084'''"
   ]
  },
  {
   "cell_type": "code",
   "execution_count": 160,
   "id": "61ed102b",
   "metadata": {},
   "outputs": [
    {
     "data": {
      "text/html": [
       "<div>\n",
       "<style scoped>\n",
       "    .dataframe tbody tr th:only-of-type {\n",
       "        vertical-align: middle;\n",
       "    }\n",
       "\n",
       "    .dataframe tbody tr th {\n",
       "        vertical-align: top;\n",
       "    }\n",
       "\n",
       "    .dataframe thead th {\n",
       "        text-align: right;\n",
       "    }\n",
       "</style>\n",
       "<table border=\"1\" class=\"dataframe\">\n",
       "  <thead>\n",
       "    <tr style=\"text-align: right;\">\n",
       "      <th></th>\n",
       "      <th>Names</th>\n",
       "      <th>Estimate</th>\n",
       "      <th>Std.Error</th>\n",
       "      <th>t_nabl</th>\n",
       "    </tr>\n",
       "  </thead>\n",
       "  <tbody>\n",
       "    <tr>\n",
       "      <th>0</th>\n",
       "      <td>(Intercept)</td>\n",
       "      <td>2.938</td>\n",
       "      <td>1.656</td>\n",
       "      <td>1.774</td>\n",
       "    </tr>\n",
       "    <tr>\n",
       "      <th>1</th>\n",
       "      <td>age</td>\n",
       "      <td>0.145</td>\n",
       "      <td>0.100</td>\n",
       "      <td>1.447</td>\n",
       "    </tr>\n",
       "    <tr>\n",
       "      <th>2</th>\n",
       "      <td>I(age^2)</td>\n",
       "      <td>-0.002</td>\n",
       "      <td>0.002</td>\n",
       "      <td>-1.236</td>\n",
       "    </tr>\n",
       "    <tr>\n",
       "      <th>3</th>\n",
       "      <td>IQ</td>\n",
       "      <td>0.008</td>\n",
       "      <td>0.001</td>\n",
       "      <td>9.770</td>\n",
       "    </tr>\n",
       "    <tr>\n",
       "      <th>4</th>\n",
       "      <td>south</td>\n",
       "      <td>-0.100</td>\n",
       "      <td>0.027</td>\n",
       "      <td>-3.736</td>\n",
       "    </tr>\n",
       "    <tr>\n",
       "      <th>5</th>\n",
       "      <td>urban</td>\n",
       "      <td>0.173</td>\n",
       "      <td>0.028</td>\n",
       "      <td>6.260</td>\n",
       "    </tr>\n",
       "    <tr>\n",
       "      <th>6</th>\n",
       "      <td>married</td>\n",
       "      <td>0.202</td>\n",
       "      <td>0.040</td>\n",
       "      <td>5.008</td>\n",
       "    </tr>\n",
       "  </tbody>\n",
       "</table>\n",
       "</div>"
      ],
      "text/plain": [
       "         Names  Estimate  Std.Error  t_nabl\n",
       "0  (Intercept)     2.938      1.656   1.774\n",
       "1          age     0.145      0.100   1.447\n",
       "2     I(age^2)    -0.002      0.002  -1.236\n",
       "3           IQ     0.008      0.001   9.770\n",
       "4        south    -0.100      0.027  -3.736\n",
       "5        urban     0.173      0.028   6.260\n",
       "6      married     0.202      0.040   5.008"
      ]
     },
     "execution_count": 160,
     "metadata": {},
     "output_type": "execute_result"
    }
   ],
   "source": [
    "df = pd.read_csv(io.StringIO(some_string8), sep='\\s+' )\n",
    "df.round(3)"
   ]
  },
  {
   "cell_type": "code",
   "execution_count": 161,
   "id": "137369d7",
   "metadata": {},
   "outputs": [
    {
     "data": {
      "text/plain": [
       "2.581"
      ]
     },
     "execution_count": 161,
     "metadata": {},
     "output_type": "execute_result"
    }
   ],
   "source": [
    "alpha = 0.01\n",
    "t_crit = stats.t.ppf(1-alpha/2, 935-6-1)\n",
    "t_crit.round(3)"
   ]
  },
  {
   "cell_type": "code",
   "execution_count": 162,
   "id": "9999bea3",
   "metadata": {},
   "outputs": [
    {
     "data": {
      "text/html": [
       "<div>\n",
       "<style scoped>\n",
       "    .dataframe tbody tr th:only-of-type {\n",
       "        vertical-align: middle;\n",
       "    }\n",
       "\n",
       "    .dataframe tbody tr th {\n",
       "        vertical-align: top;\n",
       "    }\n",
       "\n",
       "    .dataframe thead th {\n",
       "        text-align: right;\n",
       "    }\n",
       "</style>\n",
       "<table border=\"1\" class=\"dataframe\">\n",
       "  <thead>\n",
       "    <tr style=\"text-align: right;\">\n",
       "      <th></th>\n",
       "      <th>Names</th>\n",
       "      <th>Estimate</th>\n",
       "      <th>Std.Error</th>\n",
       "      <th>t_nabl</th>\n",
       "      <th>znachimost</th>\n",
       "    </tr>\n",
       "  </thead>\n",
       "  <tbody>\n",
       "    <tr>\n",
       "      <th>0</th>\n",
       "      <td>(Intercept)</td>\n",
       "      <td>2.937802</td>\n",
       "      <td>1.656234</td>\n",
       "      <td>1.7738</td>\n",
       "      <td>ne znachimo</td>\n",
       "    </tr>\n",
       "    <tr>\n",
       "      <th>1</th>\n",
       "      <td>age</td>\n",
       "      <td>0.144754</td>\n",
       "      <td>0.100033</td>\n",
       "      <td>1.4471</td>\n",
       "      <td>ne znachimo</td>\n",
       "    </tr>\n",
       "    <tr>\n",
       "      <th>2</th>\n",
       "      <td>I(age^2)</td>\n",
       "      <td>-0.001857</td>\n",
       "      <td>0.001503</td>\n",
       "      <td>-1.2356</td>\n",
       "      <td>ne znachimo</td>\n",
       "    </tr>\n",
       "    <tr>\n",
       "      <th>3</th>\n",
       "      <td>IQ</td>\n",
       "      <td>0.008216</td>\n",
       "      <td>0.000841</td>\n",
       "      <td>9.7699</td>\n",
       "      <td>znachimo</td>\n",
       "    </tr>\n",
       "    <tr>\n",
       "      <th>4</th>\n",
       "      <td>south</td>\n",
       "      <td>-0.100273</td>\n",
       "      <td>0.026838</td>\n",
       "      <td>-3.7362</td>\n",
       "      <td>znachimo</td>\n",
       "    </tr>\n",
       "    <tr>\n",
       "      <th>5</th>\n",
       "      <td>urban</td>\n",
       "      <td>0.173195</td>\n",
       "      <td>0.027667</td>\n",
       "      <td>6.2599</td>\n",
       "      <td>znachimo</td>\n",
       "    </tr>\n",
       "    <tr>\n",
       "      <th>6</th>\n",
       "      <td>married</td>\n",
       "      <td>0.201539</td>\n",
       "      <td>0.040240</td>\n",
       "      <td>5.0084</td>\n",
       "      <td>znachimo</td>\n",
       "    </tr>\n",
       "  </tbody>\n",
       "</table>\n",
       "</div>"
      ],
      "text/plain": [
       "         Names  Estimate  Std.Error  t_nabl   znachimost\n",
       "0  (Intercept)  2.937802   1.656234  1.7738  ne znachimo\n",
       "1          age  0.144754   0.100033  1.4471  ne znachimo\n",
       "2     I(age^2) -0.001857   0.001503 -1.2356  ne znachimo\n",
       "3           IQ  0.008216   0.000841  9.7699     znachimo\n",
       "4        south -0.100273   0.026838 -3.7362     znachimo\n",
       "5        urban  0.173195   0.027667  6.2599     znachimo\n",
       "6      married  0.201539   0.040240  5.0084     znachimo"
      ]
     },
     "execution_count": 162,
     "metadata": {},
     "output_type": "execute_result"
    }
   ],
   "source": [
    "df['znachimost'] = df.apply(lambda x: 'znachimo' if np.abs(x['t_nabl']) > t_crit else 'ne znachimo', axis=1 )\n",
    "df"
   ]
  },
  {
   "cell_type": "markdown",
   "id": "629f258d",
   "metadata": {},
   "source": [
    "$$\n",
    "H_0: \\beta_{age} = \\beta_{age^2} = 0\n",
    "$$\n",
    "\n",
    "$$\n",
    "H_1: \\beta_{age}^2 + \\beta_{age^2}^2 > 0\n",
    "$$"
   ]
  },
  {
   "cell_type": "code",
   "execution_count": 124,
   "id": "aca5d6f1",
   "metadata": {},
   "outputs": [
    {
     "name": "stdout",
     "output_type": "stream",
     "text": [
      "0.201 0.175\n"
     ]
    }
   ],
   "source": [
    "unrest, rest = np.float_( re.findall(r'([-+]?\\d+.\\d+)', 'R2                      0.201          0.175'))\n",
    "print(unrest, rest)"
   ]
  },
  {
   "cell_type": "code",
   "execution_count": 125,
   "id": "a8744891",
   "metadata": {},
   "outputs": [
    {
     "data": {
      "text/plain": [
       "15.099"
      ]
     },
     "execution_count": 125,
     "metadata": {},
     "output_type": "execute_result"
    }
   ],
   "source": [
    "F_nabl = (unrest - rest)/(1-unrest)*(935 - 7)/2\n",
    "F_nabl.round(3)"
   ]
  },
  {
   "cell_type": "code",
   "execution_count": 126,
   "id": "0133a6e6",
   "metadata": {},
   "outputs": [
    {
     "data": {
      "text/plain": [
       "4.628"
      ]
     },
     "execution_count": 126,
     "metadata": {},
     "output_type": "execute_result"
    }
   ],
   "source": [
    "alpha = 0.01\n",
    "F_crit = stats.f.ppf(1-alpha,2,935-7)\n",
    "F_crit.round(3)"
   ]
  },
  {
   "cell_type": "markdown",
   "id": "f02bc847",
   "metadata": {},
   "source": [
    "$ F_{nabl} > F_{crit} $ следовательно данные не согласуются с гипотезой $H_0 =>$ коэффициенты совместно значимы"
   ]
  },
  {
   "cell_type": "markdown",
   "id": "a791821b",
   "metadata": {},
   "source": [
    "# 3 F-тест: структурные ограничения"
   ]
  },
  {
   "cell_type": "markdown",
   "id": "e4a75114",
   "metadata": {},
   "source": [
    "$$\n",
    "F_{crit} (\\alpha, df_{num}, df_{denum})\n",
    "$$"
   ]
  },
  {
   "cell_type": "markdown",
   "id": "66794505",
   "metadata": {},
   "source": [
    "## 3.1 cost equation"
   ]
  },
  {
   "cell_type": "code",
   "execution_count": 29,
   "id": "8fccf596",
   "metadata": {},
   "outputs": [
    {
     "data": {
      "text/html": [
       "<div>\n",
       "<style scoped>\n",
       "    .dataframe tbody tr th:only-of-type {\n",
       "        vertical-align: middle;\n",
       "    }\n",
       "\n",
       "    .dataframe tbody tr th {\n",
       "        vertical-align: top;\n",
       "    }\n",
       "\n",
       "    .dataframe thead th {\n",
       "        text-align: right;\n",
       "    }\n",
       "</style>\n",
       "<table border=\"1\" class=\"dataframe\">\n",
       "  <thead>\n",
       "    <tr style=\"text-align: right;\">\n",
       "      <th></th>\n",
       "      <th>cost</th>\n",
       "      <th>q</th>\n",
       "      <th>pl</th>\n",
       "      <th>sl</th>\n",
       "      <th>pk</th>\n",
       "      <th>sk</th>\n",
       "      <th>pf</th>\n",
       "      <th>sf</th>\n",
       "    </tr>\n",
       "  </thead>\n",
       "  <tbody>\n",
       "    <tr>\n",
       "      <th>0</th>\n",
       "      <td>0.2130</td>\n",
       "      <td>8.0</td>\n",
       "      <td>6869.47</td>\n",
       "      <td>0.3291</td>\n",
       "      <td>64.945</td>\n",
       "      <td>0.4197</td>\n",
       "      <td>18.000</td>\n",
       "      <td>0.2512</td>\n",
       "    </tr>\n",
       "    <tr>\n",
       "      <th>1</th>\n",
       "      <td>3.0427</td>\n",
       "      <td>869.0</td>\n",
       "      <td>8372.96</td>\n",
       "      <td>0.1030</td>\n",
       "      <td>68.227</td>\n",
       "      <td>0.2913</td>\n",
       "      <td>21.067</td>\n",
       "      <td>0.6057</td>\n",
       "    </tr>\n",
       "    <tr>\n",
       "      <th>2</th>\n",
       "      <td>9.4059</td>\n",
       "      <td>1412.0</td>\n",
       "      <td>7960.90</td>\n",
       "      <td>0.0891</td>\n",
       "      <td>40.692</td>\n",
       "      <td>0.1567</td>\n",
       "      <td>41.530</td>\n",
       "      <td>0.7542</td>\n",
       "    </tr>\n",
       "    <tr>\n",
       "      <th>3</th>\n",
       "      <td>0.7606</td>\n",
       "      <td>65.0</td>\n",
       "      <td>8971.89</td>\n",
       "      <td>0.2802</td>\n",
       "      <td>41.243</td>\n",
       "      <td>0.1282</td>\n",
       "      <td>28.539</td>\n",
       "      <td>0.5916</td>\n",
       "    </tr>\n",
       "    <tr>\n",
       "      <th>4</th>\n",
       "      <td>2.2587</td>\n",
       "      <td>295.0</td>\n",
       "      <td>8218.40</td>\n",
       "      <td>0.1772</td>\n",
       "      <td>71.940</td>\n",
       "      <td>0.1623</td>\n",
       "      <td>39.200</td>\n",
       "      <td>0.6606</td>\n",
       "    </tr>\n",
       "    <tr>\n",
       "      <th>...</th>\n",
       "      <td>...</td>\n",
       "      <td>...</td>\n",
       "      <td>...</td>\n",
       "      <td>...</td>\n",
       "      <td>...</td>\n",
       "      <td>...</td>\n",
       "      <td>...</td>\n",
       "      <td>...</td>\n",
       "    </tr>\n",
       "    <tr>\n",
       "      <th>153</th>\n",
       "      <td>6.8293</td>\n",
       "      <td>946.6</td>\n",
       "      <td>10642.16</td>\n",
       "      <td>0.0883</td>\n",
       "      <td>43.600</td>\n",
       "      <td>0.1914</td>\n",
       "      <td>51.463</td>\n",
       "      <td>0.7203</td>\n",
       "    </tr>\n",
       "    <tr>\n",
       "      <th>154</th>\n",
       "      <td>3.7605</td>\n",
       "      <td>377.0</td>\n",
       "      <td>7432.24</td>\n",
       "      <td>0.2117</td>\n",
       "      <td>74.120</td>\n",
       "      <td>0.2274</td>\n",
       "      <td>33.436</td>\n",
       "      <td>0.5609</td>\n",
       "    </tr>\n",
       "    <tr>\n",
       "      <th>155</th>\n",
       "      <td>3.9822</td>\n",
       "      <td>391.0</td>\n",
       "      <td>5826.04</td>\n",
       "      <td>0.1926</td>\n",
       "      <td>78.288</td>\n",
       "      <td>0.0924</td>\n",
       "      <td>44.633</td>\n",
       "      <td>0.7151</td>\n",
       "    </tr>\n",
       "    <tr>\n",
       "      <th>156</th>\n",
       "      <td>30.1880</td>\n",
       "      <td>5317.0</td>\n",
       "      <td>9586.63</td>\n",
       "      <td>0.0845</td>\n",
       "      <td>78.008</td>\n",
       "      <td>0.2009</td>\n",
       "      <td>41.840</td>\n",
       "      <td>0.7147</td>\n",
       "    </tr>\n",
       "    <tr>\n",
       "      <th>157</th>\n",
       "      <td>67.8562</td>\n",
       "      <td>15220.0</td>\n",
       "      <td>6986.09</td>\n",
       "      <td>0.1451</td>\n",
       "      <td>74.025</td>\n",
       "      <td>0.2596</td>\n",
       "      <td>25.662</td>\n",
       "      <td>0.5945</td>\n",
       "    </tr>\n",
       "  </tbody>\n",
       "</table>\n",
       "<p>158 rows × 8 columns</p>\n",
       "</div>"
      ],
      "text/plain": [
       "        cost        q        pl      sl      pk      sk      pf      sf\n",
       "0     0.2130      8.0   6869.47  0.3291  64.945  0.4197  18.000  0.2512\n",
       "1     3.0427    869.0   8372.96  0.1030  68.227  0.2913  21.067  0.6057\n",
       "2     9.4059   1412.0   7960.90  0.0891  40.692  0.1567  41.530  0.7542\n",
       "3     0.7606     65.0   8971.89  0.2802  41.243  0.1282  28.539  0.5916\n",
       "4     2.2587    295.0   8218.40  0.1772  71.940  0.1623  39.200  0.6606\n",
       "..       ...      ...       ...     ...     ...     ...     ...     ...\n",
       "153   6.8293    946.6  10642.16  0.0883  43.600  0.1914  51.463  0.7203\n",
       "154   3.7605    377.0   7432.24  0.2117  74.120  0.2274  33.436  0.5609\n",
       "155   3.9822    391.0   5826.04  0.1926  78.288  0.0924  44.633  0.7151\n",
       "156  30.1880   5317.0   9586.63  0.0845  78.008  0.2009  41.840  0.7147\n",
       "157  67.8562  15220.0   6986.09  0.1451  74.025  0.2596  25.662  0.5945\n",
       "\n",
       "[158 rows x 8 columns]"
      ]
     },
     "execution_count": 29,
     "metadata": {},
     "output_type": "execute_result"
    }
   ],
   "source": [
    "df = pd.read_csv('https://raw.githubusercontent.com/artamonoff/Econometrica/master/python-notebooks/List05/Electricity.csv')\n",
    "df"
   ]
  },
  {
   "cell_type": "code",
   "execution_count": 30,
   "id": "b54b2f47",
   "metadata": {},
   "outputs": [
    {
     "data": {
      "text/html": [
       "<table class=\"simpletable\">\n",
       "<caption>OLS Regression Results</caption>\n",
       "<tr>\n",
       "  <th>Dep. Variable:</th>      <td>np.log(cost)</td>   <th>  R-squared:         </th> <td>   0.992</td> \n",
       "</tr>\n",
       "<tr>\n",
       "  <th>Model:</th>                   <td>OLS</td>       <th>  Adj. R-squared:    </th> <td>   0.992</td> \n",
       "</tr>\n",
       "<tr>\n",
       "  <th>Method:</th>             <td>Least Squares</td>  <th>  F-statistic:       </th> <td>   3880.</td> \n",
       "</tr>\n",
       "<tr>\n",
       "  <th>Date:</th>             <td>Sun, 02 Apr 2023</td> <th>  Prob (F-statistic):</th> <td>2.45e-158</td>\n",
       "</tr>\n",
       "<tr>\n",
       "  <th>Time:</th>                 <td>22:56:44</td>     <th>  Log-Likelihood:    </th> <td>  91.515</td> \n",
       "</tr>\n",
       "<tr>\n",
       "  <th>No. Observations:</th>      <td>   158</td>      <th>  AIC:               </th> <td>  -171.0</td> \n",
       "</tr>\n",
       "<tr>\n",
       "  <th>Df Residuals:</th>          <td>   152</td>      <th>  BIC:               </th> <td>  -152.7</td> \n",
       "</tr>\n",
       "<tr>\n",
       "  <th>Df Model:</th>              <td>     5</td>      <th>                     </th>     <td> </td>    \n",
       "</tr>\n",
       "<tr>\n",
       "  <th>Covariance Type:</th>      <td>nonrobust</td>    <th>                     </th>     <td> </td>    \n",
       "</tr>\n",
       "</table>\n",
       "<table class=\"simpletable\">\n",
       "<tr>\n",
       "          <td></td>             <th>coef</th>     <th>std err</th>      <th>t</th>      <th>P>|t|</th>  <th>[0.025</th>    <th>0.975]</th>  \n",
       "</tr>\n",
       "<tr>\n",
       "  <th>Intercept</th>         <td>   -6.7387</td> <td>    0.706</td> <td>   -9.541</td> <td> 0.000</td> <td>   -8.134</td> <td>   -5.343</td>\n",
       "</tr>\n",
       "<tr>\n",
       "  <th>np.log(q)</th>         <td>    0.4030</td> <td>    0.032</td> <td>   12.734</td> <td> 0.000</td> <td>    0.340</td> <td>    0.466</td>\n",
       "</tr>\n",
       "<tr>\n",
       "  <th>I(np.log(q) ** 2)</th> <td>    0.0304</td> <td>    0.002</td> <td>   14.024</td> <td> 0.000</td> <td>    0.026</td> <td>    0.035</td>\n",
       "</tr>\n",
       "<tr>\n",
       "  <th>np.log(pl)</th>        <td>    0.1461</td> <td>    0.070</td> <td>    2.073</td> <td> 0.040</td> <td>    0.007</td> <td>    0.285</td>\n",
       "</tr>\n",
       "<tr>\n",
       "  <th>np.log(pk)</th>        <td>    0.1571</td> <td>    0.058</td> <td>    2.721</td> <td> 0.007</td> <td>    0.043</td> <td>    0.271</td>\n",
       "</tr>\n",
       "<tr>\n",
       "  <th>np.log(pf)</th>        <td>    0.6847</td> <td>    0.043</td> <td>   16.043</td> <td> 0.000</td> <td>    0.600</td> <td>    0.769</td>\n",
       "</tr>\n",
       "</table>\n",
       "<table class=\"simpletable\">\n",
       "<tr>\n",
       "  <th>Omnibus:</th>       <td> 2.342</td> <th>  Durbin-Watson:     </th> <td>   1.798</td>\n",
       "</tr>\n",
       "<tr>\n",
       "  <th>Prob(Omnibus):</th> <td> 0.310</td> <th>  Jarque-Bera (JB):  </th> <td>   2.078</td>\n",
       "</tr>\n",
       "<tr>\n",
       "  <th>Skew:</th>          <td> 0.109</td> <th>  Prob(JB):          </th> <td>   0.354</td>\n",
       "</tr>\n",
       "<tr>\n",
       "  <th>Kurtosis:</th>      <td> 3.518</td> <th>  Cond. No.          </th> <td>4.99e+03</td>\n",
       "</tr>\n",
       "</table><br/><br/>Notes:<br/>[1] Standard Errors assume that the covariance matrix of the errors is correctly specified.<br/>[2] The condition number is large, 4.99e+03. This might indicate that there are<br/>strong multicollinearity or other numerical problems."
      ],
      "text/plain": [
       "<class 'statsmodels.iolib.summary.Summary'>\n",
       "\"\"\"\n",
       "                            OLS Regression Results                            \n",
       "==============================================================================\n",
       "Dep. Variable:           np.log(cost)   R-squared:                       0.992\n",
       "Model:                            OLS   Adj. R-squared:                  0.992\n",
       "Method:                 Least Squares   F-statistic:                     3880.\n",
       "Date:                Sun, 02 Apr 2023   Prob (F-statistic):          2.45e-158\n",
       "Time:                        22:56:44   Log-Likelihood:                 91.515\n",
       "No. Observations:                 158   AIC:                            -171.0\n",
       "Df Residuals:                     152   BIC:                            -152.7\n",
       "Df Model:                           5                                         \n",
       "Covariance Type:            nonrobust                                         \n",
       "=====================================================================================\n",
       "                        coef    std err          t      P>|t|      [0.025      0.975]\n",
       "-------------------------------------------------------------------------------------\n",
       "Intercept            -6.7387      0.706     -9.541      0.000      -8.134      -5.343\n",
       "np.log(q)             0.4030      0.032     12.734      0.000       0.340       0.466\n",
       "I(np.log(q) ** 2)     0.0304      0.002     14.024      0.000       0.026       0.035\n",
       "np.log(pl)            0.1461      0.070      2.073      0.040       0.007       0.285\n",
       "np.log(pk)            0.1571      0.058      2.721      0.007       0.043       0.271\n",
       "np.log(pf)            0.6847      0.043     16.043      0.000       0.600       0.769\n",
       "==============================================================================\n",
       "Omnibus:                        2.342   Durbin-Watson:                   1.798\n",
       "Prob(Omnibus):                  0.310   Jarque-Bera (JB):                2.078\n",
       "Skew:                           0.109   Prob(JB):                        0.354\n",
       "Kurtosis:                       3.518   Cond. No.                     4.99e+03\n",
       "==============================================================================\n",
       "\n",
       "Notes:\n",
       "[1] Standard Errors assume that the covariance matrix of the errors is correctly specified.\n",
       "[2] The condition number is large, 4.99e+03. This might indicate that there are\n",
       "strong multicollinearity or other numerical problems.\n",
       "\"\"\""
      ]
     },
     "execution_count": 30,
     "metadata": {},
     "output_type": "execute_result"
    }
   ],
   "source": [
    "models = smf.ols(data = df, formula = 'np.log(cost)~np.log(q)+I(np.log(q)**2)+np.log(pl)+np.log(pk)+np.log(pf)').fit()\n",
    "models.summary() "
   ]
  },
  {
   "cell_type": "code",
   "execution_count": 31,
   "id": "69958ba7",
   "metadata": {},
   "outputs": [
    {
     "data": {
      "text/html": [
       "<table class=\"simpletable\">\n",
       "<tr>\n",
       "          <td></td>             <th>coef</th>     <th>std err</th>      <th>t</th>      <th>P>|t|</th>  <th>[0.005</th>    <th>0.995]</th>  \n",
       "</tr>\n",
       "<tr>\n",
       "  <th>Intercept</th>         <td>   -6.7387</td> <td>    0.706</td> <td>   -9.541</td> <td> 0.000</td> <td>   -8.581</td> <td>   -4.896</td>\n",
       "</tr>\n",
       "<tr>\n",
       "  <th>np.log(q)</th>         <td>    0.4030</td> <td>    0.032</td> <td>   12.734</td> <td> 0.000</td> <td>    0.320</td> <td>    0.486</td>\n",
       "</tr>\n",
       "<tr>\n",
       "  <th>I(np.log(q) ** 2)</th> <td>    0.0304</td> <td>    0.002</td> <td>   14.024</td> <td> 0.000</td> <td>    0.025</td> <td>    0.036</td>\n",
       "</tr>\n",
       "<tr>\n",
       "  <th>np.log(pl)</th>        <td>    0.1461</td> <td>    0.070</td> <td>    2.073</td> <td> 0.040</td> <td>   -0.038</td> <td>    0.330</td>\n",
       "</tr>\n",
       "<tr>\n",
       "  <th>np.log(pk)</th>        <td>    0.1571</td> <td>    0.058</td> <td>    2.721</td> <td> 0.007</td> <td>    0.007</td> <td>    0.308</td>\n",
       "</tr>\n",
       "<tr>\n",
       "  <th>np.log(pf)</th>        <td>    0.6847</td> <td>    0.043</td> <td>   16.043</td> <td> 0.000</td> <td>    0.573</td> <td>    0.796</td>\n",
       "</tr>\n",
       "</table>"
      ],
      "text/plain": [
       "<class 'statsmodels.iolib.table.SimpleTable'>"
      ]
     },
     "execution_count": 31,
     "metadata": {},
     "output_type": "execute_result"
    }
   ],
   "source": [
    "models.summary(alpha=0.01).tables[1]"
   ]
  },
  {
   "cell_type": "code",
   "execution_count": 32,
   "id": "b3fe1d89",
   "metadata": {},
   "outputs": [],
   "source": [
    "some_string9 = '''names coef std.err\n",
    "Intercept -6.7387 0.706\n",
    "np.log(q) 0.4030 0.032\n",
    "I(np.log(q)**2) 0.0304 0.002\n",
    "np.log(pl) 0.1461 0.070\n",
    "np.log(pk) 0.1571 0.058\n",
    "np.log(pf) 0.6847 0.043'''"
   ]
  },
  {
   "cell_type": "code",
   "execution_count": 33,
   "id": "ce6b304b",
   "metadata": {},
   "outputs": [
    {
     "data": {
      "text/html": [
       "<div>\n",
       "<style scoped>\n",
       "    .dataframe tbody tr th:only-of-type {\n",
       "        vertical-align: middle;\n",
       "    }\n",
       "\n",
       "    .dataframe tbody tr th {\n",
       "        vertical-align: top;\n",
       "    }\n",
       "\n",
       "    .dataframe thead th {\n",
       "        text-align: right;\n",
       "    }\n",
       "</style>\n",
       "<table border=\"1\" class=\"dataframe\">\n",
       "  <thead>\n",
       "    <tr style=\"text-align: right;\">\n",
       "      <th></th>\n",
       "      <th>names</th>\n",
       "      <th>coef</th>\n",
       "      <th>std.err</th>\n",
       "    </tr>\n",
       "  </thead>\n",
       "  <tbody>\n",
       "    <tr>\n",
       "      <th>0</th>\n",
       "      <td>Intercept</td>\n",
       "      <td>-6.7387</td>\n",
       "      <td>0.706</td>\n",
       "    </tr>\n",
       "    <tr>\n",
       "      <th>1</th>\n",
       "      <td>np.log(q)</td>\n",
       "      <td>0.4030</td>\n",
       "      <td>0.032</td>\n",
       "    </tr>\n",
       "    <tr>\n",
       "      <th>2</th>\n",
       "      <td>I(np.log(q)**2)</td>\n",
       "      <td>0.0304</td>\n",
       "      <td>0.002</td>\n",
       "    </tr>\n",
       "    <tr>\n",
       "      <th>3</th>\n",
       "      <td>np.log(pl)</td>\n",
       "      <td>0.1461</td>\n",
       "      <td>0.070</td>\n",
       "    </tr>\n",
       "    <tr>\n",
       "      <th>4</th>\n",
       "      <td>np.log(pk)</td>\n",
       "      <td>0.1571</td>\n",
       "      <td>0.058</td>\n",
       "    </tr>\n",
       "    <tr>\n",
       "      <th>5</th>\n",
       "      <td>np.log(pf)</td>\n",
       "      <td>0.6847</td>\n",
       "      <td>0.043</td>\n",
       "    </tr>\n",
       "  </tbody>\n",
       "</table>\n",
       "</div>"
      ],
      "text/plain": [
       "             names    coef  std.err\n",
       "0        Intercept -6.7387    0.706\n",
       "1        np.log(q)  0.4030    0.032\n",
       "2  I(np.log(q)**2)  0.0304    0.002\n",
       "3       np.log(pl)  0.1461    0.070\n",
       "4       np.log(pk)  0.1571    0.058\n",
       "5       np.log(pf)  0.6847    0.043"
      ]
     },
     "execution_count": 33,
     "metadata": {},
     "output_type": "execute_result"
    }
   ],
   "source": [
    "df = pd.read_csv(io.StringIO(some_string9), sep='\\s+' )\n",
    "df"
   ]
  },
  {
   "cell_type": "code",
   "execution_count": 34,
   "id": "98f56a54",
   "metadata": {},
   "outputs": [
    {
     "data": {
      "text/html": [
       "<div>\n",
       "<style scoped>\n",
       "    .dataframe tbody tr th:only-of-type {\n",
       "        vertical-align: middle;\n",
       "    }\n",
       "\n",
       "    .dataframe tbody tr th {\n",
       "        vertical-align: top;\n",
       "    }\n",
       "\n",
       "    .dataframe thead th {\n",
       "        text-align: right;\n",
       "    }\n",
       "</style>\n",
       "<table border=\"1\" class=\"dataframe\">\n",
       "  <thead>\n",
       "    <tr style=\"text-align: right;\">\n",
       "      <th></th>\n",
       "      <th>names</th>\n",
       "      <th>coef</th>\n",
       "      <th>std.err</th>\n",
       "      <th>t_nabl</th>\n",
       "    </tr>\n",
       "  </thead>\n",
       "  <tbody>\n",
       "    <tr>\n",
       "      <th>0</th>\n",
       "      <td>Intercept</td>\n",
       "      <td>-6.739</td>\n",
       "      <td>0.706</td>\n",
       "      <td>-9.545</td>\n",
       "    </tr>\n",
       "    <tr>\n",
       "      <th>1</th>\n",
       "      <td>np.log(q)</td>\n",
       "      <td>0.403</td>\n",
       "      <td>0.032</td>\n",
       "      <td>12.594</td>\n",
       "    </tr>\n",
       "    <tr>\n",
       "      <th>2</th>\n",
       "      <td>I(np.log(q)**2)</td>\n",
       "      <td>0.030</td>\n",
       "      <td>0.002</td>\n",
       "      <td>15.200</td>\n",
       "    </tr>\n",
       "    <tr>\n",
       "      <th>3</th>\n",
       "      <td>np.log(pl)</td>\n",
       "      <td>0.146</td>\n",
       "      <td>0.070</td>\n",
       "      <td>2.087</td>\n",
       "    </tr>\n",
       "    <tr>\n",
       "      <th>4</th>\n",
       "      <td>np.log(pk)</td>\n",
       "      <td>0.157</td>\n",
       "      <td>0.058</td>\n",
       "      <td>2.709</td>\n",
       "    </tr>\n",
       "    <tr>\n",
       "      <th>5</th>\n",
       "      <td>np.log(pf)</td>\n",
       "      <td>0.685</td>\n",
       "      <td>0.043</td>\n",
       "      <td>15.923</td>\n",
       "    </tr>\n",
       "  </tbody>\n",
       "</table>\n",
       "</div>"
      ],
      "text/plain": [
       "             names   coef  std.err  t_nabl\n",
       "0        Intercept -6.739    0.706  -9.545\n",
       "1        np.log(q)  0.403    0.032  12.594\n",
       "2  I(np.log(q)**2)  0.030    0.002  15.200\n",
       "3       np.log(pl)  0.146    0.070   2.087\n",
       "4       np.log(pk)  0.157    0.058   2.709\n",
       "5       np.log(pf)  0.685    0.043  15.923"
      ]
     },
     "execution_count": 34,
     "metadata": {},
     "output_type": "execute_result"
    }
   ],
   "source": [
    "df['t_nabl'] = df['coef']/df['std.err']\n",
    "df.round(3)"
   ]
  },
  {
   "cell_type": "code",
   "execution_count": 35,
   "id": "494cdce2",
   "metadata": {},
   "outputs": [
    {
     "data": {
      "text/plain": [
       "2.608"
      ]
     },
     "execution_count": 35,
     "metadata": {},
     "output_type": "execute_result"
    }
   ],
   "source": [
    "alpha = 0.01\n",
    "t_crit = stats.t.ppf(1-alpha, 158-4-1)\n",
    "t_crit.round(3)"
   ]
  },
  {
   "cell_type": "code",
   "execution_count": 36,
   "id": "33de8312",
   "metadata": {},
   "outputs": [
    {
     "data": {
      "text/html": [
       "<div>\n",
       "<style scoped>\n",
       "    .dataframe tbody tr th:only-of-type {\n",
       "        vertical-align: middle;\n",
       "    }\n",
       "\n",
       "    .dataframe tbody tr th {\n",
       "        vertical-align: top;\n",
       "    }\n",
       "\n",
       "    .dataframe thead th {\n",
       "        text-align: right;\n",
       "    }\n",
       "</style>\n",
       "<table border=\"1\" class=\"dataframe\">\n",
       "  <thead>\n",
       "    <tr style=\"text-align: right;\">\n",
       "      <th></th>\n",
       "      <th>names</th>\n",
       "      <th>coef</th>\n",
       "      <th>std.err</th>\n",
       "      <th>t_nabl</th>\n",
       "      <th>znachimost</th>\n",
       "    </tr>\n",
       "  </thead>\n",
       "  <tbody>\n",
       "    <tr>\n",
       "      <th>0</th>\n",
       "      <td>Intercept</td>\n",
       "      <td>-6.7387</td>\n",
       "      <td>0.706</td>\n",
       "      <td>-9.544901</td>\n",
       "      <td>znachim</td>\n",
       "    </tr>\n",
       "    <tr>\n",
       "      <th>1</th>\n",
       "      <td>np.log(q)</td>\n",
       "      <td>0.4030</td>\n",
       "      <td>0.032</td>\n",
       "      <td>12.593750</td>\n",
       "      <td>znachim</td>\n",
       "    </tr>\n",
       "    <tr>\n",
       "      <th>2</th>\n",
       "      <td>I(np.log(q)**2)</td>\n",
       "      <td>0.0304</td>\n",
       "      <td>0.002</td>\n",
       "      <td>15.200000</td>\n",
       "      <td>znachim</td>\n",
       "    </tr>\n",
       "    <tr>\n",
       "      <th>3</th>\n",
       "      <td>np.log(pl)</td>\n",
       "      <td>0.1461</td>\n",
       "      <td>0.070</td>\n",
       "      <td>2.087143</td>\n",
       "      <td>ne znachim</td>\n",
       "    </tr>\n",
       "    <tr>\n",
       "      <th>4</th>\n",
       "      <td>np.log(pk)</td>\n",
       "      <td>0.1571</td>\n",
       "      <td>0.058</td>\n",
       "      <td>2.708621</td>\n",
       "      <td>znachim</td>\n",
       "    </tr>\n",
       "    <tr>\n",
       "      <th>5</th>\n",
       "      <td>np.log(pf)</td>\n",
       "      <td>0.6847</td>\n",
       "      <td>0.043</td>\n",
       "      <td>15.923256</td>\n",
       "      <td>znachim</td>\n",
       "    </tr>\n",
       "  </tbody>\n",
       "</table>\n",
       "</div>"
      ],
      "text/plain": [
       "             names    coef  std.err     t_nabl  znachimost\n",
       "0        Intercept -6.7387    0.706  -9.544901     znachim\n",
       "1        np.log(q)  0.4030    0.032  12.593750     znachim\n",
       "2  I(np.log(q)**2)  0.0304    0.002  15.200000     znachim\n",
       "3       np.log(pl)  0.1461    0.070   2.087143  ne znachim\n",
       "4       np.log(pk)  0.1571    0.058   2.708621     znachim\n",
       "5       np.log(pf)  0.6847    0.043  15.923256     znachim"
      ]
     },
     "execution_count": 36,
     "metadata": {},
     "output_type": "execute_result"
    }
   ],
   "source": [
    "df['znachimost'] = df.apply(lambda x: 'znachim' if np.abs(x['t_nabl']) > t_crit else 'ne znachim', axis=1 )\n",
    "df"
   ]
  },
  {
   "cell_type": "markdown",
   "id": "dd664d0f",
   "metadata": {},
   "source": [
    "### 3.1.1 Гипотеза 1"
   ]
  },
  {
   "cell_type": "markdown",
   "id": "6fd36ee2",
   "metadata": {},
   "source": [
    "$$\n",
    "H_0: \\beta_{pf} + \\beta_{pl} + \\beta_{pk} = 1\n",
    "$$"
   ]
  },
  {
   "cell_type": "code",
   "execution_count": 45,
   "id": "29e7fc17",
   "metadata": {},
   "outputs": [
    {
     "data": {
      "text/plain": [
       "<class 'statsmodels.stats.contrast.ContrastResults'>\n",
       "<F test: F=0.014541184876261685, p=0.9041775484872097, df_denom=152, df_num=1>"
      ]
     },
     "execution_count": 45,
     "metadata": {},
     "output_type": "execute_result"
    }
   ],
   "source": [
    "models.f_test('np.log(pl)+np.log(pk)+np.log(pf) = 1')"
   ]
  },
  {
   "cell_type": "code",
   "execution_count": 71,
   "id": "84bd752e",
   "metadata": {},
   "outputs": [
    {
     "data": {
      "text/plain": [
       "6.805"
      ]
     },
     "execution_count": 71,
     "metadata": {},
     "output_type": "execute_result"
    }
   ],
   "source": [
    "alpha = 0.01\n",
    "df_denom=152\n",
    "df_num=1\n",
    "t_crit = stats.f.ppf(1-alpha, df_num, df_denom)\n",
    "t_crit.round(3)"
   ]
  },
  {
   "cell_type": "markdown",
   "id": "7b4206f3",
   "metadata": {},
   "source": [
    "Вывод: гипотезу не отвергаем, т.к. $ F_{nabl} < F_{crit} $"
   ]
  },
  {
   "cell_type": "markdown",
   "id": "2459181e",
   "metadata": {},
   "source": [
    "### 3.1.2 Гипотеза 2"
   ]
  },
  {
   "cell_type": "markdown",
   "id": "0a56380a",
   "metadata": {},
   "source": [
    "$$\n",
    "H_0: \\beta_{pl} + \\beta_{pk}\n",
    "$$"
   ]
  },
  {
   "cell_type": "code",
   "execution_count": 73,
   "id": "7244424e",
   "metadata": {},
   "outputs": [
    {
     "data": {
      "text/plain": [
       "<class 'statsmodels.stats.contrast.ContrastResults'>\n",
       "<F test: F=0.020086275898515187, p=0.8874840609151591, df_denom=152, df_num=1>"
      ]
     },
     "execution_count": 73,
     "metadata": {},
     "output_type": "execute_result"
    }
   ],
   "source": [
    "models.f_test('np.log(pl) = np.log(pk)')"
   ]
  },
  {
   "cell_type": "code",
   "execution_count": 74,
   "id": "623e1689",
   "metadata": {},
   "outputs": [
    {
     "data": {
      "text/plain": [
       "6.805"
      ]
     },
     "execution_count": 74,
     "metadata": {},
     "output_type": "execute_result"
    }
   ],
   "source": [
    "alpha = 0.01\n",
    "df_denom=152\n",
    "df_num=1\n",
    "t_crit = stats.f.ppf(1-alpha, df_num, df_denom)\n",
    "t_crit.round(3)"
   ]
  },
  {
   "cell_type": "markdown",
   "id": "94661297",
   "metadata": {},
   "source": [
    "Вывод: гипотезу не отвергаем, т.к. $ F_{nabl} < F_{crit} $"
   ]
  },
  {
   "cell_type": "markdown",
   "id": "ea137bf7",
   "metadata": {},
   "source": [
    "### 3.1.3 Гипотеза 3"
   ]
  },
  {
   "cell_type": "markdown",
   "id": "4a48e36c",
   "metadata": {},
   "source": [
    "$$\n",
    "H_0: \\beta_{pf} + \\beta_{pl} + \\beta_{pk} \n",
    "$$"
   ]
  },
  {
   "cell_type": "code",
   "execution_count": 75,
   "id": "031d8de8",
   "metadata": {},
   "outputs": [
    {
     "data": {
      "text/plain": [
       "<class 'statsmodels.stats.contrast.ContrastResults'>\n",
       "<F test: F=26.41708068625207, p=1.424069501505643e-10, df_denom=152, df_num=2>"
      ]
     },
     "execution_count": 75,
     "metadata": {},
     "output_type": "execute_result"
    }
   ],
   "source": [
    "models.f_test('np.log(pf)=np.log(pl)=np.log(pk)')"
   ]
  },
  {
   "cell_type": "code",
   "execution_count": 76,
   "id": "d2c27e2d",
   "metadata": {},
   "outputs": [
    {
     "data": {
      "text/plain": [
       "4.748"
      ]
     },
     "execution_count": 76,
     "metadata": {},
     "output_type": "execute_result"
    }
   ],
   "source": [
    "alpha = 0.01\n",
    "df_denom=152\n",
    "df_num=2\n",
    "t_crit = stats.f.ppf(1-alpha, df_num, df_denom)\n",
    "t_crit.round(3)"
   ]
  },
  {
   "cell_type": "markdown",
   "id": "1add7dd6",
   "metadata": {},
   "source": [
    "Вывод: гипотезу отвергаем, т.к. $ F_{nabl} > F_{crit} $"
   ]
  },
  {
   "cell_type": "markdown",
   "id": "0a190a44",
   "metadata": {},
   "source": [
    "## 3.2 output equation"
   ]
  },
  {
   "cell_type": "code",
   "execution_count": 117,
   "id": "8d97017b",
   "metadata": {},
   "outputs": [
    {
     "data": {
      "text/html": [
       "<div>\n",
       "<style scoped>\n",
       "    .dataframe tbody tr th:only-of-type {\n",
       "        vertical-align: middle;\n",
       "    }\n",
       "\n",
       "    .dataframe tbody tr th {\n",
       "        vertical-align: top;\n",
       "    }\n",
       "\n",
       "    .dataframe thead th {\n",
       "        text-align: right;\n",
       "    }\n",
       "</style>\n",
       "<table border=\"1\" class=\"dataframe\">\n",
       "  <thead>\n",
       "    <tr style=\"text-align: right;\">\n",
       "      <th></th>\n",
       "      <th>capital</th>\n",
       "      <th>labour</th>\n",
       "      <th>output</th>\n",
       "      <th>wage</th>\n",
       "    </tr>\n",
       "  </thead>\n",
       "  <tbody>\n",
       "    <tr>\n",
       "      <th>0</th>\n",
       "      <td>2.606563</td>\n",
       "      <td>184</td>\n",
       "      <td>9.250759</td>\n",
       "      <td>43.080307</td>\n",
       "    </tr>\n",
       "    <tr>\n",
       "      <th>1</th>\n",
       "      <td>1.323237</td>\n",
       "      <td>91</td>\n",
       "      <td>3.664310</td>\n",
       "      <td>27.780016</td>\n",
       "    </tr>\n",
       "    <tr>\n",
       "      <th>2</th>\n",
       "      <td>22.093692</td>\n",
       "      <td>426</td>\n",
       "      <td>28.781516</td>\n",
       "      <td>44.467748</td>\n",
       "    </tr>\n",
       "    <tr>\n",
       "      <th>3</th>\n",
       "      <td>10.737851</td>\n",
       "      <td>72</td>\n",
       "      <td>4.124642</td>\n",
       "      <td>39.734710</td>\n",
       "    </tr>\n",
       "    <tr>\n",
       "      <th>4</th>\n",
       "      <td>1.161365</td>\n",
       "      <td>46</td>\n",
       "      <td>2.890150</td>\n",
       "      <td>34.650709</td>\n",
       "    </tr>\n",
       "    <tr>\n",
       "      <th>...</th>\n",
       "      <td>...</td>\n",
       "      <td>...</td>\n",
       "      <td>...</td>\n",
       "      <td>...</td>\n",
       "    </tr>\n",
       "    <tr>\n",
       "      <th>564</th>\n",
       "      <td>2.625403</td>\n",
       "      <td>20</td>\n",
       "      <td>1.424376</td>\n",
       "      <td>33.477545</td>\n",
       "    </tr>\n",
       "    <tr>\n",
       "      <th>565</th>\n",
       "      <td>1.276386</td>\n",
       "      <td>61</td>\n",
       "      <td>2.109048</td>\n",
       "      <td>26.300732</td>\n",
       "    </tr>\n",
       "    <tr>\n",
       "      <th>566</th>\n",
       "      <td>1.953869</td>\n",
       "      <td>117</td>\n",
       "      <td>6.241870</td>\n",
       "      <td>41.153979</td>\n",
       "    </tr>\n",
       "    <tr>\n",
       "      <th>567</th>\n",
       "      <td>1.318527</td>\n",
       "      <td>46</td>\n",
       "      <td>7.902237</td>\n",
       "      <td>66.720139</td>\n",
       "    </tr>\n",
       "    <tr>\n",
       "      <th>568</th>\n",
       "      <td>2.832391</td>\n",
       "      <td>161</td>\n",
       "      <td>6.804085</td>\n",
       "      <td>36.618435</td>\n",
       "    </tr>\n",
       "  </tbody>\n",
       "</table>\n",
       "<p>569 rows × 4 columns</p>\n",
       "</div>"
      ],
      "text/plain": [
       "       capital  labour     output       wage\n",
       "0     2.606563     184   9.250759  43.080307\n",
       "1     1.323237      91   3.664310  27.780016\n",
       "2    22.093692     426  28.781516  44.467748\n",
       "3    10.737851      72   4.124642  39.734710\n",
       "4     1.161365      46   2.890150  34.650709\n",
       "..         ...     ...        ...        ...\n",
       "564   2.625403      20   1.424376  33.477545\n",
       "565   1.276386      61   2.109048  26.300732\n",
       "566   1.953869     117   6.241870  41.153979\n",
       "567   1.318527      46   7.902237  66.720139\n",
       "568   2.832391     161   6.804085  36.618435\n",
       "\n",
       "[569 rows x 4 columns]"
      ]
     },
     "execution_count": 117,
     "metadata": {},
     "output_type": "execute_result"
    }
   ],
   "source": [
    "df = pd.read_csv('https://raw.githubusercontent.com/artamonoff/Econometrica/master/python-notebooks/data-csv/Labour.csv')\n",
    "df"
   ]
  },
  {
   "cell_type": "code",
   "execution_count": 121,
   "id": "b2b40e95",
   "metadata": {},
   "outputs": [
    {
     "data": {
      "text/html": [
       "<table class=\"simpletable\">\n",
       "<caption>OLS Regression Results</caption>\n",
       "<tr>\n",
       "  <th>Dep. Variable:</th>     <td>np.log(output)</td>  <th>  R-squared:         </th> <td>   0.888</td> \n",
       "</tr>\n",
       "<tr>\n",
       "  <th>Model:</th>                   <td>OLS</td>       <th>  Adj. R-squared:    </th> <td>   0.888</td> \n",
       "</tr>\n",
       "<tr>\n",
       "  <th>Method:</th>             <td>Least Squares</td>  <th>  F-statistic:       </th> <td>   1499.</td> \n",
       "</tr>\n",
       "<tr>\n",
       "  <th>Date:</th>             <td>Sun, 02 Apr 2023</td> <th>  Prob (F-statistic):</th> <td>1.65e-268</td>\n",
       "</tr>\n",
       "<tr>\n",
       "  <th>Time:</th>                 <td>23:39:57</td>     <th>  Log-Likelihood:    </th> <td> -279.62</td> \n",
       "</tr>\n",
       "<tr>\n",
       "  <th>No. Observations:</th>      <td>   569</td>      <th>  AIC:               </th> <td>   567.2</td> \n",
       "</tr>\n",
       "<tr>\n",
       "  <th>Df Residuals:</th>          <td>   565</td>      <th>  BIC:               </th> <td>   584.6</td> \n",
       "</tr>\n",
       "<tr>\n",
       "  <th>Df Model:</th>              <td>     3</td>      <th>                     </th>     <td> </td>    \n",
       "</tr>\n",
       "<tr>\n",
       "  <th>Covariance Type:</th>      <td>nonrobust</td>    <th>                     </th>     <td> </td>    \n",
       "</tr>\n",
       "</table>\n",
       "<table class=\"simpletable\">\n",
       "<tr>\n",
       "         <td></td>            <th>coef</th>     <th>std err</th>      <th>t</th>      <th>P>|t|</th>  <th>[0.025</th>    <th>0.975]</th>  \n",
       "</tr>\n",
       "<tr>\n",
       "  <th>Intercept</th>       <td>   -5.0073</td> <td>    0.221</td> <td>  -22.649</td> <td> 0.000</td> <td>   -5.442</td> <td>   -4.573</td>\n",
       "</tr>\n",
       "<tr>\n",
       "  <th>np.log(capital)</th> <td>    0.1493</td> <td>    0.015</td> <td>   10.141</td> <td> 0.000</td> <td>    0.120</td> <td>    0.178</td>\n",
       "</tr>\n",
       "<tr>\n",
       "  <th>np.log(labour)</th>  <td>    0.7204</td> <td>    0.019</td> <td>   37.487</td> <td> 0.000</td> <td>    0.683</td> <td>    0.758</td>\n",
       "</tr>\n",
       "<tr>\n",
       "  <th>np.log(wage)</th>    <td>    0.9214</td> <td>    0.058</td> <td>   16.001</td> <td> 0.000</td> <td>    0.808</td> <td>    1.034</td>\n",
       "</tr>\n",
       "</table>\n",
       "<table class=\"simpletable\">\n",
       "<tr>\n",
       "  <th>Omnibus:</th>       <td>252.010</td> <th>  Durbin-Watson:     </th> <td>   2.008</td>\n",
       "</tr>\n",
       "<tr>\n",
       "  <th>Prob(Omnibus):</th> <td> 0.000</td>  <th>  Jarque-Bera (JB):  </th> <td>3723.965</td>\n",
       "</tr>\n",
       "<tr>\n",
       "  <th>Skew:</th>          <td> 1.547</td>  <th>  Prob(JB):          </th> <td>    0.00</td>\n",
       "</tr>\n",
       "<tr>\n",
       "  <th>Kurtosis:</th>      <td>15.145</td>  <th>  Cond. No.          </th> <td>    82.3</td>\n",
       "</tr>\n",
       "</table><br/><br/>Notes:<br/>[1] Standard Errors assume that the covariance matrix of the errors is correctly specified."
      ],
      "text/plain": [
       "<class 'statsmodels.iolib.summary.Summary'>\n",
       "\"\"\"\n",
       "                            OLS Regression Results                            \n",
       "==============================================================================\n",
       "Dep. Variable:         np.log(output)   R-squared:                       0.888\n",
       "Model:                            OLS   Adj. R-squared:                  0.888\n",
       "Method:                 Least Squares   F-statistic:                     1499.\n",
       "Date:                Sun, 02 Apr 2023   Prob (F-statistic):          1.65e-268\n",
       "Time:                        23:39:57   Log-Likelihood:                -279.62\n",
       "No. Observations:                 569   AIC:                             567.2\n",
       "Df Residuals:                     565   BIC:                             584.6\n",
       "Df Model:                           3                                         \n",
       "Covariance Type:            nonrobust                                         \n",
       "===================================================================================\n",
       "                      coef    std err          t      P>|t|      [0.025      0.975]\n",
       "-----------------------------------------------------------------------------------\n",
       "Intercept          -5.0073      0.221    -22.649      0.000      -5.442      -4.573\n",
       "np.log(capital)     0.1493      0.015     10.141      0.000       0.120       0.178\n",
       "np.log(labour)      0.7204      0.019     37.487      0.000       0.683       0.758\n",
       "np.log(wage)        0.9214      0.058     16.001      0.000       0.808       1.034\n",
       "==============================================================================\n",
       "Omnibus:                      252.010   Durbin-Watson:                   2.008\n",
       "Prob(Omnibus):                  0.000   Jarque-Bera (JB):             3723.965\n",
       "Skew:                           1.547   Prob(JB):                         0.00\n",
       "Kurtosis:                      15.145   Cond. No.                         82.3\n",
       "==============================================================================\n",
       "\n",
       "Notes:\n",
       "[1] Standard Errors assume that the covariance matrix of the errors is correctly specified.\n",
       "\"\"\""
      ]
     },
     "execution_count": 121,
     "metadata": {},
     "output_type": "execute_result"
    }
   ],
   "source": [
    "models1 = smf.ols(data = df, formula = 'np.log(output)~np.log(capital)+np.log(labour)+np.log(wage)').fit()\n",
    "models.summary() "
   ]
  },
  {
   "cell_type": "code",
   "execution_count": 122,
   "id": "c759eabc",
   "metadata": {},
   "outputs": [
    {
     "data": {
      "text/html": [
       "<table class=\"simpletable\">\n",
       "<tr>\n",
       "         <td></td>            <th>coef</th>     <th>std err</th>      <th>t</th>      <th>P>|t|</th>  <th>[0.025</th>    <th>0.975]</th>  \n",
       "</tr>\n",
       "<tr>\n",
       "  <th>Intercept</th>       <td>   -5.0073</td> <td>    0.221</td> <td>  -22.649</td> <td> 0.000</td> <td>   -5.442</td> <td>   -4.573</td>\n",
       "</tr>\n",
       "<tr>\n",
       "  <th>np.log(capital)</th> <td>    0.1493</td> <td>    0.015</td> <td>   10.141</td> <td> 0.000</td> <td>    0.120</td> <td>    0.178</td>\n",
       "</tr>\n",
       "<tr>\n",
       "  <th>np.log(labour)</th>  <td>    0.7204</td> <td>    0.019</td> <td>   37.487</td> <td> 0.000</td> <td>    0.683</td> <td>    0.758</td>\n",
       "</tr>\n",
       "<tr>\n",
       "  <th>np.log(wage)</th>    <td>    0.9214</td> <td>    0.058</td> <td>   16.001</td> <td> 0.000</td> <td>    0.808</td> <td>    1.034</td>\n",
       "</tr>\n",
       "</table>"
      ],
      "text/plain": [
       "<class 'statsmodels.iolib.table.SimpleTable'>"
      ]
     },
     "execution_count": 122,
     "metadata": {},
     "output_type": "execute_result"
    }
   ],
   "source": [
    "models1.summary(alpha=0.05).tables[1]"
   ]
  },
  {
   "cell_type": "code",
   "execution_count": 123,
   "id": "fcbd7de0",
   "metadata": {},
   "outputs": [],
   "source": [
    "some_string10 = '''names coef std.err\n",
    "Intercept -5.0073 0.221 \n",
    "np.log(capital) 0.1493 0.015 \n",
    "np.log(labour) 0.7204 0.019 \n",
    "np.log(wage) 0.9214 0.058'''"
   ]
  },
  {
   "cell_type": "code",
   "execution_count": 106,
   "id": "9a0e20ac",
   "metadata": {},
   "outputs": [
    {
     "data": {
      "text/html": [
       "<div>\n",
       "<style scoped>\n",
       "    .dataframe tbody tr th:only-of-type {\n",
       "        vertical-align: middle;\n",
       "    }\n",
       "\n",
       "    .dataframe tbody tr th {\n",
       "        vertical-align: top;\n",
       "    }\n",
       "\n",
       "    .dataframe thead th {\n",
       "        text-align: right;\n",
       "    }\n",
       "</style>\n",
       "<table border=\"1\" class=\"dataframe\">\n",
       "  <thead>\n",
       "    <tr style=\"text-align: right;\">\n",
       "      <th></th>\n",
       "      <th>names</th>\n",
       "      <th>coef</th>\n",
       "      <th>std.err</th>\n",
       "    </tr>\n",
       "  </thead>\n",
       "  <tbody>\n",
       "    <tr>\n",
       "      <th>0</th>\n",
       "      <td>Intercept</td>\n",
       "      <td>-5.0073</td>\n",
       "      <td>0.221</td>\n",
       "    </tr>\n",
       "    <tr>\n",
       "      <th>1</th>\n",
       "      <td>np.log(capital)</td>\n",
       "      <td>0.1493</td>\n",
       "      <td>0.015</td>\n",
       "    </tr>\n",
       "    <tr>\n",
       "      <th>2</th>\n",
       "      <td>np.log(labour)</td>\n",
       "      <td>0.7204</td>\n",
       "      <td>0.019</td>\n",
       "    </tr>\n",
       "    <tr>\n",
       "      <th>3</th>\n",
       "      <td>np.log(wage)</td>\n",
       "      <td>0.9214</td>\n",
       "      <td>0.058</td>\n",
       "    </tr>\n",
       "  </tbody>\n",
       "</table>\n",
       "</div>"
      ],
      "text/plain": [
       "             names    coef  std.err\n",
       "0        Intercept -5.0073    0.221\n",
       "1  np.log(capital)  0.1493    0.015\n",
       "2   np.log(labour)  0.7204    0.019\n",
       "3     np.log(wage)  0.9214    0.058"
      ]
     },
     "execution_count": 106,
     "metadata": {},
     "output_type": "execute_result"
    }
   ],
   "source": [
    "df = pd.read_csv(io.StringIO(some_string10), sep='\\s+' )\n",
    "df"
   ]
  },
  {
   "cell_type": "code",
   "execution_count": 107,
   "id": "31f7f68a",
   "metadata": {},
   "outputs": [
    {
     "data": {
      "text/html": [
       "<div>\n",
       "<style scoped>\n",
       "    .dataframe tbody tr th:only-of-type {\n",
       "        vertical-align: middle;\n",
       "    }\n",
       "\n",
       "    .dataframe tbody tr th {\n",
       "        vertical-align: top;\n",
       "    }\n",
       "\n",
       "    .dataframe thead th {\n",
       "        text-align: right;\n",
       "    }\n",
       "</style>\n",
       "<table border=\"1\" class=\"dataframe\">\n",
       "  <thead>\n",
       "    <tr style=\"text-align: right;\">\n",
       "      <th></th>\n",
       "      <th>names</th>\n",
       "      <th>coef</th>\n",
       "      <th>std.err</th>\n",
       "      <th>t_nabl</th>\n",
       "    </tr>\n",
       "  </thead>\n",
       "  <tbody>\n",
       "    <tr>\n",
       "      <th>0</th>\n",
       "      <td>Intercept</td>\n",
       "      <td>-5.007</td>\n",
       "      <td>0.221</td>\n",
       "      <td>-22.657</td>\n",
       "    </tr>\n",
       "    <tr>\n",
       "      <th>1</th>\n",
       "      <td>np.log(capital)</td>\n",
       "      <td>0.149</td>\n",
       "      <td>0.015</td>\n",
       "      <td>9.953</td>\n",
       "    </tr>\n",
       "    <tr>\n",
       "      <th>2</th>\n",
       "      <td>np.log(labour)</td>\n",
       "      <td>0.720</td>\n",
       "      <td>0.019</td>\n",
       "      <td>37.916</td>\n",
       "    </tr>\n",
       "    <tr>\n",
       "      <th>3</th>\n",
       "      <td>np.log(wage)</td>\n",
       "      <td>0.921</td>\n",
       "      <td>0.058</td>\n",
       "      <td>15.886</td>\n",
       "    </tr>\n",
       "  </tbody>\n",
       "</table>\n",
       "</div>"
      ],
      "text/plain": [
       "             names   coef  std.err  t_nabl\n",
       "0        Intercept -5.007    0.221 -22.657\n",
       "1  np.log(capital)  0.149    0.015   9.953\n",
       "2   np.log(labour)  0.720    0.019  37.916\n",
       "3     np.log(wage)  0.921    0.058  15.886"
      ]
     },
     "execution_count": 107,
     "metadata": {},
     "output_type": "execute_result"
    }
   ],
   "source": [
    "df['t_nabl'] = df['coef']/df['std.err']\n",
    "df.round(3)"
   ]
  },
  {
   "cell_type": "code",
   "execution_count": 108,
   "id": "211d0034",
   "metadata": {},
   "outputs": [
    {
     "data": {
      "text/plain": [
       "1.964"
      ]
     },
     "execution_count": 108,
     "metadata": {},
     "output_type": "execute_result"
    }
   ],
   "source": [
    "alpha = 0.05\n",
    "t_crit = stats.t.ppf(1-alpha/2, 569-3-1)\n",
    "t_crit.round(3)"
   ]
  },
  {
   "cell_type": "code",
   "execution_count": 109,
   "id": "face32f0",
   "metadata": {},
   "outputs": [
    {
     "data": {
      "text/html": [
       "<div>\n",
       "<style scoped>\n",
       "    .dataframe tbody tr th:only-of-type {\n",
       "        vertical-align: middle;\n",
       "    }\n",
       "\n",
       "    .dataframe tbody tr th {\n",
       "        vertical-align: top;\n",
       "    }\n",
       "\n",
       "    .dataframe thead th {\n",
       "        text-align: right;\n",
       "    }\n",
       "</style>\n",
       "<table border=\"1\" class=\"dataframe\">\n",
       "  <thead>\n",
       "    <tr style=\"text-align: right;\">\n",
       "      <th></th>\n",
       "      <th>names</th>\n",
       "      <th>coef</th>\n",
       "      <th>std.err</th>\n",
       "      <th>t_nabl</th>\n",
       "      <th>znachimost</th>\n",
       "    </tr>\n",
       "  </thead>\n",
       "  <tbody>\n",
       "    <tr>\n",
       "      <th>0</th>\n",
       "      <td>Intercept</td>\n",
       "      <td>-5.0073</td>\n",
       "      <td>0.221</td>\n",
       "      <td>-22.657466</td>\n",
       "      <td>znachim</td>\n",
       "    </tr>\n",
       "    <tr>\n",
       "      <th>1</th>\n",
       "      <td>np.log(capital)</td>\n",
       "      <td>0.1493</td>\n",
       "      <td>0.015</td>\n",
       "      <td>9.953333</td>\n",
       "      <td>znachim</td>\n",
       "    </tr>\n",
       "    <tr>\n",
       "      <th>2</th>\n",
       "      <td>np.log(labour)</td>\n",
       "      <td>0.7204</td>\n",
       "      <td>0.019</td>\n",
       "      <td>37.915789</td>\n",
       "      <td>znachim</td>\n",
       "    </tr>\n",
       "    <tr>\n",
       "      <th>3</th>\n",
       "      <td>np.log(wage)</td>\n",
       "      <td>0.9214</td>\n",
       "      <td>0.058</td>\n",
       "      <td>15.886207</td>\n",
       "      <td>znachim</td>\n",
       "    </tr>\n",
       "  </tbody>\n",
       "</table>\n",
       "</div>"
      ],
      "text/plain": [
       "             names    coef  std.err     t_nabl znachimost\n",
       "0        Intercept -5.0073    0.221 -22.657466    znachim\n",
       "1  np.log(capital)  0.1493    0.015   9.953333    znachim\n",
       "2   np.log(labour)  0.7204    0.019  37.915789    znachim\n",
       "3     np.log(wage)  0.9214    0.058  15.886207    znachim"
      ]
     },
     "execution_count": 109,
     "metadata": {},
     "output_type": "execute_result"
    }
   ],
   "source": [
    "df['znachimost'] = df.apply(lambda x: 'znachim' if np.abs(x['t_nabl']) > t_crit else 'ne znachim', axis=1 )\n",
    "df"
   ]
  },
  {
   "cell_type": "markdown",
   "id": "1a8828db",
   "metadata": {},
   "source": [
    "### 3.2.1 Гипотеза 1"
   ]
  },
  {
   "cell_type": "markdown",
   "id": "68f022a3",
   "metadata": {},
   "source": [
    "$$\n",
    "H_0: \\beta_{capital} + \\beta_{labour} + \\beta_{wage} = 1\n",
    "$$"
   ]
  },
  {
   "cell_type": "code",
   "execution_count": 124,
   "id": "f123d81d",
   "metadata": {},
   "outputs": [
    {
     "data": {
      "text/plain": [
       "<class 'statsmodels.stats.contrast.ContrastResults'>\n",
       "<F test: F=198.58693315849158, p=7.28095945466417e-39, df_denom=565, df_num=1>"
      ]
     },
     "execution_count": 124,
     "metadata": {},
     "output_type": "execute_result"
    }
   ],
   "source": [
    "models1.f_test('np.log(capital)+np.log(labour)+np.log(wage) = 1')"
   ]
  },
  {
   "cell_type": "code",
   "execution_count": 125,
   "id": "37602019",
   "metadata": {},
   "outputs": [
    {
     "data": {
      "text/plain": [
       "3.858"
      ]
     },
     "execution_count": 125,
     "metadata": {},
     "output_type": "execute_result"
    }
   ],
   "source": [
    "alpha = 0.05\n",
    "df_denom=565\n",
    "df_num=1\n",
    "t_crit = stats.f.ppf(1-alpha, df_num, df_denom)\n",
    "t_crit.round(3)"
   ]
  },
  {
   "cell_type": "markdown",
   "id": "0aa436a9",
   "metadata": {},
   "source": [
    "Вывод: гипотезу отвергаем, т.к. $ F_{nabl} > F_{crit} $"
   ]
  },
  {
   "cell_type": "markdown",
   "id": "064869de",
   "metadata": {},
   "source": [
    "### 3.2.2 Гипотеза 2"
   ]
  },
  {
   "cell_type": "markdown",
   "id": "28530933",
   "metadata": {},
   "source": [
    "$$\n",
    "H_0: \\beta_{labour} + \\beta_{wage}\n",
    "$$"
   ]
  },
  {
   "cell_type": "code",
   "execution_count": 126,
   "id": "adbdbea8",
   "metadata": {},
   "outputs": [
    {
     "data": {
      "text/plain": [
       "<class 'statsmodels.stats.contrast.ContrastResults'>\n",
       "<F test: F=723.5613252762488, p=3.1582056293248693e-103, df_denom=565, df_num=1>"
      ]
     },
     "execution_count": 126,
     "metadata": {},
     "output_type": "execute_result"
    }
   ],
   "source": [
    "models1.f_test('np.log(labour)+np.log(wage)')"
   ]
  },
  {
   "cell_type": "code",
   "execution_count": 127,
   "id": "cb0ad603",
   "metadata": {},
   "outputs": [
    {
     "data": {
      "text/plain": [
       "3.858"
      ]
     },
     "execution_count": 127,
     "metadata": {},
     "output_type": "execute_result"
    }
   ],
   "source": [
    "alpha = 0.05\n",
    "df_denom=565\n",
    "df_num=1\n",
    "t_crit = stats.f.ppf(1-alpha, df_num, df_denom)\n",
    "t_crit.round(3)"
   ]
  },
  {
   "cell_type": "markdown",
   "id": "be7bcb85",
   "metadata": {},
   "source": [
    "Вывод: гипотезу отвергаем, т.к. $ F_{nabl} > F_{crit} $"
   ]
  },
  {
   "cell_type": "markdown",
   "id": "285de123",
   "metadata": {},
   "source": [
    "### 3.2.3 Гипотеза 3"
   ]
  },
  {
   "cell_type": "markdown",
   "id": "9d5fd5ec",
   "metadata": {},
   "source": [
    "$$\n",
    "H_0: \\beta_{capital} + \\beta_{labour} + \\beta_{wage}\n",
    "$$"
   ]
  },
  {
   "cell_type": "code",
   "execution_count": 128,
   "id": "8a4edd85",
   "metadata": {},
   "outputs": [
    {
     "data": {
      "text/plain": [
       "<class 'statsmodels.stats.contrast.ContrastResults'>\n",
       "<F test: F=1017.8915682267822, p=1.6978783562369782e-128, df_denom=565, df_num=1>"
      ]
     },
     "execution_count": 128,
     "metadata": {},
     "output_type": "execute_result"
    }
   ],
   "source": [
    "models1.f_test('np.log(capital)+np.log(labour)+np.log(wage)')"
   ]
  },
  {
   "cell_type": "code",
   "execution_count": 129,
   "id": "1185f1ce",
   "metadata": {},
   "outputs": [
    {
     "data": {
      "text/plain": [
       "3.858"
      ]
     },
     "execution_count": 129,
     "metadata": {},
     "output_type": "execute_result"
    }
   ],
   "source": [
    "alpha = 0.05\n",
    "df_denom=565\n",
    "df_num=1\n",
    "t_crit = stats.f.ppf(1-alpha, df_num, df_denom)\n",
    "t_crit.round(3)"
   ]
  },
  {
   "cell_type": "markdown",
   "id": "7cbf906e",
   "metadata": {},
   "source": [
    "Вывод: гипотезу отвергаем, т.к. $ F_{nabl} > F_{crit} $"
   ]
  }
 ],
 "metadata": {
  "kernelspec": {
   "display_name": "Python 3 (ipykernel)",
   "language": "python",
   "name": "python3"
  },
  "language_info": {
   "codemirror_mode": {
    "name": "ipython",
    "version": 3
   },
   "file_extension": ".py",
   "mimetype": "text/x-python",
   "name": "python",
   "nbconvert_exporter": "python",
   "pygments_lexer": "ipython3",
   "version": "3.9.13"
  }
 },
 "nbformat": 4,
 "nbformat_minor": 5
}
