{
 "cells": [
  {
   "cell_type": "code",
   "execution_count": 115,
   "id": "a71f13da",
   "metadata": {},
   "outputs": [],
   "source": [
    "import numpy as np\n",
    "import re"
   ]
  },
  {
   "cell_type": "markdown",
   "id": "b66766d0",
   "metadata": {},
   "source": [
    "# 1 sleep equation #1"
   ]
  },
  {
   "cell_type": "code",
   "execution_count": 2,
   "id": "9addee8d",
   "metadata": {},
   "outputs": [],
   "source": [
    "date = '''totwrk                       -0.169***         \n",
    "                              (0.018)          \n",
    "                                               \n",
    "age                           2.689*           \n",
    "                              (1.469)          \n",
    "                                               \n",
    "south                        101.568**         \n",
    "                             (41.837)          \n",
    "                                               \n",
    "male                         87.669**          \n",
    "                             (35.104)          \n",
    "                                               \n",
    "smsa                         -54.748*          \n",
    "                             (33.123)          \n",
    "                                               \n",
    "yngkid                        -13.962          \n",
    "                             (50.341)          \n",
    "                                               \n",
    "marr                          31.211           \n",
    "                             (42.233)          \n",
    "                                               \n",
    "Constant                    3450.913***        \n",
    "                             (80.726) '''"
   ]
  },
  {
   "cell_type": "code",
   "execution_count": 3,
   "id": "03ee5433",
   "metadata": {},
   "outputs": [
    {
     "data": {
      "text/plain": [
       "['-0.169',\n",
       " '0.018',\n",
       " '2.689',\n",
       " '1.469',\n",
       " '101.568',\n",
       " '41.837',\n",
       " '87.669',\n",
       " '35.104',\n",
       " '-54.748',\n",
       " '33.123',\n",
       " '-13.962',\n",
       " '50.341',\n",
       " '31.211',\n",
       " '42.233',\n",
       " '3450.913',\n",
       " '80.726']"
      ]
     },
     "execution_count": 3,
     "metadata": {},
     "output_type": "execute_result"
    }
   ],
   "source": [
    "date_lst = re.findall(r'([-+]?\\d+.\\d+)' , date)\n",
    "date_lst"
   ]
  },
  {
   "cell_type": "code",
   "execution_count": 4,
   "id": "9bed88c5",
   "metadata": {},
   "outputs": [
    {
     "data": {
      "text/plain": [
       "array([['-0.169', '0.018'],\n",
       "       ['2.689', '1.469'],\n",
       "       ['101.568', '41.837'],\n",
       "       ['87.669', '35.104'],\n",
       "       ['-54.748', '33.123'],\n",
       "       ['-13.962', '50.341'],\n",
       "       ['31.211', '42.233'],\n",
       "       ['3450.913', '80.726']], dtype='<U8')"
      ]
     },
     "execution_count": 4,
     "metadata": {},
     "output_type": "execute_result"
    }
   ],
   "source": [
    "beta = np.reshape(date_lst , (8,2))\n",
    "beta"
   ]
  },
  {
   "cell_type": "code",
   "execution_count": 5,
   "id": "bb11836a",
   "metadata": {},
   "outputs": [
    {
     "data": {
      "text/plain": [
       "array(['-0.169', '2.689', '101.568', '87.669', '-54.748', '-13.962',\n",
       "       '31.211', '3450.913'], dtype='<U8')"
      ]
     },
     "execution_count": 5,
     "metadata": {},
     "output_type": "execute_result"
    }
   ],
   "source": [
    "beta[:,0]"
   ]
  },
  {
   "cell_type": "code",
   "execution_count": 6,
   "id": "c6d4ff1d",
   "metadata": {},
   "outputs": [
    {
     "data": {
      "text/plain": [
       "array([-1.690000e-01,  2.689000e+00,  1.015680e+02,  8.766900e+01,\n",
       "       -5.474800e+01, -1.396200e+01,  3.121100e+01,  3.450913e+03])"
      ]
     },
     "execution_count": 6,
     "metadata": {},
     "output_type": "execute_result"
    }
   ],
   "source": [
    "beta = beta[:,0].astype(float)\n",
    "beta"
   ]
  },
  {
   "cell_type": "code",
   "execution_count": 7,
   "id": "3c53e637",
   "metadata": {},
   "outputs": [],
   "source": [
    "empiric = '''  totwrk age south male smsa yngkid marr\n",
    "1  2150  37    0    1    1     0     1  \n",
    "2  1950  28    1    1    0     1     0  \n",
    "3  2240  26    0    0    1     0     0  '''"
   ]
  },
  {
   "cell_type": "code",
   "execution_count": 8,
   "id": "1341b170",
   "metadata": {},
   "outputs": [
    {
     "data": {
      "text/plain": [
       "['1',\n",
       " '2150',\n",
       " '37',\n",
       " '0',\n",
       " '1',\n",
       " '1',\n",
       " '0',\n",
       " '1',\n",
       " '2',\n",
       " '1950',\n",
       " '28',\n",
       " '1',\n",
       " '1',\n",
       " '0',\n",
       " '1',\n",
       " '0',\n",
       " '3',\n",
       " '2240',\n",
       " '26',\n",
       " '0',\n",
       " '0',\n",
       " '1',\n",
       " '0',\n",
       " '0']"
      ]
     },
     "execution_count": 8,
     "metadata": {},
     "output_type": "execute_result"
    }
   ],
   "source": [
    "X = re.findall (r'([-+]?\\d+)' , empiric)\n",
    "X"
   ]
  },
  {
   "cell_type": "code",
   "execution_count": 9,
   "id": "aae07f14",
   "metadata": {},
   "outputs": [
    {
     "data": {
      "text/plain": [
       "array([['1', '2150', '37', '0', '1', '1', '0', '1'],\n",
       "       ['2', '1950', '28', '1', '1', '0', '1', '0'],\n",
       "       ['3', '2240', '26', '0', '0', '1', '0', '0']], dtype='<U4')"
      ]
     },
     "execution_count": 9,
     "metadata": {},
     "output_type": "execute_result"
    }
   ],
   "source": [
    "X = np.reshape(X , (3,8))\n",
    "X"
   ]
  },
  {
   "cell_type": "code",
   "execution_count": 10,
   "id": "085a5b59",
   "metadata": {},
   "outputs": [
    {
     "data": {
      "text/plain": [
       "array([['2150', '37', '0', '1', '1', '0', '1'],\n",
       "       ['1950', '28', '1', '1', '0', '1', '0'],\n",
       "       ['2240', '26', '0', '0', '1', '0', '0']], dtype='<U4')"
      ]
     },
     "execution_count": 10,
     "metadata": {},
     "output_type": "execute_result"
    }
   ],
   "source": [
    "X = np.delete (X, 0, 1)\n",
    "X"
   ]
  },
  {
   "cell_type": "code",
   "execution_count": 11,
   "id": "dc7ce7fc",
   "metadata": {},
   "outputs": [
    {
     "data": {
      "text/plain": [
       "array([['2150', '37', '0', '1', '1', '0', '1', '1.0'],\n",
       "       ['1950', '28', '1', '1', '0', '1', '0', '1.0'],\n",
       "       ['2240', '26', '0', '0', '1', '0', '0', '1.0']], dtype='<U32')"
      ]
     },
     "execution_count": 11,
     "metadata": {},
     "output_type": "execute_result"
    }
   ],
   "source": [
    "X = np.c_[X,np.ones(3)]\n",
    "X"
   ]
  },
  {
   "cell_type": "code",
   "execution_count": 12,
   "id": "b99c12fe",
   "metadata": {},
   "outputs": [],
   "source": [
    "beta = beta.astype(float)\n",
    "X = X.astype(float)"
   ]
  },
  {
   "cell_type": "code",
   "execution_count": 13,
   "id": "feca4e9a",
   "metadata": {},
   "outputs": [
    {
     "data": {
      "text/plain": [
       "array([3251.188, 3371.93 , 3087.519])"
      ]
     },
     "execution_count": 13,
     "metadata": {},
     "output_type": "execute_result"
    }
   ],
   "source": [
    "X@beta"
   ]
  },
  {
   "cell_type": "markdown",
   "id": "b5835b9d",
   "metadata": {},
   "source": [
    "# 2 sleep equation #2"
   ]
  },
  {
   "cell_type": "code",
   "execution_count": 14,
   "id": "171caabf",
   "metadata": {},
   "outputs": [],
   "source": [
    "date1 = '''totwrk                       -0.167***         \n",
    "                              (0.018)          \n",
    "                                               \n",
    "age                           -6.255           \n",
    "                             (11.191)          \n",
    "                                               \n",
    "I(age2)                        0.109           \n",
    "                              (0.134)          \n",
    "                                               \n",
    "south                       114.547***         \n",
    "                             (40.637)          \n",
    "                                               \n",
    "male                         90.457***         \n",
    "                             (34.257)          \n",
    "                                               \n",
    "Constant                    3613.995***        \n",
    "                             (218.433)'''"
   ]
  },
  {
   "cell_type": "code",
   "execution_count": 15,
   "id": "f2d73150",
   "metadata": {},
   "outputs": [
    {
     "data": {
      "text/plain": [
       "['-0.167',\n",
       " '0.018',\n",
       " '-6.255',\n",
       " '11.191',\n",
       " '0.109',\n",
       " '0.134',\n",
       " '114.547',\n",
       " '40.637',\n",
       " '90.457',\n",
       " '34.257',\n",
       " '3613.995',\n",
       " '218.433']"
      ]
     },
     "execution_count": 15,
     "metadata": {},
     "output_type": "execute_result"
    }
   ],
   "source": [
    "date_lst1 = re.findall(r'([-+]?\\d+.\\d+)' , date1)\n",
    "date_lst1"
   ]
  },
  {
   "cell_type": "code",
   "execution_count": 16,
   "id": "6a9e5f35",
   "metadata": {},
   "outputs": [
    {
     "data": {
      "text/plain": [
       "array([['-0.167', '0.018'],\n",
       "       ['-6.255', '11.191'],\n",
       "       ['0.109', '0.134'],\n",
       "       ['114.547', '40.637'],\n",
       "       ['90.457', '34.257'],\n",
       "       ['3613.995', '218.433']], dtype='<U8')"
      ]
     },
     "execution_count": 16,
     "metadata": {},
     "output_type": "execute_result"
    }
   ],
   "source": [
    "beta1 = np.reshape(date_lst1 , (6,2))\n",
    "beta1"
   ]
  },
  {
   "cell_type": "code",
   "execution_count": 17,
   "id": "450cbe07",
   "metadata": {},
   "outputs": [
    {
     "data": {
      "text/plain": [
       "array(['-0.167', '-6.255', '0.109', '114.547', '90.457', '3613.995'],\n",
       "      dtype='<U8')"
      ]
     },
     "execution_count": 17,
     "metadata": {},
     "output_type": "execute_result"
    }
   ],
   "source": [
    "beta1[:,0]"
   ]
  },
  {
   "cell_type": "code",
   "execution_count": 18,
   "id": "83df3973",
   "metadata": {},
   "outputs": [
    {
     "data": {
      "text/plain": [
       "array([-1.670000e-01, -6.255000e+00,  1.090000e-01,  1.145470e+02,\n",
       "        9.045700e+01,  3.613995e+03])"
      ]
     },
     "execution_count": 18,
     "metadata": {},
     "output_type": "execute_result"
    }
   ],
   "source": [
    "beta1 = beta1[:,0].astype(float)\n",
    "beta1"
   ]
  },
  {
   "cell_type": "code",
   "execution_count": 19,
   "id": "598247e8",
   "metadata": {},
   "outputs": [],
   "source": [
    "empiric1 = '''  totwrk age south male\n",
    "1  2160  32    1    0  \n",
    "2  1720  24    0    1  \n",
    "3  2390  44    0    1 '''"
   ]
  },
  {
   "cell_type": "code",
   "execution_count": 20,
   "id": "392eebe5",
   "metadata": {},
   "outputs": [
    {
     "data": {
      "text/plain": [
       "['1',\n",
       " '2160',\n",
       " '32',\n",
       " '1',\n",
       " '0',\n",
       " '2',\n",
       " '1720',\n",
       " '24',\n",
       " '0',\n",
       " '1',\n",
       " '3',\n",
       " '2390',\n",
       " '44',\n",
       " '0',\n",
       " '1']"
      ]
     },
     "execution_count": 20,
     "metadata": {},
     "output_type": "execute_result"
    }
   ],
   "source": [
    "X1 = re.findall (r'([-+]?\\d+)' , empiric1)\n",
    "X1"
   ]
  },
  {
   "cell_type": "code",
   "execution_count": 21,
   "id": "7193ba6d",
   "metadata": {},
   "outputs": [
    {
     "data": {
      "text/plain": [
       "array([['1', '2160', '32', '1', '0'],\n",
       "       ['2', '1720', '24', '0', '1'],\n",
       "       ['3', '2390', '44', '0', '1']], dtype='<U4')"
      ]
     },
     "execution_count": 21,
     "metadata": {},
     "output_type": "execute_result"
    }
   ],
   "source": [
    "X1 = np.reshape(X1 , (3,5))\n",
    "X1"
   ]
  },
  {
   "cell_type": "code",
   "execution_count": 22,
   "id": "0a85d01b",
   "metadata": {},
   "outputs": [
    {
     "data": {
      "text/plain": [
       "array([['2160', '32', '1', '0'],\n",
       "       ['1720', '24', '0', '1'],\n",
       "       ['2390', '44', '0', '1']], dtype='<U4')"
      ]
     },
     "execution_count": 22,
     "metadata": {},
     "output_type": "execute_result"
    }
   ],
   "source": [
    "X1 = np.delete (X1, 0, 1)\n",
    "X1"
   ]
  },
  {
   "cell_type": "code",
   "execution_count": 23,
   "id": "49a0f82a",
   "metadata": {},
   "outputs": [
    {
     "data": {
      "text/plain": [
       "array([['2160', '32', '1', '0', '1.0'],\n",
       "       ['1720', '24', '0', '1', '1.0'],\n",
       "       ['2390', '44', '0', '1', '1.0']], dtype='<U32')"
      ]
     },
     "execution_count": 23,
     "metadata": {},
     "output_type": "execute_result"
    }
   ],
   "source": [
    "X1 = np.c_[X1,np.ones(3)]\n",
    "X1"
   ]
  },
  {
   "cell_type": "code",
   "execution_count": 24,
   "id": "0906c0c0",
   "metadata": {},
   "outputs": [],
   "source": [
    "X1 = X1.astype(float)"
   ]
  },
  {
   "cell_type": "code",
   "execution_count": 25,
   "id": "f3d206ed",
   "metadata": {},
   "outputs": [
    {
     "name": "stdout",
     "output_type": "stream",
     "text": [
      "[[2160   32 1024    1    0    1]\n",
      " [1720   24  576    0    1    1]\n",
      " [2390   44 1936    0    1    1]]\n"
     ]
    }
   ],
   "source": [
    "X1_2 = np.insert(X1, 2, (X1[:,1])**2 ,axis=1)\n",
    "print(X1_2.astype(int))"
   ]
  },
  {
   "cell_type": "code",
   "execution_count": 26,
   "id": "3c7a0741",
   "metadata": {},
   "outputs": [],
   "source": [
    "beta1 = beta1.astype(float)\n",
    "X1_2 = X1_2.astype(float)"
   ]
  },
  {
   "cell_type": "code",
   "execution_count": 27,
   "id": "8d775592",
   "metadata": {},
   "outputs": [
    {
     "data": {
      "text/plain": [
       "array([3279.278, 3329.876, 3241.126])"
      ]
     },
     "execution_count": 27,
     "metadata": {},
     "output_type": "execute_result"
    }
   ],
   "source": [
    "X1_2@beta1"
   ]
  },
  {
   "cell_type": "markdown",
   "id": "a1772892",
   "metadata": {},
   "source": [
    "# 3 wage equation #1"
   ]
  },
  {
   "cell_type": "code",
   "execution_count": 28,
   "id": "b75edf81",
   "metadata": {},
   "outputs": [],
   "source": [
    "date2 = '''age                          0.021***          \n",
    "                              (0.004)          \n",
    "                                               \n",
    "IQ                           0.008***          \n",
    "                              (0.001)          \n",
    "                                               \n",
    "south                        -0.099***         \n",
    "                              (0.027)          \n",
    "                                               \n",
    "married                      0.201***          \n",
    "                              (0.040)          \n",
    "                                               \n",
    "urban                        0.175***          \n",
    "                              (0.028)          \n",
    "                                               \n",
    "Constant                     4.974***          \n",
    "                              (0.165)'''"
   ]
  },
  {
   "cell_type": "code",
   "execution_count": 29,
   "id": "4c00a062",
   "metadata": {},
   "outputs": [
    {
     "data": {
      "text/plain": [
       "['0.021',\n",
       " '0.004',\n",
       " '0.008',\n",
       " '0.001',\n",
       " '-0.099',\n",
       " '0.027',\n",
       " '0.201',\n",
       " '0.040',\n",
       " '0.175',\n",
       " '0.028',\n",
       " '4.974',\n",
       " '0.165']"
      ]
     },
     "execution_count": 29,
     "metadata": {},
     "output_type": "execute_result"
    }
   ],
   "source": [
    "date_lst2 = re.findall(r'([-+]?\\d+.\\d+)' , date2)\n",
    "date_lst2"
   ]
  },
  {
   "cell_type": "code",
   "execution_count": 30,
   "id": "a200e96a",
   "metadata": {},
   "outputs": [
    {
     "data": {
      "text/plain": [
       "array([['0.021', '0.004'],\n",
       "       ['0.008', '0.001'],\n",
       "       ['-0.099', '0.027'],\n",
       "       ['0.201', '0.040'],\n",
       "       ['0.175', '0.028'],\n",
       "       ['4.974', '0.165']], dtype='<U6')"
      ]
     },
     "execution_count": 30,
     "metadata": {},
     "output_type": "execute_result"
    }
   ],
   "source": [
    "beta2 = np.reshape(date_lst2 , (6,2))\n",
    "beta2"
   ]
  },
  {
   "cell_type": "code",
   "execution_count": 31,
   "id": "a622b53d",
   "metadata": {},
   "outputs": [
    {
     "data": {
      "text/plain": [
       "array(['0.021', '0.008', '-0.099', '0.201', '0.175', '4.974'], dtype='<U6')"
      ]
     },
     "execution_count": 31,
     "metadata": {},
     "output_type": "execute_result"
    }
   ],
   "source": [
    "beta2[:,0]"
   ]
  },
  {
   "cell_type": "code",
   "execution_count": 32,
   "id": "d703aa55",
   "metadata": {},
   "outputs": [
    {
     "data": {
      "text/plain": [
       "array([ 0.021,  0.008, -0.099,  0.201,  0.175,  4.974])"
      ]
     },
     "execution_count": 32,
     "metadata": {},
     "output_type": "execute_result"
    }
   ],
   "source": [
    "beta2 = beta2[:,0].astype(float)\n",
    "beta2"
   ]
  },
  {
   "cell_type": "code",
   "execution_count": 33,
   "id": "95725516",
   "metadata": {},
   "outputs": [],
   "source": [
    "empiric2 = '''  age IQ  south married urban\n",
    "1 36  105   1      1      1  \n",
    "2 29  123   0      1      0  \n",
    "3 25  112   1      0      1  '''"
   ]
  },
  {
   "cell_type": "code",
   "execution_count": 34,
   "id": "f7e5d74d",
   "metadata": {},
   "outputs": [
    {
     "data": {
      "text/plain": [
       "['1',\n",
       " '36',\n",
       " '105',\n",
       " '1',\n",
       " '1',\n",
       " '1',\n",
       " '2',\n",
       " '29',\n",
       " '123',\n",
       " '0',\n",
       " '1',\n",
       " '0',\n",
       " '3',\n",
       " '25',\n",
       " '112',\n",
       " '1',\n",
       " '0',\n",
       " '1']"
      ]
     },
     "execution_count": 34,
     "metadata": {},
     "output_type": "execute_result"
    }
   ],
   "source": [
    "X2 = re.findall (r'([-+]?\\d+)' , empiric2)\n",
    "X2"
   ]
  },
  {
   "cell_type": "code",
   "execution_count": 35,
   "id": "cebeecdd",
   "metadata": {},
   "outputs": [
    {
     "data": {
      "text/plain": [
       "array([['1', '36', '105', '1', '1', '1'],\n",
       "       ['2', '29', '123', '0', '1', '0'],\n",
       "       ['3', '25', '112', '1', '0', '1']], dtype='<U3')"
      ]
     },
     "execution_count": 35,
     "metadata": {},
     "output_type": "execute_result"
    }
   ],
   "source": [
    "X2 = np.reshape(X2 , (3,6))\n",
    "X2"
   ]
  },
  {
   "cell_type": "code",
   "execution_count": 36,
   "id": "9906edad",
   "metadata": {},
   "outputs": [
    {
     "data": {
      "text/plain": [
       "array([['36', '105', '1', '1', '1'],\n",
       "       ['29', '123', '0', '1', '0'],\n",
       "       ['25', '112', '1', '0', '1']], dtype='<U3')"
      ]
     },
     "execution_count": 36,
     "metadata": {},
     "output_type": "execute_result"
    }
   ],
   "source": [
    "X2 = np.delete (X2, 0, 1)\n",
    "X2"
   ]
  },
  {
   "cell_type": "code",
   "execution_count": 37,
   "id": "6f7588e9",
   "metadata": {},
   "outputs": [
    {
     "data": {
      "text/plain": [
       "array([['36', '105', '1', '1', '1', '1.0'],\n",
       "       ['29', '123', '0', '1', '0', '1.0'],\n",
       "       ['25', '112', '1', '0', '1', '1.0']], dtype='<U32')"
      ]
     },
     "execution_count": 37,
     "metadata": {},
     "output_type": "execute_result"
    }
   ],
   "source": [
    "X2 = np.c_[X2,np.ones(3)]\n",
    "X2"
   ]
  },
  {
   "cell_type": "code",
   "execution_count": 38,
   "id": "be2c1bd4",
   "metadata": {},
   "outputs": [],
   "source": [
    "beta2 = beta2.astype(float)\n",
    "X2 = X2.astype(float)"
   ]
  },
  {
   "cell_type": "code",
   "execution_count": 39,
   "id": "2f91ba49",
   "metadata": {},
   "outputs": [
    {
     "data": {
      "text/plain": [
       "array([6.847, 6.768, 6.471])"
      ]
     },
     "execution_count": 39,
     "metadata": {},
     "output_type": "execute_result"
    }
   ],
   "source": [
    "X2@beta2"
   ]
  },
  {
   "cell_type": "code",
   "execution_count": 40,
   "id": "932acb95",
   "metadata": {},
   "outputs": [
    {
     "data": {
      "text/plain": [
       "array([941.05, 869.57, 646.13])"
      ]
     },
     "execution_count": 40,
     "metadata": {},
     "output_type": "execute_result"
    }
   ],
   "source": [
    "np.exp(X2@beta2).round(2)"
   ]
  },
  {
   "cell_type": "markdown",
   "id": "d147055e",
   "metadata": {},
   "source": [
    "# 4 wage equation #2"
   ]
  },
  {
   "cell_type": "code",
   "execution_count": 41,
   "id": "afb4b85b",
   "metadata": {},
   "outputs": [],
   "source": [
    "date3 = '''exper                        0.037***          \n",
    "                              (0.006)          \n",
    "                                               \n",
    "I(exper2)                    -0.001***         \n",
    "                             (0.0001)          \n",
    "                                               \n",
    "female                       -0.363***         \n",
    "                              (0.040)          \n",
    "                                               \n",
    "married                      0.144***          \n",
    "                              (0.045)          \n",
    "                                               \n",
    "smsa                         0.273***          \n",
    "                              (0.044)          \n",
    "                                               \n",
    "Constant                     1.250***          \n",
    "                              (0.061)'''"
   ]
  },
  {
   "cell_type": "code",
   "execution_count": 42,
   "id": "c9747951",
   "metadata": {},
   "outputs": [
    {
     "data": {
      "text/plain": [
       "['0.037',\n",
       " '0.006',\n",
       " '-0.001',\n",
       " '0.0001',\n",
       " '-0.363',\n",
       " '0.040',\n",
       " '0.144',\n",
       " '0.045',\n",
       " '0.273',\n",
       " '0.044',\n",
       " '1.250',\n",
       " '0.061']"
      ]
     },
     "execution_count": 42,
     "metadata": {},
     "output_type": "execute_result"
    }
   ],
   "source": [
    "date_lst3 = re.findall(r'([-+]?\\d+.\\d+)' , date3)\n",
    "date_lst3"
   ]
  },
  {
   "cell_type": "code",
   "execution_count": 43,
   "id": "c51ac732",
   "metadata": {},
   "outputs": [
    {
     "data": {
      "text/plain": [
       "array([['0.037', '0.006'],\n",
       "       ['-0.001', '0.0001'],\n",
       "       ['-0.363', '0.040'],\n",
       "       ['0.144', '0.045'],\n",
       "       ['0.273', '0.044'],\n",
       "       ['1.250', '0.061']], dtype='<U6')"
      ]
     },
     "execution_count": 43,
     "metadata": {},
     "output_type": "execute_result"
    }
   ],
   "source": [
    "beta3 = np.reshape(date_lst3 , (6,2))\n",
    "beta3"
   ]
  },
  {
   "cell_type": "code",
   "execution_count": 44,
   "id": "51a2521c",
   "metadata": {},
   "outputs": [
    {
     "data": {
      "text/plain": [
       "array(['0.037', '-0.001', '-0.363', '0.144', '0.273', '1.250'],\n",
       "      dtype='<U6')"
      ]
     },
     "execution_count": 44,
     "metadata": {},
     "output_type": "execute_result"
    }
   ],
   "source": [
    "beta3[:,0]"
   ]
  },
  {
   "cell_type": "code",
   "execution_count": 45,
   "id": "d9ad1200",
   "metadata": {},
   "outputs": [
    {
     "data": {
      "text/plain": [
       "array([ 3.70e-02, -1.00e-03, -3.63e-01,  1.44e-01,  2.73e-01,  1.25e+00])"
      ]
     },
     "execution_count": 45,
     "metadata": {},
     "output_type": "execute_result"
    }
   ],
   "source": [
    "beta3 = beta3[:,0].astype(float)\n",
    "beta3"
   ]
  },
  {
   "cell_type": "code",
   "execution_count": 46,
   "id": "d32f1933",
   "metadata": {},
   "outputs": [],
   "source": [
    "empiric3 = '''  exper female married smsa\n",
    "1   5     1       1     1  \n",
    "2  26     0       0     1  \n",
    "3  38     1       1     0  '''"
   ]
  },
  {
   "cell_type": "code",
   "execution_count": 47,
   "id": "1ad89412",
   "metadata": {},
   "outputs": [
    {
     "data": {
      "text/plain": [
       "['1', '5', '1', '1', '1', '2', '26', '0', '0', '1', '3', '38', '1', '1', '0']"
      ]
     },
     "execution_count": 47,
     "metadata": {},
     "output_type": "execute_result"
    }
   ],
   "source": [
    "X3 = re.findall (r'([-+]?\\d+)' , empiric3)\n",
    "X3"
   ]
  },
  {
   "cell_type": "code",
   "execution_count": 48,
   "id": "6a8daecc",
   "metadata": {},
   "outputs": [
    {
     "data": {
      "text/plain": [
       "array([['1', '5', '1', '1', '1'],\n",
       "       ['2', '26', '0', '0', '1'],\n",
       "       ['3', '38', '1', '1', '0']], dtype='<U2')"
      ]
     },
     "execution_count": 48,
     "metadata": {},
     "output_type": "execute_result"
    }
   ],
   "source": [
    "X3 = np.reshape(X3 , (3,5))\n",
    "X3"
   ]
  },
  {
   "cell_type": "code",
   "execution_count": 49,
   "id": "94a68939",
   "metadata": {},
   "outputs": [
    {
     "data": {
      "text/plain": [
       "array([['5', '1', '1', '1'],\n",
       "       ['26', '0', '0', '1'],\n",
       "       ['38', '1', '1', '0']], dtype='<U2')"
      ]
     },
     "execution_count": 49,
     "metadata": {},
     "output_type": "execute_result"
    }
   ],
   "source": [
    "X3 = np.delete (X3, 0, 1)\n",
    "X3"
   ]
  },
  {
   "cell_type": "code",
   "execution_count": 50,
   "id": "86942610",
   "metadata": {},
   "outputs": [
    {
     "data": {
      "text/plain": [
       "array([['5', '1', '1', '1', '1.0'],\n",
       "       ['26', '0', '0', '1', '1.0'],\n",
       "       ['38', '1', '1', '0', '1.0']], dtype='<U32')"
      ]
     },
     "execution_count": 50,
     "metadata": {},
     "output_type": "execute_result"
    }
   ],
   "source": [
    "X3 = np.c_[X3,np.ones(3)]\n",
    "X3"
   ]
  },
  {
   "cell_type": "code",
   "execution_count": 51,
   "id": "e5ea5288",
   "metadata": {},
   "outputs": [],
   "source": [
    "X3 = X3.astype(float)"
   ]
  },
  {
   "cell_type": "code",
   "execution_count": 52,
   "id": "bbe86b34",
   "metadata": {},
   "outputs": [
    {
     "name": "stdout",
     "output_type": "stream",
     "text": [
      "[[   5   25    1    1    1    1]\n",
      " [  26  676    0    0    1    1]\n",
      " [  38 1444    1    1    0    1]]\n"
     ]
    }
   ],
   "source": [
    "X3_2 = np.insert(X3, 1, (X3[:,0])**2 ,axis=1)\n",
    "print(X3_2.astype(int))"
   ]
  },
  {
   "cell_type": "code",
   "execution_count": 53,
   "id": "67f7ea2a",
   "metadata": {},
   "outputs": [],
   "source": [
    "beta3 = beta3.astype(float)\n",
    "X3_2 = X3_2.astype(float)"
   ]
  },
  {
   "cell_type": "code",
   "execution_count": 54,
   "id": "16fecac2",
   "metadata": {},
   "outputs": [
    {
     "data": {
      "text/plain": [
       "array([1.464, 1.809, 0.993])"
      ]
     },
     "execution_count": 54,
     "metadata": {},
     "output_type": "execute_result"
    }
   ],
   "source": [
    "X3_2@beta3"
   ]
  },
  {
   "cell_type": "code",
   "execution_count": 82,
   "id": "88f7ffb8",
   "metadata": {},
   "outputs": [
    {
     "data": {
      "text/plain": [
       "array([4.32, 6.1 , 2.7 ])"
      ]
     },
     "execution_count": 82,
     "metadata": {},
     "output_type": "execute_result"
    }
   ],
   "source": [
    "np.exp(X3_2@beta3).round(2)"
   ]
  },
  {
   "cell_type": "markdown",
   "id": "b45d8e90",
   "metadata": {},
   "source": [
    "# 5 output equation #1"
   ]
  },
  {
   "cell_type": "code",
   "execution_count": 55,
   "id": "17cca652",
   "metadata": {},
   "outputs": [],
   "source": [
    "date4 = '''log(capital)                 0.208***          \n",
    "                              (0.017)          \n",
    "                                               \n",
    "log(labour)                  0.715***          \n",
    "                              (0.023)          \n",
    "                                               \n",
    "Constant                     -1.711***         \n",
    "                              (0.097)'''"
   ]
  },
  {
   "cell_type": "code",
   "execution_count": 56,
   "id": "949ba4b7",
   "metadata": {},
   "outputs": [
    {
     "data": {
      "text/plain": [
       "['0.208', '0.017', '0.715', '0.023', '-1.711', '0.097']"
      ]
     },
     "execution_count": 56,
     "metadata": {},
     "output_type": "execute_result"
    }
   ],
   "source": [
    "date_lst4 = re.findall(r'([-+]?\\d+.\\d+)' , date4)\n",
    "date_lst4"
   ]
  },
  {
   "cell_type": "code",
   "execution_count": 57,
   "id": "43209c85",
   "metadata": {},
   "outputs": [
    {
     "data": {
      "text/plain": [
       "array([['0.208', '0.017'],\n",
       "       ['0.715', '0.023'],\n",
       "       ['-1.711', '0.097']], dtype='<U6')"
      ]
     },
     "execution_count": 57,
     "metadata": {},
     "output_type": "execute_result"
    }
   ],
   "source": [
    "beta4 = np.reshape(date_lst4 , (3,2))\n",
    "beta4"
   ]
  },
  {
   "cell_type": "code",
   "execution_count": 58,
   "id": "f79cd7a4",
   "metadata": {},
   "outputs": [
    {
     "data": {
      "text/plain": [
       "array(['0.208', '0.715', '-1.711'], dtype='<U6')"
      ]
     },
     "execution_count": 58,
     "metadata": {},
     "output_type": "execute_result"
    }
   ],
   "source": [
    "beta4[:,0]"
   ]
  },
  {
   "cell_type": "code",
   "execution_count": 59,
   "id": "21adf456",
   "metadata": {},
   "outputs": [
    {
     "data": {
      "text/plain": [
       "array([ 0.208,  0.715, -1.711])"
      ]
     },
     "execution_count": 59,
     "metadata": {},
     "output_type": "execute_result"
    }
   ],
   "source": [
    "beta4 = beta4[:,0].astype(float)\n",
    "beta4"
   ]
  },
  {
   "cell_type": "code",
   "execution_count": 60,
   "id": "7a370fc6",
   "metadata": {},
   "outputs": [],
   "source": [
    "empiric4 = '''  capital labour\n",
    "1  2.970    85  \n",
    "2   10.450    60  \n",
    "3  3.850   105 '''"
   ]
  },
  {
   "cell_type": "code",
   "execution_count": 61,
   "id": "2e5287f9",
   "metadata": {},
   "outputs": [
    {
     "data": {
      "text/plain": [
       "['1', '2.970', '85', '2', '10.450', '60', '3', '3.850', '105']"
      ]
     },
     "execution_count": 61,
     "metadata": {},
     "output_type": "execute_result"
    }
   ],
   "source": [
    "X4 = re.findall (r'([-+]?\\d+.\\d+|[-+]?\\d+)', empiric4)\n",
    "X4"
   ]
  },
  {
   "cell_type": "code",
   "execution_count": 62,
   "id": "d7004852",
   "metadata": {},
   "outputs": [
    {
     "data": {
      "text/plain": [
       "array([['1', '2.970', '85'],\n",
       "       ['2', '10.450', '60'],\n",
       "       ['3', '3.850', '105']], dtype='<U6')"
      ]
     },
     "execution_count": 62,
     "metadata": {},
     "output_type": "execute_result"
    }
   ],
   "source": [
    "X4 = np.reshape(X4 , (3,3))\n",
    "X4"
   ]
  },
  {
   "cell_type": "code",
   "execution_count": 63,
   "id": "3dd5c9c2",
   "metadata": {},
   "outputs": [
    {
     "data": {
      "text/plain": [
       "array([['2.970', '85'],\n",
       "       ['10.450', '60'],\n",
       "       ['3.850', '105']], dtype='<U6')"
      ]
     },
     "execution_count": 63,
     "metadata": {},
     "output_type": "execute_result"
    }
   ],
   "source": [
    "X4 = np.delete (X4, 0, 1)\n",
    "X4"
   ]
  },
  {
   "cell_type": "code",
   "execution_count": 64,
   "id": "f30d63b3",
   "metadata": {},
   "outputs": [
    {
     "data": {
      "text/plain": [
       "array([['2.970', '85', '1.0'],\n",
       "       ['10.450', '60', '1.0'],\n",
       "       ['3.850', '105', '1.0']], dtype='<U32')"
      ]
     },
     "execution_count": 64,
     "metadata": {},
     "output_type": "execute_result"
    }
   ],
   "source": [
    "X4 = np.c_[X4,np.ones(3)]\n",
    "X4"
   ]
  },
  {
   "cell_type": "code",
   "execution_count": 65,
   "id": "fd2040ed",
   "metadata": {},
   "outputs": [],
   "source": [
    "beta4 = beta4.astype(float)\n",
    "X4 = X4.astype(float)"
   ]
  },
  {
   "cell_type": "code",
   "execution_count": 66,
   "id": "5290f09a",
   "metadata": {},
   "outputs": [
    {
     "data": {
      "text/plain": [
       "array([59.68176, 43.3626 , 74.1648 ])"
      ]
     },
     "execution_count": 66,
     "metadata": {},
     "output_type": "execute_result"
    }
   ],
   "source": [
    "X4@beta4"
   ]
  },
  {
   "cell_type": "code",
   "execution_count": 85,
   "id": "8ed9e017",
   "metadata": {},
   "outputs": [
    {
     "data": {
      "text/plain": [
       "array([8.30728362e+25, 6.79419334e+18, 1.61943452e+32])"
      ]
     },
     "execution_count": 85,
     "metadata": {},
     "output_type": "execute_result"
    }
   ],
   "source": [
    "np.exp(X4@beta4).round(2)"
   ]
  },
  {
   "cell_type": "markdown",
   "id": "cab6655f",
   "metadata": {},
   "source": [
    "# 6 output equation #2"
   ]
  },
  {
   "cell_type": "code",
   "execution_count": 91,
   "id": "e14cc40c",
   "metadata": {},
   "outputs": [],
   "source": [
    "date5 = '''log(capital)                 0.183***          \n",
    "                              (0.017)          \n",
    "                                               \n",
    "log(labour)                  0.515***          \n",
    "                              (0.083)          \n",
    "                                               \n",
    "I(log(capital)2)             0.023***          \n",
    "                              (0.005)          \n",
    "                                               \n",
    "I(log(labour)2)               0.020**          \n",
    "                              (0.010)          \n",
    "                                               \n",
    "Constant                     -1.304***         \n",
    "                              (0.189)'''"
   ]
  },
  {
   "cell_type": "code",
   "execution_count": 92,
   "id": "ad18a3b8",
   "metadata": {},
   "outputs": [
    {
     "data": {
      "text/plain": [
       "['0.183',\n",
       " '0.017',\n",
       " '0.515',\n",
       " '0.083',\n",
       " '0.023',\n",
       " '0.005',\n",
       " '0.020',\n",
       " '0.010',\n",
       " '-1.304',\n",
       " '0.189']"
      ]
     },
     "execution_count": 92,
     "metadata": {},
     "output_type": "execute_result"
    }
   ],
   "source": [
    "date_lst5 = re.findall(r'([-+]?\\d+.\\d+)' , date5)\n",
    "date_lst5"
   ]
  },
  {
   "cell_type": "code",
   "execution_count": 93,
   "id": "808035de",
   "metadata": {},
   "outputs": [
    {
     "data": {
      "text/plain": [
       "array([['0.183', '0.017'],\n",
       "       ['0.515', '0.083'],\n",
       "       ['0.023', '0.005'],\n",
       "       ['0.020', '0.010'],\n",
       "       ['-1.304', '0.189']], dtype='<U6')"
      ]
     },
     "execution_count": 93,
     "metadata": {},
     "output_type": "execute_result"
    }
   ],
   "source": [
    "beta5 = np.reshape(date_lst5 , (5,2))\n",
    "beta5"
   ]
  },
  {
   "cell_type": "code",
   "execution_count": 94,
   "id": "ac07beae",
   "metadata": {},
   "outputs": [
    {
     "data": {
      "text/plain": [
       "array(['0.183', '0.515', '0.023', '0.020', '-1.304'], dtype='<U6')"
      ]
     },
     "execution_count": 94,
     "metadata": {},
     "output_type": "execute_result"
    }
   ],
   "source": [
    "beta5[:,0]"
   ]
  },
  {
   "cell_type": "code",
   "execution_count": 95,
   "id": "045c84bc",
   "metadata": {},
   "outputs": [
    {
     "data": {
      "text/plain": [
       "array([ 0.183,  0.515,  0.023,  0.02 , -1.304])"
      ]
     },
     "execution_count": 95,
     "metadata": {},
     "output_type": "execute_result"
    }
   ],
   "source": [
    "beta5 = beta5[:,0].astype(float)\n",
    "beta5"
   ]
  },
  {
   "cell_type": "code",
   "execution_count": 96,
   "id": "30fa4df6",
   "metadata": {},
   "outputs": [],
   "source": [
    "empiric5 = '''  capital labour\n",
    "1   22.140   407  \n",
    "2  7.320   197  \n",
    "3  0.670    31 '''"
   ]
  },
  {
   "cell_type": "code",
   "execution_count": 97,
   "id": "a2af4e8e",
   "metadata": {},
   "outputs": [
    {
     "data": {
      "text/plain": [
       "['1', '22.140', '407', '2', '7.320', '197', '3', '0.670', '31']"
      ]
     },
     "execution_count": 97,
     "metadata": {},
     "output_type": "execute_result"
    }
   ],
   "source": [
    "X5 = re.findall (r'([-+]?\\d+.\\d+|[-+]?\\d+)', empiric5)\n",
    "X5"
   ]
  },
  {
   "cell_type": "code",
   "execution_count": 98,
   "id": "a02d332d",
   "metadata": {},
   "outputs": [
    {
     "data": {
      "text/plain": [
       "array([['1', '22.140', '407'],\n",
       "       ['2', '7.320', '197'],\n",
       "       ['3', '0.670', '31']], dtype='<U6')"
      ]
     },
     "execution_count": 98,
     "metadata": {},
     "output_type": "execute_result"
    }
   ],
   "source": [
    "X5 = np.reshape(X5 , (3,3))\n",
    "X5"
   ]
  },
  {
   "cell_type": "code",
   "execution_count": 99,
   "id": "5c0f0ef4",
   "metadata": {},
   "outputs": [
    {
     "data": {
      "text/plain": [
       "array([['22.140', '407'],\n",
       "       ['7.320', '197'],\n",
       "       ['0.670', '31']], dtype='<U6')"
      ]
     },
     "execution_count": 99,
     "metadata": {},
     "output_type": "execute_result"
    }
   ],
   "source": [
    "X5 = np.delete (X5, 0, 1)\n",
    "X5"
   ]
  },
  {
   "cell_type": "code",
   "execution_count": 100,
   "id": "1697cd51",
   "metadata": {},
   "outputs": [
    {
     "data": {
      "text/plain": [
       "array([['22.140', '407', '1.0'],\n",
       "       ['7.320', '197', '1.0'],\n",
       "       ['0.670', '31', '1.0']], dtype='<U32')"
      ]
     },
     "execution_count": 100,
     "metadata": {},
     "output_type": "execute_result"
    }
   ],
   "source": [
    "X5 = np.c_[X5,np.ones(3)]\n",
    "X5"
   ]
  },
  {
   "cell_type": "code",
   "execution_count": 102,
   "id": "0a8ff0f6",
   "metadata": {},
   "outputs": [],
   "source": [
    "X5 = X5.astype(float)"
   ]
  },
  {
   "cell_type": "code",
   "execution_count": 103,
   "id": "46f16499",
   "metadata": {},
   "outputs": [
    {
     "name": "stdout",
     "output_type": "stream",
     "text": [
      "[[ 22 407 490   1]\n",
      " [  7 197  53   1]\n",
      " [  0  31   0   1]]\n"
     ]
    }
   ],
   "source": [
    "X5_2 = np.insert(X5, 2, (X5[:,0])**2 ,axis=1)\n",
    "print(X5_2.astype(int))"
   ]
  },
  {
   "cell_type": "code",
   "execution_count": 104,
   "id": "43bada65",
   "metadata": {},
   "outputs": [
    {
     "name": "stdout",
     "output_type": "stream",
     "text": [
      "[[    22    407    490 165649      1]\n",
      " [     7    197     53  38809      1]\n",
      " [     0     31      0    961      1]]\n"
     ]
    }
   ],
   "source": [
    "X5_3 = np.insert(X5_2, 3, (X5_2[:,1])**2 ,axis=1)\n",
    "print(X5_3.astype(int))"
   ]
  },
  {
   "cell_type": "code",
   "execution_count": 105,
   "id": "6674dcd8",
   "metadata": {},
   "outputs": [],
   "source": [
    "beta5 = beta5.astype(float)\n",
    "X5_3 = X5_3.astype(float)"
   ]
  },
  {
   "cell_type": "code",
   "execution_count": 106,
   "id": "1221cdf9",
   "metadata": {},
   "outputs": [
    {
     "data": {
      "text/plain": [
       "array([3536.6067508,  878.9029552,   34.0139347])"
      ]
     },
     "execution_count": 106,
     "metadata": {},
     "output_type": "execute_result"
    }
   ],
   "source": [
    "X5_3@beta5"
   ]
  },
  {
   "cell_type": "code",
   "execution_count": 114,
   "id": "2d9d7f7b",
   "metadata": {},
   "outputs": [
    {
     "data": {
      "text/plain": [
       "array([           inf,            inf, 5.91649018e+14])"
      ]
     },
     "execution_count": 114,
     "metadata": {},
     "output_type": "execute_result"
    }
   ],
   "source": [
    "np.exp(X5_3@beta5).round(2)"
   ]
  }
 ],
 "metadata": {
  "kernelspec": {
   "display_name": "Python 3 (ipykernel)",
   "language": "python",
   "name": "python3"
  },
  "language_info": {
   "codemirror_mode": {
    "name": "ipython",
    "version": 3
   },
   "file_extension": ".py",
   "mimetype": "text/x-python",
   "name": "python",
   "nbconvert_exporter": "python",
   "pygments_lexer": "ipython3",
   "version": "3.9.13"
  }
 },
 "nbformat": 4,
 "nbformat_minor": 5
}
